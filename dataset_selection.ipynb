{
 "cells": [
  {
   "cell_type": "markdown",
   "id": "digital-anger",
   "metadata": {},
   "source": [
    "# part0: imports"
   ]
  },
  {
   "cell_type": "code",
   "execution_count": 13,
   "id": "heated-attitude",
   "metadata": {},
   "outputs": [],
   "source": [
    "import os, sys, pathlib\n",
    "from pprint import pprint \n",
    "from importlib import reload\n",
    "import logging\n",
    "from typing import Callable\n",
    "import warnings\n",
    "\n",
    "\n",
    "\n",
    "import pandas as pd\n",
    "import numpy as np\n",
    "import xarray as xr\n",
    "from sklearn.decomposition import PCA\n",
    "import scipy.linalg as linalg\n",
    "\n",
    "import matplotlib.pyplot as plt\n",
    "import matplotlib.cm as cm\n",
    "import matplotlib\n",
    "from matplotlib.ticker import MaxNLocator\n",
    "\n",
    "\n",
    "from tools import utilityTools as utility\n",
    "from tools import dataTools as dt\n",
    "import pyaldata as pyal\n",
    "\n",
    "if \"__file__\" not in dir():\n",
    "    %matplotlib inline\n",
    "    reload(dt)\n",
    "    warnings.simplefilter(\"ignore\")\n",
    "    logging.basicConfig(level=logging.ERROR)\n",
    "\n",
    "    root = pathlib.Path(\"/data\")"
   ]
  },
  {
   "cell_type": "markdown",
   "id": "weekly-lloyd",
   "metadata": {},
   "source": [
    "# Compare different epochs\n",
    "\n",
    "the idea is to see whether canonical axes between 2 animals provide a higher VAF for time epochs in the trial that they have not been trained on, compared to, for example, M1-PMd axes in a single animal."
   ]
  },
  {
   "cell_type": "markdown",
   "id": "secret-repair",
   "metadata": {},
   "source": [
    "preprocessing"
   ]
  },
  {
   "cell_type": "code",
   "execution_count": 4,
   "id": "welcome-quarterly",
   "metadata": {},
   "outputs": [],
   "source": [
    "def get_target_id(trial):\n",
    "    return int(np.round((trial.target_direction + np.pi) / (0.25*np.pi))) - 1"
   ]
  },
  {
   "cell_type": "markdown",
   "id": "252e9038-1cdf-44d7-be06-e000fa0a7494",
   "metadata": {},
   "source": [
    "#### Print the summary of all the datassets\n",
    "\n",
    "check out the results [here](https://github.com/AtMostafa/notebook/blob/main/2021-cca-project/dataset-summary.md)."
   ]
  },
  {
   "cell_type": "code",
   "execution_count": 5,
   "id": "pleasant-bangladesh",
   "metadata": {
    "tags": []
   },
   "outputs": [],
   "source": [
    "if \"__file__\" not in dir():\n",
    "\n",
    "    animalList = ['Chewie', 'Chewie2', 'Mihili', 'Jaco', \"Chips\", \"MrT\", 'Han', 'Lando']\n",
    "\n",
    "    AllAnimalFiles={}\n",
    "    for animal in animalList:\n",
    "        AllAnimalFiles[animal] = utility.find_file(root / animal,'mat')\n",
    "\n",
    "    fileList = [file for animal in AllAnimalFiles for file in AllAnimalFiles[animal]]\n",
    "\n",
    "\n",
    "    df_data=[]\n",
    "    for i,fname in enumerate(fileList):\n",
    "        df = pyal.mat2dataframe(fname, shift_idx_fields=True)\n",
    "        df_data.append(df)\n",
    "    #     print(i)\n",
    "    #     dt.summary(df)"
   ]
  },
  {
   "cell_type": "markdown",
   "id": "a1abea5f-ff7a-4090-aedd-b7e02b8e74dc",
   "metadata": {},
   "source": [
    "Categories I want to separate:\n",
    "\n",
    "- sessions with 2 areas, similar number of neurons each, as many monkeys as possible!\n",
    "- 3 sessions for each area (M1, PMd, S1), most number of neurons"
   ]
  },
  {
   "cell_type": "code",
   "execution_count": 12,
   "id": "57e5b0e9-a95c-4714-abff-59ed27ee94c7",
   "metadata": {},
   "outputs": [
    {
     "data": {
      "text/plain": [
       "{'dualArea': {'Chewie': [],\n",
       "  'Chewie2': [],\n",
       "  'Mihili': [],\n",
       "  'Jaco': [],\n",
       "  'Chips': [],\n",
       "  'MrT': [],\n",
       "  'Han': [],\n",
       "  'Lando': []},\n",
       " 'singleArea': {'Han': 1}}"
      ]
     },
     "execution_count": 12,
     "metadata": {},
     "output_type": "execute_result"
    }
   ],
   "source": [
    "dataList = {'dualArea':{},'singleArea':{}}\n",
    "\n",
    "dataList['singleArea']['Han'] = []\n",
    "\n"
   ]
  }
 ],
 "metadata": {
  "interpreter": {
   "hash": "644f6ce68e21c63884a7612d4a868a789d171f940bc4242f53afa3c8321510f0"
  },
  "kernelspec": {
   "display_name": "Python 3",
   "language": "python",
   "name": "python3"
  },
  "language_info": {
   "codemirror_mode": {
    "name": "ipython",
    "version": 3
   },
   "file_extension": ".py",
   "mimetype": "text/x-python",
   "name": "python",
   "nbconvert_exporter": "python",
   "pygments_lexer": "ipython3",
   "version": "3.9.5"
  }
 },
 "nbformat": 4,
 "nbformat_minor": 5
}
