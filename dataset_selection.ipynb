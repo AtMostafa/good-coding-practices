{
 "cells": [
  {
   "cell_type": "markdown",
   "id": "digital-anger",
   "metadata": {},
   "source": [
    "# part0: imports"
   ]
  },
  {
   "cell_type": "code",
   "execution_count": 1,
   "id": "heated-attitude",
   "metadata": {},
   "outputs": [],
   "source": [
    "import os, sys, pathlib\n",
    "from pprint import pprint \n",
    "from importlib import reload\n",
    "import logging\n",
    "from typing import Callable\n",
    "import warnings\n",
    "\n",
    "\n",
    "\n",
    "import pandas as pd\n",
    "import numpy as np\n",
    "import xarray as xr\n",
    "from sklearn.decomposition import PCA\n",
    "import scipy.linalg as linalg\n",
    "\n",
    "import matplotlib.pyplot as plt\n",
    "import matplotlib.cm as cm\n",
    "import matplotlib\n",
    "from matplotlib.ticker import MaxNLocator\n",
    "\n",
    "\n",
    "from tools import utilityTools as utility\n",
    "from tools import dataTools as dt\n",
    "import pyaldata as pyal\n",
    "\n",
    "if \"__file__\" not in dir():\n",
    "    %matplotlib inline\n",
    "    reload(dt)\n",
    "    warnings.simplefilter(\"ignore\")\n",
    "    logging.basicConfig(level=logging.ERROR)\n",
    "\n",
    "    root = pathlib.Path(\"/data\")"
   ]
  },
  {
   "cell_type": "markdown",
   "id": "252e9038-1cdf-44d7-be06-e000fa0a7494",
   "metadata": {},
   "source": [
    "#### Print the summary of all the datassets\n",
    "\n",
    "check out the results [here](https://github.com/AtMostafa/notebook/blob/main/2021-cca-project/dataset-summary.md)."
   ]
  },
  {
   "cell_type": "code",
   "execution_count": null,
   "id": "pleasant-bangladesh",
   "metadata": {
    "tags": []
   },
   "outputs": [],
   "source": [
    "_AllAnimalList = ['Chewie', 'Chewie2', 'Mihili', 'Jaco', \"Chips\", \"MrT\", 'Han', 'Lando']\n",
    "\n",
    "_AllAnimalFiles=[]\n",
    "for animal in _AllAnimalList:\n",
    "    _AllAnimalFiles.extend(utility.find_file(root / animal, 'mat'))\n",
    "\n",
    "for i,fname in enumerate(_AllAnimalFiles):\n",
    "    _df = pyal.mat2dataframe(fname, shift_idx_fields=True)\n",
    "    print(i)\n",
    "    dt.summary(_df)"
   ]
  },
  {
   "cell_type": "markdown",
   "id": "a1abea5f-ff7a-4090-aedd-b7e02b8e74dc",
   "metadata": {},
   "source": [
    "Categories I want to separate:\n",
    "\n",
    "- sessions with 2 areas, similar number of neurons each, as many monkeys as possible!\n",
    "- 3 sessions for each area (M1, PMd, S1), most number of neurons"
   ]
  },
  {
   "cell_type": "code",
   "execution_count": 15,
   "id": "1a5fbcf0-b609-44b2-a31d-b892ae593aaf",
   "metadata": {},
   "outputs": [],
   "source": [
    "_AllAnimalFiles= [path.split(os.sep)[-1] for path in _AllAnimalFiles]"
   ]
  },
  {
   "cell_type": "code",
   "execution_count": 17,
   "id": "57e5b0e9-a95c-4714-abff-59ed27ee94c7",
   "metadata": {},
   "outputs": [],
   "source": [
    "GoodDataList = {'dualArea':{}, 'M1':{}, 'PMd':{}, 'S1':{}}\n",
    "\n",
    "#------------------------------------\n",
    "\n",
    "GoodDataList['dualArea']['Chewie'] = [_AllAnimalFiles[13],\n",
    "                                      _AllAnimalFiles[12],\n",
    "                                      _AllAnimalFiles[3],\n",
    "                                      _AllAnimalFiles[1],\n",
    "                                      _AllAnimalFiles[10]\n",
    "                                     ]\n",
    "\n",
    "GoodDataList['dualArea']['Mihili'] = [_AllAnimalFiles[64],\n",
    "                                      _AllAnimalFiles[57],\n",
    "                                      _AllAnimalFiles[68],\n",
    "                                      _AllAnimalFiles[69]\n",
    "                                     ]\n",
    "\n",
    "GoodDataList['dualArea']['MrT'] = [_AllAnimalFiles[105],\n",
    "                                   _AllAnimalFiles[103]\n",
    "                                  ]\n",
    "\n",
    "#-----------------------------------\n",
    "\n",
    "GoodDataList['M1']['Chewie'] = [_AllAnimalFiles[13],\n",
    "                                _AllAnimalFiles[10],\n",
    "                                _AllAnimalFiles[12],\n",
    "                                _AllAnimalFiles[1]\n",
    "                               ]\n",
    "\n",
    "GoodDataList['M1']['Chewie2'] = [_AllAnimalFiles[28],\n",
    "                                 _AllAnimalFiles[22],\n",
    "                                 _AllAnimalFiles[36],\n",
    "                                 _AllAnimalFiles[47]\n",
    "                                ]\n",
    "\n",
    "GoodDataList['M1']['Mihili'] = [_AllAnimalFiles[64],\n",
    "                                _AllAnimalFiles[57],\n",
    "                                _AllAnimalFiles[68]\n",
    "                               ]\n",
    "\n",
    "GoodDataList['M1']['Jaco'] = [_AllAnimalFiles[85],\n",
    "                              _AllAnimalFiles[87],\n",
    "                              _AllAnimalFiles[81]\n",
    "                             ]\n",
    "\n",
    "#-----------------------------------\n",
    "\n",
    "GoodDataList['PMd']['Chewie'] = [_AllAnimalFiles[9],\n",
    "                                _AllAnimalFiles[13],\n",
    "                                _AllAnimalFiles[8],\n",
    "                                _AllAnimalFiles[11]\n",
    "                               ]\n",
    "\n",
    "GoodDataList['PMd']['Mihili'] = [_AllAnimalFiles[56],\n",
    "                                 _AllAnimalFiles[74],\n",
    "                                 _AllAnimalFiles[68]\n",
    "                                ]\n",
    "\n",
    "GoodDataList['PMd']['Mihili'] = [_AllAnimalFiles[56],\n",
    "                                 _AllAnimalFiles[74],\n",
    "                                 _AllAnimalFiles[68]\n",
    "                                ]\n",
    "\n",
    "GoodDataList['PMd']['MrT'] = [_AllAnimalFiles[103],\n",
    "                              _AllAnimalFiles[105],\n",
    "                              _AllAnimalFiles[102]\n",
    "                             ]\n",
    "\n",
    "GoodDataList['S1']['Chips'] = [_AllAnimalFiles[95],\n",
    "                               _AllAnimalFiles[97],\n",
    "                               _AllAnimalFiles[94],\n",
    "                               _AllAnimalFiles[92]\n",
    "                              ]\n",
    "\n",
    "GoodDataList['S1']['Han'] = [_AllAnimalFiles[119],\n",
    "                             _AllAnimalFiles[107],\n",
    "                             _AllAnimalFiles[116],\n",
    "                             _AllAnimalFiles[115]\n",
    "                            ]\n",
    "\n",
    "GoodDataList['S1']['Lando'] = [_AllAnimalFiles[120],\n",
    "                             _AllAnimalFiles[121],\n",
    "                             _AllAnimalFiles[122]\n",
    "                            ]\n",
    "\n",
    "\n",
    "print(f'the variable `GoodDataList` contains the session names')"
   ]
  }
 ],
 "metadata": {
  "interpreter": {
   "hash": "644f6ce68e21c63884a7612d4a868a789d171f940bc4242f53afa3c8321510f0"
  },
  "kernelspec": {
   "display_name": "Python 3",
   "language": "python",
   "name": "python3"
  },
  "language_info": {
   "codemirror_mode": {
    "name": "ipython",
    "version": 3
   },
   "file_extension": ".py",
   "mimetype": "text/x-python",
   "name": "python",
   "nbconvert_exporter": "python",
   "pygments_lexer": "ipython3",
   "version": "3.9.5"
  }
 },
 "nbformat": 4,
 "nbformat_minor": 5
}
