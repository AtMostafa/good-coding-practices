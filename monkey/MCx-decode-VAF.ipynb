{
 "cells": [
  {
   "cell_type": "markdown",
   "id": "06debf48",
   "metadata": {},
   "source": [
    "# part0: imports"
   ]
  },
  {
   "cell_type": "code",
   "execution_count": 1,
   "id": "f206a049",
   "metadata": {},
   "outputs": [],
   "source": [
    "%matplotlib inline\n",
    "\n",
    "\n",
    "import os, sys, pathlib\n",
    "from pprint import pprint\n",
    "import gc\n",
    "import pickle\n",
    "from importlib import reload\n",
    "import logging, warnings\n",
    "logging.basicConfig(level=logging.ERROR)\n",
    "\n",
    "import pandas as pd\n",
    "import numpy as np\n",
    "import sklearn\n",
    "from sklearn.decomposition import PCA\n",
    "import scipy.linalg as linalg\n",
    "import scipy.stats as stats\n",
    "from sklearn.linear_model import Ridge, LinearRegression\n",
    "from sklearn.model_selection import cross_val_score, KFold\n",
    "from sklearn.metrics import make_scorer, r2_score, explained_variance_score\n",
    "from tqdm import tqdm\n",
    "\n",
    "import matplotlib.pyplot as plt\n",
    "import matplotlib.cm as cm\n",
    "import matplotlib\n",
    "from matplotlib.ticker import MaxNLocator\n",
    "\n",
    "import torch\n",
    "\n",
    "import pyaldata as pyal\n",
    "\n",
    "try:\n",
    "    nbPath = pathlib.Path.cwd()\n",
    "    RepoPath = nbPath.parent\n",
    "    os.chdir(RepoPath)\n",
    "\n",
    "    from tools import utilityTools as utility\n",
    "    from tools import dataTools as dt\n",
    "    from tools import lstm\n",
    "    import params\n",
    "    defs = params.monkey_defs\n",
    "    monkey_defs = defs\n",
    "    \n",
    "    set_rc =  params.set_rc_params\n",
    "    set_rc()\n",
    "    root = params.root\n",
    "    reload(params)\n",
    "    reload(defs)\n",
    "\n",
    "finally:\n",
    "    os.chdir(nbPath)\n",
    "\n",
    "if \"__file__\" not in dir():\n",
    "\n",
    "    %run \"_dataset-selection.ipynb\""
   ]
  },
  {
   "cell_type": "markdown",
   "id": "0dd20b87-b313-4b4f-96bf-46dfab428c62",
   "metadata": {},
   "source": [
    "# Read data"
   ]
  },
  {
   "cell_type": "code",
   "execution_count": 2,
   "id": "c6aca7f0",
   "metadata": {},
   "outputs": [],
   "source": [
    "\n",
    "full_list = []\n",
    "for animal, sessionList in GoodDataList[defs.areas[2]].items():\n",
    "    if 'Mr' in animal:\n",
    "        continue  # to remove MrT\n",
    "    full_list.append((animal,sessionList))\n",
    "full_list = [(animal,session) for animal,sessions in full_list for session in set(sessions)]\n",
    "\n",
    "# load the DFs\n",
    "warnings.filterwarnings(\"ignore\")\n",
    "allDFs = []\n",
    "for animal, session in full_list:\n",
    "    path = root/animal/session\n",
    "    allDFs.append(defs.prep_general(dt.load_pyal_data(path)))\n",
    "warnings.filterwarnings(\"default\")\n"
   ]
  },
  {
   "attachments": {},
   "cell_type": "markdown",
   "id": "56ee1125",
   "metadata": {},
   "source": [
    "## Plotting decoding performance using VAF"
   ]
  },
  {
   "cell_type": "code",
   "execution_count": 3,
   "id": "88d12a7d",
   "metadata": {},
   "outputs": [],
   "source": [
    "def custom_r2_vaf(y_true, y_pred):\n",
    "    mask = np.logical_and(np.logical_not(np.isnan(y_true)),\n",
    "                          np.logical_not(np.isnan(y_pred)))\n",
    "    return explained_variance_score(y_true[mask], y_pred[mask])\n",
    "\n",
    "\n",
    "def custom_r2_corr(y_true, y_pred):\n",
    "    \"$R^2$ value as squared correlation coefficient, as per Gallego, NN 2020\"\n",
    "\n",
    "    mask = np.logical_and(np.logical_not(np.isnan(y_true)),\n",
    "                          np.logical_not(np.isnan(y_pred)))\n",
    "    c = np.corrcoef(y_true[mask].T, y_pred[mask].T) ** 2\n",
    "    return np.diag(c[-int(c.shape[0]/2):,:int(c.shape[1]/2)])\n"
   ]
  },
  {
   "cell_type": "code",
   "execution_count": 4,
   "id": "1c3c0ad6",
   "metadata": {},
   "outputs": [],
   "source": [
    "def plot_monkey_decoding(ax, allDFs, custom_r2_func):\n",
    "    defs = monkey_defs\n",
    "\n",
    "    within_score = {}\n",
    "    aligned_score = {}\n",
    "    unaligned_score = {}\n",
    "    for i, df1 in enumerate(tqdm(allDFs)):\n",
    "        AllData, AllVel = defs.get_data_array_and_vel([df1], defs.exec_epoch_decode,\n",
    "                                                    area=defs.areas[2], n_components=defs.n_components)\n",
    "        # adding history\n",
    "        AllData = dt.add_history_to_data_array(AllData,defs.MAX_HISTORY)\n",
    "        AllData = AllData[...,defs.MAX_HISTORY:,:]\n",
    "        AllVel = AllVel[...,defs.MAX_HISTORY:,:]\n",
    "        AllData1 = AllData[0,...]\n",
    "        AllVel1 = AllVel[0,...]\n",
    "        *_,n_time,n_comp = AllData1.shape\n",
    "        # resizing\n",
    "        X1 = AllData1.reshape((-1,n_time,n_comp))\n",
    "        AllVel1 = AllVel1.reshape((-1,n_time,2))\n",
    "        \n",
    "        fold_score =[]\n",
    "        kf = KFold(n_splits=10)\n",
    "        for train_index, test_index in kf.split(X1[:,0,0]):\n",
    "            x_train, x_test = X1[train_index,...], X1[test_index,...]\n",
    "            y_train, y_test = AllVel1[train_index,...], AllVel1[test_index,...]\n",
    "\n",
    "            lstm_model = lstm.LSTMDecoder(input_dims=X1.shape[-1], output_dims=2)\n",
    "            lstm_model.fit(x_train=x_train, y_train=y_train)\n",
    "            pred, label = lstm_model.predict(x_test, y_test)\n",
    "            fold_score.append(custom_r2_func(pred, label))\n",
    "        fold_score = np.median(fold_score)\n",
    "        within_score[df1.session[0]] = fold_score\n",
    "\n",
    "        aligned_score[df1.session[0]] = {}\n",
    "        unaligned_score[df1.session[0]] = {}\n",
    "        for j, df2 in enumerate(tqdm(allDFs)):\n",
    "            if j <= i: continue\n",
    "            if df1.monkey[0] == df2.monkey[0]: continue\n",
    "            if 'Chewie' in df1.monkey[0] and 'Chewie' in df2.monkey[0]: continue\n",
    "\n",
    "            AllData, AllVel = defs.get_data_array_and_vel([df1,df2],\n",
    "                                                        defs.exec_epoch_decode, area=defs.areas[2], n_components=defs.n_components)\n",
    "            # adding history\n",
    "            AllData = dt.add_history_to_data_array(AllData,defs.MAX_HISTORY)\n",
    "            AllData = AllData[...,defs.MAX_HISTORY:,:]\n",
    "            AllVel = AllVel[...,defs.MAX_HISTORY:,:]\n",
    "\n",
    "            AllData1 = AllData[0,...]\n",
    "            AllData2 = AllData[1,...]\n",
    "            AllVel1 = AllVel[0,...]\n",
    "            AllVel2 = AllVel[1,...]\n",
    "            # resizing\n",
    "            *_,n_time,n_comp = AllData1.shape\n",
    "\n",
    "            X1 = AllData1.reshape((-1,n_comp))\n",
    "            X2 = AllData2.reshape((-1,n_comp))\n",
    "            AllVel2 = AllVel2.reshape((-1,n_time,2))\n",
    "            AllVel1 = AllVel1.reshape((-1,n_time,2))\n",
    "\n",
    "            # train the aligned\n",
    "            U, V, _ = dt.procrustes_wrapper(X1, X2, fullReturn=True)\n",
    "            U = U.reshape((-1,n_time,n_comp))\n",
    "            V = V.reshape((-1,n_time,n_comp))\n",
    "            X1 = X1.reshape((-1,n_time,n_comp))\n",
    "            X2 = X2.reshape((-1,n_time,n_comp))\n",
    "\n",
    "            lstm_model = lstm.LSTMDecoder(input_dims=U.shape[-1], output_dims=2)\n",
    "            lstm_model.fit(x_train=U, y_train=AllVel1)\n",
    "            pred, label = lstm_model.predict(V, AllVel2)\n",
    "            aligned_score[df1.session[0]][df2.session[0]]=custom_r2_func(pred, label).mean()\n",
    "            #================================\n",
    "            # Unaligned\n",
    "            lstm_model = lstm.LSTMDecoder(input_dims=U.shape[-1], output_dims=2)\n",
    "            lstm_model.fit(x_train=X1, y_train=AllVel1)\n",
    "            pred, label = lstm_model.predict(X2, AllVel2)\n",
    "            unaligned_score[df1.session[0]][df2.session[0]]=custom_r2_func(pred, label).mean()\n",
    "\n",
    "    #======================== PLOTTING\n",
    "    pop_within = np.array(list(within_score.values()))\n",
    "    pop_aligned = np.array([val for key in aligned_score for val in aligned_score[key].values()])\n",
    "    pop_unaligned = np.array([val for key in unaligned_score for val in unaligned_score[key].values()])\n",
    "\n",
    "    ax.errorbar(1, pop_aligned.mean(), np.std(pop_aligned), label='Across\\n' r'(\\textit{aligned})',\n",
    "                color=params.colors.MainCC, fmt='-o', capsize=1.5)    \n",
    "    ax.errorbar(0, pop_unaligned.mean(), np.std(pop_unaligned), label='Across\\n' r'(\\textit{unaligned})',\n",
    "                color=params.colors.LowerCC, fmt='-o', capsize=1.5)\n",
    "    ax.errorbar(2, pop_within.mean(), np.std(pop_within), label='Within',\n",
    "                color=params.colors.UpperCC, fmt='-o', capsize=1.5)\n",
    "\n",
    "    for file1, nested_dict in aligned_score.items():\n",
    "        wi_val1 = within_score[file1]\n",
    "        for file2, al_val in nested_dict.items():\n",
    "            wi_val2 = within_score[file2]\n",
    "            unal_val = unaligned_score[file1][file2]\n",
    "            ax.plot([0,1,2], [unal_val, al_val, wi_val1],\n",
    "                    color='gray', lw=.2, zorder=6, marker = 'o', ms=.1, alpha=.2)\n",
    "            ax.plot([1,2], [al_val, wi_val2],\n",
    "                    color='gray', lw=.2, zorder=6, marker = 'o', ms=.1, alpha=.2)\n",
    "\n",
    "    \n",
    "    ax.set_xlim([-0.2,2.2])\n",
    "    ax.set_xticks([0,1,2])\n",
    "    ax.set_xticklabels(['Across\\n' r'(\\textit{unaligned})',\n",
    "                        'Across\\n' r'(\\textit{aligned})',\n",
    "                        'Within'])\n",
    "    ax.set_ylabel('Prediction accuracy ($R^2$)')\n",
    "    # ax.set_ylim([-1,1])\n",
    "    # ax.legend(loc='upper right', bbox_to_anchor=(1.1, 1))\n",
    "    # ax.spines['top'].set_visible(False)\n",
    "    # ax.spines['right'].set_visible(False)\n",
    "    # ax.spines['bottom'].set_bounds([0,2])\n",
    "    # ax.spines['left'].set_bounds([0,1])\n",
    "\n",
    "    return unaligned_score, aligned_score, within_score"
   ]
  },
  {
   "cell_type": "markdown",
   "id": "dd3a8eea",
   "metadata": {},
   "source": [
    "Running for a bad pair of sessions"
   ]
  },
  {
   "cell_type": "code",
   "execution_count": 5,
   "id": "35e9cf5d",
   "metadata": {},
   "outputs": [
    {
     "name": "stderr",
     "output_type": "stream",
     "text": [
      "100%|██████████| 2/2 [00:20<00:00, 10.14s/it]\n",
      "100%|██████████| 2/2 [00:00<00:00, 74235.47it/s]\n",
      "100%|██████████| 2/2 [09:08<00:00, 274.17s/it]"
     ]
    },
    {
     "name": "stdout",
     "output_type": "stream",
     "text": [
      "{'Chewie:09-14-2016': {'Mihili:09-29-2014': 0.7777828574180603}, 'Mihili:09-29-2014': {}} {'Chewie:09-14-2016': {'Mihili:09-29-2014': 0.8624151349067688}, 'Mihili:09-29-2014': {}} {'Chewie:09-14-2016': 0.9981959164142609, 'Mihili:09-29-2014': 0.9999573528766632}\n"
     ]
    },
    {
     "name": "stderr",
     "output_type": "stream",
     "text": [
      "\n"
     ]
    },
    {
     "data": {
      "image/png": "[encoded data removed]",
      "text/plain": [
       "<Figure size 432x288 with 1 Axes>"
      ]
     },
     "metadata": {
      "needs_background": "light"
     },
     "output_type": "display_data"
    }
   ],
   "source": [
    "DFS=[]\n",
    "for df in allDFs:\n",
    "    if df.session[0] in ['Mihili:09-29-2014','Chewie:09-14-2016']:\n",
    "        DFS.append(df)\n",
    "\n",
    "fig, ax = plt.subplots(1,1)\n",
    "pop_unaligned, pop_aligned, pop_within = plot_monkey_decoding(ax, DFS, custom_r2_vaf)\n",
    "print(pop_unaligned, pop_aligned, pop_within)\n",
    "np.savez('vaf-values-worst-session.npz', pop_unaligned=pop_unaligned,\n",
    "            pop_aligned=pop_aligned,\n",
    "            pop_within=pop_within)\n"
   ]
  },
  {
   "cell_type": "code",
   "execution_count": 5,
   "id": "d1da53c8",
   "metadata": {},
   "outputs": [],
   "source": [
    "data = np.load('vaf-values-worst-session.npz', mmap_mode=None, allow_pickle=True)\n",
    "pop_unaligned = data['pop_unaligned']\n",
    "pop_aligned = data['pop_aligned']\n",
    "pop_within = data['pop_within']"
   ]
  },
  {
   "cell_type": "code",
   "execution_count": 7,
   "id": "4e0a2043",
   "metadata": {},
   "outputs": [
    {
     "data": {
      "text/plain": [
       "{'Chewie:09-14-2016': {'Mihili:09-29-2014': 0.7777828574180603},\n",
       " 'Mihili:09-29-2014': {}}"
      ]
     },
     "execution_count": 7,
     "metadata": {},
     "output_type": "execute_result"
    }
   ],
   "source": [
    "pop_unaligned.flatten()[0]"
   ]
  },
  {
   "attachments": {},
   "cell_type": "markdown",
   "id": "11b086b6",
   "metadata": {},
   "source": [
    "Running for all sessions"
   ]
  },
  {
   "cell_type": "code",
   "execution_count": 6,
   "id": "b5376e6c",
   "metadata": {},
   "outputs": [
    {
     "name": "stderr",
     "output_type": "stream",
     "text": [
      "  0%|          | 0/21 [00:00<?, ?it/s]"
     ]
    }
   ],
   "source": [
    "if \"__file__\" not in dir():\n",
    "    plt.close('all')\n",
    "    set_rc()\n",
    "\n",
    "    fig, ax = plt.subplots(1,1)  \n",
    "    pop_unaligned, pop_aligned, pop_within = plot_monkey_decoding(ax, allDFs, custom_r2_vaf)\n",
    "\n",
    "    fig.savefig(params.figPath / 'decoding-vaf.pdf', format='pdf', bbox_inches='tight')\n",
    "    plt.show()\n",
    "    np.savez('vaf-values.npz', pop_unaligned=pop_unaligned,\n",
    "                pop_aligned=pop_aligned,\n",
    "                pop_within=pop_within)\n"
   ]
  },
  {
   "cell_type": "code",
   "execution_count": 6,
   "id": "444540ee",
   "metadata": {},
   "outputs": [],
   "source": [
    "data = np.load('vaf-values.npz', mmap_mode=None,allow_pickle=True)\n",
    "pop_unaligned = data['pop_unaligned']\n",
    "pop_aligned = data['pop_aligned']\n",
    "pop_within = data['pop_within']"
   ]
  },
  {
   "cell_type": "code",
   "execution_count": null,
   "id": "3173a4a5",
   "metadata": {},
   "outputs": [],
   "source": [
    "pop_aligned.flatten()[0]"
   ]
  }
 ],
 "metadata": {
  "kernelspec": {
   "display_name": "Python 3.10.4 ('cca')",
   "language": "python",
   "name": "python3"
  },
  "language_info": {
   "codemirror_mode": {
    "name": "ipython",
    "version": 3
   },
   "file_extension": ".py",
   "mimetype": "text/x-python",
   "name": "python",
   "nbconvert_exporter": "python",
   "pygments_lexer": "ipython3",
   "version": "3.10.5"
  },
  "vscode": {
   "interpreter": {
    "hash": "146bff742f048d001dec7fafb91c8daeb769f9aeaad9c8d129a83c9f9fb9a9b2"
   }
  }
 },
 "nbformat": 4,
 "nbformat_minor": 5
}
