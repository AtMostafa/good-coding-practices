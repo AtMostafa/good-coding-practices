{
 "cells": [
  {
   "cell_type": "markdown",
   "id": "06debf48",
   "metadata": {},
   "source": [
    "# part0: imports"
   ]
  },
  {
   "cell_type": "code",
   "execution_count": 1,
   "id": "f206a049",
   "metadata": {},
   "outputs": [],
   "source": [
    "import os, sys, pathlib\n",
    "from pprint import pprint\n",
    "import gc\n",
    "import pickle\n",
    "from importlib import reload\n",
    "import logging, warnings\n",
    "logging.basicConfig(level=logging.ERROR)\n",
    "\n",
    "import pandas as pd\n",
    "import numpy as np\n",
    "import sklearn\n",
    "from sklearn.decomposition import PCA\n",
    "import scipy.linalg as linalg\n",
    "import scipy.stats as stats\n",
    "from sklearn.linear_model import Ridge, LinearRegression\n",
    "from sklearn.model_selection import cross_val_score\n",
    "from sklearn.metrics import make_scorer, r2_score\n",
    "\n",
    "\n",
    "import matplotlib.pyplot as plt\n",
    "import matplotlib.cm as cm\n",
    "import matplotlib\n",
    "from matplotlib.ticker import MaxNLocator\n",
    "\n",
    "from tools import utilityTools as utility\n",
    "from tools import dataTools as dt\n",
    "import pyaldata as pyal\n",
    "import set_rc_params as set_rc\n",
    "\n",
    "%matplotlib inline\n",
    "%config InlineBackend.figure_formats = ['png2x']\n",
    "reload(dt)\n",
    "reload(set_rc)\n",
    "\n",
    "if \"__file__\" not in dir():\n",
    "    # Global params\n",
    "    set_rc.set_rc_params()\n",
    "    root = pathlib.Path(\"/data\")\n",
    "\n",
    "    BIN_SIZE = .03  # sec\n",
    "    WINDOW_prep = (-.4, .05)  # sec\n",
    "    WINDOW_exec = (-.05, .40)  # sec\n",
    "    n_components = 10  # min between M1 and PMd\n",
    "    areas = ('M1', 'PMd')\n",
    "    MAX_HISTORY = 3  #int: no of bins to be added as history\n",
    "\n",
    "    prep_epoch = pyal.generate_epoch_fun(start_point_name='idx_movement_on',\n",
    "                                         rel_start=int(WINDOW_prep[0]/BIN_SIZE),\n",
    "                                         rel_end=int(WINDOW_prep[1]/BIN_SIZE)\n",
    "                                        )\n",
    "    exec_epoch = pyal.generate_epoch_fun(start_point_name='idx_movement_on', \n",
    "                                         rel_start=int(WINDOW_exec[0]/BIN_SIZE),\n",
    "                                         rel_end=int(WINDOW_exec[1]/BIN_SIZE)\n",
    "                                        )\n",
    "    fixation_epoch = pyal.generate_epoch_fun(start_point_name='idx_target_on', \n",
    "                                             rel_start=int(WINDOW_prep[0]/BIN_SIZE),\n",
    "                                             rel_end=int(WINDOW_prep[1]/BIN_SIZE)\n",
    "                                            )\n",
    "    \n",
    "    %run dataset_selection.ipynb"
   ]
  },
  {
   "cell_type": "markdown",
   "id": "52614bea",
   "metadata": {},
   "source": [
    "preprocessing"
   ]
  },
  {
   "cell_type": "code",
   "execution_count": 2,
   "id": "17fc7ca8",
   "metadata": {},
   "outputs": [],
   "source": [
    "def get_target_id(trial):\n",
    "    return int(np.round((trial.target_direction + np.pi) / (0.25*np.pi))) - 1"
   ]
  },
  {
   "cell_type": "code",
   "execution_count": 3,
   "id": "a56e627e",
   "metadata": {},
   "outputs": [
    {
     "name": "stdout",
     "output_type": "stream",
     "text": [
      "the variable `GoodDataList` contains the session names\n"
     ]
    }
   ],
   "source": [
    "def prep_general (df):\n",
    "    \"preprocessing general!\"\n",
    "    time_signals = [signal for signal in pyal.get_time_varying_fields(df) if 'spikes' in signal]\n",
    "    df[\"target_id\"] = df.apply(get_target_id, axis=1)  # add a field `target_id` with int values\n",
    "\n",
    "    for signal in time_signals:\n",
    "        df_ = pyal.remove_low_firing_neurons(df, signal, 1)\n",
    "    \n",
    "    df_= pyal.select_trials(df, df.result== 'R')\n",
    "    df_= pyal.select_trials(df_, df_.epoch=='BL')\n",
    "    \n",
    "    assert np.all(df_.bin_size == .01), 'bin size is not consistent!'\n",
    "    df_ = pyal.combine_time_bins(df_, int(BIN_SIZE/.01))\n",
    "    for signal in time_signals:\n",
    "        df_ = pyal.sqrt_transform_signal(df_, signal)\n",
    "        \n",
    "    df_= pyal.add_firing_rates(df_, 'smooth', std=0.05)\n",
    "    \n",
    "    \n",
    "    return df_"
   ]
  },
  {
   "cell_type": "code",
   "execution_count": 4,
   "id": "2bbdfd70-9fd5-4b43-a7dd-7ee092eb2c38",
   "metadata": {},
   "outputs": [],
   "source": [
    "def custom_r2_func(y_true, y_pred):\n",
    "    \"$R^2$ value as squared correlation coefficient, as per Gallego, NN 2020\"\n",
    "    return stats.pearsonr(y_true, y_pred)[0] ** 2\n",
    "\n",
    "custom_r2_scorer = make_scorer(custom_r2_func)"
   ]
  },
  {
   "cell_type": "markdown",
   "id": "ec0f3d47",
   "metadata": {},
   "source": [
    "**getting the data**"
   ]
  },
  {
   "cell_type": "code",
   "execution_count": 5,
   "id": "49ed0ac3",
   "metadata": {},
   "outputs": [],
   "source": [
    "def get_data_array_and_vel(data_list: list[pd.DataFrame], epoch , area: str ='M1', n_components: int =10) -> np.ndarray:\n",
    "    \"\"\"\n",
    "    Applies PCA to the data and return a data matrix of the shape: sessions x targets x  trials x time x PCs\n",
    "    with the minimum number of trials and timepoints shared across all the datasets/targets.\n",
    "    \n",
    "    Parameters\n",
    "    ----------\n",
    "    `data_list`: list of pd.dataFrame datasets from pyal-data\n",
    "    `epoch`: an epoch function of the type `pyal.generate_epoch_fun`\n",
    "    `area`: area, either: 'M1', or 'S1', or 'PMd'\n",
    "\n",
    "    Returns\n",
    "    -------\n",
    "    `AllData`: np.array\n",
    "\n",
    "    Signature\n",
    "    -------\n",
    "    AllData = get_data_array(data_list, execution_epoch, area='M1', n_components=10)\n",
    "    all_data = np.reshape(AllData, (-1,10))\n",
    "    \"\"\"\n",
    "    field = f'{area}_rates'\n",
    "    n_shared_trial = np.inf\n",
    "    for df in data_list:\n",
    "        for target in range(8):\n",
    "            df_ = pyal.select_trials(df, df.target_id== target)\n",
    "            n_shared_trial = np.min((df_.shape[0], n_shared_trial))\n",
    "\n",
    "    n_shared_trial = int(n_shared_trial)\n",
    "\n",
    "    # finding the number of timepoints\n",
    "    df_ = pyal.restrict_to_interval(df_,epoch_fun=epoch)\n",
    "    n_timepoints = int(df_[field][0].shape[0])\n",
    "\n",
    "    # pre-allocating the data matrix\n",
    "    AllData = np.empty((len(data_list), 8, n_shared_trial, n_timepoints, n_components))\n",
    "    AllVel  = np.empty((len(data_list), 8, n_shared_trial, n_timepoints, 2))\n",
    "    rng = np.random.default_rng(12345)\n",
    "    for session, df in enumerate(data_list):\n",
    "        df_ = pyal.restrict_to_interval(df, epoch_fun=epoch)\n",
    "        rates = np.concatenate(df_[field].values, axis=0)\n",
    "        rates -= np.mean(rates, axis=0)\n",
    "        rates_model = PCA(n_components=n_components, svd_solver='full').fit(rates)\n",
    "        df_ = pyal.apply_dim_reduce_model(df_, rates_model, field, '_pca');\n",
    "\n",
    "        for target in range(8):\n",
    "            df__ = pyal.select_trials(df_, df_.target_id==target)\n",
    "            all_id = df__.trial_id.to_numpy()\n",
    "            rng.shuffle(all_id)\n",
    "            # select the right number of trials to each target\n",
    "            df__ = pyal.select_trials(df__, lambda trial: trial.trial_id in all_id[:n_shared_trial])\n",
    "            for trial, (trial_rates,trial_vel) in enumerate(zip(df__._pca, df__.vel)):\n",
    "                AllData[session,target,trial, :, :] = trial_rates\n",
    "                AllVel[session,target,trial, :, :] = trial_vel\n",
    "    \n",
    "    return AllData, AllVel"
   ]
  },
  {
   "cell_type": "markdown",
   "id": "6b2df8b2",
   "metadata": {},
   "source": [
    "# Decoding\n",
    "\n",
    "\n",
    "Train one decoder and use it to decode velocity in other animals.  \n",
    "The logic follows:  \n",
    "CCA gives us: $X_1A\\cong X_2B$  \n",
    "Then: $X_1 \\cong X_2BA^{-1}$  \n",
    "So, we can train a decoder on $X_1$ and, then align any $X_2$ to $X_1$ to get $A$ and $B$.  \n",
    "The same decoder should work on $X_2BA^{-1}$ as input."
   ]
  },
  {
   "cell_type": "markdown",
   "id": "1b8a4c64-1d26-430c-bf0c-ec6d7ac33894",
   "metadata": {
    "tags": []
   },
   "source": [
    "Now... Same as above, for different animals\n",
    "\n",
    "# Across animal decoding\n",
    "\n",
    "## With alignment "
   ]
  },
  {
   "cell_type": "code",
   "execution_count": 7,
   "id": "80f82835-b5b7-409f-be0f-adbd698fe1bb",
   "metadata": {},
   "outputs": [],
   "source": [
    "if \"__file__\" not in dir():\n",
    "    full_list = []\n",
    "    for area in ('dualArea','M1'):\n",
    "        for animal, sessionList in GoodDataList[area].items():\n",
    "            if 'Mr' in animal:\n",
    "                continue  # to remove MrT\n",
    "            full_list.append((animal,sessionList))\n",
    "    full_list = [(animal,session) for animal,sessions in full_list for session in set(sessions)]\n",
    "\n",
    "    # load the DFs\n",
    "    warnings.filterwarnings(\"ignore\")\n",
    "    allDFs = []\n",
    "    for animal, session in full_list:\n",
    "        path = root/animal/session\n",
    "        allDFs.append(prep_general(dt.load_pyal_data(path)))\n",
    "    warnings.filterwarnings(\"default\")\n",
    "\n",
    "\n",
    "pairIndex_uni = []\n",
    "for i, (animal1,session1) in enumerate(full_list):\n",
    "    pairIndex_uni.append((i,[]))\n",
    "    for j, (animal2,session2) in enumerate(full_list):\n",
    "        if animal1 == animal2: continue\n",
    "        if 'Chewie' in animal1 and 'Chewie' in animal2: continue\n",
    "        pairIndex_uni[-1][1].append(j)"
   ]
  },
  {
   "cell_type": "code",
   "execution_count": 23,
   "id": "8979a0d0-3725-4ae6-bab2-6db0cea5f661",
   "metadata": {},
   "outputs": [],
   "source": [
    "warnings.filterwarnings(\"ignore\")\n",
    "reg_scores_across = []\n",
    "for id1, testList in pairIndex_uni:\n",
    "    AllData, AllVel = get_data_array_and_vel([allDFs[id1]], exec_epoch, area=areas[0], n_components=n_components)\n",
    "    AllData = dt.add_history_to_data_array(AllData,MAX_HISTORY)\n",
    "    AllData1 = AllData[0,...]\n",
    "    AllVel1 = AllVel[0,...]\n",
    "    X_ = AllData1.reshape((-1,AllData1.shape[-1]))\n",
    "    AllVel1 = AllVel1.reshape((-1,2))\n",
    "    Y_train_x,Y_train_y = AllVel1.T\n",
    "    decode_x, decode_y = LinearRegression(), LinearRegression()\n",
    "    decode_x.fit(X_, Y_train_x)\n",
    "    decode_y.fit(X_, Y_train_y)\n",
    "    for testId in testList:\n",
    "        AllData, AllVel = get_data_array_and_vel([allDFs[testId]], exec_epoch, area=areas[0], n_components=n_components)\n",
    "        # adding history\n",
    "        AllData = dt.add_history_to_data_array(AllData,MAX_HISTORY)\n",
    "        \n",
    "        AllData2 = AllData[0,...]\n",
    "        AllVel2 = AllVel[0,...]\n",
    "        # size matching\n",
    "        *_,n_trial,n_time,n_comp = np.min(np.array((AllData1.shape,AllData2.shape)),axis=0)\n",
    "        X1 = AllData1[:,:n_trial,:n_time,:n_comp].reshape((-1,n_comp))\n",
    "        X2 = AllData2[:,:n_trial,:n_time,:n_comp].reshape((-1,n_comp))\n",
    "        AllVel2 = AllVel2[:,:n_trial,:n_time,:].reshape((-1,2))\n",
    "\n",
    "        # alignment the decoder\n",
    "        A,B,*_ = dt.canoncorr(X1, X2, fullReturn=True)\n",
    "        X2_aligned = X2 @ B @ linalg.inv(A) \n",
    "\n",
    "        # test the decoder\n",
    "        Y_test_x,Y_test_y = AllVel2.T\n",
    "        x_score = custom_r2_func(Y_test_x, decode_x.predict(X2_aligned))\n",
    "        y_score = custom_r2_func(Y_test_y, decode_y.predict(X2_aligned))\n",
    "        reg_scores_across.append((id1,testId,(x_score,y_score)))\n",
    "warnings.filterwarnings(\"default\")\n",
    "\n",
    "pop_score_uni = []\n",
    "for _,_,scores in reg_scores_across:\n",
    "    pop_score_uni.append(np.mean(scores))\n",
    "pop_score_uni = np.array(pop_score_uni)"
   ]
  },
  {
   "cell_type": "code",
   "execution_count": 24,
   "id": "460e6a97-f858-43e9-812f-9f0ceb478a69",
   "metadata": {},
   "outputs": [
    {
     "data": {
      "text/plain": [
       "Text(0.5, 1.0, 'Universal Velocity Decoding')"
      ]
     },
     "execution_count": 24,
     "metadata": {},
     "output_type": "execute_result"
    },
    {
     "data": {
      "image/png": "[encoded data removed]",
      "text/plain": [
       "<Figure size 432x288 with 1 Axes>"
      ]
     },
     "metadata": {
      "image/png": {
       "height": 272,
       "width": 380
      },
      "needs_background": "light"
     },
     "output_type": "display_data"
    }
   ],
   "source": [
    "if \"__file__\" not in dir():\n",
    "    _,ax = plt.subplots()\n",
    "    ax.plot(pop_score_across,'-o')\n",
    "    ax.set_ylim([0,1])\n",
    "    ax.set_xlabel('Session pairs')\n",
    "    ax.set_ylabel('Prediction accuracy ($R^2$)')\n",
    "    ax.set_title('Universal Velocity Decoding')"
   ]
  }
 ],
 "metadata": {
  "interpreter": {
   "hash": "72da6499f934495e06c03d484049d4696c0f7b78c6b9c64cf8676e9ec2014a6a"
  },
  "kernelspec": {
   "display_name": "Python 3 (ipykernel)",
   "language": "python",
   "name": "python3"
  },
  "language_info": {
   "codemirror_mode": {
    "name": "ipython",
    "version": 3
   },
   "file_extension": ".py",
   "mimetype": "text/x-python",
   "name": "python",
   "nbconvert_exporter": "python",
   "pygments_lexer": "ipython3",
   "version": "3.9.6"
  }
 },
 "nbformat": 4,
 "nbformat_minor": 5
}
