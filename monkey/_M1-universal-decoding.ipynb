{
 "cells": [
  {
   "cell_type": "markdown",
   "id": "06debf48",
   "metadata": {},
   "source": [
    "# part0: imports"
   ]
  },
  {
   "cell_type": "code",
   "execution_count": 1,
   "id": "f206a049",
   "metadata": {},
   "outputs": [
    {
     "name": "stdout",
     "output_type": "stream",
     "text": [
      "the variable `GoodDataList` contains the session names\n"
     ]
    }
   ],
   "source": [
    "import os, sys, pathlib\n",
    "from pprint import pprint\n",
    "import gc\n",
    "import pickle\n",
    "from importlib import reload\n",
    "import logging, warnings\n",
    "logging.basicConfig(level=logging.ERROR)\n",
    "\n",
    "import pandas as pd\n",
    "import numpy as np\n",
    "import sklearn\n",
    "from sklearn.decomposition import PCA\n",
    "import scipy.linalg as linalg\n",
    "import scipy.stats as stats\n",
    "from sklearn.linear_model import Ridge, LinearRegression\n",
    "from sklearn.model_selection import cross_val_score\n",
    "from sklearn.metrics import make_scorer, r2_score\n",
    "\n",
    "\n",
    "import matplotlib.pyplot as plt\n",
    "import matplotlib.cm as cm\n",
    "import matplotlib\n",
    "from matplotlib.ticker import MaxNLocator\n",
    "%matplotlib inline\n",
    "\n",
    "\n",
    "import pyaldata as pyal\n",
    "from defs import *\n",
    "\n",
    "try:\n",
    "    nbPath = pathlib.Path.cwd()\n",
    "    RepoPath = nbPath.parent\n",
    "    os.chdir(RepoPath)\n",
    "\n",
    "    from tools import utilityTools as utility\n",
    "    from tools import dataTools as dt\n",
    "    import params\n",
    "    set_rc =  params.set_rc_params\n",
    "    set_rc()\n",
    "    root = params.root\n",
    "\n",
    "finally:\n",
    "    os.chdir(nbPath)\n",
    "\n",
    "\n",
    "if \"__file__\" not in dir():\n",
    "    %run \"_dataset-selection.ipynb\""
   ]
  },
  {
   "cell_type": "markdown",
   "id": "6b2df8b2",
   "metadata": {},
   "source": [
    "# Decoding\n",
    "\n",
    "\n",
    "Train one decoder and use it to decode velocity in other animals.  \n",
    "The logic follows:  \n",
    "CCA gives us: $X_1A\\cong X_2B$  \n",
    "Then: $X_1 \\cong X_2BA^{-1}$  \n",
    "So, we can train a decoder on $X_1$ and, then align any $X_2$ to $X_1$ to get $A$ and $B$.  \n",
    "The same decoder should work on $X_2BA^{-1}$ as input."
   ]
  },
  {
   "cell_type": "markdown",
   "id": "1b8a4c64-1d26-430c-bf0c-ec6d7ac33894",
   "metadata": {
    "tags": []
   },
   "source": [
    "Now... Same as above, for different animals\n",
    "\n",
    "# Across animal decoding\n",
    "\n",
    "## With alignment "
   ]
  },
  {
   "cell_type": "code",
   "execution_count": 3,
   "id": "80f82835-b5b7-409f-be0f-adbd698fe1bb",
   "metadata": {},
   "outputs": [],
   "source": [
    "if \"__file__\" not in dir():\n",
    "    full_list = []\n",
    "    for area in ('dualArea','M1'):\n",
    "        for animal, sessionList in GoodDataList[area].items():\n",
    "            if 'Mr' in animal:\n",
    "                continue  # to remove MrT\n",
    "            full_list.append((animal,sessionList))\n",
    "    full_list = [(animal,session) for animal,sessions in full_list for session in set(sessions)]\n",
    "\n",
    "    # load the DFs\n",
    "    warnings.filterwarnings(\"ignore\")\n",
    "    allDFs = []\n",
    "    for animal, session in full_list:\n",
    "        path = root/animal/session\n",
    "        allDFs.append(prep_general(dt.load_pyal_data(path)))\n",
    "    warnings.filterwarnings(\"default\")\n",
    "\n",
    "\n",
    "pairIndex_uni = []\n",
    "for i, (animal1,session1) in enumerate(full_list):\n",
    "    pairIndex_uni.append((i,[]))\n",
    "    for j, (animal2,session2) in enumerate(full_list):\n",
    "        if animal1 == animal2: continue\n",
    "        if 'Chewie' in animal1 and 'Chewie' in animal2: continue\n",
    "        pairIndex_uni[-1][1].append(j)"
   ]
  },
  {
   "cell_type": "code",
   "execution_count": 4,
   "id": "8979a0d0-3725-4ae6-bab2-6db0cea5f661",
   "metadata": {},
   "outputs": [],
   "source": [
    "warnings.filterwarnings(\"ignore\")\n",
    "reg_scores_across = []\n",
    "for id1, testList in pairIndex_uni:\n",
    "    AllData, AllVel = get_data_array_and_vel([allDFs[id1]], exec_epoch, area=areas[0], n_components=n_components)\n",
    "    AllData = dt.add_history_to_data_array(AllData,MAX_HISTORY)\n",
    "    AllData1 = AllData[0,...]\n",
    "    AllVel1 = AllVel[0,...]\n",
    "    X_ = AllData1.reshape((-1,AllData1.shape[-1]))\n",
    "    AllVel1 = AllVel1.reshape((-1,2))\n",
    "    Y_train_x,Y_train_y = AllVel1.T\n",
    "    decode_x, decode_y = LinearRegression(), LinearRegression()\n",
    "    decode_x.fit(X_, Y_train_x)\n",
    "    decode_y.fit(X_, Y_train_y)\n",
    "    for testId in testList:\n",
    "        AllData, AllVel = get_data_array_and_vel([allDFs[testId]], exec_epoch, area=areas[0], n_components=n_components)\n",
    "        # adding history\n",
    "        AllData = dt.add_history_to_data_array(AllData,MAX_HISTORY)\n",
    "        \n",
    "        AllData2 = AllData[0,...]\n",
    "        AllVel2 = AllVel[0,...]\n",
    "        # size matching\n",
    "        *_,n_trial,n_time,n_comp = np.min(np.array((AllData1.shape,AllData2.shape)),axis=0)\n",
    "        X1 = AllData1[:,:n_trial,:n_time,:n_comp].reshape((-1,n_comp))\n",
    "        X2 = AllData2[:,:n_trial,:n_time,:n_comp].reshape((-1,n_comp))\n",
    "        AllVel2 = AllVel2[:,:n_trial,:n_time,:].reshape((-1,2))\n",
    "\n",
    "        # alignment the decoder\n",
    "        A,B,*_ = dt.canoncorr(X1, X2, fullReturn=True)\n",
    "        X2_aligned = X2 @ B @ linalg.inv(A) \n",
    "\n",
    "        # test the decoder\n",
    "        Y_test_x,Y_test_y = AllVel2.T\n",
    "        x_score = custom_r2_func(Y_test_x, decode_x.predict(X2_aligned))\n",
    "        y_score = custom_r2_func(Y_test_y, decode_y.predict(X2_aligned))\n",
    "        reg_scores_across.append((id1,testId,(x_score,y_score)))\n",
    "warnings.filterwarnings(\"default\")\n",
    "\n",
    "pop_score_uni = []\n",
    "for _,_,scores in reg_scores_across:\n",
    "    pop_score_uni.append(np.mean(scores))\n",
    "pop_score_uni = np.array(pop_score_uni)"
   ]
  },
  {
   "cell_type": "code",
   "execution_count": 6,
   "id": "460e6a97-f858-43e9-812f-9f0ceb478a69",
   "metadata": {},
   "outputs": [
    {
     "data": {
      "image/png": "[encoded data removed]",
      "text/plain": [
       "<Figure size 432x288 with 1 Axes>"
      ]
     },
     "metadata": {
      "needs_background": "light"
     },
     "output_type": "display_data"
    }
   ],
   "source": [
    "if \"__file__\" not in dir():\n",
    "    _,ax = plt.subplots()\n",
    "    ax.plot(pop_score_uni,'-o')\n",
    "    ax.set_ylim([0,1])\n",
    "    ax.set_xlabel('Session pairs')\n",
    "    ax.set_ylabel('Prediction accuracy ($R^2$)')\n",
    "    ax.set_title('Universal Velocity Decoding')"
   ]
  }
 ],
 "metadata": {
  "interpreter": {
   "hash": "72da6499f934495e06c03d484049d4696c0f7b78c6b9c64cf8676e9ec2014a6a"
  },
  "kernelspec": {
   "display_name": "Python 3 (ipykernel)",
   "language": "python",
   "name": "python3"
  },
  "language_info": {
   "codemirror_mode": {
    "name": "ipython",
    "version": 3
   },
   "file_extension": ".py",
   "mimetype": "text/x-python",
   "name": "python",
   "nbconvert_exporter": "python",
   "pygments_lexer": "ipython3",
   "version": "3.9.6"
  }
 },
 "nbformat": 4,
 "nbformat_minor": 5
}
