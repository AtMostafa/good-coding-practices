{
 "cells": [
  {
   "cell_type": "markdown",
   "id": "50262e5e",
   "metadata": {},
   "source": [
    "# part0: imports"
   ]
  },
  {
   "cell_type": "code",
   "execution_count": 4,
   "id": "3bedbd7c",
   "metadata": {},
   "outputs": [],
   "source": [
    "import os, sys, pathlib\n",
    "from pprint import pprint\n",
    "import gc\n",
    "import pickle\n",
    "from importlib import reload\n",
    "import logging, warnings\n",
    "logging.basicConfig(level=logging.ERROR)\n",
    "\n",
    "\n",
    "\n",
    "import pandas as pd\n",
    "import numpy as np\n",
    "from sklearn.decomposition import PCA\n",
    "import scipy.linalg as linalg\n",
    "\n",
    "import matplotlib.pyplot as plt\n",
    "import matplotlib.cm as cm\n",
    "import matplotlib\n",
    "from matplotlib.ticker import MaxNLocator\n",
    "\n",
    "import pyaldata as pyal\n",
    "\n",
    "%matplotlib inline\n",
    "\n",
    "try:\n",
    "    nbPath = pathlib.Path.cwd()\n",
    "    RepoPath = nbPath.parent\n",
    "    os.chdir(RepoPath)\n",
    "\n",
    "    from tools import utilityTools as utility\n",
    "    from tools import dataTools as dt\n",
    "    import params\n",
    "    defs = params.monkey_defs\n",
    "    monkey_defs = defs\n",
    "    \n",
    "    set_rc =  params.set_rc_params\n",
    "    set_rc()\n",
    "    root = params.root\n",
    "    reload(defs)\n",
    "    reload(dt)\n",
    "    reload(params) \n",
    "\n",
    "finally:\n",
    "    os.chdir(nbPath)\n",
    "\n",
    "if \"__file__\" not in dir():\n",
    "    %run \"_dataset-selection.ipynb\""
   ]
  },
  {
   "cell_type": "code",
   "execution_count": 5,
   "id": "d2d663ce",
   "metadata": {},
   "outputs": [],
   "source": [
    "def get_full_monkey_data():\n",
    "    full_list_MCx = []\n",
    "    for animal, sessionList in GoodDataList[monkey_defs.areas[2]].items():\n",
    "        if 'Mr' in animal:\n",
    "            continue  # to remove MrT\n",
    "        full_list_MCx.append((animal,sessionList))\n",
    "    full_list_MCx = [(animal,session) for animal,sessions in full_list_MCx for session in set(sessions)]\n",
    "    # load the DFs\n",
    "    allDFs_MCx = []\n",
    "    for animal, session in full_list_MCx:\n",
    "        path = root/animal/session\n",
    "        allDFs_MCx.append(monkey_defs.prep_general(dt.load_pyal_data(path)))\n",
    "\n",
    "    return full_list_MCx, allDFs_MCx"
   ]
  },
  {
   "cell_type": "markdown",
   "id": "26906c22",
   "metadata": {},
   "source": [
    "collecting all the data in a matrix, `AllData`: $sessions \\times targets \\times  trials \\times time \\times PCs$"
   ]
  },
  {
   "cell_type": "code",
   "execution_count": 10,
   "id": "2cbb8206",
   "metadata": {},
   "outputs": [],
   "source": [
    "if \"__file__\" not in dir():\n",
    "    warnings.filterwarnings(\"ignore\")\n",
    "    full_list_MCx, allDFs_MCx = get_full_monkey_data()\n",
    "    \n",
    "    pairFileList1 = []\n",
    "    for I, (animal1,session1) in enumerate(full_list_MCx):\n",
    "        for J, (animal2,session2) in enumerate(full_list_MCx):\n",
    "            if J<=I or animal1 == animal2: continue  # to repetitions\n",
    "            if 'Chewie' in animal1 and 'Chewie' in animal2: continue \n",
    "            pairFileList1.append((I,J))\n",
    "\n",
    "    side1df = [allDFs_MCx[i] for i,_ in pairFileList1]\n",
    "    side2df = [allDFs_MCx[j] for _,j in pairFileList1]\n",
    "\n",
    "    AllData1 = dt.get_data_array(side1df, monkey_defs.exec_epoch, area=monkey_defs.areas[2], model=monkey_defs.n_components)\n",
    "    AllData2 = dt.get_data_array(side2df, monkey_defs.exec_epoch, area=monkey_defs.areas[2], model=monkey_defs.n_components)\n",
    "    _,_, min_trials, min_time,_ = np.min((AllData1.shape,AllData2.shape),axis=0)\n",
    "\n",
    "    warnings.filterwarnings(\"default\")"
   ]
  },
  {
   "cell_type": "markdown",
   "id": "65f75f93",
   "metadata": {},
   "source": [
    "do the CCA calculation"
   ]
  },
  {
   "cell_type": "code",
   "execution_count": 18,
   "id": "ffaad2bd",
   "metadata": {},
   "outputs": [],
   "source": [
    "if \"__file__\" not in dir():\n",
    "    CCs=[]\n",
    "    for sessionData1,sessionData2 in zip(AllData1,AllData2):\n",
    "        data1 = np.reshape(sessionData1[:,:min_trials,:min_time,:], (-1,defs.n_components))\n",
    "        data2 = np.reshape(sessionData2[:,:min_trials,:min_time,:], (-1,defs.n_components))\n",
    "        CCs.append(dt.canoncorr(data1, data2))\n",
    "    CCs = np.array(CCs)"
   ]
  },
  {
   "cell_type": "code",
   "execution_count": 25,
   "id": "9cd4587d",
   "metadata": {},
   "outputs": [
    {
     "data": {
      "image/png": "[encoded data removed]",
      "text/plain": [
       "<Figure size 432x288 with 1 Axes>"
      ]
     },
     "metadata": {
      "needs_background": "light"
     },
     "output_type": "display_data"
    }
   ],
   "source": [
    "if \"__file__\" not in dir():\n",
    "    utility.shaded_errorbar(plt.gca(),CCs.T,)\n",
    "    plt.ylim([0,1])\n",
    "    plt.xlabel('sessions')\n",
    "    plt.ylabel('Canonical correlation')\n"
   ]
  }
 ],
 "metadata": {
  "kernelspec": {
   "display_name": "cca",
   "language": "python",
   "name": "python3"
  },
  "language_info": {
   "codemirror_mode": {
    "name": "ipython",
    "version": 3
   },
   "file_extension": ".py",
   "mimetype": "text/x-python",
   "name": "python",
   "nbconvert_exporter": "python",
   "pygments_lexer": "ipython3",
   "version": "3.10.5"
  },
  "vscode": {
   "interpreter": {
    "hash": "146bff742f048d001dec7fafb91c8daeb769f9aeaad9c8d129a83c9f9fb9a9b2"
   }
  }
 },
 "nbformat": 4,
 "nbformat_minor": 5
}
