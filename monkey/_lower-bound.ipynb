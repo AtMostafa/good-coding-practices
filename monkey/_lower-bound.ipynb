{
 "cells": [
  {
   "cell_type": "markdown",
   "id": "50262e5e",
   "metadata": {},
   "source": [
    "# part0: imports"
   ]
  },
  {
   "cell_type": "code",
   "execution_count": 1,
   "id": "3bedbd7c",
   "metadata": {},
   "outputs": [
    {
     "name": "stdout",
     "output_type": "stream",
     "text": [
      "the variable `GoodDataList` contains the session names\n"
     ]
    }
   ],
   "source": [
    "import os, sys, pathlib\n",
    "from pprint import pprint\n",
    "import gc\n",
    "import pickle\n",
    "from importlib import reload\n",
    "import logging, warnings\n",
    "logging.basicConfig(level=logging.ERROR)\n",
    "\n",
    "\n",
    "\n",
    "import pandas as pd\n",
    "import numpy as np\n",
    "from sklearn.decomposition import PCA\n",
    "import scipy.linalg as linalg\n",
    "\n",
    "import matplotlib.pyplot as plt\n",
    "import matplotlib.cm as cm\n",
    "import matplotlib\n",
    "from matplotlib.ticker import MaxNLocator\n",
    "\n",
    "import pyaldata as pyal\n",
    "import defs\n",
    "\n",
    "%matplotlib inline\n",
    "\n",
    "try:\n",
    "    nbPath = pathlib.Path.cwd()\n",
    "    RepoPath = nbPath.parent\n",
    "    os.chdir(RepoPath)\n",
    "\n",
    "    from tools import utilityTools as utility\n",
    "    from tools import dataTools as dt\n",
    "    import params\n",
    "    set_rc =  params.set_rc_params\n",
    "    set_rc()\n",
    "    root = params.root\n",
    "    reload(defs)\n",
    "    reload(dt)\n",
    "    reload(params) \n",
    "\n",
    "finally:\n",
    "    os.chdir(nbPath)\n",
    "\n",
    "if \"__file__\" not in dir():\n",
    "    %run \"_dataset-selection.ipynb\""
   ]
  },
  {
   "cell_type": "markdown",
   "id": "9f2eef52",
   "metadata": {},
   "source": [
    "## Control\n",
    "\n",
    "let's find a lower-bound. Canonical correlation without matching the animal, the area, the epoch and the target!\n",
    "\n",
    "### Details\n",
    "- **animal**: $C_L$  is Chewie\n",
    "- **window**: For *M1* it is $-120ms \\sim +420ms$ and for *PMd* from $-390ms  \\sim +60ms$\n",
    "- **dim**: it is 10 for M1 and 15 for PMd\n",
    "- **preprocessing**: \n",
    "    - remove firing rate below 1Hz overall\n",
    "    - bin to 30ms\n",
    "    - square root transform\n",
    "    - smooth by Gaussian kernel, $\\sigma=50ms$\n",
    "    \n",
    "\n",
    "\n",
    "**might take a looooong time if there is no pickle**"
   ]
  },
  {
   "cell_type": "code",
   "execution_count": 3,
   "id": "d2d663ce",
   "metadata": {},
   "outputs": [
    {
     "name": "stdout",
     "output_type": "stream",
     "text": [
      "len(pairFileList_)=57\n"
     ]
    }
   ],
   "source": [
    "full_list_M1 = []\n",
    "for animal, sessionList in GoodDataList[defs.areas[0]].items():\n",
    "    if 'Mr' in animal:\n",
    "        continue  # to remove MrT\n",
    "    full_list_M1.append((animal,sessionList))\n",
    "full_list_M1 = [(animal,session) for animal,sessions in full_list_M1 for session in set(sessions)]\n",
    "# load the DFs\n",
    "warnings.filterwarnings(\"ignore\")\n",
    "allDFs_M1 = []\n",
    "for animal, session in full_list_M1:\n",
    "    path = root/animal/session\n",
    "    allDFs_M1.append(defs.prep_general(dt.load_pyal_data(path)))\n",
    "\n",
    "\n",
    "full_list_PMd = []\n",
    "for animal, sessionList in GoodDataList[defs.areas[1]].items():\n",
    "    if 'Mr' in animal:\n",
    "        continue  # to remove MrT\n",
    "    full_list_PMd.append((animal,sessionList))\n",
    "full_list_PMd = [(animal,session) for animal,sessions in full_list_PMd for session in set(sessions)]\n",
    "# load the DFs\n",
    "allDFs_PMd = []\n",
    "for animal, session in full_list_PMd:\n",
    "    path = root/animal/session\n",
    "    allDFs_PMd.append(defs.prep_general(dt.load_pyal_data(path)))\n",
    "warnings.filterwarnings(\"default\")\n",
    "\n",
    "if \"__file__\" not in dir():\n",
    "    pairFileList_ = []\n",
    "    for i, (animal1,session1) in enumerate(full_list_M1):\n",
    "        pairFileList_.append((i,[]))\n",
    "        for j, (animal2,session2) in enumerate(full_list_PMd):\n",
    "            if animal1 == animal2: continue\n",
    "            if 'Chewie' in animal1 and 'Chewie' in animal2: continue\n",
    "            pairFileList_[-1][1].append(j)\n",
    "    pairFileList_ = [(i,j) for i,jList in pairFileList_ for j in jList]\n",
    "\n",
    "\n",
    "    print(f'{len(pairFileList_)=}')"
   ]
  },
  {
   "cell_type": "markdown",
   "id": "26906c22",
   "metadata": {},
   "source": [
    "collecting all the data in a matrix, `AllData`: $sessions \\times targets \\times  trials \\times time \\times PCs$"
   ]
  },
  {
   "cell_type": "code",
   "execution_count": 4,
   "id": "2cbb8206",
   "metadata": {},
   "outputs": [
    {
     "name": "stdout",
     "output_type": "stream",
     "text": [
      "min_trials=15\n",
      "min_time=15\n"
     ]
    }
   ],
   "source": [
    "if \"__file__\" not in dir():\n",
    "    warnings.filterwarnings(\"ignore\")\n",
    "\n",
    "    side1df = [allDFs_M1[df] for df,_ in pairFileList_]\n",
    "    side2df = [allDFs_PMd[df] for _,df in pairFileList_]\n",
    "\n",
    "    AllData1 = dt.get_data_array(side1df, defs.prep_epoch, area='M1', model=defs.n_components)\n",
    "    AllData2 = dt.get_data_array(side2df, defs.fixation_epoch, area='PMd', model=defs.n_components)\n",
    "    # reversing the order of trials to break the target correspondance\n",
    "    AllData2 = np.flip(AllData2, 1)\n",
    "    _,_, min_trials, min_time,_ = np.min((AllData1.shape,AllData2.shape),axis=0)\n",
    "\n",
    "    print(f'{min_trials=}\\n{min_time=}')\n",
    "    warnings.filterwarnings(\"default\")"
   ]
  },
  {
   "cell_type": "markdown",
   "id": "65f75f93",
   "metadata": {},
   "source": [
    "do the CCA calculation"
   ]
  },
  {
   "cell_type": "code",
   "execution_count": 4,
   "id": "ffaad2bd",
   "metadata": {},
   "outputs": [],
   "source": [
    "if \"__file__\" not in dir():\n",
    "    CCs=[]\n",
    "    for sessionData1,sessionData2 in zip(AllData1,AllData2):\n",
    "        data1 = np.reshape(sessionData1[:,:min_trials,:min_time,:], (-1,n_components))\n",
    "        data2 = np.reshape(sessionData2[:,:min_trials,-min_time:,:], (-1,n_components))\n",
    "        CCs.append(np.mean(dt.canoncorr(data1, data2)[:4]))\n",
    "    CCs = np.array(CCs)"
   ]
  },
  {
   "cell_type": "code",
   "execution_count": 5,
   "id": "9cd4587d",
   "metadata": {},
   "outputs": [
    {
     "data": {
      "image/png": "[encoded data removed]",
      "text/plain": [
       "<Figure size 432x288 with 1 Axes>"
      ]
     },
     "metadata": {
      "needs_background": "light"
     },
     "output_type": "display_data"
    }
   ],
   "source": [
    "if \"__file__\" not in dir():\n",
    "    plt.plot(CCs.T,'.')\n",
    "    plt.ylim([0,1])\n",
    "    plt.xlabel('sessions')\n",
    "    plt.ylabel('average canonical correlation')\n",
    "    plt.title('CCA --- lower bound estimation', usetex=True);"
   ]
  },
  {
   "cell_type": "markdown",
   "id": "d1d7f32e",
   "metadata": {},
   "source": [
    "the average distribution of CCs"
   ]
  },
  {
   "cell_type": "code",
   "execution_count": 6,
   "id": "e3dc24b3",
   "metadata": {},
   "outputs": [
    {
     "data": {
      "image/png": "[encoded data removed]",
      "text/plain": [
       "<Figure size 432x288 with 1 Axes>"
      ]
     },
     "metadata": {
      "needs_background": "light"
     },
     "output_type": "display_data"
    }
   ],
   "source": [
    "if \"__file__\" not in dir():\n",
    "\n",
    "    CCs2=[]\n",
    "    for sessionData1,sessionData2 in zip(AllData1,AllData2):\n",
    "        data1 = np.reshape(sessionData1[:,:min_trials,:min_time,:], (-1,n_components))\n",
    "        data2 = np.reshape(sessionData2[:,:min_trials,:min_time,:], (-1,n_components))\n",
    "        CCs2.append(dt.canoncorr(data1, data2))\n",
    "    CC_lower_bound = np.array(CCs2).T\n",
    "\n",
    "    _,ax = plt.subplots()\n",
    "\n",
    "    utility.shaded_errorbar(ax, CC_lower_bound, marker = 'o')\n",
    "    ax.set_ylim([0,1])\n",
    "    ax.set_xlabel('components')\n",
    "    ax.set_ylabel('canonical correlation')\n",
    "    ax.set_title('CCA --- lower bound estimation', usetex=True);"
   ]
  },
  {
   "cell_type": "markdown",
   "id": "1dd7a464",
   "metadata": {},
   "source": [
    "## across animal, within area, across epochs, shuffled targets\n",
    "\n",
    "so in short: different animals, different behaviours."
   ]
  },
  {
   "cell_type": "code",
   "execution_count": 5,
   "id": "97919171-92a6-46f1-8ae2-710fde84722f",
   "metadata": {},
   "outputs": [],
   "source": [
    "single_FileList1 = []\n",
    "for I, (animal1,session1) in enumerate(full_list_M1):\n",
    "    for J, (animal2,session2) in enumerate(full_list_M1):\n",
    "        if J<=I or animal1 == animal2: continue  # to repetitions\n",
    "        if 'Chewie' in animal1 and 'Chewie' in animal2: continue \n",
    "        single_FileList1.append((I,J))\n",
    "\n",
    "single_FileList2 = []\n",
    "for I, (animal1,session1) in enumerate(full_list_PMd):\n",
    "    for J, (animal2,session2) in enumerate(full_list_PMd):\n",
    "        if J<=I or animal1 == animal2: continue  # to repetitions\n",
    "        if 'Chewie' in animal1 and 'Chewie' in animal2: continue \n",
    "        single_FileList2.append((I,J))"
   ]
  },
  {
   "cell_type": "code",
   "execution_count": 7,
   "id": "8ff07e2f-5698-4f3d-bf27-66c1ecfcf7fb",
   "metadata": {},
   "outputs": [
    {
     "data": {
      "image/png": "[encoded data removed]",
      "text/plain": [
       "<Figure size 432x288 with 1 Axes>"
      ]
     },
     "metadata": {
      "needs_background": "light"
     },
     "output_type": "display_data"
    },
    {
     "data": {
      "image/png": "[encoded data removed]",
      "text/plain": [
       "<Figure size 720x360 with 2 Axes>"
      ]
     },
     "metadata": {
      "needs_background": "light"
     },
     "output_type": "display_data"
    }
   ],
   "source": [
    "n_iter = 1000\n",
    "\n",
    "#M1\n",
    "side1df = [allDFs_M1[i] for i,_ in single_FileList1]\n",
    "side2df = [allDFs_M1[j] for _,j in single_FileList1]\n",
    "warnings.filterwarnings(\"ignore\")\n",
    "AllData1 = dt.get_data_array(side1df, defs.prep_epoch, area=defs.areas[0], model=defs.n_components)\n",
    "AllData1_ = dt.get_data_array(side2df, defs.fixation_epoch, area=defs.areas[0], model=defs.n_components)\n",
    "_,_, min_trials, min_time,_ = np.min((AllData1.shape,AllData1_.shape),axis=0)\n",
    "\n",
    "# PMd\n",
    "side1df = [allDFs_PMd[i] for i,_ in single_FileList2]\n",
    "side2df = [allDFs_PMd[j] for _,j in single_FileList2]\n",
    "AllData2 = dt.get_data_array(side1df, defs.exec_epoch, area=defs.areas[1], model=defs.n_components)\n",
    "AllData2_ = dt.get_data_array(side2df, defs.fixation_epoch, area=defs.areas[1], model=defs.n_components)\n",
    "_,_, min_trials_, min_time_,_ = np.min((AllData2.shape,AllData2_.shape),axis=0)\n",
    "\n",
    "warnings.filterwarnings(\"default\")\n",
    "\n",
    "inCCs0=[]\n",
    "for sessionData1,sessionData2 in zip(AllData1,AllData1_):\n",
    "    r = []\n",
    "    for n in range(n_iter):\n",
    "        sessionData1_sh = params.rng.permutation(sessionData1,axis=0)\n",
    "        sessionData2_sh = params.rng.permutation(sessionData2,axis=0)\n",
    "\n",
    "        data1 = np.reshape(sessionData1_sh[:,:min_trials,:min_time,:], (-1,defs.n_components))\n",
    "        data2 = np.reshape(sessionData2_sh[:,:min_trials,:min_time,:], (-1,defs.n_components))\n",
    "        r.append(dt.canoncorr(data1, data2))\n",
    "    inCCs0.append(r)\n",
    "inCCs0 = np.array(inCCs0)\n",
    "CC_lower_bound_M1 = np.percentile(inCCs0, 1, axis=1).T\n",
    "\n",
    "\n",
    "inCCs1=[]\n",
    "for sessionData1,sessionData2 in zip(AllData2,AllData2_):\n",
    "    r = []\n",
    "    for n in range(n_iter):\n",
    "        sessionData1_sh = params.rng.permutation(sessionData1,axis=0)\n",
    "        sessionData2_sh = params.rng.permutation(sessionData2,axis=0)\n",
    "\n",
    "        data1 = np.reshape(sessionData1_sh[:,:min_trials_,:min_time_,:], (-1,defs.n_components))\n",
    "        data2 = np.reshape(sessionData2_sh[:,:min_trials_,:min_time_,:], (-1,defs.n_components))\n",
    "        r.append(dt.canoncorr(data1, data2))\n",
    "    inCCs1.append(r)\n",
    "inCCs1 = np.array(inCCs1)\n",
    "CC_lower_bound_PMd = np.percentile(inCCs1, 1, axis=1).T\n",
    "\n",
    "\n",
    "if \"__file__\" in dir():  # runs when the notebook is being `imported` from another notebook\n",
    "    print('variables: `CC_lower_bound_M1` and `CC_lower_bound_PMd` hold the lower bound correlations')\n",
    "    del allDFs_M1, allDFs_PMd, side1df, side2df\n",
    "\n",
    "# plotting\n",
    "if \"__file__\" not in dir():\n",
    "    _,ax = plt.subplots()\n",
    "\n",
    "    utility.shaded_errorbar(ax, CC_lower_bound_M1, color='b', marker = 'o', label=f'{defs.areas[0]} $n={CC_lower_bound_M1.shape[1]}$ sessions')\n",
    "    utility.shaded_errorbar(ax, CC_lower_bound_PMd, color='r', marker = 'o', label=f'{defs.areas[1]} $n={CC_lower_bound_PMd.shape[1]}$ sessions')\n",
    "    ax.set_ylim([0,1])\n",
    "    ax.set_xlabel('components')\n",
    "    ax.legend()\n",
    "    ax.set_ylabel('canonical correlation')\n",
    "    ax.set_title('CCA --- within monkey', usetex=True);\n",
    "\n",
    "    fig,axes = plt.subplots(ncols=2, figsize=(10,5))\n",
    "    axes[0].plot(CC_lower_bound_M1[:4,:].mean(axis=0),'.')\n",
    "    axes[1].plot(CC_lower_bound_PMd[:4,:].mean(axis=0),'.')\n",
    "    axes[0].set_ylabel('average canonical correlation')\n",
    "    for i, ax in enumerate(axes):\n",
    "        ax.set_title(f'CCA --- within monkey {defs.areas[i]} ', usetex=True);\n",
    "        ax.set_ylim([0,1])\n",
    "        ax.set_xlabel('sessions')"
   ]
  }
 ],
 "metadata": {
  "interpreter": {
   "hash": "72da6499f934495e06c03d484049d4696c0f7b78c6b9c64cf8676e9ec2014a6a"
  },
  "kernelspec": {
   "display_name": "Python 3 (ipykernel)",
   "language": "python",
   "name": "python3"
  },
  "language_info": {
   "codemirror_mode": {
    "name": "ipython",
    "version": 3
   },
   "file_extension": ".py",
   "mimetype": "text/x-python",
   "name": "python",
   "nbconvert_exporter": "python",
   "pygments_lexer": "ipython3",
   "version": "3.9.6"
  }
 },
 "nbformat": 4,
 "nbformat_minor": 5
}
