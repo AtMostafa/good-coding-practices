{
 "cells": [
  {
   "cell_type": "markdown",
   "id": "50262e5e",
   "metadata": {},
   "source": [
    "# part0: imports"
   ]
  },
  {
   "cell_type": "code",
   "execution_count": 1,
   "id": "3bedbd7c",
   "metadata": {},
   "outputs": [
    {
     "name": "stdout",
     "output_type": "stream",
     "text": [
      "the variable `GoodDataList` contains the session names\n"
     ]
    }
   ],
   "source": [
    "import os, sys, pathlib\n",
    "from pprint import pprint\n",
    "import gc\n",
    "import pickle\n",
    "from importlib import reload\n",
    "import logging, warnings\n",
    "logging.basicConfig(level=logging.ERROR)\n",
    "\n",
    "\n",
    "import pandas as pd\n",
    "import numpy as np\n",
    "from sklearn.decomposition import PCA\n",
    "import scipy.linalg as linalg\n",
    "\n",
    "import matplotlib.pyplot as plt\n",
    "import matplotlib.cm as cm\n",
    "import matplotlib\n",
    "from matplotlib.ticker import MaxNLocator\n",
    "\n",
    "import pyaldata as pyal\n",
    "\n",
    "%matplotlib inline\n",
    "\n",
    "try:\n",
    "    nbPath = pathlib.Path.cwd()\n",
    "    RepoPath = nbPath.parent\n",
    "    os.chdir(RepoPath)\n",
    "\n",
    "    from tools import utilityTools as utility\n",
    "    from tools import dataTools as dt\n",
    "    import params\n",
    "    defs = params.monkey_defs\n",
    "    \n",
    "    set_rc =  params.set_rc_params\n",
    "    set_rc()\n",
    "    root = params.root\n",
    "    reload(defs)\n",
    "    reload(dt)\n",
    "    reload(params) \n",
    "\n",
    "finally:\n",
    "    os.chdir(nbPath)\n",
    "\n",
    "if \"__file__\" not in dir():\n",
    "    %run \"_dataset-selection.ipynb\""
   ]
  },
  {
   "cell_type": "code",
   "execution_count": 2,
   "id": "e6f1d44e-8651-4be0-a4ea-5a108d66a214",
   "metadata": {},
   "outputs": [],
   "source": [
    "def get_data_array(data_list: list[pd.DataFrame], epoch_L: int =None , area: str ='M1', model=None) -> np.ndarray:   \n",
    "    if isinstance(data_list, pd.DataFrame):\n",
    "        data_list = [data_list]\n",
    "    if isinstance(model, int):\n",
    "        model = PCA(n_components=model, svd_solver='full')\n",
    "    \n",
    "    field = f'{area}_rates'\n",
    "    n_shared_trial = np.inf\n",
    "    target_ids = np.unique(data_list[0].target_id)\n",
    "    for df in data_list:\n",
    "        for target in target_ids:\n",
    "            df_ = pyal.select_trials(df, df.target_id== target)\n",
    "            n_shared_trial = np.min((df_.shape[0], n_shared_trial))\n",
    "\n",
    "    n_shared_trial = int(n_shared_trial)\n",
    "\n",
    "    # finding the number of timepoints\n",
    "    n_timepoints = int(df_[field][0].shape[0])\n",
    "    # n_timepoints = int(df_[field][0].shape[0])\n",
    "    if epoch_L is None:\n",
    "        epoch_L = n_timepoints\n",
    "    else:\n",
    "        assert epoch_L < n_timepoints, 'Epoch longer than data'\n",
    "    \n",
    "    # pre-allocating the data matrix\n",
    "    AllData = np.zeros((len(data_list), len(target_ids), n_shared_trial, epoch_L, model.n_components))\n",
    "\n",
    "    for session, df in enumerate(data_list):\n",
    "        rates = np.concatenate(df_[field].values, axis=0)\n",
    "        rates -= np.mean(rates, axis=0)\n",
    "        rates_model = model.fit(rates)\n",
    "        df_ = pyal.apply_dim_reduce_model(df_, rates_model, field, '_pca');\n",
    "\n",
    "        for targetIdx,target in enumerate(target_ids):\n",
    "            df__ = pyal.select_trials(df_, df_.target_id==target)\n",
    "            all_id = df__.trial_id.to_numpy()\n",
    "            # to guarantee shuffled ids\n",
    "            params.rng.shuffle(all_id)\n",
    "            # select the right number of trials to each target\n",
    "            df__ = pyal.select_trials(df__, lambda trial: trial.trial_id in all_id[:n_shared_trial])\n",
    "            for trial, trial_rates in enumerate(df__._pca):\n",
    "                time_idx = params.rng.integers(trial_rates.shape[0]-epoch_L)\n",
    "                while not np.isfinite(trial_data := trial_rates[time_idx:time_idx+epoch_L,:]).all():\n",
    "                    time_idx = params.rng.integers(trial_rates.shape[0]-epoch_L)\n",
    "                AllData[session,targetIdx,trial, :, :] = trial_data\n",
    "\n",
    "    return AllData"
   ]
  },
  {
   "cell_type": "markdown",
   "id": "9f2eef52",
   "metadata": {},
   "source": [
    "reading data"
   ]
  },
  {
   "cell_type": "code",
   "execution_count": 3,
   "id": "d2d663ce",
   "metadata": {},
   "outputs": [],
   "source": [
    "full_list_MCx = []\n",
    "for animal, sessionList in GoodDataList[defs.areas[2]].items():\n",
    "    if 'Mr' in animal:\n",
    "        continue  # to remove MrT\n",
    "    full_list_MCx.append((animal,sessionList))\n",
    "full_list_MCx = [(animal,session) for animal,sessions in full_list_MCx for session in set(sessions)]\n",
    "# load the DFs\n",
    "warnings.filterwarnings(\"ignore\")\n",
    "allDFs_MCx = []\n",
    "for animal, session in full_list_MCx:\n",
    "    path = root/animal/session\n",
    "    allDFs_MCx.append(defs.prep_general(dt.load_pyal_data(path)))"
   ]
  },
  {
   "cell_type": "markdown",
   "id": "1dd7a464",
   "metadata": {},
   "source": [
    "## across animal, within area, across epochs, shuffled targets\n",
    "\n",
    "so in short: different animals, different behaviours."
   ]
  },
  {
   "cell_type": "code",
   "execution_count": 4,
   "id": "97919171-92a6-46f1-8ae2-710fde84722f",
   "metadata": {},
   "outputs": [],
   "source": [
    "single_FileList1 = []\n",
    "for I, (animal1,session1) in enumerate(full_list_MCx):\n",
    "    for J, (animal2,session2) in enumerate(full_list_MCx):\n",
    "        if J<=I or animal1 == animal2: continue  # to repetitions\n",
    "        if 'Chewie' in animal1 and 'Chewie' in animal2: continue \n",
    "        single_FileList1.append((I,J))"
   ]
  },
  {
   "cell_type": "code",
   "execution_count": 5,
   "id": "2ed49aa9-eb05-48c0-9539-9db723443087",
   "metadata": {},
   "outputs": [
    {
     "data": {
      "image/png": "[encoded data removed]",
      "text/plain": [
       "<Figure size 432x288 with 1 Axes>"
      ]
     },
     "metadata": {
      "needs_background": "light"
     },
     "output_type": "display_data"
    },
    {
     "data": {
      "image/png": "[encoded data removed]",
      "text/plain": [
       "<Figure size 720x360 with 1 Axes>"
      ]
     },
     "metadata": {
      "needs_background": "light"
     },
     "output_type": "display_data"
    }
   ],
   "source": [
    "n_iter = params.n_iter * 10\n",
    "\n",
    "len_trial = int(np.round(np.diff(defs.WINDOW_exec)/defs.BIN_SIZE))\n",
    "\n",
    "#MCx\n",
    "side1df = [allDFs_MCx[i] for i,_ in single_FileList1]\n",
    "side2df = [allDFs_MCx[j] for _,j in single_FileList1]\n",
    "warnings.filterwarnings(\"ignore\")\n",
    "AllData1  = get_data_array(side1df, epoch_L=len_trial, area=defs.areas[2], model=defs.n_components)\n",
    "AllData1_ = get_data_array(side2df, epoch_L=len_trial, area=defs.areas[2], model=defs.n_components)\n",
    "_,_, min_trials, min_time,_ = np.min((AllData1.shape,AllData1_.shape),axis=0)\n",
    "\n",
    "warnings.filterwarnings(\"default\")\n",
    "\n",
    "inCCs0=[]\n",
    "for sessionData1,sessionData2 in zip(AllData1,AllData1_):\n",
    "    r = []\n",
    "    for n in range(n_iter):\n",
    "        sessionData1_sh = params.rng.permutation(sessionData1,axis=0)\n",
    "        sessionData2_sh = params.rng.permutation(sessionData2,axis=0)\n",
    "\n",
    "        data1 = np.reshape(sessionData1_sh[:,:min_trials,:min_time,:], (-1,defs.n_components))\n",
    "        data2 = np.reshape(sessionData2_sh[:,:min_trials,:min_time,:], (-1,defs.n_components))\n",
    "        r.append(dt.canoncorr(data1, data2))\n",
    "    inCCs0.append(r)\n",
    "inCCs0 = np.array(inCCs0)\n",
    "CC_lower_bound_MCx = np.percentile(inCCs0, 1, axis=1).T\n",
    "\n",
    "\n",
    "# plotting\n",
    "if \"__file__\" not in dir():\n",
    "    _,ax = plt.subplots()\n",
    "\n",
    "    utility.shaded_errorbar(ax, CC_lower_bound_MCx, color='b', marker = 'o', label=f'{defs.areas[2]} $n={CC_lower_bound_MCx.shape[1]}$ sessions')\n",
    "    ax.set_ylim([0,1])\n",
    "    ax.set_xlabel('components')\n",
    "    ax.legend()\n",
    "    ax.set_ylabel('canonical correlation')\n",
    "    ax.set_title('CCA --- within monkey', usetex=True);\n",
    "\n",
    "    fig,ax = plt.subplots(ncols=1, figsize=(10,5))\n",
    "    ax.plot(CC_lower_bound_MCx[:4,:].mean(axis=0),'.')\n",
    "    ax.set_ylabel('average canonical correlation')\n",
    "    ax.set_title(f'CCA --- within monkey {defs.areas[2]} ', usetex=True);\n",
    "    ax.set_ylim([0,1])\n",
    "    ax.set_xlabel('sessions')"
   ]
  },
  {
   "cell_type": "code",
   "execution_count": null,
   "id": "b6cb472e-8070-4991-b53f-05ca47c3b2ce",
   "metadata": {},
   "outputs": [],
   "source": []
  }
 ],
 "metadata": {
  "interpreter": {
   "hash": "72da6499f934495e06c03d484049d4696c0f7b78c6b9c64cf8676e9ec2014a6a"
  },
  "kernelspec": {
   "display_name": "Python 3 (ipykernel)",
   "language": "python",
   "name": "python3"
  },
  "language_info": {
   "codemirror_mode": {
    "name": "ipython",
    "version": 3
   },
   "file_extension": ".py",
   "mimetype": "text/x-python",
   "name": "python",
   "nbconvert_exporter": "python",
   "pygments_lexer": "ipython3",
   "version": "3.9.7"
  }
 },
 "nbformat": 4,
 "nbformat_minor": 5
}
