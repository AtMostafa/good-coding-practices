{
 "cells": [
  {
   "cell_type": "markdown",
   "id": "61b102c0",
   "metadata": {},
   "source": [
    "# part0: imports"
   ]
  },
  {
   "cell_type": "code",
   "execution_count": 59,
   "id": "00059128",
   "metadata": {
    "execution": {
     "iopub.execute_input": "2022-09-06T16:20:41.640701Z",
     "iopub.status.busy": "2022-09-06T16:20:41.640396Z",
     "iopub.status.idle": "2022-09-06T16:20:42.766382Z",
     "shell.execute_reply": "2022-09-06T16:20:42.765945Z"
    }
   },
   "outputs": [
    {
     "name": "stdout",
     "output_type": "stream",
     "text": [
      "Done\n"
     ]
    }
   ],
   "source": [
    "%matplotlib inline\n",
    "\n",
    "from tqdm import tqdm\n",
    "import os, sys, pathlib\n",
    "from pprint import pprint\n",
    "import gc, time\n",
    "import pickle\n",
    "from importlib import reload\n",
    "import logging, warnings\n",
    "logging.basicConfig(level=logging.ERROR)\n",
    "warnings.simplefilter(\"ignore\")\n",
    "\n",
    "import PyPDF2 as ppdf\n",
    "import pandas as pd\n",
    "import numpy as np\n",
    "import sklearn\n",
    "from sklearn.decomposition import PCA\n",
    "import scipy.linalg as linalg\n",
    "from sklearn.linear_model import Ridge, LinearRegression\n",
    "from sklearn.model_selection import cross_val_score, KFold\n",
    "from sklearn.metrics import make_scorer, r2_score\n",
    "from scipy.stats import wilcoxon, mannwhitneyu, linregress\n",
    "\n",
    "\n",
    "import matplotlib.pyplot as plt\n",
    "import matplotlib.cm as cm\n",
    "import matplotlib as mpl\n",
    "import matplotlib.lines as mlines\n",
    "from matplotlib.ticker import MaxNLocator, FormatStrFormatter\n",
    "from matplotlib.collections import LineCollection\n",
    "\n",
    "import torch\n",
    "\n",
    "import pyaldata as pyal\n",
    "\n",
    "if \"__file__\" not in dir():\n",
    "    try:\n",
    "        NBPath = pathlib.Path.cwd()\n",
    "        RepoPath = NBPath.parent\n",
    "        os.chdir(RepoPath)\n",
    "\n",
    "        from tools import utilityTools as utility\n",
    "        from tools import dataTools as dt\n",
    "        from tools import lstm\n",
    "        reload(lstm)\n",
    "        import params\n",
    "        reload(params)\n",
    "        monkey_defs = params.monkey_defs\n",
    "        mouse_defs = params.mouse_defs\n",
    "\n",
    "        set_rc =  params.set_rc_params\n",
    "        set_rc()\n",
    "        root = params.root\n",
    "\n",
    "        os.chdir(RepoPath / 'monkey')\n",
    "        %run \"_dataset-selection.ipynb\"\n",
    "\n",
    "    finally:\n",
    "        os.chdir(NBPath)\n",
    "\n",
    "    print('Done')"
   ]
  },
  {
   "cell_type": "markdown",
   "id": "10159e45-a434-4695-b186-89f64ecf058c",
   "metadata": {},
   "source": [
    "---\n",
    "\n",
    "monkey population CCA plot"
   ]
  },
  {
   "cell_type": "code",
   "execution_count": 60,
   "id": "d9fb936c-4ef3-4776-bd0f-bea0b5322a40",
   "metadata": {
    "execution": {
     "iopub.execute_input": "2022-09-06T16:20:46.624932Z",
     "iopub.status.busy": "2022-09-06T16:20:46.624775Z",
     "iopub.status.idle": "2022-09-06T16:20:46.627639Z",
     "shell.execute_reply": "2022-09-06T16:20:46.627350Z"
    }
   },
   "outputs": [],
   "source": [
    "@utility.report\n",
    "def get_full_monkey_data():\n",
    "    full_list_MCx = []\n",
    "    for animal, sessionList in GoodDataList[monkey_defs.areas[2]].items():\n",
    "        if 'Mr' in animal:\n",
    "            continue  # to remove MrT\n",
    "        full_list_MCx.append((animal,sessionList))\n",
    "    full_list_MCx = [(animal,session) for animal,sessions in full_list_MCx for session in set(sessions)]\n",
    "    # load the DFs\n",
    "    allDFs_MCx = []\n",
    "    for animal, session in full_list_MCx:\n",
    "        path = root/animal/session\n",
    "        with warnings.catch_warnings():\n",
    "            warnings.simplefilter(\"ignore\")\n",
    "            allDFs_MCx.append(monkey_defs.prep_general(dt.load_pyal_data(path)))\n",
    "\n",
    "    return full_list_MCx, allDFs_MCx"
   ]
  },
  {
   "cell_type": "code",
   "execution_count": 61,
   "id": "ac855fae",
   "metadata": {},
   "outputs": [],
   "source": [
    "def remove_neurons(df, n_removed, signal):\n",
    "    df_ = df.copy()\n",
    "    n_neurons = df_[signal][0].shape[1]\n",
    "    size = n_neurons - n_removed\n",
    "    assert (size>0)\n",
    "\n",
    "    mask = params.rng.choice(n_neurons, size, replace = False)\n",
    "    df_[signal] = [arr[:, mask] for arr in df_[signal]]\n",
    "    \n",
    "    return df_"
   ]
  },
  {
   "cell_type": "code",
   "execution_count": 74,
   "id": "55ab4f90-108f-4c22-a744-3a35db5b2038",
   "metadata": {
    "execution": {
     "iopub.execute_input": "2022-09-06T16:20:46.629040Z",
     "iopub.status.busy": "2022-09-06T16:20:46.628928Z",
     "iopub.status.idle": "2022-09-06T16:20:46.642138Z",
     "shell.execute_reply": "2022-09-06T16:20:46.641855Z"
    }
   },
   "outputs": [],
   "source": [
    "@utility.report\n",
    "def plot_monkey_cca_subsample_neurons(ax, allDFs_MCx):\n",
    "\n",
    "    #get pairs of sessions\n",
    "    pairFileList_monkeys = []\n",
    "    for I, df1 in enumerate(allDFs_MCx):\n",
    "        for J, df2 in enumerate(allDFs_MCx):\n",
    "            if J<=I or df1.monkey[0] == df2.monkey[0]: continue  # to repetitions\n",
    "            if 'Chewie' in df1.monkey[0] and 'Chewie' in df2.monkey[0]: continue\n",
    "            pairFileList_monkeys.append((I,J))\n",
    "    \n",
    "    #get data for neural modes\n",
    "    side1df = [allDFs_MCx[i] for i,_ in pairFileList_monkeys]\n",
    "    side2df = [allDFs_MCx[j] for _,j in pairFileList_monkeys]\n",
    "\n",
    "    #successively remove neurons\n",
    "    CC_corr_subsample = []\n",
    "    n_iter = 10\n",
    "    n_remove_per_iter = 5 \n",
    "    for i in range(n_iter+1):\n",
    "        signal = monkey_defs.areas[2] + '_rates'\n",
    "        n_removed = i*n_remove_per_iter\n",
    "        side1df_ = [remove_neurons(df, n_removed, signal) for df in side1df]\n",
    "        side2df_ = [remove_neurons(df, n_removed, signal) for df in side2df]\n",
    "\n",
    "        with warnings.catch_warnings():\n",
    "            warnings.simplefilter(\"ignore\")\n",
    "            AllData1_monkey = dt.get_data_array(side1df_, monkey_defs.exec_epoch, area=monkey_defs.areas[2], model=monkey_defs.n_components)\n",
    "            AllData2_monkey = dt.get_data_array(side2df_, monkey_defs.exec_epoch, area=monkey_defs.areas[2], model=monkey_defs.n_components)\n",
    "            _,_, min_trials_monkey, min_time_monkey,_ = np.min((AllData1_monkey.shape,AllData2_monkey.shape),axis=0)\n",
    "\n",
    "        CC_corr_monkey=[]\n",
    "        #for each pair of sessions across monkeys\n",
    "        for i, (sessionData1,sessionData2) in enumerate(zip(AllData1_monkey,AllData2_monkey)):\n",
    "\n",
    "            data1 = np.reshape(sessionData1[:,:min_trials_monkey,:min_time_monkey,:], (-1,monkey_defs.n_components))\n",
    "            data2 = np.reshape(sessionData2[:,:min_trials_monkey,:min_time_monkey,:], (-1,monkey_defs.n_components))\n",
    "            k,l = pairFileList_monkeys[i]\n",
    "\n",
    "            #perform CCA\n",
    "            CC_corr_monkey.append((dt.canoncorr(data1, data2)[:4].mean()))\n",
    "        CC_corr_monkey = np.array(CC_corr_monkey)\n",
    "        CC_corr_subsample.append(CC_corr_monkey)\n",
    "    \n",
    "    # plotting\n",
    "    x_ = np.arange(0, (n_iter+1)*n_remove_per_iter, n_remove_per_iter)\n",
    "\n",
    "    utility.shaded_errorbar(ax, x_, np.array(CC_corr_subsample), color=params.colors.MainCC, marker = 'o')\n",
    "    ax.set_xlabel('Number of dropped neurons')\n",
    "    ax.set_ylabel('Canonical correlation')\n",
    "    ax.set_ylim([0,1])\n",
    "    ax.set_xlim([0, n_iter*n_remove_per_iter])\n",
    "    # ax.legend(loc=(0,.8))\n",
    "    ax.spines['top'].set_visible(False)\n",
    "    ax.spines['right'].set_visible(False)\n",
    "    ax.yaxis.set_major_formatter(FormatStrFormatter('$%0.2f$'))\n",
    "\n",
    "    return CC_corr_subsample\n"
   ]
  },
  {
   "cell_type": "code",
   "execution_count": 72,
   "id": "c6d8e701-2e04-41c4-bc4c-2383ef0badd5",
   "metadata": {
    "execution": {
     "iopub.execute_input": "2022-09-06T16:20:46.643460Z",
     "iopub.status.busy": "2022-09-06T16:20:46.643333Z",
     "iopub.status.idle": "2022-09-06T16:21:07.364689Z",
     "shell.execute_reply": "2022-09-06T16:21:07.364377Z"
    },
    "tags": []
   },
   "outputs": [
    {
     "name": "stdout",
     "output_type": "stream",
     "text": [
      "Executed: `plot_monkey_cca_subsample_neurons` in 36.0s\n"
     ]
    },
    {
     "data": {
      "image/png": "[encoded data removed]",
      "text/plain": [
       "<Figure size 600x400 with 1 Axes>"
      ]
     },
     "metadata": {
      "needs_background": "light"
     },
     "output_type": "display_data"
    }
   ],
   "source": [
    "if \"__file__\" not in dir():\n",
    "    plt.close('all')\n",
    "    set_rc()\n",
    "    fig=plt.figure(dpi=100)\n",
    "    ax = fig.add_subplot()\n",
    "    \n",
    "    # _, allDFs_MCx = get_full_monkey_data()\n",
    "\n",
    "    monkey_cc = plot_monkey_cca_subsample_neurons(ax, allDFs_MCx[10:15])\n",
    "    plt.savefig(root / f'../figures/cca_subsample_neurons_monkey.pdf', format= 'pdf')\n"
   ]
  },
  {
   "cell_type": "code",
   "execution_count": 75,
   "id": "58a12a4e",
   "metadata": {},
   "outputs": [
    {
     "name": "stdout",
     "output_type": "stream",
     "text": [
      "281\n",
      "345\n",
      "289\n",
      "288\n",
      "239\n",
      "299\n",
      "269\n",
      "210\n",
      "92\n",
      "87\n",
      "73\n",
      "87\n",
      "109\n",
      "106\n",
      "130\n",
      "114\n",
      "123\n",
      "122\n",
      "54\n",
      "81\n",
      "55\n"
     ]
    }
   ],
   "source": [
    "for df_ in allDFs_MCx:\n",
    "    signal = 'MCx_rates'\n",
    "    n_neurons = df_[signal][0].shape[1]\n",
    "    print(n_neurons)"
   ]
  },
  {
   "cell_type": "code",
   "execution_count": null,
   "id": "0c6eb13d",
   "metadata": {},
   "outputs": [],
   "source": []
  }
 ],
 "metadata": {
  "interpreter": {
   "hash": "f438ab41c639bccf4a0690d593feedbc6f327eadb4a78567565a57c35fedcdae"
  },
  "kernelspec": {
   "display_name": "Python 3.10.5 ('cca': conda)",
   "language": "python",
   "name": "python3"
  },
  "language_info": {
   "codemirror_mode": {
    "name": "ipython",
    "version": 3
   },
   "file_extension": ".py",
   "mimetype": "text/x-python",
   "name": "python",
   "nbconvert_exporter": "python",
   "pygments_lexer": "ipython3",
   "version": "3.10.5"
  },
  "vscode": {
   "interpreter": {
    "hash": "146bff742f048d001dec7fafb91c8daeb769f9aeaad9c8d129a83c9f9fb9a9b2"
   }
  }
 },
 "nbformat": 4,
 "nbformat_minor": 5
}
