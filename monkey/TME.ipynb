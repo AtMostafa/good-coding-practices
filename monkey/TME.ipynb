{
 "cells": [
  {
   "cell_type": "markdown",
   "id": "61b102c0",
   "metadata": {},
   "source": [
    "# part0: imports"
   ]
  },
  {
   "cell_type": "code",
   "execution_count": 1,
   "id": "00059128",
   "metadata": {},
   "outputs": [],
   "source": [
    "import os, sys, pathlib\n",
    "from pprint import pprint\n",
    "import gc\n",
    "import pickle\n",
    "from importlib import reload\n",
    "import logging, warnings\n",
    "logging.basicConfig(level=logging.ERROR)\n",
    "\n",
    "import pandas as pd\n",
    "import numpy as np\n",
    "import sklearn\n",
    "from sklearn.decomposition import PCA\n",
    "import scipy.linalg as linalg\n",
    "\n",
    "import matplotlib.pyplot as plt\n",
    "import matplotlib.cm as cm\n",
    "import matplotlib\n",
    "from matplotlib.ticker import MaxNLocator\n",
    "from matplotlib.collections import LineCollection\n",
    "%matplotlib inline\n",
    "\n",
    "\n",
    "import pyaldata as pyal\n",
    "\n",
    "try:\n",
    "    nbPath = pathlib.Path.cwd()\n",
    "    RepoPath = nbPath.parent\n",
    "    os.chdir(RepoPath)\n",
    "\n",
    "    from tools import utilityTools as utility\n",
    "    from tools import dataTools as dt\n",
    "    import params\n",
    "    defs = params.monkey_defs\n",
    "    \n",
    "    set_rc =  params.set_rc_params\n",
    "    set_rc()\n",
    "    root = params.root\n",
    "\n",
    "finally:\n",
    "    os.chdir(nbPath)\n",
    "\n",
    "\n",
    "%run \"_dataset-selection.ipynb\""
   ]
  },
  {
   "cell_type": "code",
   "execution_count": 12,
   "id": "015b162c",
   "metadata": {},
   "outputs": [
    {
     "name": "stdout",
     "output_type": "stream",
     "text": [
      "len(pairFileList1)=126\n"
     ]
    }
   ],
   "source": [
    "full_list_MCx = []\n",
    "for animal, sessionList in GoodDataList[defs.areas[2]].items():\n",
    "    if 'Mr' in animal:\n",
    "        continue  # to remove MrT\n",
    "    full_list_MCx.append((animal,sessionList))\n",
    "full_list_MCx = [(animal,session) for animal,sessions in full_list_MCx for session in set(sessions)]\n",
    "# load the DFs\n",
    "warnings.filterwarnings(\"ignore\")\n",
    "allDFs_MCx = []\n",
    "for animal, session in full_list_MCx:\n",
    "    path = root/animal/session\n",
    "    allDFs_MCx.append(defs.prep_general(dt.load_pyal_data(path)))\n",
    "\n",
    "\n",
    "warnings.filterwarnings(\"default\")\n",
    "\n",
    "\n",
    "pairFileList1 = []\n",
    "for I, (animal1,session1) in enumerate(full_list_MCx):\n",
    "    for J, (animal2,session2) in enumerate(full_list_MCx):\n",
    "        if J<=I or animal1 == animal2: continue  # to repetitions\n",
    "        if 'Chewie' in animal1 and 'Chewie' in animal2: continue \n",
    "        pairFileList1.append((I,J))\n",
    "\n",
    "print(f'{len(pairFileList1)=}')"
   ]
  },
  {
   "attachments": {},
   "cell_type": "markdown",
   "id": "9f151bea",
   "metadata": {},
   "source": [
    "# modified `get_data_array` function for __TME__"
   ]
  },
  {
   "cell_type": "code",
   "execution_count": 22,
   "metadata": {},
   "outputs": [],
   "source": [
    "def get_TME_array(data_list: list[pd.DataFrame], epoch: Callable =None , area: str ='M1', model: Callable =None, n_components:int = 10) -> np.ndarray:\n",
    "    \"\"\"\n",
    "    Applies the `model` to the `data_list` and return a data matrix of the shape: sessions x targets x trials x time x modes\n",
    "    with the minimum number of trials and timepoints shared across all the datasets/targets.\n",
    "    \n",
    "    Parameters\n",
    "    ----------\n",
    "    `data_list`: list of pd.dataFrame datasets from pyalData (could also be a single dataset)\n",
    "    `epoch`: an epoch function of the type `pyal.generate_epoch_fun()`\n",
    "    `area`: area, either: 'M1', or 'S1', or 'PMd', ...\n",
    "    `model`: a model that implements `.fit()`, `.transform()` and `n_components`. By default: `PCA(10)`. If it's an integer: `PCA(integer)`.\n",
    "    `n_components`: use `model`, this is for backward compatibility\n",
    "    \n",
    "    Returns\n",
    "    -------\n",
    "    `AllData`: np.ndarray\n",
    "\n",
    "    Signature\n",
    "    -------\n",
    "    AllData = get_data_array(data_list, execution_epoch, area='M1', model=10)\n",
    "    all_data = np.reshape(AllData, (-1,10))\n",
    "    \"\"\"\n",
    "    try:\n",
    "        matlab.engine\n",
    "        print('Matlab engine already running!')\n",
    "    except NameError:\n",
    "        import matlab.engine\n",
    "        eng = matlab.engine.start_matlab()\n",
    "        eng.cd(r'../tools/TME/', nargout=0)\n",
    "        eng.addpath(eng.pwd()+'/util', eng.pwd()+'/genTME')\n",
    "\n",
    "    if isinstance(data_list, pd.DataFrame):\n",
    "        data_list = [data_list]\n",
    "    if model is None:\n",
    "        model = PCA(n_components=n_components, svd_solver='full')\n",
    "    elif isinstance(model, int):\n",
    "        model = PCA(n_components=model, svd_solver='full')\n",
    "    \n",
    "    field = f'{area}_rates'\n",
    "    n_shared_trial = np.inf\n",
    "    target_ids = np.unique(data_list[0].target_id)\n",
    "    for df in data_list:\n",
    "        for target in target_ids:\n",
    "            df_ = pyal.select_trials(df, df.target_id== target)\n",
    "            n_shared_trial = np.min((df_.shape[0], n_shared_trial))\n",
    "\n",
    "    n_shared_trial = int(n_shared_trial)\n",
    "\n",
    "    # finding the number of timepoints\n",
    "    if epoch is not None:\n",
    "        df_ = pyal.restrict_to_interval(data_list[0],epoch_fun=epoch)\n",
    "    n_timepoints = int(df_[field][0].shape[0])\n",
    "\n",
    "    # pre-allocating the data matrix\n",
    "    AllData = np.empty((len(data_list), len(target_ids), n_shared_trial, n_timepoints, model.n_components))\n",
    "\n",
    "    rng = np.random.default_rng(12345)\n",
    "    for session, df in enumerate(data_list):\n",
    "        df_ = pyal.restrict_to_interval(df, epoch_fun=epoch) if epoch is not None else df\n",
    "        rates = np.concatenate(df_[field].values, axis=0)\n",
    "        \n",
    "        # Use the surrogate data generated with TME\n",
    "        rates = eng.computeTME(rates,'surrogate-TN')\n",
    "        rates_model = model.fit(rates)\n",
    "        df_ = pyal.apply_dim_reduce_model(df_, rates_model, field, '_pca');\n",
    "\n",
    "        for targetIdx,target in enumerate(target_ids):\n",
    "            df__ = pyal.select_trials(df_, df_.target_id==target)\n",
    "            all_id = df__.trial_id.to_numpy()\n",
    "            # to guarantee shuffled ids\n",
    "            while ((all_id_sh := rng.permutation(all_id)) == all_id).all():\n",
    "                continue\n",
    "            all_id = all_id_sh\n",
    "            # select the right number of trials to each target\n",
    "            df__ = pyal.select_trials(df__, lambda trial: trial.trial_id in all_id[:n_shared_trial])\n",
    "            for trial, trial_rates in enumerate(df__._pca):\n",
    "                AllData[session,targetIdx,trial, :, :] = trial_rates\n",
    "\n",
    "    return AllData\n"
   ]
  },
  {
   "cell_type": "markdown",
   "id": "6ec7ff66",
   "metadata": {},
   "source": [
    "collecting all the data in a matrix, `AllData`: $sessions \\times targets \\times  trials \\times time \\times PCs$"
   ]
  },
  {
   "cell_type": "code",
   "execution_count": 23,
   "id": "93fd9071",
   "metadata": {},
   "outputs": [
    {
     "name": "stderr",
     "output_type": "stream",
     "text": [
      "Index exceeds the number of array elements. Index must not exceed 2.\n",
      "\n",
      "Error in fitMaxEntropy (line 51)\n",
      "        Sigma = eye(dim(i))*(Tr/dim(i));\n",
      "\n",
      "Error in computeTME (line 45)\n",
      "maxEntropy = fitMaxEntropy(params);             % fit the maximum entropy distribution\n",
      "\n"
     ]
    },
    {
     "ename": "MatlabExecutionError",
     "evalue": "\n  File /home/msafaie/REPOS/multi-animal-alignment/tools/TME/genTME/fitMaxEntropy.m, line 51, in fitMaxEntropy\n\n  File /home/msafaie/REPOS/multi-animal-alignment/tools/TME/computeTME.m, line 45, in computeTME\nIndex exceeds the number of array elements. Index must not exceed 2.\n",
     "output_type": "error",
     "traceback": [
      "\u001b[0;31m---------------------------------------------------------------------------\u001b[0m",
      "\u001b[0;31mMatlabExecutionError\u001b[0m                      Traceback (most recent call last)",
      "\u001b[1;32m/home/msafaie/REPOS/multi-animal-alignment/monkey/TME.ipynb Cell 7\u001b[0m in \u001b[0;36m<cell line: 4>\u001b[0;34m()\u001b[0m\n\u001b[1;32m      <a href='vscode-notebook-cell://ssh-remote%2B129.31.69.91/home/msafaie/REPOS/multi-animal-alignment/monkey/TME.ipynb#X16sdnNjb2RlLXJlbW90ZQ%3D%3D?line=1'>2</a>\u001b[0m side2df \u001b[39m=\u001b[39m [allDFs_MCx[j] \u001b[39mfor\u001b[39;00m _,j \u001b[39min\u001b[39;00m pairFileList1]\n\u001b[1;32m      <a href='vscode-notebook-cell://ssh-remote%2B129.31.69.91/home/msafaie/REPOS/multi-animal-alignment/monkey/TME.ipynb#X16sdnNjb2RlLXJlbW90ZQ%3D%3D?line=2'>3</a>\u001b[0m warnings\u001b[39m.\u001b[39mfilterwarnings(\u001b[39m\"\u001b[39m\u001b[39mignore\u001b[39m\u001b[39m\"\u001b[39m)\n\u001b[0;32m----> <a href='vscode-notebook-cell://ssh-remote%2B129.31.69.91/home/msafaie/REPOS/multi-animal-alignment/monkey/TME.ipynb#X16sdnNjb2RlLXJlbW90ZQ%3D%3D?line=3'>4</a>\u001b[0m AllData1 \u001b[39m=\u001b[39m get_TME_array(side1df, defs\u001b[39m.\u001b[39;49mexec_epoch, area\u001b[39m=\u001b[39;49mdefs\u001b[39m.\u001b[39;49mareas[\u001b[39m2\u001b[39;49m], model\u001b[39m=\u001b[39;49mdefs\u001b[39m.\u001b[39;49mn_components)\n\u001b[1;32m      <a href='vscode-notebook-cell://ssh-remote%2B129.31.69.91/home/msafaie/REPOS/multi-animal-alignment/monkey/TME.ipynb#X16sdnNjb2RlLXJlbW90ZQ%3D%3D?line=4'>5</a>\u001b[0m AllData2 \u001b[39m=\u001b[39m get_TME_array(side2df, defs\u001b[39m.\u001b[39mexec_epoch, area\u001b[39m=\u001b[39mdefs\u001b[39m.\u001b[39mareas[\u001b[39m2\u001b[39m], model\u001b[39m=\u001b[39mdefs\u001b[39m.\u001b[39mn_components)\n\u001b[1;32m      <a href='vscode-notebook-cell://ssh-remote%2B129.31.69.91/home/msafaie/REPOS/multi-animal-alignment/monkey/TME.ipynb#X16sdnNjb2RlLXJlbW90ZQ%3D%3D?line=5'>6</a>\u001b[0m _,_, min_trials, min_time,_ \u001b[39m=\u001b[39m np\u001b[39m.\u001b[39mmin((AllData1\u001b[39m.\u001b[39mshape,AllData2\u001b[39m.\u001b[39mshape),axis\u001b[39m=\u001b[39m\u001b[39m0\u001b[39m)\n",
      "\u001b[1;32m/home/msafaie/REPOS/multi-animal-alignment/monkey/TME.ipynb Cell 7\u001b[0m in \u001b[0;36mget_TME_array\u001b[0;34m(data_list, epoch, area, model, n_components)\u001b[0m\n\u001b[1;32m     <a href='vscode-notebook-cell://ssh-remote%2B129.31.69.91/home/msafaie/REPOS/multi-animal-alignment/monkey/TME.ipynb#X16sdnNjb2RlLXJlbW90ZQ%3D%3D?line=59'>60</a>\u001b[0m rates \u001b[39m=\u001b[39m np\u001b[39m.\u001b[39mconcatenate(df_[field]\u001b[39m.\u001b[39mvalues, axis\u001b[39m=\u001b[39m\u001b[39m0\u001b[39m)\n\u001b[1;32m     <a href='vscode-notebook-cell://ssh-remote%2B129.31.69.91/home/msafaie/REPOS/multi-animal-alignment/monkey/TME.ipynb#X16sdnNjb2RlLXJlbW90ZQ%3D%3D?line=61'>62</a>\u001b[0m \u001b[39m# Use the surrogate data generated with TME\u001b[39;00m\n\u001b[0;32m---> <a href='vscode-notebook-cell://ssh-remote%2B129.31.69.91/home/msafaie/REPOS/multi-animal-alignment/monkey/TME.ipynb#X16sdnNjb2RlLXJlbW90ZQ%3D%3D?line=62'>63</a>\u001b[0m rates \u001b[39m=\u001b[39m eng\u001b[39m.\u001b[39;49mcomputeTME(rates,\u001b[39m'\u001b[39;49m\u001b[39msurrogate-TN\u001b[39;49m\u001b[39m'\u001b[39;49m)\n\u001b[1;32m     <a href='vscode-notebook-cell://ssh-remote%2B129.31.69.91/home/msafaie/REPOS/multi-animal-alignment/monkey/TME.ipynb#X16sdnNjb2RlLXJlbW90ZQ%3D%3D?line=63'>64</a>\u001b[0m rates_model \u001b[39m=\u001b[39m model\u001b[39m.\u001b[39mfit(rates)\n\u001b[1;32m     <a href='vscode-notebook-cell://ssh-remote%2B129.31.69.91/home/msafaie/REPOS/multi-animal-alignment/monkey/TME.ipynb#X16sdnNjb2RlLXJlbW90ZQ%3D%3D?line=64'>65</a>\u001b[0m df_ \u001b[39m=\u001b[39m pyal\u001b[39m.\u001b[39mapply_dim_reduce_model(df_, rates_model, field, \u001b[39m'\u001b[39m\u001b[39m_pca\u001b[39m\u001b[39m'\u001b[39m);\n",
      "File \u001b[0;32m~/anaconda3/envs/cca/lib/python3.10/site-packages/matlab/engine/matlabengine.py:71\u001b[0m, in \u001b[0;36mMatlabFunc.__call__\u001b[0;34m(self, *args, **kwargs)\u001b[0m\n\u001b[1;32m     68\u001b[0m     \u001b[39mreturn\u001b[39;00m FutureResult(\u001b[39mself\u001b[39m\u001b[39m.\u001b[39m_engine(), future, nargs, _stdout, _stderr, feval\u001b[39m=\u001b[39m\u001b[39mTrue\u001b[39;00m)\n\u001b[1;32m     69\u001b[0m \u001b[39melse\u001b[39;00m:\n\u001b[1;32m     70\u001b[0m     \u001b[39mreturn\u001b[39;00m FutureResult(\u001b[39mself\u001b[39;49m\u001b[39m.\u001b[39;49m_engine(), future, nargs, _stdout,\n\u001b[0;32m---> 71\u001b[0m                         _stderr, feval\u001b[39m=\u001b[39;49m\u001b[39mTrue\u001b[39;49;00m)\u001b[39m.\u001b[39;49mresult()\n",
      "File \u001b[0;32m~/anaconda3/envs/cca/lib/python3.10/site-packages/matlab/engine/futureresult.py:67\u001b[0m, in \u001b[0;36mFutureResult.result\u001b[0;34m(self, timeout)\u001b[0m\n\u001b[1;32m     64\u001b[0m     \u001b[39mif\u001b[39;00m timeout \u001b[39m<\u001b[39m \u001b[39m0\u001b[39m:\n\u001b[1;32m     65\u001b[0m         \u001b[39mraise\u001b[39;00m \u001b[39mTypeError\u001b[39;00m(pythonengine\u001b[39m.\u001b[39mgetMessage(\u001b[39m'\u001b[39m\u001b[39mTimeoutCannotBeNegative\u001b[39m\u001b[39m'\u001b[39m))\n\u001b[0;32m---> 67\u001b[0m \u001b[39mreturn\u001b[39;00m \u001b[39mself\u001b[39;49m\u001b[39m.\u001b[39;49m__future\u001b[39m.\u001b[39;49mresult(timeout)\n",
      "File \u001b[0;32m~/anaconda3/envs/cca/lib/python3.10/site-packages/matlab/engine/fevalfuture.py:82\u001b[0m, in \u001b[0;36mFevalFuture.result\u001b[0;34m(self, timeout)\u001b[0m\n\u001b[1;32m     79\u001b[0m \u001b[39mif\u001b[39;00m \u001b[39mnot\u001b[39;00m result_ready:\n\u001b[1;32m     80\u001b[0m     \u001b[39mraise\u001b[39;00m \u001b[39mTimeoutError\u001b[39;00m(pythonengine\u001b[39m.\u001b[39mgetMessage(\u001b[39m'\u001b[39m\u001b[39mMatlabFunctionTimeout\u001b[39m\u001b[39m'\u001b[39m))\n\u001b[0;32m---> 82\u001b[0m \u001b[39mself\u001b[39m\u001b[39m.\u001b[39m_result \u001b[39m=\u001b[39m pythonengine\u001b[39m.\u001b[39;49mgetFEvalResult(\u001b[39mself\u001b[39;49m\u001b[39m.\u001b[39;49m_future,\u001b[39mself\u001b[39;49m\u001b[39m.\u001b[39;49m_nargout, \u001b[39mNone\u001b[39;49;00m, out\u001b[39m=\u001b[39;49m\u001b[39mself\u001b[39;49m\u001b[39m.\u001b[39;49m_out, err\u001b[39m=\u001b[39;49m\u001b[39mself\u001b[39;49m\u001b[39m.\u001b[39;49m_err)\n\u001b[1;32m     83\u001b[0m \u001b[39mself\u001b[39m\u001b[39m.\u001b[39m_retrieved \u001b[39m=\u001b[39m \u001b[39mTrue\u001b[39;00m\n\u001b[1;32m     84\u001b[0m \u001b[39mreturn\u001b[39;00m \u001b[39mself\u001b[39m\u001b[39m.\u001b[39m_result\n",
      "\u001b[0;31mMatlabExecutionError\u001b[0m: \n  File /home/msafaie/REPOS/multi-animal-alignment/tools/TME/genTME/fitMaxEntropy.m, line 51, in fitMaxEntropy\n\n  File /home/msafaie/REPOS/multi-animal-alignment/tools/TME/computeTME.m, line 45, in computeTME\nIndex exceeds the number of array elements. Index must not exceed 2.\n"
     ]
    }
   ],
   "source": [
    "side1df = [allDFs_MCx[i] for i,_ in pairFileList1]\n",
    "side2df = [allDFs_MCx[j] for _,j in pairFileList1]\n",
    "warnings.filterwarnings(\"ignore\")\n",
    "AllData1 = get_TME_array(side1df, defs.exec_epoch, area=defs.areas[2], model=defs.n_components)\n",
    "AllData2 = get_TME_array(side2df, defs.exec_epoch, area=defs.areas[2], model=defs.n_components)\n",
    "_,_, min_trials, min_time,_ = np.min((AllData1.shape,AllData2.shape),axis=0)\n",
    "print(f'{min_trials=}\\n{min_time=}')\n",
    "\n",
    "warnings.filterwarnings(\"default\")\n",
    "\n",
    "allCCs0=[]\n",
    "for sessionData1,sessionData2 in zip(AllData1,AllData2):\n",
    "    data1 = np.reshape(sessionData1[:,:min_trials,:min_time,:], (-1,defs.n_components))\n",
    "    data2 = np.reshape(sessionData2[:,:min_trials,:min_time,:], (-1,defs.n_components))\n",
    "    allCCs0.append(dt.canoncorr(data1, data2))\n",
    "allCCs0 = np.array(allCCs0).T\n",
    "\n",
    "# plot\n",
    "_,ax = plt.subplots(dpi=100)\n",
    "utility.shaded_errorbar(ax, allCCs0, color='b', marker = 'o', label=f'{defs.areas[2]} $n={allCCs0.shape[1]}$ sessions')\n",
    "ax.set_ylim([0,1])\n",
    "ax.set_xlabel('components')\n",
    "ax.legend()\n",
    "ax.set_ylabel('canonical correlation')\n",
    "ax.set_title('CCA --- across monkey', usetex=True);\n",
    "\n",
    "_,ax = plt.subplots(ncols=1, figsize=(10,5))\n",
    "ax.plot(allCCs0[:4,:].mean(axis=0),'.')\n",
    "ax.set_ylabel('average canonical correlation')\n",
    "ax.set_title(f'CCA --- across monkey {defs.areas[2]} ', usetex=True);\n",
    "ax.set_ylim([0,1])\n",
    "ax.set_xlabel('sessions')\n"
   ]
  },
  {
   "cell_type": "code",
   "execution_count": null,
   "id": "44480c75",
   "metadata": {},
   "outputs": [],
   "source": []
  }
 ],
 "metadata": {
  "kernelspec": {
   "display_name": "cca",
   "language": "python",
   "name": "python3"
  },
  "language_info": {
   "codemirror_mode": {
    "name": "ipython",
    "version": 3
   },
   "file_extension": ".py",
   "mimetype": "text/x-python",
   "name": "python",
   "nbconvert_exporter": "python",
   "pygments_lexer": "ipython3",
   "version": "3.10.5"
  },
  "vscode": {
   "interpreter": {
    "hash": "146bff742f048d001dec7fafb91c8daeb769f9aeaad9c8d129a83c9f9fb9a9b2"
   }
  }
 },
 "nbformat": 4,
 "nbformat_minor": 5
}
