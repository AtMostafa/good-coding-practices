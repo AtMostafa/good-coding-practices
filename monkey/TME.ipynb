{
 "cells": [
  {
   "cell_type": "markdown",
   "id": "61b102c0",
   "metadata": {},
   "source": [
    "# part0: imports"
   ]
  },
  {
   "cell_type": "code",
   "execution_count": 1,
   "id": "00059128",
   "metadata": {},
   "outputs": [],
   "source": [
    "import os, sys, pathlib\n",
    "from pprint import pprint\n",
    "import gc\n",
    "import pickle\n",
    "from importlib import reload\n",
    "import logging, warnings\n",
    "logging.basicConfig(level=logging.ERROR)\n",
    "\n",
    "import pandas as pd\n",
    "import numpy as np\n",
    "import sklearn\n",
    "from sklearn.decomposition import PCA\n",
    "import scipy.linalg as linalg\n",
    "\n",
    "import matplotlib.pyplot as plt\n",
    "import matplotlib.cm as cm\n",
    "import matplotlib\n",
    "from matplotlib.ticker import MaxNLocator\n",
    "from matplotlib.collections import LineCollection\n",
    "%matplotlib inline\n",
    "\n",
    "\n",
    "import pyaldata as pyal\n",
    "\n",
    "try:\n",
    "    nbPath = pathlib.Path.cwd()\n",
    "    RepoPath = nbPath.parent\n",
    "    os.chdir(RepoPath)\n",
    "\n",
    "    from tools import utilityTools as utility\n",
    "    from tools import dataTools as dt\n",
    "    import params\n",
    "    defs = params.monkey_defs\n",
    "    \n",
    "    set_rc =  params.set_rc_params\n",
    "    set_rc()\n",
    "    root = params.root\n",
    "\n",
    "finally:\n",
    "    os.chdir(nbPath)\n",
    "\n",
    "\n",
    "%run \"_dataset-selection.ipynb\""
   ]
  },
  {
   "cell_type": "code",
   "execution_count": 2,
   "id": "015b162c",
   "metadata": {},
   "outputs": [
    {
     "name": "stdout",
     "output_type": "stream",
     "text": [
      "len(pairFileList1)=126\n"
     ]
    }
   ],
   "source": [
    "full_list_MCx = []\n",
    "for animal, sessionList in GoodDataList[defs.areas[2]].items():\n",
    "    if 'Mr' in animal:\n",
    "        continue  # to remove MrT\n",
    "    full_list_MCx.append((animal,sessionList))\n",
    "full_list_MCx = [(animal,session) for animal,sessions in full_list_MCx for session in set(sessions)]\n",
    "# load the DFs\n",
    "warnings.filterwarnings(\"ignore\")\n",
    "allDFs_MCx = []\n",
    "for animal, session in full_list_MCx:\n",
    "    path = root/animal/session\n",
    "    allDFs_MCx.append(defs.prep_general(dt.load_pyal_data(path)))\n",
    "\n",
    "\n",
    "warnings.filterwarnings(\"default\")\n",
    "\n",
    "\n",
    "pairFileList1 = []\n",
    "for I, (animal1,session1) in enumerate(full_list_MCx):\n",
    "    for J, (animal2,session2) in enumerate(full_list_MCx):\n",
    "        if J<=I or animal1 == animal2: continue  # to repetitions\n",
    "        if 'Chewie' in animal1 and 'Chewie' in animal2: continue \n",
    "        pairFileList1.append((I,J))\n",
    "\n",
    "print(f'{len(pairFileList1)=}')"
   ]
  },
  {
   "attachments": {},
   "cell_type": "markdown",
   "id": "9f151bea",
   "metadata": {},
   "source": [
    "# modified `get_data_array` function for __TME__"
   ]
  },
  {
   "cell_type": "code",
   "execution_count": 62,
   "metadata": {},
   "outputs": [],
   "source": [
    "def get_TME_array(data_list: list[pd.DataFrame], epoch: Callable =None , area: str ='M1', model: Callable =None, n_components:int = 10) -> np.ndarray:\n",
    "    \"\"\"\n",
    "    Applies the `model` to the `data_list` and return a data matrix of the shape: sessions x targets x trials x time x modes\n",
    "    with the minimum number of trials and timepoints shared across all the datasets/targets.\n",
    "    \n",
    "    Parameters\n",
    "    ----------\n",
    "    `data_list`: list of pd.dataFrame datasets from pyalData (could also be a single dataset)\n",
    "    `epoch`: an epoch function of the type `pyal.generate_epoch_fun()`\n",
    "    `area`: area, either: 'M1', or 'S1', or 'PMd', ...\n",
    "    `model`: a model that implements `.fit()`, `.transform()` and `n_components`. By default: `PCA(10)`. If it's an integer: `PCA(integer)`.\n",
    "    `n_components`: use `model`, this is for backward compatibility\n",
    "    \n",
    "    Returns\n",
    "    -------\n",
    "    `AllData`: np.ndarray\n",
    "\n",
    "    Signature\n",
    "    -------\n",
    "    AllData = get_data_array(data_list, execution_epoch, area='M1', model=10)\n",
    "    all_data = np.reshape(AllData, (-1,10))\n",
    "    \"\"\"\n",
    "    try:\n",
    "        matlab.engine\n",
    "        print('Matlab engine already running!')\n",
    "    except NameError:\n",
    "        import matlab.engine\n",
    "        eng = matlab.engine.start_matlab()\n",
    "        eng.cd(r'../tools/TME/', nargout=0)\n",
    "        eng.addpath(eng.pwd()+'/util', eng.pwd()+'/genTME')\n",
    "\n",
    "    if isinstance(data_list, pd.DataFrame):\n",
    "        data_list = [data_list]\n",
    "    if model is None:\n",
    "        model = PCA(n_components=n_components, svd_solver='full')\n",
    "    elif isinstance(model, int):\n",
    "        model = PCA(n_components=model, svd_solver='full')\n",
    "    \n",
    "    field = f'{area}_rates'\n",
    "    n_shared_trial = np.inf\n",
    "    target_ids = np.unique(data_list[0].target_id)\n",
    "    for df in data_list:\n",
    "        for target in target_ids:\n",
    "            df_ = pyal.select_trials(df, df.target_id== target)\n",
    "            n_shared_trial = np.min((df_.shape[0], n_shared_trial))\n",
    "\n",
    "    n_shared_trial = int(n_shared_trial)\n",
    "\n",
    "    # finding the number of timepoints\n",
    "    if epoch is not None:\n",
    "        df_ = pyal.restrict_to_interval(data_list[0],epoch_fun=epoch)\n",
    "    n_timepoints = int(df_[field][0].shape[0])\n",
    "\n",
    "    # pre-allocating the data matrix\n",
    "    AllData = np.empty((len(data_list), len(target_ids), n_shared_trial, n_timepoints, model.n_components))\n",
    "    AllRates = []\n",
    "    rng = np.random.default_rng(12345)\n",
    "    for session, df in enumerate(data_list):\n",
    "        df_ = pyal.restrict_to_interval(df, epoch_fun=epoch) if epoch is not None else df\n",
    "        rates = []\n",
    "        for targetIdx,target in enumerate(target_ids):\n",
    "            df__ = pyal.select_trials(df_, df_.target_id==target)\n",
    "            all_id = df__.trial_id.to_numpy()\n",
    "            # select the right number of trials to each target\n",
    "            df__ = pyal.select_trials(df__, lambda trial: trial.trial_id in all_id[:n_shared_trial])\n",
    "            rates.append(np.concatenate(df__[field].values, axis=0))\n",
    "        \n",
    "        rates = np.stack(rates, axis=2)  # rates: time x neuron x target\n",
    "        # Use the surrogate data generated with TME\n",
    "        rates = eng.computeTME(rates,'surrogate-TNC')\n",
    "        rates = np.array(rates)\n",
    "        AllRates.append(rates)\n",
    "        rates_ = np.reshape(rates, (-1,rates.shape[1]))\n",
    "        rates_model = model.fit(rates_)\n",
    "        df_ = pyal.apply_dim_reduce_model(df_, rates_model, field, '_pca');\n",
    "        for targetIdx,target in enumerate(target_ids):\n",
    "            df__ = pyal.select_trials(df_, df_.target_id==target)\n",
    "            all_id = df__.trial_id.to_numpy()\n",
    "            # to guarantee shuffled ids\n",
    "            while ((all_id_sh := rng.permutation(all_id)) == all_id).all():\n",
    "                continue\n",
    "            all_id = all_id_sh\n",
    "            # select the right number of trials to each target\n",
    "            df__ = pyal.select_trials(df__, lambda trial: trial.trial_id in all_id[:n_shared_trial])\n",
    "            for trial, trial_rates in enumerate(df__._pca):\n",
    "                AllData[session,targetIdx,trial, :, :] = trial_rates\n",
    "\n",
    "    return AllData, AllRates\n"
   ]
  },
  {
   "cell_type": "markdown",
   "id": "6ec7ff66",
   "metadata": {},
   "source": [
    "collecting all the data in a matrix, `AllData`: $sessions \\times targets \\times  trials \\times time \\times PCs$"
   ]
  },
  {
   "cell_type": "code",
   "execution_count": 63,
   "id": "93fd9071",
   "metadata": {},
   "outputs": [
    {
     "name": "stdout",
     "output_type": "stream",
     "text": [
      "min_trials=15\n",
      "min_time=15\n"
     ]
    },
    {
     "data": {
      "text/plain": [
       "Text(0.5, 0, 'sessions')"
      ]
     },
     "execution_count": 63,
     "metadata": {},
     "output_type": "execute_result"
    },
    {
     "data": {
      "image/png": "[encoded data removed]",
      "text/plain": [
       "<Figure size 600x400 with 1 Axes>"
      ]
     },
     "metadata": {
      "needs_background": "light"
     },
     "output_type": "display_data"
    },
    {
     "data": {
      "image/png": "[encoded data removed]",
      "text/plain": [
       "<Figure size 720x360 with 1 Axes>"
      ]
     },
     "metadata": {
      "needs_background": "light"
     },
     "output_type": "display_data"
    }
   ],
   "source": [
    "side1df = [allDFs_MCx[i] for i,_ in pairFileList1]\n",
    "side2df = [allDFs_MCx[j] for _,j in pairFileList1]\n",
    "warnings.filterwarnings(\"ignore\")\n",
    "AllData1, SurrData1 = get_TME_array(side1df, defs.exec_epoch, area=defs.areas[2], model=defs.n_components)\n",
    "AllData2, SurrData2 = get_TME_array(side2df, defs.exec_epoch, area=defs.areas[2], model=defs.n_components)\n",
    "_,_, min_trials, min_time,_ = np.min((AllData1.shape,AllData2.shape),axis=0)\n",
    "print(f'{min_trials=}\\n{min_time=}')\n",
    "\n",
    "warnings.filterwarnings(\"default\")\n",
    "\n",
    "allCCs0=[]\n",
    "for sessionData1,sessionData2 in zip(AllData1,AllData2):\n",
    "    data1 = np.reshape(sessionData1[:,:min_trials,:min_time,:], (-1,defs.n_components))\n",
    "    data2 = np.reshape(sessionData2[:,:min_trials,:min_time,:], (-1,defs.n_components))\n",
    "    allCCs0.append(dt.canoncorr(data1, data2))\n",
    "allCCs0 = np.array(allCCs0).T\n",
    "\n",
    "# plot\n",
    "_,ax = plt.subplots(dpi=100)\n",
    "utility.shaded_errorbar(ax, allCCs0, color='b', marker = 'o', label=f'{defs.areas[2]} $n={allCCs0.shape[1]}$ sessions')\n",
    "ax.set_ylim([0,1])\n",
    "ax.set_xlabel('components')\n",
    "ax.legend()\n",
    "ax.set_ylabel('canonical correlation')\n",
    "ax.set_title('CCA --- across monkey', usetex=True);\n",
    "\n",
    "_,ax = plt.subplots(ncols=1, figsize=(10,5))\n",
    "ax.plot(allCCs0[:4,:].mean(axis=0),'.')\n",
    "ax.set_ylabel('average canonical correlation')\n",
    "ax.set_title(f'CCA --- across monkey {defs.areas[2]} ', usetex=True);\n",
    "ax.set_ylim([0,1])\n",
    "ax.set_xlabel('sessions')\n"
   ]
  },
  {
   "attachments": {},
   "cell_type": "markdown",
   "id": "f6c899ea",
   "metadata": {},
   "source": [
    "#### Comparing the `cov` matrix of the real and surrogate data"
   ]
  },
  {
   "cell_type": "code",
   "execution_count": 92,
   "id": "172e3f96",
   "metadata": {},
   "outputs": [],
   "source": [
    "def get_neural_and_TME_data(data_list: pd.DataFrame, epoch: Callable =None , area: str ='M1') -> np.ndarray:\n",
    "    \"\"\"\n",
    "    similar to `get_data_array` to get the neural data of a singgle session\n",
    "    \"\"\"\n",
    "    assert isinstance(data_list, pd.DataFrame)\n",
    "    \n",
    "    field = f'{area}_rates'\n",
    "    n_shared_trial = np.inf\n",
    "    target_ids = np.unique(data_list.target_id)\n",
    "    for target in target_ids:\n",
    "        df_ = pyal.select_trials(data_list, data_list.target_id== target)\n",
    "        n_shared_trial = np.min((df_.shape[0], n_shared_trial))\n",
    "\n",
    "    n_shared_trial = int(n_shared_trial)\n",
    "\n",
    "    # finding the number of timepoints\n",
    "    if epoch is not None:\n",
    "        df_ = pyal.restrict_to_interval(data_list,epoch_fun=epoch)\n",
    "    n_timepoints = int(df_[field][0].shape[0])\n",
    "\n",
    "    # pre-allocating the data matrix\n",
    "    AllData = np.empty((len(target_ids), n_shared_trial, n_timepoints, data_list[field][0].shape[1]))\n",
    "\n",
    "    rng = np.random.default_rng(12345)\n",
    "    df_ = pyal.restrict_to_interval(data_list, epoch_fun=epoch) if epoch is not None else df\n",
    "\n",
    "    for targetIdx,target in enumerate(target_ids):\n",
    "        df__ = pyal.select_trials(df_, df_.target_id==target)\n",
    "        all_id = df__.trial_id.to_numpy()\n",
    "        # to guarantee shuffled ids\n",
    "        while ((all_id_sh := rng.permutation(all_id)) == all_id).all():\n",
    "            continue\n",
    "        all_id = all_id_sh\n",
    "        # select the right number of trials to each target\n",
    "        df__ = pyal.select_trials(df__, lambda trial: trial.trial_id in all_id[:n_shared_trial])\n",
    "        for trial, trial_rates in enumerate(df__[field]):\n",
    "            AllData[targetIdx,trial, :, :] = trial_rates\n",
    "\n",
    "    try:\n",
    "        matlab.engine\n",
    "        print('Matlab engine already running!')\n",
    "    except NameError:\n",
    "        import matlab.engine\n",
    "        eng = matlab.engine.start_matlab()\n",
    "        eng.cd(r'../tools/TME/', nargout=0)\n",
    "        eng.addpath(eng.pwd()+'/util', eng.pwd()+'/genTME')\n",
    "\n",
    "    rates = np.transpose(AllData.reshape(AllData.shape[0], -1, AllData.shape[-1]),(1, 2, 0))  # time x neuron x target\n",
    "    rates = np.require(rates, dtype=np.float32, requirements=['A', 'O', 'W', 'C'])\n",
    "    # Use the surrogate data generated with TME\n",
    "    TME_rates = eng.computeTME(rates,'surrogate-TNC')\n",
    "    TME_rates = np.array(TME_rates)\n",
    "\n",
    "    return AllData, TME_rates\n"
   ]
  },
  {
   "cell_type": "code",
   "execution_count": 95,
   "id": "44480c75",
   "metadata": {},
   "outputs": [],
   "source": [
    "real_rates, surr_rates = get_neural_and_TME_data (side1df[0], defs.exec_epoch, area=defs.areas[2])\n",
    "real_rates = np.transpose(real_rates.reshape(real_rates.shape[0], -1, real_rates.shape[-1]),(1, 2, 0))\n",
    "real_rates = np.require(real_rates, dtype=np.float32, requirements=['A', 'O', 'W', 'C'])"
   ]
  },
  {
   "attachments": {},
   "cell_type": "markdown",
   "id": "98d9b479",
   "metadata": {},
   "source": [
    "target covariance"
   ]
  },
  {
   "cell_type": "code",
   "execution_count": 111,
   "id": "fce28d41",
   "metadata": {},
   "outputs": [
    {
     "data": {
      "text/plain": [
       "Text(0.5, 0.85, 'Target covariance matrices')"
      ]
     },
     "execution_count": 111,
     "metadata": {},
     "output_type": "execute_result"
    },
    {
     "data": {
      "image/png": "[encoded data removed]",
      "text/plain": [
       "<Figure size 1200x800 with 2 Axes>"
      ]
     },
     "metadata": {
      "needs_background": "light"
     },
     "output_type": "display_data"
    }
   ],
   "source": [
    "# reshape the data\n",
    "surr_cov = np.cov(surr_rates.reshape(-1, surr_rates.shape[-1]), rowvar=False)\n",
    "real_cov = np.cov(real_rates.reshape(-1, real_rates.shape[-1]), rowvar=False)\n",
    "\n",
    "\n",
    "fig, axes = plt.subplots(1,2, sharex=True, sharey=True, squeeze=True, dpi=200)\n",
    "axes[0].imshow(real_cov)\n",
    "axes[0].set_title('real')\n",
    "axes[1].imshow(surr_cov)\n",
    "axes[1].set_title('TME surrogate')\n",
    "fig.suptitle('Target covariance matrices', y=.85)"
   ]
  },
  {
   "cell_type": "code",
   "execution_count": null,
   "id": "523216a9",
   "metadata": {},
   "outputs": [],
   "source": []
  }
 ],
 "metadata": {
  "kernelspec": {
   "display_name": "cca",
   "language": "python",
   "name": "python3"
  },
  "language_info": {
   "codemirror_mode": {
    "name": "ipython",
    "version": 3
   },
   "file_extension": ".py",
   "mimetype": "text/x-python",
   "name": "python",
   "nbconvert_exporter": "python",
   "pygments_lexer": "ipython3",
   "version": "3.10.5"
  },
  "vscode": {
   "interpreter": {
    "hash": "146bff742f048d001dec7fafb91c8daeb769f9aeaad9c8d129a83c9f9fb9a9b2"
   }
  }
 },
 "nbformat": 4,
 "nbformat_minor": 5
}
