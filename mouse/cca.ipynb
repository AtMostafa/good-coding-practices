{
 "cells": [
  {
   "cell_type": "markdown",
   "id": "6dbda86d",
   "metadata": {},
   "source": [
    "# part0: imports"
   ]
  },
  {
   "cell_type": "code",
   "execution_count": 1,
   "id": "b2b7a810",
   "metadata": {},
   "outputs": [
    {
     "name": "stdout",
     "output_type": "stream",
     "text": [
      "Done\n"
     ]
    }
   ],
   "source": [
    "%matplotlib inline\n",
    "\n",
    "from tqdm import tqdm\n",
    "import os, sys, pathlib\n",
    "from pprint import pprint\n",
    "import gc, time\n",
    "import pickle\n",
    "from importlib import reload\n",
    "import logging, warnings\n",
    "logging.basicConfig(level=logging.ERROR)\n",
    "warnings.simplefilter(\"ignore\")\n",
    "from IPython.display import clear_output\n",
    "\n",
    "import PyPDF2 as ppdf\n",
    "import pandas as pd\n",
    "import numpy as np\n",
    "import sklearn\n",
    "from sklearn.decomposition import PCA\n",
    "import scipy.linalg as linalg\n",
    "from sklearn.linear_model import Ridge, LinearRegression\n",
    "from sklearn.model_selection import cross_val_score, KFold\n",
    "from sklearn.metrics import make_scorer, r2_score\n",
    "\n",
    "\n",
    "import matplotlib.pyplot as plt\n",
    "import matplotlib.cm as cm\n",
    "import matplotlib as mpl\n",
    "import matplotlib.lines as mlines\n",
    "from matplotlib.ticker import MaxNLocator, FormatStrFormatter\n",
    "from matplotlib.collections import LineCollection\n",
    "from matplotlib.backends.backend_pdf import PdfPages\n",
    "\n",
    "\n",
    "import torch\n",
    "\n",
    "import pyaldata as pyal\n",
    "\n",
    "try:\n",
    "    nbPath = pathlib.Path.cwd()\n",
    "    RepoPath = nbPath.parent\n",
    "    os.chdir(RepoPath)\n",
    "\n",
    "    from tools import utilityTools as utility\n",
    "    from tools import dataTools as dt\n",
    "    import params\n",
    "    defs = params.mouse_defs\n",
    "    \n",
    "    set_rc =  params.set_rc_params\n",
    "    set_rc()\n",
    "    root = params.root\n",
    "    reload(dt)\n",
    "    reload(params)\n",
    "    reload (defs)\n",
    "finally:\n",
    "    os.chdir(nbPath)\n",
    "\n",
    "print('Done')"
   ]
  },
  {
   "cell_type": "markdown",
   "id": "72859ce7",
   "metadata": {},
   "source": [
    "---\n",
    "\n",
    "#### Load the lower bound values for the canonical correlations\n",
    "\n",
    "takes a couple of minutes to execute."
   ]
  },
  {
   "cell_type": "code",
   "execution_count": null,
   "id": "05da56d3",
   "metadata": {},
   "outputs": [],
   "source": [
    "%run \"_mouse-lower-bound.ipynb\""
   ]
  },
  {
   "cell_type": "markdown",
   "id": "5802ab1c",
   "metadata": {},
   "source": [
    "---\n",
    "\n",
    "#### Load the upper bound values for the canonical correlations\n",
    "\n",
    "takes a couple of minutes to execute."
   ]
  },
  {
   "cell_type": "code",
   "execution_count": null,
   "id": "6d00eb12",
   "metadata": {},
   "outputs": [],
   "source": [
    "%run \"_mouse-upper-bound.ipynb\""
   ]
  },
  {
   "cell_type": "markdown",
   "id": "6e896ba5",
   "metadata": {
    "tags": []
   },
   "source": [
    "# reading data"
   ]
  },
  {
   "cell_type": "code",
   "execution_count": 2,
   "id": "d4d1d774",
   "metadata": {},
   "outputs": [],
   "source": [
    "animalList = ['mouse-data']\n",
    "\n",
    "animalFiles = []\n",
    "for animal in animalList:\n",
    "    animalFiles.extend(utility.find_file(root / animal, 'mat'))\n",
    "\n",
    "\n",
    "AllDFs=[]\n",
    "for fname in animalFiles:\n",
    "    print(fname)\n",
    "    df = dt.load_pyal_data(fname)\n",
    "    df['mouse'] = fname.split(os.sep)[-1][fname.split(os.sep)[-1].find('WR'):].split('_')[0]\n",
    "    df['file'] = fname.split(os.sep)[-1]\n",
    "    df = defs.prep_general_mouse(df)\n",
    "    AllDFs.append(df)\n",
    "\n",
    "clear_output()"
   ]
  },
  {
   "cell_type": "markdown",
   "id": "a32a784b",
   "metadata": {},
   "source": [
    "---\n",
    "\n",
    "# CCA comparison\n",
    "\n",
    "## 2 mice, same epoch\n",
    "\n",
    "load the data"
   ]
  },
  {
   "cell_type": "code",
   "execution_count": 3,
   "id": "f918410b",
   "metadata": {},
   "outputs": [
    {
     "name": "stdout",
     "output_type": "stream",
     "text": [
      "len(pairFileList1)=13\n",
      "len(pairFileList2)=13\n"
     ]
    }
   ],
   "source": [
    "# load the DFs\n",
    "warnings.filterwarnings(\"ignore\")\n",
    "allDFs_M1 = []\n",
    "for df in AllDFs:\n",
    "    if 'M1_rates' in df.columns:\n",
    "        allDFs_M1.append(df)\n",
    "\n",
    "\n",
    "allDFs_Str = []\n",
    "for df in AllDFs:\n",
    "    if 'Str_rates' in df.columns:\n",
    "        allDFs_Str.append(df)\n",
    "warnings.filterwarnings(\"default\")\n",
    "\n",
    "\n",
    "pairFileList1 = []\n",
    "for I, df1 in enumerate(allDFs_M1):\n",
    "    for J, (df2) in enumerate(allDFs_M1):\n",
    "        if J<=I or df1.mouse[0] == df2.mouse[0]: continue  # repetitions\n",
    "        pairFileList1.append((I,J))\n",
    "\n",
    "print(f'{len(pairFileList1)=}')\n",
    "\n",
    "\n",
    "pairFileList2 = []\n",
    "for I, df1 in enumerate(allDFs_Str):\n",
    "    for J, df2 in enumerate(allDFs_Str):\n",
    "        if J<=I or df1.mouse[0] == df2.mouse[0]: continue  # repetitions\n",
    "        pairFileList2.append((I,J))\n",
    "\n",
    "print(f'{len(pairFileList2)=}')\n"
   ]
  },
  {
   "cell_type": "markdown",
   "id": "96f845cd",
   "metadata": {},
   "source": [
    "collecting all the data in a matrix, `AllData`: $sessions \\times targets \\times  trials \\times time \\times PCs$"
   ]
  },
  {
   "cell_type": "code",
   "execution_count": 4,
   "id": "7ede970a",
   "metadata": {},
   "outputs": [
    {
     "name": "stdout",
     "output_type": "stream",
     "text": [
      "min_trials=22\n",
      "min_time=15\n",
      "min_trials_=22\n",
      "min_time_=15\n"
     ]
    },
    {
     "data": {
      "image/png": "[encoded data removed]",
      "text/plain": [
       "<Figure size 600x400 with 1 Axes>"
      ]
     },
     "metadata": {
      "needs_background": "light"
     },
     "output_type": "display_data"
    },
    {
     "data": {
      "image/png": "[encoded data removed]",
      "text/plain": [
       "<Figure size 1000x500 with 2 Axes>"
      ]
     },
     "metadata": {
      "needs_background": "light"
     },
     "output_type": "display_data"
    }
   ],
   "source": [
    "side1df = [allDFs_M1[i] for i,_ in pairFileList1]\n",
    "side2df = [allDFs_M1[j] for _,j in pairFileList1]\n",
    "warnings.filterwarnings(\"ignore\")\n",
    "AllData1 = dt.get_data_array(side1df, defs.exec_epoch, area=defs.areas[0], model=defs.n_components)\n",
    "AllData2 = dt.get_data_array(side2df, defs.exec_epoch, area=defs.areas[0], model=defs.n_components)\n",
    "_,_, min_trials, min_time,_ = np.min((AllData1.shape,AllData2.shape),axis=0)\n",
    "print(f'{min_trials=}\\n{min_time=}')\n",
    "\n",
    "side1df = [allDFs_Str[i] for i,_ in pairFileList2]\n",
    "side2df = [allDFs_Str[j] for _,j in pairFileList2]\n",
    "AllData1_ = dt.get_data_array(side1df, defs.exec_epoch, area=defs.areas[1], model=defs.n_components)\n",
    "AllData2_ = dt.get_data_array(side2df, defs.exec_epoch, area=defs.areas[1], model=defs.n_components)\n",
    "_,_, min_trials_, min_time_,_ = np.min((AllData1_.shape,AllData2_.shape),axis=0)\n",
    "print(f'{min_trials_=}\\n{min_time_=}')\n",
    "warnings.filterwarnings(\"default\")\n",
    "\n",
    "allCCs0=[]\n",
    "for sessionData1,sessionData2 in zip(AllData1,AllData2):\n",
    "    data1 = np.reshape(sessionData1[:,:min_trials,:min_time,:], (-1,defs.n_components))\n",
    "    data2 = np.reshape(sessionData2[:,:min_trials,:min_time,:], (-1,defs.n_components))\n",
    "    allCCs0.append(dt.canoncorr(data1, data2))\n",
    "allCCs0 = np.array(allCCs0).T\n",
    "\n",
    "allCCs1=[]\n",
    "for sessionData1,sessionData2 in zip(AllData1_,AllData2_):\n",
    "    data1 = np.reshape(sessionData1[:,:min_trials_,:min_time_,:], (-1,defs.n_components))\n",
    "    data2 = np.reshape(sessionData2[:,:min_trials_,:min_time_,:], (-1,defs.n_components))\n",
    "    allCCs1.append(dt.canoncorr(data1, data2))\n",
    "allCCs1 = np.array(allCCs1).T\n",
    "\n",
    "# plot\n",
    "_,ax = plt.subplots(dpi=100)\n",
    "utility.shaded_errorbar(ax, allCCs0, color='b', marker = 'o', label=f'{defs.areas[0]} $n={allCCs0.shape[1]}$ sessions')\n",
    "utility.shaded_errorbar(ax, allCCs1, color='r', marker = 'o', label=f'{defs.areas[1]} $n={allCCs1.shape[1]}$ sessions')\n",
    "ax.set_ylim([0,1])\n",
    "ax.set_xlabel('modes')\n",
    "ax.legend()\n",
    "ax.set_ylabel('canonical correlation')\n",
    "ax.set_title('CCA --- across mice', usetex=True);\n",
    "\n",
    "_,axes = plt.subplots(ncols=2, figsize=(10,5), dpi=100)\n",
    "axes[0].plot(allCCs0[:4,:].mean(axis=0),'.')\n",
    "axes[1].plot(allCCs1[:4,:].mean(axis=0),'.')\n",
    "axes[0].set_ylabel('average canonical correlation')\n",
    "for i, ax in enumerate(axes):\n",
    "    ax.set_title(f'CCA --- across mice {defs.areas[i]} ', usetex=True);\n",
    "    ax.set_ylim([0,1])\n",
    "    ax.set_xlabel('sessions')\n"
   ]
  },
  {
   "cell_type": "markdown",
   "id": "185fcf0c",
   "metadata": {},
   "source": [
    "### Overall Figures\n",
    "\n",
    "across monkey and within monkey together"
   ]
  },
  {
   "cell_type": "code",
   "execution_count": null,
   "id": "5971570f-28f4-499b-8c29-bc5d371cb892",
   "metadata": {},
   "outputs": [],
   "source": [
    "# plot\n",
    "fig,ax = plt.subplots(ncols=1, figsize=(3,3))\n",
    "\n",
    "utility.shaded_errorbar(ax, np.arange(1,defs.n_components+1), allCCs0, color='b', marker = 'o', label=f'Across, $n={allCCs0.shape[1]}$')\n",
    "\n",
    "utility.shaded_errorbar(ax, np.arange(1,defs.n_components+1), CC_upper_bound_M1, color='cornflowerblue', marker = '<', ls='--', label=f'Within, $n={CC_upper_bound_M1.shape[1]}$')\n",
    "\n",
    "utility.shaded_errorbar(ax, np.arange(1,defs.n_components+1), CC_lower_bound_M1, color='gray', marker = '>', ls=':', label=f'Control, $n={CC_lower_bound_M1.shape[1]}$')\n",
    "\n",
    "\n",
    "ax.set_ylim([0,1])\n",
    "ax.set_xlim([.5,defs.n_components+.5])\n",
    "ax.set_xlabel('Neural mode')\n",
    "ax.set_title(f'{defs.areas[0]} Alignment')\n",
    "ax.legend(loc=(.37,.7))\n",
    "ax.set_ylabel('Canonical correlation')\n",
    "fig.tight_layout()\n",
    "\n",
    "fig.savefig(params.figPath / 'mouse-M1-cca-modes.pdf', format='pdf', bbox_inches='tight')"
   ]
  },
  {
   "cell_type": "code",
   "execution_count": null,
   "id": "9702cf56-ae50-4a77-bf5a-4c3718fd4d08",
   "metadata": {},
   "outputs": [],
   "source": [
    "# plot\n",
    "fig,ax = plt.subplots(ncols=1, figsize=(3,3))\n",
    "\n",
    "utility.shaded_errorbar(ax, np.arange(1,defs.n_components+1), allCCs1, color='r', marker = 'o', label=f'Across, $n={allCCs1.shape[1]}$')\n",
    "\n",
    "utility.shaded_errorbar(ax, np.arange(1,defs.n_components+1), CC_upper_bound_Str, color='lightcoral', marker = '<', ls='--', label=f'Within, $n={CC_upper_bound_Str.shape[1]}$')\n",
    "\n",
    "utility.shaded_errorbar(ax, np.arange(1,defs.n_components+1), CC_lower_bound_Str, color='gray', marker = '>', ls=':', label=f'Control, $n={CC_lower_bound_Str.shape[1]}$')\n",
    "\n",
    "\n",
    "ax.set_ylim([0,1])\n",
    "ax.set_xlim([.5,defs.n_components+.5])\n",
    "ax.set_xlabel('Neural mode')\n",
    "ax.set_title(f'{defs.areas[1]} Alignment')\n",
    "ax.legend(loc=(.37,.7))\n",
    "ax.set_ylabel('Canonical correlation')\n",
    "fig.tight_layout()\n",
    "\n",
    "fig.savefig(params.figPath / 'mouse-Str-cca-modes.pdf', format='pdf', bbox_inches='tight')"
   ]
  },
  {
   "cell_type": "markdown",
   "id": "dc6cecd4",
   "metadata": {},
   "source": [
    "comapring group correlations\n",
    ">Like the NN paper, _Fig. 4e_."
   ]
  },
  {
   "cell_type": "code",
   "execution_count": null,
   "id": "a22ca352-b107-46b8-9206-30afacfa1228",
   "metadata": {},
   "outputs": [],
   "source": [
    "fig,ax = plt.subplots(ncols=1, figsize=(3,3))\n",
    "bins = np.arange(0,1,0.05)\n",
    "\n",
    "ax.hist(allCCs0[:4,:].mean(axis=0), bins=bins, density=True,\n",
    "        color='b', alpha=.8, label=f'across, $n={allCCs0[:4,:].mean(axis=0).shape[0]}$')\n",
    "ax.hist(CC_upper_bound_M1[:4,:].mean(axis=0), bins=bins, density=True,\n",
    "        color='cornflowerblue', alpha=.8, label=f'within, $n={CC_upper_bound_M1[:4,:].mean(axis=0).shape[0]}$')\n",
    "ax.hist(CC_lower_bound_M1[:4,:].mean(axis=0), bins=bins, density=True,\n",
    "        color='gray', alpha=.8, label=f'control, $n={CC_lower_bound_M1[:4,:].mean(axis=0).shape[0]}$')\n",
    "\n",
    "ax.set_title(f'Average of top 4 CCs in {defs.areas[0]}')\n",
    "ax.set_xlim([0,1])\n",
    "ax.set_xlabel('Canonical correlation')\n",
    "ax.set_ylabel('Probability density')\n",
    "# ax.set_yticks([])\n",
    "ax.legend(loc=2)\n",
    "\n",
    "fig.savefig(params.figPath / 'mouse-M1-cca-dist.pdf', format='pdf', bbox_inches='tight')"
   ]
  },
  {
   "cell_type": "code",
   "execution_count": null,
   "id": "8a2056a9-752d-4431-afd1-9b722137be3d",
   "metadata": {},
   "outputs": [],
   "source": [
    "fig,ax = plt.subplots(ncols=1, figsize=(3,3))\n",
    "bins = np.arange(0,1,0.05)\n",
    "\n",
    "ax.hist(allCCs1[:4,:].mean(axis=0), bins=bins, density=True,\n",
    "        color='r', alpha=.8, label=f'across, $n={allCCs1[:4,:].mean(axis=0).shape[0]}$')\n",
    "ax.hist(CC_upper_bound_Str[:4,:].mean(axis=0), bins=bins, density=True,\n",
    "        color='lightcoral', alpha=.8, label=f'within, $n={CC_upper_bound_Str[:4,:].mean(axis=0).shape[0]}$')\n",
    "ax.hist(CC_lower_bound_Str[:4,:].mean(axis=0), bins=bins, density=True,\n",
    "        color='gray', alpha=.8, label=f'control, $n={CC_lower_bound_Str[:4,:].mean(axis=0).shape[0]}$')\n",
    "\n",
    "ax.set_title(f'Average of top 4 CCs in {defs.areas[1]}')\n",
    "ax.set_xlim([0,1])\n",
    "ax.set_xlabel('Canonical correlation')\n",
    "ax.set_ylabel('Probability density')\n",
    "# ax.set_yticks([])\n",
    "ax.legend(loc=2)\n",
    "\n",
    "fig.savefig(params.figPath / 'mouse-Str-cca-dist.pdf', format='pdf', bbox_inches='tight')"
   ]
  },
  {
   "cell_type": "markdown",
   "id": "18ff04c2",
   "metadata": {},
   "source": [
    "---\n",
    "\n",
    "## one mouse, 2 epochs\n",
    "\n",
    "as an extra control"
   ]
  },
  {
   "cell_type": "code",
   "execution_count": null,
   "id": "100fcea0",
   "metadata": {},
   "outputs": [],
   "source": [
    "warnings.filterwarnings(\"ignore\")\n",
    "side1df = allDFs_M1\n",
    "AllData1 = dt.get_data_array(side1df, fixation_epoch, area=areas[0], model=n_components)\n",
    "AllData2 = dt.get_data_array(side1df, exec_epoch, area=areas[0], model=n_components)\n",
    "_,_, min_trials, min_time,_ = np.min((AllData1.shape,AllData2.shape),axis=0)\n",
    "print(f'{min_trials=}\\n{min_time=}')\n",
    "\n",
    "# PMd\n",
    "side2df = allDFs_Str\n",
    "AllData1_ = dt.get_data_array(side2df, fixation_epoch, area=areas[1], model=n_components)\n",
    "AllData2_ = dt.get_data_array(side2df, exec_epoch, area=areas[1], model=n_components)\n",
    "_,_, min_trials_, min_time_,_ = np.min((AllData1_.shape,AllData2_.shape),axis=0)\n",
    "print(f'{min_trials_=}\\n{min_time_=}')\n",
    "\n",
    "inCCs0=[]\n",
    "for sessionData1,sessionData2 in zip(AllData1,AllData2):\n",
    "    data1 = np.reshape(sessionData1[:,:min_trials,:min_time,:], (-1,n_components))\n",
    "    data2 = np.reshape(sessionData2[:,:min_trials,:min_time,:], (-1,n_components))\n",
    "    inCCs0.append(dt.canoncorr(data1, data2))\n",
    "inCCs0 = np.array(inCCs0).T\n",
    "\n",
    "inCCs1=[]\n",
    "for sessionData1,sessionData2 in zip(AllData1_,AllData2_):\n",
    "    data1 = np.reshape(sessionData1[:,:min_trials_,:min_time_,:], (-1,n_components))\n",
    "    data2 = np.reshape(sessionData2[:,:min_trials_,:min_time_,:], (-1,n_components))\n",
    "    inCCs1.append(dt.canoncorr(data1, data2))\n",
    "inCCs1 = np.array(inCCs1).T\n",
    "warnings.filterwarnings(\"default\")\n",
    "\n",
    "# plotting\n",
    "_,ax = plt.subplots()\n",
    "\n",
    "utility.shaded_errorbar(ax, inCCs0, color='b', marker = 'o', label=f'{areas[0]} $n={inCCs0.shape[1]}$ sessions')\n",
    "utility.shaded_errorbar(ax, inCCs1, color='r', marker = 'o', label=f'{areas[1]} $n={inCCs1.shape[1]}$ sessions')\n",
    "ax.set_ylim([0,1])\n",
    "ax.set_xlabel('components')\n",
    "ax.legend()\n",
    "ax.set_ylabel('canonical correlation')\n",
    "ax.set_title('CCA --- within mouse', usetex=True);\n",
    "\n",
    "fig,axes = plt.subplots(ncols=2, figsize=(10,5))\n",
    "axes[0].plot(inCCs0[:4,:].mean(axis=0),'.')\n",
    "axes[1].plot(inCCs1[:4,:].mean(axis=0),'.')\n",
    "axes[0].set_ylabel('average canonical correlation')\n",
    "for i, ax in enumerate(axes):\n",
    "    ax.set_title(f'CCA --- within mouse {areas[i]} ', usetex=True);\n",
    "    ax.set_ylim([0,1])\n",
    "    ax.set_xlabel('sessions')"
   ]
  },
  {
   "cell_type": "markdown",
   "id": "2461b39b",
   "metadata": {},
   "source": [
    "# Check time gap effect on CCs"
   ]
  },
  {
   "cell_type": "code",
   "execution_count": null,
   "id": "fcaa6742",
   "metadata": {},
   "outputs": [],
   "source": [
    "def get_full_mouse_data():  \n",
    "    animalList = ['mouse-data']\n",
    "    animalFiles = []\n",
    "    for animal in animalList:\n",
    "        animalFiles.extend(utility.find_file(root / animal, 'mat'))\n",
    "\n",
    "    AllDFs=[]\n",
    "    for fname in animalFiles:\n",
    "        df = dt.load_pyal_data(fname)\n",
    "        df['mouse'] = fname.split(os.sep)[-1][fname.split(os.sep)[-1].find('WR'):].split('_')[0]\n",
    "        df['file'] = fname.split(os.sep)[-1]\n",
    "        df = defs.prep_general_mouse(df)\n",
    "        AllDFs.append(df)\n",
    "\n",
    "    allDFs_M1 = []\n",
    "    for df in AllDFs:\n",
    "        if 'M1_rates' in df.columns:\n",
    "            allDFs_M1.append(df)\n",
    "\n",
    "\n",
    "    allDFs_Str = []\n",
    "    for df in AllDFs:\n",
    "        if 'Str_rates' in df.columns:\n",
    "            allDFs_Str.append(df)\n",
    "            \n",
    "    return allDFs_M1, allDFs_Str"
   ]
  },
  {
   "cell_type": "code",
   "execution_count": null,
   "id": "cf5b09a2",
   "metadata": {},
   "outputs": [],
   "source": [
    "Range = np.arange(-10,10)  # range of time lags to include\n",
    "\n",
    "def plot_mouse_cca(allDFs_M1, epoch):   \n",
    "    pairFileList1 = []\n",
    "    for I, df1 in enumerate(allDFs_M1):\n",
    "        for J, (df2) in enumerate(allDFs_M1):\n",
    "            if J<=I or df1.mouse[0] == df2.mouse[0]: continue  # repetitions\n",
    "            pairFileList1.append((I,J))\n",
    "    side1df = [allDFs_M1[i] for i,_ in pairFileList1]\n",
    "    side2df = [allDFs_M1[j] for _,j in pairFileList1]\n",
    "    AllData1 = dt.get_data_array(side1df, defs.exec_epoch, area=defs.areas[0], model=defs.n_components)\n",
    "    AllData2 = dt.get_data_array(side2df, epoch,           area=defs.areas[0], model=defs.n_components)\n",
    "    _,_, min_trials, min_time,_ = np.min((AllData1.shape,AllData2.shape),axis=0)\n",
    "    allCCs=[]\n",
    "    for sessionData1,sessionData2 in zip(AllData1,AllData2):\n",
    "        data1 = np.reshape(sessionData1[:,:min_trials,:min_time,:], (-1,defs.n_components))\n",
    "        data2 = np.reshape(sessionData2[:,:min_trials,:min_time,:], (-1,defs.n_components))\n",
    "        allCCs.append(dt.canoncorr(data1, data2))\n",
    "    allCCs = np.array(allCCs).T\n",
    "    return allCCs, pairFileList1\n",
    "\n",
    "def calc_time_lag(allDFs):\n",
    "    allCCs = []\n",
    "    for i in Range:\n",
    "        exec_epoch = pyal.generate_epoch_fun(start_point_name='idx_movement_on',\n",
    "                                        rel_start=int(defs.WINDOW_exec[0]/defs.BIN_SIZE)+i,\n",
    "                                        rel_end=int(defs.WINDOW_exec[1]/defs.BIN_SIZE)+i\n",
    "                                        )\n",
    "        CCs, pairFileList = plot_mouse_cca(allDFs, exec_epoch)\n",
    "        allCCs.append(CCs)\n",
    "    allCCs = np.transpose(np.array(allCCs), (2,1,0))\n",
    "    sum_CC =  np.sum(allCCs[:,:4,:], axis=1)\n",
    "    return sum_CC, pairFileList"
   ]
  },
  {
   "cell_type": "code",
   "execution_count": null,
   "id": "40889f67",
   "metadata": {},
   "outputs": [],
   "source": [
    "if \"__file__\" not in dir():\n",
    "\n",
    "    allDFs_M1, allDFs_Str = get_full_mouse_data(); clear_output()\n",
    "\n",
    "    M1_CC, pairFileList = calc_time_lag(allDFs_M1)\n",
    "    Str_CC, _ = calc_time_lag(allDFs_Str)"
   ]
  },
  {
   "cell_type": "code",
   "execution_count": null,
   "id": "9fa046a3",
   "metadata": {},
   "outputs": [],
   "source": [
    "print(f'{M1_CC.shape=}')\n",
    "print(f'\\nNumber of lags to maximise the sum of the top-4 CCs for each pair of sessions:\\n{Range[np.argmax(M1_CC, axis=1)]}')\n",
    "print(f'\\nThe sum of top-4 CCs increases by:\\n{M1_CC[range(M1_CC.shape[0]),np.argmax(M1_CC, axis=1)] - M1_CC[range(M1_CC.shape[0]), np.nonzero(Range==0)[0][0]]}')"
   ]
  },
  {
   "cell_type": "code",
   "execution_count": null,
   "id": "75996dc1",
   "metadata": {},
   "outputs": [],
   "source": [
    "bin_30ms = [0.00909705, 0,0.02481727, 0.01705521, 0.01653742, 0.03558858, 0.06250862, 0.03266727, 0.06023451, 0.11097732, 0.00053827, 0.01084072, 0.06272512]\n",
    "bin_10_ms = [0.00537624, 0.0043734,  0.00534582, 0.04118834, 0.00638328, 0.00225867, 0.03570158, 0, 0.03576609, 0.05293803, 0.00430918, 0.05681727, 0.05909097]\n",
    "bin_50_ms = [0, 0.01073184, 0.03604887, 0.03170565, 0.02391444, 0.03393483, 0.02231379, 0.01526712, 0.03660592, 0.07538286, 0.00877729, 0, 0.0305291]"
   ]
  },
  {
   "cell_type": "code",
   "execution_count": null,
   "id": "e13b4a1a",
   "metadata": {},
   "outputs": [],
   "source": [
    "plt.figure(dpi=100)\n",
    "plt.plot(bin_10_ms,'r', label='bin=10ms')\n",
    "plt.plot(bin_30ms,'k',label='bin=30ms')\n",
    "plt.plot(bin_50_ms,'b',label='bin=50ms')\n",
    "plt.xlabel('pairs of sessions from different animals')\n",
    "plt.legend()\n",
    "plt.title('amount of increase in the sum of the top 4 CCs\\nby choosing the \"best\" time lag')"
   ]
  },
  {
   "cell_type": "markdown",
   "id": "afb98c2c",
   "metadata": {},
   "source": [
    "### Saving pickles indicating the optimal time lag value for each pair of sessions"
   ]
  },
  {
   "cell_type": "code",
   "execution_count": null,
   "id": "58410468",
   "metadata": {},
   "outputs": [],
   "source": [
    "def save_mouse_lag_pickles(allDFs):\n",
    "    all_CC, pairFileList = calc_time_lag(allDFs)\n",
    "\n",
    "    pathPickle = root / 'mouse-data'\n",
    "    for ind, (i,j) in enumerate(pairFileList):\n",
    "        bin_shift = Range[np.argmax(all_CC, axis=1)][ind]\n",
    "\n",
    "        df1 = allDFs[i]\n",
    "        df2 = allDFs[j]\n",
    "        pickleFile1 = pathPickle / f'lag-{df1.file[0]}-{df2.file[0]}.p'\n",
    "        pickleFile2 = pathPickle / f'lag-{df2.file[0]}-{df1.file[0]}.p'\n",
    "        \n",
    "        print(f'{pickleFile1}: {bin_shift}')\n",
    "\n",
    "        with open(pickleFile1, 'wb') as f:\n",
    "            pickle.dump(bin_shift, f)\n",
    "            f.close()\n",
    "        with open(pickleFile2, 'wb') as f:\n",
    "                pickle.dump(bin_shift, f)\n",
    "                f.close()\n",
    "\n"
   ]
  },
  {
   "cell_type": "code",
   "execution_count": null,
   "id": "172db165",
   "metadata": {},
   "outputs": [],
   "source": [
    "save_mouse_lag_pickles(allDFs_M1)"
   ]
  },
  {
   "cell_type": "code",
   "execution_count": null,
   "id": "31e5931a",
   "metadata": {},
   "outputs": [],
   "source": [
    "with open(\"/home/jcc319/multi_animal_alignment/data/mouse-data/lag-js2p0_tbytSpkHandJsTrj10msBin_WR40_082019_ss.mat-js2p0_tbytSpkHandJsTrj10msBin_WR38_052219_ss.mat.p\",'rb') as f:\n",
    "    r = pickle.load(f)\n",
    "r"
   ]
  },
  {
   "cell_type": "code",
   "execution_count": null,
   "id": "752a2c16",
   "metadata": {},
   "outputs": [],
   "source": []
  }
 ],
 "metadata": {
  "kernelspec": {
   "display_name": "cca",
   "language": "python",
   "name": "python3"
  },
  "language_info": {
   "codemirror_mode": {
    "name": "ipython",
    "version": 3
   },
   "file_extension": ".py",
   "mimetype": "text/x-python",
   "name": "python",
   "nbconvert_exporter": "python",
   "pygments_lexer": "ipython3",
   "version": "3.10.5"
  },
  "vscode": {
   "interpreter": {
    "hash": "146bff742f048d001dec7fafb91c8daeb769f9aeaad9c8d129a83c9f9fb9a9b2"
   }
  }
 },
 "nbformat": 4,
 "nbformat_minor": 5
}
