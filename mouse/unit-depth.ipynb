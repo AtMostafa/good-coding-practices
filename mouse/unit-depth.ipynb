{
 "cells": [
  {
   "cell_type": "markdown",
   "id": "6dbda86d",
   "metadata": {},
   "source": [
    "# part0: imports"
   ]
  },
  {
   "cell_type": "code",
   "execution_count": 1,
   "id": "b2b7a810",
   "metadata": {},
   "outputs": [
    {
     "name": "stdout",
     "output_type": "stream",
     "text": [
      "Done\n"
     ]
    }
   ],
   "source": [
    "import os, sys, pathlib\n",
    "from pprint import pprint\n",
    "import gc\n",
    "import pickle\n",
    "from importlib import reload\n",
    "import logging, warnings\n",
    "logging.basicConfig(level=logging.ERROR)\n",
    "from IPython.display import display, clear_output\n",
    "\n",
    "import pandas as pd\n",
    "import numpy as np\n",
    "import sklearn\n",
    "from sklearn.decomposition import PCA\n",
    "import scipy.linalg as linalg\n",
    "\n",
    "import matplotlib.pyplot as plt\n",
    "import matplotlib.cm as cm\n",
    "import matplotlib\n",
    "from matplotlib.ticker import MaxNLocator\n",
    "from matplotlib.collections import LineCollection\n",
    "%matplotlib inline\n",
    "%config InlineBackend.figure_formats = ['png2x']\n",
    "\n",
    "\n",
    "import pyaldata as pyal\n",
    "\n",
    "try:\n",
    "    nbPath = pathlib.Path.cwd()\n",
    "    RepoPath = nbPath.parent\n",
    "    os.chdir(RepoPath)\n",
    "\n",
    "    from tools import utilityTools as utility\n",
    "    from tools import dataTools as dt\n",
    "    import params\n",
    "    defs = params.mouse_defs\n",
    "    \n",
    "    set_rc =  params.set_rc_params\n",
    "    set_rc()\n",
    "    root = params.root\n",
    "    reload(dt)\n",
    "    reload(params)\n",
    "    reload (defs)\n",
    "finally:\n",
    "    os.chdir(nbPath)\n",
    "\n",
    "print('Done')"
   ]
  },
  {
   "cell_type": "markdown",
   "id": "6e896ba5",
   "metadata": {
    "tags": []
   },
   "source": [
    "# reading data\n",
    "\n",
    "prep function WITHOUT removing low firing neurons"
   ]
  },
  {
   "cell_type": "code",
   "execution_count": 33,
   "id": "3b2e6733-73cd-4e07-b1a1-42269a116e52",
   "metadata": {},
   "outputs": [],
   "source": [
    "def prep_general_mouse (df):\n",
    "    \"preprocessing general! for J. Dudman mouse data\"\n",
    "    # rename unit fields\n",
    "    old_fields = [col for col in df.columns.values if 'unit' in col]\n",
    "    new_fields = ['M1_spikes' if 'Ctx' in col else 'Str_spikes' for col in old_fields]\n",
    "    df_ = df.rename(columns = {old:new for old,new in zip(old_fields,new_fields)})\n",
    "    # change spikes datatype\n",
    "    for signal in new_fields:\n",
    "        df_[signal] = [np.nan_to_num(x=s.toarray().T, nan=0) for s in df_[signal]]\n",
    "    # add trial_id\n",
    "    df_['trial_id'] = np.arange(1,df_.shape[0]+1)\n",
    "    # only keep good trials\n",
    "    df_= pyal.select_trials(df_, df_.trialType== 'sp')\n",
    "    # fill no-laser trials (and index fields) with zero\n",
    "    n_bins = df_[new_fields[0]][0].shape[0]\n",
    "    var_len_fields = [ 'spkPullIdx', 'spkRchIdx', 'spkTimeBlaserI']\n",
    "    fill_zeros = lambda a: a if len(a)>1 else np.zeros((n_bins,))\n",
    "    for field in var_len_fields:\n",
    "        if field not in df_.columns:continue\n",
    "        df_[field] = [fill_zeros(s) for s in df_[field]]\n",
    "    # fill fields that are cut with np.nans and remove trials that are too long or don't exist\n",
    "    cut_fields = ['hTrjB', 'hVelB']\n",
    "    df_['badIndex'] = [max(trialT.shape)>n_bins or\n",
    "                       max(trialV.shape)>n_bins or \n",
    "                       max(trialT.shape) < 2 or \n",
    "                       max(trialV.shape) < 2 or \n",
    "                       np.isnan(trialT).sum() > 5 for trialT,trialV in zip(df_.hTrjB,df_.hVelB)]\n",
    "    df_= pyal.select_trials(df_, df_.badIndex == False)\n",
    "    df_.drop('badIndex', axis=1, inplace=True)\n",
    "    fill_nans = lambda a: a if max(a.shape)==n_bins else np.pad(a, ((0,n_bins-max(a.shape)),(0,0)), 'constant', constant_values=(np.nan,))\n",
    "    for field in cut_fields:\n",
    "        if field not in df_.columns:continue\n",
    "        df_[field] = [fill_nans(s.T) for s in df_[field]]   \n",
    "    # add bin_size\n",
    "    df_['bin_size']=0.01  # data has 10ms bin size\n",
    "    # add idx_movement_on which is exactly at t=df.timeAlign\n",
    "    df_['idx_movement_on'] = [np.argmin(np.abs(s-i)) for i,s in zip(df_['timeAlign'],df_['spkTimeBins'])]\n",
    "    # add pull start idx\n",
    "    df_['idx_pull_on'] = [pullIdx.nonzero()[0][0] if len(pullIdx.nonzero()[0])>0 else np.nan for pullIdx in df_.spkPullIdx]\n",
    "    # add pull stop idx\n",
    "    df_['idx_pull_off'] = [min((pull.nonzero()[0][-1], velNans[0] if len(velNans:=np.isnan(vel).nonzero()[0])>0 else [np.inf])) for pull,vel in zip(df_.spkPullIdx,df_.hVelB)]\n",
    "    # remove trials with no pull idx\n",
    "    df_.dropna(subset=['idx_pull_on'], inplace=True)\n",
    "    df_.idx_pull_on = df_.idx_pull_on.astype(np.int32)\n",
    "    df_.index = np.arange(df_.shape[0])\n",
    "    # add target_id\n",
    "    df_['target_id'] = np.remainder(df_['blNumber'].to_numpy(), 4)\n",
    "\n",
    "#========================================\n",
    "#    for signal in new_fields:\n",
    "#       df_ = pyal.remove_low_firing_neurons(df_, signal, 1)\n",
    "#========================================\n",
    "    df_ = pyal.select_trials(df_, df_.idx_movement_on < df_.idx_pull_on)\n",
    "    df_ = pyal.select_trials(df_, df_.idx_pull_on < df_.idx_pull_off)\n",
    "    # !!! discard outlier behaviour---tricky stuff !!!\n",
    "        # reach duration < 700ms\n",
    "    df_ = pyal.select_trials(df_, df_.idx_pull_on - df_.idx_movement_on < 65)\n",
    "        # pull duration < 450ms\n",
    "    df_ = pyal.select_trials(df_, df_.idx_pull_off - df_.idx_pull_on < 45)\n",
    "\n",
    "    try:\n",
    "        noLaserIndex = [i for i,laserData in enumerate(df_.spkTimeBlaserI) if not np.any(laserData)]\n",
    "        df_= pyal.select_trials(df_, noLaserIndex)\n",
    "    except AttributeError:\n",
    "        # due to absence of this field in no-laser sessions\n",
    "        pass\n",
    "\n",
    "    df_ = pyal.combine_time_bins(df_, int(defs.BIN_SIZE/.01))\n",
    "    for signal in new_fields:\n",
    "        df_ = pyal.sqrt_transform_signal(df_, signal)\n",
    "\n",
    "    df_= pyal.add_firing_rates(df_, 'smooth', std=0.05)\n",
    "\n",
    "    return df_\n"
   ]
  },
  {
   "cell_type": "code",
   "execution_count": 34,
   "id": "d4d1d774",
   "metadata": {},
   "outputs": [],
   "source": [
    "animalList = ['mouse-data']\n",
    "\n",
    "animalFiles = []\n",
    "for animal in animalList:\n",
    "    animalFiles.extend(utility.find_file(root / animal, 'mat'))\n",
    "\n",
    "\n",
    "AllDFs=[]\n",
    "for fname in animalFiles:\n",
    "    print(fname)\n",
    "    df = dt.load_pyal_data(fname)\n",
    "    df['mouse'] = fname.split(os.sep)[-1][fname.split(os.sep)[-1].find('WR'):].split('_')[0]\n",
    "    df['file'] = fname.split(os.sep)[-1]\n",
    "    df = prep_general_mouse(df)\n",
    "    AllDFs.append(df)\n",
    "\n",
    "clear_output()"
   ]
  },
  {
   "cell_type": "markdown",
   "id": "a32a784b",
   "metadata": {},
   "source": [
    "---\n",
    "\n",
    "# PCA depth\n",
    "\n",
    "check the weight of neuron in the top PCs per depth"
   ]
  },
  {
   "cell_type": "code",
   "execution_count": null,
   "id": "b4541b6a-1d0d-4806-85d9-71f8da8f95f3",
   "metadata": {},
   "outputs": [],
   "source": [
    "epoch = defs.exec_epoch\n",
    "field = 'M1_rates'\n",
    "n_components = 5\n",
    "\n",
    "fig, axes = plt.subplots(len(AllDFs),n_components, dpi=100, sharey=True, sharex=True, figsize=(15,15))\n",
    "for i, df in enumerate(AllDFs):\n",
    "    model = PCA(n_components=n_components)\n",
    "    df_ = pyal.restrict_to_interval(df, epoch_fun=epoch)\n",
    "    rates = np.concatenate(df[field].values, axis=0)\n",
    "    rates -= np.mean(rates, axis=0)\n",
    "    rates_model = model.fit(rates,)\n",
    "    \n",
    "    unit_contribution = np.abs(rates_model.components_)\n",
    "    unit_depth = params.load_unit_depth(df)\n",
    "    for j in range(n_components):\n",
    "        axes[i,j].plot(unit_depth, unit_contribution[j,:], 'o')\n",
    "    \n",
    "axes[-1,-1].set_xlabel(r'Depth ($\\mu m$)')\n",
    "axes[-1,-1].set_ylabel(r'$\\Sigma |W_{PCs}|$')\n",
    "fig.suptitle('Different PCs', y=.9)\n",
    "fig.supylabel('Different sessions', x=.08)"
   ]
  },
  {
   "cell_type": "markdown",
   "id": "daaa57dc-57da-4f71-8b00-87522e5ab8e9",
   "metadata": {},
   "source": [
    "---\n",
    "\n",
    "# CCA depth\n",
    "\n",
    "check the contribution of neurons to CCA axes per their depth"
   ]
  },
  {
   "cell_type": "code",
   "execution_count": 66,
   "id": "5f13fa07-271e-4cc4-9a17-e8354342d126",
   "metadata": {},
   "outputs": [
    {
     "name": "stdout",
     "output_type": "stream",
     "text": [
      "len(pairFileList1)=13\n"
     ]
    }
   ],
   "source": [
    "# load the DFs\n",
    "warnings.filterwarnings(\"ignore\")\n",
    "allDFs_M1 = []\n",
    "for df in AllDFs:\n",
    "    if 'M1_rates' in df.columns:\n",
    "        allDFs_M1.append(df)\n",
    "\n",
    "\n",
    "pairFileList1 = []\n",
    "for I, df1 in enumerate(allDFs_M1):\n",
    "    for J, (df2) in enumerate(allDFs_M1):\n",
    "        if J<=I or df1.mouse[0] == df2.mouse[0]: continue  # repetitions\n",
    "        pairFileList1.append((I,J))\n",
    "\n",
    "print(f'{len(pairFileList1)=}')"
   ]
  },
  {
   "cell_type": "code",
   "execution_count": 68,
   "id": "b059ecc3-726e-4486-b227-2e2031d565ec",
   "metadata": {},
   "outputs": [
    {
     "data": {
      "image/png": "[encoded data removed]",
      "text/plain": [
       "<Figure size 600x400 with 1 Axes>"
      ]
     },
     "metadata": {
      "image/png": {
       "height": 345,
       "width": 517
      },
      "needs_background": "light"
     },
     "output_type": "display_data"
    }
   ],
   "source": [
    "side1df = [allDFs_M1[i] for i,_ in pairFileList1]\n",
    "side2df = [allDFs_M1[j] for _,j in pairFileList1]\n",
    "warnings.filterwarnings(\"ignore\")\n",
    "AllData1 = dt.get_data_array(side1df, defs.exec_epoch, area=defs.areas[0], model=defs.n_components)\n",
    "AllData2 = dt.get_data_array(side2df, defs.exec_epoch, area=defs.areas[0], model=defs.n_components)\n",
    "_,_, min_trials, min_time,_ = np.min((AllData1.shape,AllData2.shape),axis=0)\n",
    "\n",
    "warnings.filterwarnings(\"default\")\n",
    "\n",
    "allCCs0=[]\n",
    "for sessionData1,sessionData2 in zip(AllData1,AllData2):\n",
    "    data1 = np.reshape(sessionData1[:,:min_trials,:min_time,:], (-1,defs.n_components))\n",
    "    data2 = np.reshape(sessionData2[:,:min_trials,:min_time,:], (-1,defs.n_components))\n",
    "    \n",
    "    A,B,*_ = dt.canoncorr(data1, data2, fullReturn=True)\n",
    "\n",
    "\n",
    "# plot\n",
    "_,ax = plt.subplots(dpi=100)\n",
    "\n"
   ]
  },
  {
   "cell_type": "markdown",
   "id": "d5b396ad-16f5-40c6-a20d-b1c52a6926f7",
   "metadata": {},
   "source": [
    "feels like CCA doesn't make sense, since it is applied to PCs and so we are not dealing with units anymore"
   ]
  }
 ],
 "metadata": {
  "interpreter": {
   "hash": "72da6499f934495e06c03d484049d4696c0f7b78c6b9c64cf8676e9ec2014a6a"
  },
  "kernelspec": {
   "display_name": "Python 3 (ipykernel)",
   "language": "python",
   "name": "python3"
  },
  "language_info": {
   "codemirror_mode": {
    "name": "ipython",
    "version": 3
   },
   "file_extension": ".py",
   "mimetype": "text/x-python",
   "name": "python",
   "nbconvert_exporter": "python",
   "pygments_lexer": "ipython3",
   "version": "3.9.7"
  }
 },
 "nbformat": 4,
 "nbformat_minor": 5
}
