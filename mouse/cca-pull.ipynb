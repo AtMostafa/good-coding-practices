{
 "cells": [
  {
   "cell_type": "markdown",
   "id": "6dbda86d",
   "metadata": {},
   "source": [
    "# part0: imports"
   ]
  },
  {
   "cell_type": "code",
   "execution_count": 1,
   "id": "b2b7a810",
   "metadata": {},
   "outputs": [
    {
     "name": "stdout",
     "output_type": "stream",
     "text": [
      "Done\n"
     ]
    }
   ],
   "source": [
    "%matplotlib inline\n",
    "\n",
    "from tqdm import tqdm\n",
    "import os, sys, pathlib\n",
    "from pprint import pprint\n",
    "import gc, time\n",
    "import pickle\n",
    "from importlib import reload\n",
    "import logging, warnings\n",
    "logging.basicConfig(level=logging.ERROR)\n",
    "warnings.simplefilter(\"ignore\")\n",
    "from IPython.display import clear_output\n",
    "\n",
    "import PyPDF2 as ppdf\n",
    "import pandas as pd\n",
    "import numpy as np\n",
    "import sklearn\n",
    "from sklearn.decomposition import PCA\n",
    "import scipy.linalg as linalg\n",
    "from sklearn.linear_model import Ridge, LinearRegression\n",
    "from sklearn.model_selection import cross_val_score, KFold\n",
    "from sklearn.metrics import make_scorer, r2_score\n",
    "\n",
    "\n",
    "import matplotlib.pyplot as plt\n",
    "import matplotlib.cm as cm\n",
    "import matplotlib as mpl\n",
    "import matplotlib.lines as mlines\n",
    "from matplotlib.ticker import MaxNLocator, FormatStrFormatter\n",
    "from matplotlib.collections import LineCollection\n",
    "from matplotlib.backends.backend_pdf import PdfPages\n",
    "\n",
    "\n",
    "import torch\n",
    "\n",
    "import pyaldata as pyal\n",
    "\n",
    "try:\n",
    "    nbPath = pathlib.Path.cwd()\n",
    "    RepoPath = nbPath.parent\n",
    "    os.chdir(RepoPath)\n",
    "\n",
    "    from tools import utilityTools as utility\n",
    "    from tools import dataTools as dt\n",
    "    import params\n",
    "    defs = params.mouse_defs\n",
    "    \n",
    "    set_rc =  params.set_rc_params\n",
    "    set_rc()\n",
    "    root = params.root\n",
    "    reload(dt)\n",
    "    reload(params)\n",
    "    reload (defs)\n",
    "finally:\n",
    "    os.chdir(nbPath)\n",
    "\n",
    "print('Done')"
   ]
  },
  {
   "cell_type": "markdown",
   "id": "72859ce7",
   "metadata": {},
   "source": [
    "---\n",
    "\n",
    "#### Load the lower bound values for the canonical correlations\n",
    "\n",
    "takes a couple of minutes to execute."
   ]
  },
  {
   "cell_type": "code",
   "execution_count": null,
   "id": "05da56d3",
   "metadata": {},
   "outputs": [],
   "source": [
    "%run \"_mouse-lower-bound.ipynb\""
   ]
  },
  {
   "cell_type": "markdown",
   "id": "5802ab1c",
   "metadata": {},
   "source": [
    "---\n",
    "\n",
    "#### Load the upper bound values for the canonical correlations\n",
    "\n",
    "takes a couple of minutes to execute."
   ]
  },
  {
   "cell_type": "code",
   "execution_count": null,
   "id": "6d00eb12",
   "metadata": {},
   "outputs": [],
   "source": [
    "%run \"_mouse-upper-bound.ipynb\""
   ]
  },
  {
   "cell_type": "markdown",
   "id": "6e896ba5",
   "metadata": {
    "tags": []
   },
   "source": [
    "# reading data"
   ]
  },
  {
   "cell_type": "code",
   "execution_count": 2,
   "id": "d4d1d774",
   "metadata": {},
   "outputs": [],
   "source": [
    "animalList = ['mouse-data']\n",
    "\n",
    "animalFiles = []\n",
    "for animal in animalList:\n",
    "    animalFiles.extend(utility.find_file(root / animal, 'mat'))\n",
    "\n",
    "\n",
    "AllDFs=[]\n",
    "for fname in animalFiles:\n",
    "    print(fname)\n",
    "    df = dt.load_pyal_data(fname)\n",
    "    df['mouse'] = fname.split(os.sep)[-1][fname.split(os.sep)[-1].find('WR'):].split('_')[0]\n",
    "    df['file'] = fname.split(os.sep)[-1]\n",
    "    df = defs.prep_pull_mouse(df)\n",
    "    AllDFs.append(df)\n",
    "\n",
    "clear_output()"
   ]
  },
  {
   "cell_type": "markdown",
   "id": "a32a784b",
   "metadata": {},
   "source": [
    "---\n",
    "\n",
    "# CCA comparison\n",
    "\n",
    "## 2 mice, same epoch\n",
    "\n",
    "load the data"
   ]
  },
  {
   "cell_type": "code",
   "execution_count": 3,
   "id": "f918410b",
   "metadata": {},
   "outputs": [
    {
     "name": "stdout",
     "output_type": "stream",
     "text": [
      "len(pairFileList1)=13\n",
      "len(pairFileList2)=13\n"
     ]
    }
   ],
   "source": [
    "# load the DFs\n",
    "warnings.filterwarnings(\"ignore\")\n",
    "allDFs_M1 = []\n",
    "for df in AllDFs:\n",
    "    if 'M1_rates' in df.columns:\n",
    "        allDFs_M1.append(df)\n",
    "\n",
    "\n",
    "allDFs_Str = []\n",
    "for df in AllDFs:\n",
    "    if 'Str_rates' in df.columns:\n",
    "        allDFs_Str.append(df)\n",
    "warnings.filterwarnings(\"default\")\n",
    "\n",
    "\n",
    "pairFileList1 = []\n",
    "for I, df1 in enumerate(allDFs_M1):\n",
    "    for J, (df2) in enumerate(allDFs_M1):\n",
    "        if J<=I or df1.mouse[0] == df2.mouse[0]: continue  # repetitions\n",
    "        pairFileList1.append((I,J))\n",
    "\n",
    "print(f'{len(pairFileList1)=}')\n",
    "\n",
    "\n",
    "pairFileList2 = []\n",
    "for I, df1 in enumerate(allDFs_Str):\n",
    "    for J, df2 in enumerate(allDFs_Str):\n",
    "        if J<=I or df1.mouse[0] == df2.mouse[0]: continue  # repetitions\n",
    "        pairFileList2.append((I,J))\n",
    "\n",
    "print(f'{len(pairFileList2)=}')\n"
   ]
  },
  {
   "cell_type": "markdown",
   "id": "96f845cd",
   "metadata": {},
   "source": [
    "collecting all the data in a matrix, `AllData`: $sessions \\times targets \\times  trials \\times time \\times PCs$"
   ]
  },
  {
   "cell_type": "code",
   "execution_count": 4,
   "id": "7ede970a",
   "metadata": {},
   "outputs": [
    {
     "name": "stdout",
     "output_type": "stream",
     "text": [
      "min_trials=13\n",
      "min_time=26\n",
      "min_trials_=13\n",
      "min_time_=26\n"
     ]
    },
    {
     "data": {
      "image/png": "[encoded data removed]",
      "text/plain": [
       "<Figure size 600x400 with 1 Axes>"
      ]
     },
     "metadata": {
      "needs_background": "light"
     },
     "output_type": "display_data"
    },
    {
     "data": {
      "image/png": "[encoded data removed]",
      "text/plain": [
       "<Figure size 1000x500 with 2 Axes>"
      ]
     },
     "metadata": {
      "needs_background": "light"
     },
     "output_type": "display_data"
    }
   ],
   "source": [
    "def plot_mouse_cca(ax, ax_hist, allDFs_M1):\n",
    "    defs = mouse_defs\n",
    "    \n",
    "    pairFileList1 = []\n",
    "    for I, df1 in enumerate(allDFs_M1):\n",
    "        for J, (df2) in enumerate(allDFs_M1):\n",
    "            if J<=I or df1.mouse[0] == df2.mouse[0]: continue  # repetitions\n",
    "            pairFileList1.append((I,J))\n",
    "    side1df = [allDFs_M1[i] for i,_ in pairFileList1]\n",
    "    side2df = [allDFs_M1[j] for _,j in pairFileList1]\n",
    "    AllData1 = dt.get_data_array(side1df, defs.exec_epoch, area=defs.areas[0], model=defs.n_components)\n",
    "    AllData2 = dt.get_data_array(side2df, defs.exec_epoch, area=defs.areas[0], model=defs.n_components)\n",
    "    _,_, min_trials, min_time,_ = np.min((AllData1.shape,AllData2.shape),axis=0)\n",
    "    allCCs=[]\n",
    "    for sessionData1,sessionData2 in zip(AllData1,AllData2):\n",
    "        data1 = np.reshape(sessionData1[:,:min_trials,:min_time,:], (-1,defs.n_components))\n",
    "        data2 = np.reshape(sessionData2[:,:min_trials,:min_time,:], (-1,defs.n_components))\n",
    "        allCCs.append(dt.canoncorr(data1, data2))\n",
    "    allCCs = np.array(allCCs).T\n",
    "\n",
    "    # upper bound\n",
    "    AllData1 = dt.get_data_array(allDFs_M1, defs.exec_epoch, area=defs.areas[0], model=defs.n_components)\n",
    "    n_iter = params.n_iter * 10\n",
    "    n_shared_trial1 = AllData1.shape[2]\n",
    "    trialList1 = np.arange(n_shared_trial1)\n",
    "    CCsU=[]\n",
    "    for sessionData in AllData1:\n",
    "        r = []\n",
    "        for n in range(n_iter):\n",
    "            params.rng.shuffle(trialList1)\n",
    "            # non-overlapping randomised trials\n",
    "            trial1 = trialList1[:n_shared_trial1//2]\n",
    "            trial2 = trialList1[-(n_shared_trial1//2):]\n",
    "            data1 = np.reshape(sessionData[:,trial1,:,:], (-1,defs.n_components))\n",
    "            data2 = np.reshape(sessionData[:,trial2,:,:], (-1,defs.n_components))\n",
    "            r.append(dt.canoncorr(data1, data2))\n",
    "        CCsU.append(r)\n",
    "    CCsU = np.array(CCsU)\n",
    "    CCsU = np.percentile(CCsU, 99, axis=1).T\n",
    "\n",
    "    # lower bound\n",
    "    pairFileList1 = []\n",
    "    for I, df1 in enumerate(allDFs_M1):\n",
    "        for J, df2 in enumerate(allDFs_M1):\n",
    "            if J<=I or df1.mouse[0] == df2.mouse[0]: continue  # repetitions\n",
    "            pairFileList1.append((I,J))\n",
    "    side1df = [allDFs_M1[i] for i,_ in pairFileList1]\n",
    "    side2df = [allDFs_M1[j] for _,j in pairFileList1]\n",
    "    len_trial = int(np.round(np.diff(defs.WINDOW_exec)/defs.BIN_SIZE))\n",
    "\n",
    "    AllData1 = dt.get_data_array(side1df, area=defs.areas[0], model=defs.n_components)\n",
    "    AllData2 = dt.get_data_array(side2df, area=defs.areas[0], model=defs.n_components)\n",
    "    _,_, min_trials, min_time,_ = np.min((AllData1.shape,AllData2.shape),axis=0)\n",
    "\n",
    "    CCsL=[]\n",
    "    for sessionData1,sessionData2 in zip(AllData1,AllData2):\n",
    "        r = []\n",
    "        for n in range(n_iter):\n",
    "            sessionData1_sh = params.rng.permutation(sessionData1,axis=0)\n",
    "            sessionData2_sh = params.rng.permutation(sessionData2,axis=0)\n",
    "            time_idx = params.rng.integers(min_time-len_trial)\n",
    "\n",
    "            data1 = np.reshape(sessionData1_sh[:,:min_trials,time_idx:time_idx+len_trial,:], (-1,defs.n_components))\n",
    "            data2 = np.reshape(sessionData2_sh[:,:min_trials,time_idx:time_idx+len_trial,:], (-1,defs.n_components))\n",
    "            r.append(dt.canoncorr(data1, data2))\n",
    "        CCsL.append(r)\n",
    "    CCsL = np.array(CCsL)\n",
    "    CCsL = np.percentile(CCsL, 1, axis=1).T\n",
    "\n",
    "\n",
    "    #====================================PLOTTING\n",
    "    \n",
    "    x_ = np.arange(1,defs.n_components+1)\n",
    "    utility.shaded_errorbar(ax, x_, allCCs, color=params.colors.MainCC, marker = 'o')\n",
    "    utility.shaded_errorbar(ax, x_, CCsU, color=params.colors.UpperCC, marker = '<', ls='--')\n",
    "    utility.shaded_errorbar(ax, x_, CCsL, color=params.colors.LowerCC, marker = '>', ls=':')\n",
    "\n",
    "    ax.set_ylim([-.05,1])\n",
    "    ax.set_xlim([.6,defs.n_components+.6])\n",
    "    ax.set_xlabel('Neural mode')\n",
    "    ax.xaxis.set_major_locator(MaxNLocator(integer=True))\n",
    "    ax.set_ylabel('Canonical correlation')\n",
    "    ax.spines['top'].set_visible(False)\n",
    "    ax.spines['right'].set_visible(False)\n",
    "    ax.spines['bottom'].set_bounds([1,defs.n_components])\n",
    "    ax.spines['left'].set_bounds([0,1])\n",
    "    ax.text(x=defs.n_components, y=1, s= f'$n={CCsL.shape[1]}$ pairs of sessions\\nacross $4$ mice',\n",
    "            ha='right', va='top', fontsize=mpl.rcParams['xtick.labelsize'])\n",
    "\n",
    "    #plot the hist\n",
    "\n",
    "    bins = np.arange(0,1,0.05)\n",
    "    ax_hist.xaxis.set_visible(False)\n",
    "    ax_hist.set_facecolor('None')\n",
    "    ax_hist.spines['bottom'].set_visible(False)\n",
    "    ax_hist.spines['right'].set_visible(False)\n",
    "    ax_hist.spines['top'].set_visible(False)\n",
    "    ax_hist.spines['left'].set_bounds([0,1])\n",
    "    ax_hist.set_ylim([-.05,1])\n",
    "    ax_hist.hist(allCCs[:4,:].mean(axis=0), bins=bins, density=True, label=f'($n={allCCs.shape[1]}$)',\n",
    "            color=params.colors.MainCC, alpha=.8, orientation='horizontal')\n",
    "    ax_hist.hist(CCsU[:4,:].mean(axis=0), bins=bins, density=True,label=f'($n={CCsU.shape[1]}$)',\n",
    "            color=params.colors.UpperCC, alpha=.8, orientation='horizontal')\n",
    "    ax_hist.hist(CCsL[:4,:].mean(axis=0), bins=bins, density=True, label=f'($n={CCsL.shape[1]}$)',\n",
    "            color=params.colors.LowerCC, alpha=.8, orientation='horizontal')\n",
    "    \n",
    "    ax_hist.tick_params('y', direction='out')\n",
    "    ax_hist.set_yticklabels([])\n",
    "    ax_hist.legend(loc=(0,-0.05))\n"
   ]
  }
 ],
 "metadata": {
  "kernelspec": {
   "display_name": "cca",
   "language": "python",
   "name": "python3"
  },
  "language_info": {
   "codemirror_mode": {
    "name": "ipython",
    "version": 3
   },
   "file_extension": ".py",
   "mimetype": "text/x-python",
   "name": "python",
   "nbconvert_exporter": "python",
   "pygments_lexer": "ipython3",
   "version": "3.10.5"
  },
  "vscode": {
   "interpreter": {
    "hash": "146bff742f048d001dec7fafb91c8daeb769f9aeaad9c8d129a83c9f9fb9a9b2"
   }
  }
 },
 "nbformat": 4,
 "nbformat_minor": 5
}
