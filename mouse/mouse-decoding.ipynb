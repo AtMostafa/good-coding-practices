{
 "cells": [
  {
   "cell_type": "markdown",
   "id": "06debf48",
   "metadata": {},
   "source": [
    "# part0: imports"
   ]
  },
  {
   "cell_type": "code",
   "execution_count": 1,
   "id": "f206a049",
   "metadata": {},
   "outputs": [
    {
     "name": "stdout",
     "output_type": "stream",
     "text": [
      "Done\n"
     ]
    }
   ],
   "source": [
    "import os, sys, pathlib\n",
    "from pprint import pprint\n",
    "import gc\n",
    "import pickle\n",
    "from importlib import reload\n",
    "import logging, warnings\n",
    "logging.basicConfig(level=logging.ERROR)\n",
    "from IPython.display import display, clear_output\n",
    "\n",
    "import pandas as pd\n",
    "import numpy as np\n",
    "import sklearn\n",
    "from sklearn.decomposition import PCA\n",
    "import scipy.linalg as linalg\n",
    "import scipy.stats as stats\n",
    "from sklearn.linear_model import Ridge, LinearRegression\n",
    "from sklearn.model_selection import cross_val_score\n",
    "\n",
    "import matplotlib.pyplot as plt\n",
    "import matplotlib.cm as cm\n",
    "import matplotlib as mpl\n",
    "from matplotlib.ticker import MaxNLocator\n",
    "from matplotlib.collections import LineCollection\n",
    "%matplotlib inline\n",
    "\n",
    "\n",
    "import pyaldata as pyal\n",
    "\n",
    "try:\n",
    "    nbPath = pathlib.Path.cwd()\n",
    "    RepoPath = nbPath.parent\n",
    "    os.chdir(RepoPath)\n",
    "\n",
    "    from tools import utilityTools as utility\n",
    "    from tools import dataTools as dt\n",
    "    import params\n",
    "    defs = params.mouse_defs\n",
    "    \n",
    "    set_rc =  params.set_rc_params\n",
    "    set_rc()\n",
    "    root = params.root\n",
    "    reload(dt)\n",
    "    reload(defs)\n",
    "    reload(params)\n",
    "finally:\n",
    "    os.chdir(nbPath)\n",
    "    \n",
    "print('Done')"
   ]
  },
  {
   "cell_type": "markdown",
   "id": "5e751f1c-f06c-4fe4-a0bc-b2389ed43729",
   "metadata": {
    "tags": []
   },
   "source": [
    "# reading data"
   ]
  },
  {
   "cell_type": "code",
   "execution_count": 2,
   "id": "5c6334d0-a764-4eb0-95e9-8839b9141f1c",
   "metadata": {},
   "outputs": [],
   "source": [
    "animalList = ['mouse-data']\n",
    "\n",
    "animalFiles = []\n",
    "for animal in animalList:\n",
    "    animalFiles.extend(utility.find_file(root/animal, 'mat'))\n",
    "\n",
    "\n",
    "AllDFs=[]\n",
    "for fname in animalFiles:\n",
    "    print(fname)\n",
    "    df = dt.load_pyal_data(fname)\n",
    "    df['mouse'] = fname.split(os.sep)[-1][fname.split(os.sep)[-1].find('WR'):].split('_')[0]\n",
    "    df['file'] = fname.split(os.sep)[-1]\n",
    "    df = defs.prep_general_mouse(df)\n",
    "    AllDFs.append(df)\n",
    "    \n",
    "clear_output()"
   ]
  },
  {
   "cell_type": "markdown",
   "id": "e3b7b35b-40cb-4403-b048-56b9b401bdc9",
   "metadata": {},
   "source": [
    "# Decoding\n",
    "\n",
    "Decode the arm velocity from M1 and Str activity.\n",
    "\n",
    "## Within animal, within session\n",
    "\n",
    "Same as *\"within-day\"* analysis of the NN paper\n",
    "\n",
    "### M1"
   ]
  },
  {
   "cell_type": "code",
   "execution_count": 3,
   "id": "149159ed-7b0a-4f1d-8be4-ce3624eeadf6",
   "metadata": {},
   "outputs": [],
   "source": [
    "rng = params.rng\n",
    "\n",
    "def get_data_array_and_vel3(data_list: list[pd.DataFrame], epoch , area: str ='M1', n_components: int =10) -> np.ndarray:\n",
    "    \"\"\"Clone of `get_data_array_and_vel2` without enforcing same number of trials, ie flat output\"\"\"\n",
    "    \n",
    "    field = f'{area}_rates'\n",
    "    n_shared_trial = np.inf\n",
    "    for df in data_list:\n",
    "        n_shared_trial = np.min((df.shape[0], n_shared_trial))\n",
    "\n",
    "    n_shared_trial = int(n_shared_trial)\n",
    "\n",
    "    # finding the number of timepoints\n",
    "    df_ = pyal.restrict_to_interval(df,epoch_fun=epoch)\n",
    "    n_timepoints = int(df_[field][0].shape[0])\n",
    "\n",
    "    # pre-allocating the data matrix\n",
    "    AllData = np.empty((len(data_list), n_shared_trial * n_timepoints, n_components))\n",
    "    AllVel  = np.empty((len(data_list), n_shared_trial * n_timepoints, 3))\n",
    "    \n",
    "    for session, df in enumerate(data_list):\n",
    "        df_ = pyal.restrict_to_interval(df, epoch_fun=epoch)\n",
    "        rates = np.concatenate(df_[field].values, axis=0)\n",
    "        rates -= np.mean(rates, axis=0)\n",
    "        rates_model = PCA(n_components=n_components, svd_solver='full').fit(rates)\n",
    "        df_ = pyal.apply_dim_reduce_model(df_, rates_model, field, '_pca');\n",
    "        \n",
    "        all_id = df_.trial_id.to_numpy()\n",
    "        rng.shuffle(all_id)\n",
    "        df_ = pyal.select_trials(df_, lambda trial: trial.trial_id in all_id[:n_shared_trial])\n",
    "        AllData[session, :, :] = np.concatenate(df_._pca.values, axis=0)\n",
    "        AllVel[session, :, :] = np.concatenate(df_.hTrjB.values, axis=0)\n",
    "        \n",
    "    return AllData, AllVel\n",
    "\n",
    "def add_history_to_data_array2(allData, n_hist):\n",
    "    \"\"\"\n",
    "    \"\"\"\n",
    "    assert allData.ndim == 3, 'Wrong input size'\n",
    "    newShape = list(allData.shape)\n",
    "    newShape[-1] *= (n_hist+1)\n",
    "    \n",
    "    out = np.empty(newShape)\n",
    "    for session,sessionData in enumerate(allData):\n",
    "        out[session,:,:] = dt.add_history(sessionData, n_hist)\n",
    "    return out\n"
   ]
  },
  {
   "cell_type": "code",
   "execution_count": 4,
   "id": "8c9f4000-5eea-430f-aa03-0908b07f0e4d",
   "metadata": {
    "tags": []
   },
   "outputs": [],
   "source": [
    "exec_epoch = pyal.generate_epoch_fun(start_point_name='idx_pull_off',\n",
    "                                     rel_start=int(-.5/defs.BIN_SIZE),\n",
    "                                     rel_end=int(-.035/defs.BIN_SIZE)\n",
    "                                    )\n",
    "# exec_epoch = pyal.generate_epoch_fun(start_point_name='idx_movement_on',\n",
    "#                                      rel_start=int(-.05/defs.BIN_SIZE),\n",
    "#                                      rel_end=int(.3/defs.BIN_SIZE)\n",
    "#                                     )"
   ]
  },
  {
   "cell_type": "code",
   "execution_count": 5,
   "id": "cc36f66b-ba70-46a3-8f59-51c66efe5749",
   "metadata": {},
   "outputs": [],
   "source": [
    "reg_scores = []\n",
    "\n",
    "for i, df in enumerate(AllDFs):\n",
    "    AllData, AllVel = get_data_array_and_vel3([df], exec_epoch, area=defs.areas[0], n_components=defs.n_components)\n",
    "    # adding history\n",
    "    AllData = add_history_to_data_array2(AllData,defs.MAX_HISTORY)\n",
    "\n",
    "    AllData1 = AllData[0,...]\n",
    "    AllVel1 = AllVel[0,...]\n",
    "    # resizing\n",
    "    _,n_time,n_comp = AllData.shape\n",
    "    X1 = AllData1.reshape((-1,n_comp))\n",
    "    AllVel1 = AllVel1.reshape((-1,3))\n",
    "    #remove NaNs from the data \n",
    "    nanIndex = np.isnan(AllVel1.T).nonzero()[1]\n",
    "    goodIndex = np.delete(np.arange(len(X1)), np.unique(nanIndex))\n",
    "    # print(f'timepoints removed = {len(np.unique(nanIndex))/len(X1)*100:2.1f}%')\n",
    "    \n",
    "    X1 = X1[goodIndex,:]\n",
    "    Y1 = AllVel1[goodIndex,:]\n",
    "    \n",
    "    scr1 = cross_val_score(LinearRegression(),X1,Y1[:,0],scoring=defs.custom_r2_scorer, cv=10)\n",
    "    scr2 = cross_val_score(LinearRegression(),X1,Y1[:,1],scoring=defs.custom_r2_scorer, cv=10)\n",
    "    scr3 = cross_val_score(LinearRegression(),X1,Y1[:,2],scoring=defs.custom_r2_scorer, cv=10)\n",
    "\n",
    "    reg_scores.append((i,(scr1.mean(),scr2.mean(),scr3.mean())))\n",
    "\n",
    "pop_score_day = []\n",
    "for _,scores in reg_scores:\n",
    "    pop_score_day.append(np.mean(scores))\n",
    "pop_score_day = np.array(pop_score_day)"
   ]
  },
  {
   "cell_type": "code",
   "execution_count": 6,
   "id": "abd45e03-e15a-4a5b-808b-849390eb03ac",
   "metadata": {},
   "outputs": [
    {
     "data": {
      "text/plain": [
       "Text(0.5, 1.0, 'Velocity Decoding --- within session')"
      ]
     },
     "execution_count": 6,
     "metadata": {},
     "output_type": "execute_result"
    },
    {
     "data": {
      "image/png": "[encoded data removed]",
      "text/plain": [
       "<Figure size 600x400 with 1 Axes>"
      ]
     },
     "metadata": {
      "needs_background": "light"
     },
     "output_type": "display_data"
    }
   ],
   "source": [
    "_,ax = plt.subplots(dpi=100)\n",
    "ax.plot(pop_score_day,'-o')\n",
    "ax.set_ylim([0,1])\n",
    "ax.set_xlabel('Sessions')\n",
    "ax.set_ylabel('Prediction accuracy ($R^2$)')\n",
    "ax.set_title('Velocity Decoding --- within session')"
   ]
  },
  {
   "cell_type": "markdown",
   "id": "1b8a4c64-1d26-430c-bf0c-ec6d7ac33894",
   "metadata": {
    "tags": []
   },
   "source": [
    "Now... Same as above, for different animals\n",
    "\n",
    "# Across animal decoding\n",
    "\n",
    "## With alignment "
   ]
  },
  {
   "cell_type": "code",
   "execution_count": 13,
   "id": "80f82835-b5b7-409f-be0f-adbd698fe1bb",
   "metadata": {},
   "outputs": [],
   "source": [
    "pairIndex_across = []\n",
    "for i, df1 in enumerate(AllDFs):\n",
    "    pairIndex_across.append((i,[]))\n",
    "    for j, df2 in enumerate(AllDFs):\n",
    "        if df1.mouse[0] == df2.mouse[0]: continue\n",
    "        pairIndex_across[-1][1].append(j)\n",
    "pairIndex_across = [(i,j) for i,jList in pairIndex_across for j in jList]"
   ]
  },
  {
   "cell_type": "code",
   "execution_count": null,
   "id": "8979a0d0-3725-4ae6-bab2-6db0cea5f661",
   "metadata": {},
   "outputs": [],
   "source": [
    "warnings.filterwarnings(\"ignore\")\n",
    "reg_scores_across = []\n",
    "for id1, testId in pairIndex_across:\n",
    "    AllData, AllVel = get_data_array_and_vel2([AllDFs[id1],AllDFs[testId]], defs.exec_epoch, area=defs.areas[0], n_components=defs.n_components)\n",
    "    \n",
    "    # adding history\n",
    "    AllData = dt.add_history_to_data_array(AllData,defs.MAX_HISTORY)\n",
    "\n",
    "    AllData1 = AllData[0,...]\n",
    "    AllData2 = AllData[1,...]\n",
    "    AllVel1 = AllVel[0,...]\n",
    "    AllVel2 = AllVel[1,...]\n",
    "    # resizing\n",
    "    _,n_trial,n_time,n_comp = np.min(np.array((AllData1.shape,AllData2.shape)),axis=0)\n",
    "\n",
    "    X1 = AllData1.reshape((-1,n_comp))\n",
    "    X2 = AllData2.reshape((-1,n_comp))\n",
    "    AllVel2 = AllVel2.reshape((-1,2))\n",
    "    AllVel1 = AllVel1.reshape((-1,2))\n",
    "\n",
    "    # train the decoder\n",
    "    *_,U,V = dt.canoncorr(X1, X2, fullReturn=True)\n",
    "    Y_train_x,Y_train_y = AllVel1.T\n",
    "    \n",
    "    reg_x, reg_y = LinearRegression(), LinearRegression()\n",
    "    reg_x.fit(U, Y_train_x)\n",
    "    reg_y.fit(U, Y_train_y)\n",
    "    # test the decoder\n",
    "    Y_test_x,Y_test_y = AllVel2.T\n",
    "    x_score = custom_r2_func(Y_test_x, reg_x.predict(V))\n",
    "    y_score = custom_r2_func(Y_test_y, reg_y.predict(V))\n",
    "    reg_scores_across.append((id1,testId,(x_score,y_score)))\n",
    "warnings.filterwarnings(\"default\")\n",
    "\n",
    "pop_score_across = []\n",
    "for _,_,scores in reg_scores_across:\n",
    "    pop_score_across.append(np.mean(scores))\n",
    "pop_score_across = np.array(pop_score_across)\n",
    "\n",
    "normalised_across_score = []\n",
    "for idx1, idx2, scores in reg_scores_across:\n",
    "    across_score = np.add(*scores)/2\n",
    "    animal_avg = np.mean([*animal_scores[full_list[idx1][0]], *animal_scores[full_list[idx2][0]]])\n",
    "    normalised_across_score.append(across_score/animal_avg)\n",
    "normalised_across_score = np.array(normalised_across_score)"
   ]
  },
  {
   "cell_type": "code",
   "execution_count": null,
   "id": "460e6a97-f858-43e9-812f-9f0ceb478a69",
   "metadata": {},
   "outputs": [],
   "source": [
    "_,ax = plt.subplots()\n",
    "ax.plot(pop_score_across,'-o')\n",
    "ax.set_ylim([0,1])\n",
    "ax.set_xlabel('Session pairs')\n",
    "ax.set_ylabel('Prediction accuracy ($R^2$)')\n",
    "ax.set_title('Velocity Decoding --- across animals')"
   ]
  },
  {
   "cell_type": "code",
   "execution_count": null,
   "id": "368c9eeb-baae-4f72-a004-0c175eab9997",
   "metadata": {},
   "outputs": [],
   "source": [
    "_,ax = plt.subplots()\n",
    "ax.plot(normalised_across_score,'-o')\n",
    "# ax.set_ylim([0,1])\n",
    "ax.set_xlabel('Session pairs')\n",
    "ax.set_ylabel(r'Normalised prediction accuracy')\n",
    "ax.set_title(r'Velocity Decoding: $\\frac{R^2_{across}}{max(R^2_{within})}$', pad = 15)"
   ]
  },
  {
   "cell_type": "markdown",
   "id": "f612a187-120a-4a65-a71f-5affa76741b7",
   "metadata": {},
   "source": [
    "## Without alignment"
   ]
  },
  {
   "cell_type": "code",
   "execution_count": null,
   "id": "641a32a9-be3c-4133-8a5f-a3370479ec6f",
   "metadata": {},
   "outputs": [],
   "source": [
    "warnings.filterwarnings(\"ignore\")\n",
    "reg_latent_scores = []\n",
    "for id1, testId in pairIndex_across:\n",
    "    AllData, AllVel = get_data_array_and_vel([allDFs[id1],allDFs[testId]], exec_epoch, area=areas[0], n_components=n_components)\n",
    "\n",
    "    # adding history\n",
    "    AllData = dt.add_history_to_data_array(AllData,MAX_HISTORY)\n",
    "\n",
    "    AllData1 = AllData[0,...]\n",
    "    AllData2 = AllData[1,...]\n",
    "    AllVel1 = AllVel[0,...]\n",
    "    AllVel2 = AllVel[1,...]\n",
    "    # resizing\n",
    "    _,n_trial,n_time,n_comp = np.min(np.array((AllData1.shape,AllData2.shape)),axis=0)\n",
    "    X1 = AllData1.reshape((-1,n_comp))\n",
    "    X2 = AllData2.reshape((-1,n_comp))\n",
    "    AllVel2 = AllVel2.reshape((-1,2))\n",
    "    AllVel1 = AllVel1.reshape((-1,2))\n",
    "\n",
    "    # train the decoder\n",
    "#     *_,U,V = dt.canoncorr(X1, X2, fullReturn=True)\n",
    "    Y_train_x,Y_train_y = AllVel1.T\n",
    "    \n",
    "    reg_x, reg_y = LinearRegression(), LinearRegression()\n",
    "    reg_x.fit(X1, Y_train_x)\n",
    "    reg_y.fit(X1, Y_train_y)\n",
    "    # test the decoder\n",
    "    Y_test_x,Y_test_y = AllVel2.T\n",
    "    x_score = custom_r2_func(Y_test_x, reg_x.predict(X2))\n",
    "    y_score = custom_r2_func(Y_test_y, reg_y.predict(X2))\n",
    "    reg_latent_scores.append((id1,testId,(x_score,y_score)))\n",
    "warnings.filterwarnings(\"default\")\n",
    "\n",
    "pop_latent_score = []\n",
    "for _,_,scores in reg_latent_scores:\n",
    "    pop_latent_score.append(np.mean(scores))\n",
    "pop_latent_score = np.array(pop_latent_score)\n",
    "\n",
    "normalised_latent_score = []\n",
    "for idx1, idx2, scores in reg_latent_scores:\n",
    "    across_score = np.add(*scores)/2\n",
    "    animal_avg = np.mean([*animal_scores[full_list[idx1][0]], *animal_scores[full_list[idx2][0]]])\n",
    "    normalised_latent_score.append(across_score/animal_avg)\n",
    "normalised_latent_score = np.array(normalised_latent_score)"
   ]
  },
  {
   "cell_type": "code",
   "execution_count": null,
   "id": "60bb3add-2369-4b4f-b59a-0656be65d9ed",
   "metadata": {},
   "outputs": [],
   "source": [
    "_,ax = plt.subplots()\n",
    "ax.plot(pop_latent_score,'-o')\n",
    "ax.set_ylim([0,1])\n",
    "ax.set_xlabel('Session pairs')\n",
    "ax.set_ylabel('Prediction accuracy ($R^2$)')\n",
    "ax.set_title('Velocity Decoding --- across animals without alignment')"
   ]
  },
  {
   "cell_type": "markdown",
   "id": "ece9e1e2-6e5b-4af4-82f2-6ec24077b5ff",
   "metadata": {},
   "source": [
    "# Universal Decoder"
   ]
  },
  {
   "cell_type": "code",
   "execution_count": null,
   "id": "b55f67b7-6d94-49b1-a219-e5c25f351963",
   "metadata": {},
   "outputs": [],
   "source": [
    "%run \"_M1-universal-decoding.ipynb\""
   ]
  },
  {
   "cell_type": "markdown",
   "id": "9e4c3fde-020a-4250-aa10-2f3d969a357b",
   "metadata": {},
   "source": [
    "# histograms"
   ]
  },
  {
   "cell_type": "code",
   "execution_count": null,
   "id": "57585ed5-7bba-46f6-a157-8a2f4ad826ef",
   "metadata": {},
   "outputs": [],
   "source": [
    "fig,ax = plt.subplots(dpi=100)\n",
    "\n",
    "bins = np.arange(0,1,0.05)\n",
    "ax.hist(pop_score_across, bins=bins, density=True, label=r'Across monkey (\\textit{aligned})', alpha=.8)\n",
    "# ax.hist(pop_score2, bins=bins, density=True, label='aligned across days', alpha=.8)\n",
    "ax.hist(pop_score_uni, bins=bins, density=True, label='Universal', alpha=.8)\n",
    "ax.hist(pop_score_day, bins=bins, density=True, label='Within monkey', alpha=.8)\n",
    "ax.hist(pop_latent_score, bins=bins, density=True, label=r'Across monkey (\\textit{unaligned})', alpha=.8)\n",
    "\n",
    "ax.set_title('Decoding velocity --- M1')\n",
    "ax.set_xlabel('Prediction accuracy ($R^2$)')\n",
    "ax.set_ylabel(r'Normalised \\# of sessions')\n",
    "ax.yaxis.set_major_locator(MaxNLocator(integer=True))\n",
    "ax.set_xlim([-.05,1])\n",
    "ax.legend(loc=(.2,.7))"
   ]
  }
 ],
 "metadata": {
  "interpreter": {
   "hash": "72da6499f934495e06c03d484049d4696c0f7b78c6b9c64cf8676e9ec2014a6a"
  },
  "kernelspec": {
   "display_name": "Python 3 (ipykernel)",
   "language": "python",
   "name": "python3"
  },
  "language_info": {
   "codemirror_mode": {
    "name": "ipython",
    "version": 3
   },
   "file_extension": ".py",
   "mimetype": "text/x-python",
   "name": "python",
   "nbconvert_exporter": "python",
   "pygments_lexer": "ipython3",
   "version": "3.9.7"
  }
 },
 "nbformat": 4,
 "nbformat_minor": 5
}
