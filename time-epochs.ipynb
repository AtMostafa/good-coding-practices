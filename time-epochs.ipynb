{
 "cells": [
  {
   "cell_type": "markdown",
   "id": "filled-candy",
   "metadata": {},
   "source": [
    "# part0: imports"
   ]
  },
  {
   "cell_type": "code",
   "execution_count": 73,
   "id": "destroyed-brisbane",
   "metadata": {},
   "outputs": [],
   "source": [
    "import os, sys, pathlib\n",
    "from pprint import pprint \n",
    "from importlib import reload\n",
    "import logging\n",
    "from typing import Callable\n",
    "logging.basicConfig(level=logging.ERROR)\n",
    "import warnings\n",
    "warnings.simplefilter(\"ignore\")\n",
    "\n",
    "\n",
    "\n",
    "import pandas as pd\n",
    "import numpy as np\n",
    "import xarray as xr\n",
    "from sklearn.decomposition import PCA\n",
    "import scipy.linalg as linalg\n",
    "\n",
    "import matplotlib.pyplot as plt\n",
    "import matplotlib.cm as cm\n",
    "import matplotlib\n",
    "from matplotlib.ticker import MaxNLocator\n",
    "\n",
    "\n",
    "from tools import utilityTools as utility\n",
    "from tools import dataTools as dt\n",
    "import pyaldata as pyal\n",
    "\n",
    "%matplotlib inline\n",
    "reload(dt)\n",
    "\n",
    "root = pathlib.Path(\"/data\")"
   ]
  },
  {
   "cell_type": "markdown",
   "id": "martial-credit",
   "metadata": {},
   "source": [
    "# Compare different epochs\n",
    "\n",
    "the idea is to see whether canonical axes between 2 animals provide a higher VAF for time epochs in the trial that they have not been trained on, compared to, for example, M1-PMd axes in a single animal.\n",
    "\n",
    "\n",
    "## VAF in a subspace\n",
    "\n",
    "Check the VAF for a single session as a test\n"
   ]
  },
  {
   "cell_type": "code",
   "execution_count": 2,
   "id": "possible-opposition",
   "metadata": {},
   "outputs": [],
   "source": [
    "animal= 'Chewie'\n",
    "fname = root / animal / \"Chewie_CO_CS_2016-10-21.mat\"\n",
    "\n",
    "df = pyal.mat2dataframe(fname, shift_idx_fields=True)"
   ]
  },
  {
   "cell_type": "markdown",
   "id": "guilty-lithuania",
   "metadata": {},
   "source": [
    "preprocessing"
   ]
  },
  {
   "cell_type": "code",
   "execution_count": 3,
   "id": "scenic-beach",
   "metadata": {},
   "outputs": [
    {
     "name": "stderr",
     "output_type": "stream",
     "text": [
      "/home/msafaie/REPOS/MyPyalData/pyaldata/tools.py:940: UserWarning: Assuming spikes are actually spikes and dividing by bin size.\n",
      "  utils.warnings.warn(\"Assuming spikes are actually spikes and dividing by bin size.\")\n",
      "/home/msafaie/REPOS/MyPyalData/pyaldata/tools.py:940: UserWarning: Assuming spikes are actually spikes and dividing by bin size.\n",
      "  utils.warnings.warn(\"Assuming spikes are actually spikes and dividing by bin size.\")\n"
     ]
    }
   ],
   "source": [
    "def get_target_id(trial):\n",
    "    return int(np.round((trial.target_direction + np.pi) / (0.25*np.pi))) - 1\n",
    "\n",
    "df = pyal.select_trials(df, df.result== 'R')\n",
    "df = pyal.select_trials(df, df.epoch=='BL')\n",
    "df = pyal.remove_low_firing_neurons(df, \"M1_spikes\", 1)\n",
    "df = pyal.remove_low_firing_neurons(df, \"PMd_spikes\", 1)\n",
    "\n",
    "df = pyal.add_firing_rates(df, 'smooth')\n",
    "\n",
    "df[\"target_id\"] = df.apply(get_target_id, axis=1)  # add a field `target_id` with int values"
   ]
  },
  {
   "cell_type": "markdown",
   "id": "apparent-angola",
   "metadata": {},
   "source": [
    "applying PCA for 300ms post movement onset"
   ]
  },
  {
   "cell_type": "code",
   "execution_count": 4,
   "id": "impressed-brave",
   "metadata": {},
   "outputs": [],
   "source": [
    "df_ = pyal.restrict_to_interval(df, start_point_name='idx_movement_on', rel_start=0, rel_end=30)\n",
    "\n",
    "M1_rates = np.concatenate(df_.M1_rates.values, axis=0)\n",
    "M1_rates -=np.mean(M1_rates,axis=0)\n",
    "\n",
    "M1_model = PCA(n_components=10, svd_solver='full');\n",
    "M1_model.fit(M1_rates);\n",
    "df_ = pyal.apply_dim_reduce_model(df_, M1_model, 'M1_rates', 'M1_pca');\n",
    "\n",
    "\n",
    "PMd_rates = np.concatenate(df_.PMd_rates.values, axis=0)\n",
    "PMd_rates -=np.mean(PMd_rates,axis=0)\n",
    "\n",
    "PMd_model = PCA(n_components=10, svd_solver='full');\n",
    "PMd_model.fit(PMd_rates);\n",
    "df_ = pyal.apply_dim_reduce_model(df_, PMd_model, 'PMd_rates', 'PMd_pca');"
   ]
  },
  {
   "cell_type": "markdown",
   "id": "thorough-bandwidth",
   "metadata": {},
   "source": [
    "to make life easy, just limit everything to 1 target"
   ]
  },
  {
   "cell_type": "code",
   "execution_count": 5,
   "id": "executed-settlement",
   "metadata": {},
   "outputs": [],
   "source": [
    "df__= pyal.select_trials(df_, df_.target_id ==4)"
   ]
  },
  {
   "cell_type": "markdown",
   "id": "architectural-amount",
   "metadata": {},
   "source": [
    "CCA on m1-pmd"
   ]
  },
  {
   "cell_type": "code",
   "execution_count": 6,
   "id": "civilian-stewart",
   "metadata": {},
   "outputs": [],
   "source": [
    "d0 = np.concatenate(df__['M1_pca'].values, axis=0)\n",
    "d1 = np.concatenate(df__['PMd_pca'].values, axis=0)\n",
    "\n",
    "n_samples = min ([d0.shape[0], d1.shape[0]])\n",
    "d0 = d0[:n_samples,:]\n",
    "d1 = d1[:n_samples,:]\n",
    "\n",
    "A, B, r, _, _ = dt.canoncorr(d0, d1, fullReturn=True)"
   ]
  },
  {
   "cell_type": "code",
   "execution_count": 7,
   "id": "blank-morning",
   "metadata": {},
   "outputs": [
    {
     "name": "stdout",
     "output_type": "stream",
     "text": [
      "the CCs are:[8.96324810e-01 8.45333297e-01 6.09736330e-01 5.31759284e-01\n",
      " 4.53251615e-01 3.78936008e-01 2.34072941e-01 1.31709437e-01\n",
      " 7.19664795e-02 7.97605354e-04]\n"
     ]
    }
   ],
   "source": [
    "print(f'the CCs are:{r}')"
   ]
  },
  {
   "cell_type": "markdown",
   "id": "composed-spirituality",
   "metadata": {},
   "source": [
    "Based on the Gallego Nat Comm 2018 paper and some playing (data and projection matrices in the paper are row-wise): \n",
    "$$\\%VAF=\\frac{norm(X)-norm(X-XC^TA(A^TA)^{-1}A^TC)}{norm(X)}$$\n",
    "where:\n",
    "- $A$ is the CCA output, the output of the `canoncorr` function\n",
    "- $C$ is the `PCA_model.components_`\n",
    "- $X$ is the data matrix, $T\\times n$ with $T$ time points and $n$ neurons, and each neuron is **zero mean**\n",
    "- $norm$ is sum of squared elements  "
   ]
  },
  {
   "cell_type": "code",
   "execution_count": 8,
   "id": "standard-dealer",
   "metadata": {},
   "outputs": [
    {
     "data": {
      "text/plain": [
       "0.6482088310037387"
      ]
     },
     "execution_count": 8,
     "metadata": {},
     "output_type": "execute_result"
    }
   ],
   "source": [
    "C = M1_model.components_\n",
    "X = M1_rates\n",
    "norm = lambda m:np.sum(m**2)\n",
    "\n",
    "VAF = norm(X) - norm(X-X@C.T@A@linalg.inv(A.T@A)@A.T@C)\n",
    "VAF /= norm(X)\n",
    "\n",
    "VAF"
   ]
  },
  {
   "cell_type": "markdown",
   "id": "supported-melissa",
   "metadata": {},
   "source": [
    "Seems to give reasonable results: lowering number of PCs reduces the VAF.\n",
    "\n",
    "However, there are problems:\n",
    "- the formulation in the paper, gives a VAF for each dimension, so the formula above should be applied to individual axes.\n",
    "- It is already implemented in MATLAB [here](https://github.com/limblab/proc-juan/blob/65dd81a1fc0ddb23def8039df9053a2be3e9bf88/paper_cross-task_manifold_review/vaf_CCs.m#L114), which uses the VAF function from the dPCA paper [here](https://github.com/machenslab/dPCA/blob/master/matlab/dpca_explainedVariance.m). I should translate that to compare?!?\n",
    "\n",
    "> The value above actually equals to the total VAF :)\n",
    "\n",
    "### dimension-wise VFA"
   ]
  },
  {
   "cell_type": "code",
   "execution_count": 9,
   "id": "seasonal-crown",
   "metadata": {},
   "outputs": [
    {
     "name": "stdout",
     "output_type": "stream",
     "text": [
      "VAF for each axis: [0.02676476 0.10622462 0.00220823 0.09365388 0.07488183 0.08086034\n",
      " 0.0431955  0.07888466 0.06745041 0.07408459] \n",
      " total: 0.6482088310037387\n"
     ]
    }
   ],
   "source": [
    "D = linalg.inv(A.T@A)@A.T@C\n",
    "E = C.T@A\n",
    "\n",
    "VAFs=np.empty((C.shape[0],))\n",
    "\n",
    "for comp in range(1,C.shape[0]+1):\n",
    "\n",
    "    VAF = norm(X - X @ E[:,:comp] @ D[:comp,:]) / norm(X)\n",
    "    VAFs[comp-1] = 1-VAF\n",
    "\n",
    "VAFs = np.array([VAFs[0],*np.diff(VAFs)])\n",
    "print(f'VAF for each axis: {VAFs} \\n total: {sum(VAFs)}')"
   ]
  },
  {
   "cell_type": "markdown",
   "id": "expected-russian",
   "metadata": {},
   "source": [
    "In a concise function below:"
   ]
  },
  {
   "cell_type": "code",
   "execution_count": 10,
   "id": "rural-confidence",
   "metadata": {},
   "outputs": [
    {
     "name": "stdout",
     "output_type": "stream",
     "text": [
      "[0.02676476 0.10622462 0.00220823 0.09365388 0.07488183 0.08086034\n",
      " 0.0431955  0.07888466 0.06745041 0.07408459]\n"
     ]
    }
   ],
   "source": [
    "print(dt.VAF_pc_cc(X,C,A))"
   ]
  },
  {
   "cell_type": "markdown",
   "id": "developing-satin",
   "metadata": {},
   "source": [
    "---\n",
    "\n",
    "back to the original idea:\n",
    "\n",
    "1. this:\n",
    "> # Compare different epochs\n",
    "> the idea is to see whether canonical axes between 2 animals provide a higher VAF for time epochs in the trial that they have not been trained on, compared to, for example, M1-PMd axes in a single animal.\n",
    "\n",
    "2. and a similar but different idea:\n",
    "> two monkeys during the same epoch vs. one monkey between 2 different epochs.\n",
    "i.e., preparation vs execution, ...\n",
    "\n",
    "\n",
    "#### Try the second idea first:"
   ]
  },
  {
   "cell_type": "code",
   "execution_count": 11,
   "id": "interpreted-colony",
   "metadata": {},
   "outputs": [
    {
     "name": "stdout",
     "output_type": "stream",
     "text": [
      "['/data/Chewie/Chewie_CO_CS_2016-10-14.mat',\n",
      " '/data/Chewie/Chewie_CO_CS_2016-10-21.mat',\n",
      " '/data/Mihili/Mihili_CO_CS_2015-05-12.mat',\n",
      " '/data/Mihili/Mihili_CO_CS_2014-09-29.mat',\n",
      " '/data/Mihili/Mihili_CO_CS_2015-05-11.mat',\n",
      " '/data/Mihili/Mihili_CO_CS_2014-06-26.mat',\n",
      " '/data/Mihili/Mihili_CO_CS_2014-06-27.mat',\n",
      " '/data/Mihili/Mihili_CO_CS_2014-12-03.mat']\n"
     ]
    }
   ],
   "source": [
    "animalList = ['Chewie', 'Mihili']\n",
    "\n",
    "animalFiles={}\n",
    "for animal in animalList:\n",
    "    animalFiles[animal] = utility.find_file(root / animal,'mat')\n",
    "\n",
    "# just keeping the CS sessions\n",
    "goodFiles = [file for animal in animalFiles for file in animalFiles[animal] if 'CS' in file]\n",
    "pprint(goodFiles)\n",
    "\n",
    "# keeping 1 session per animal\n",
    "fileList = ['/data/Chewie/Chewie_CO_CS_2016-10-14.mat', '/data/Mihili/Mihili_CO_VR_2014-03-03.mat']"
   ]
  },
  {
   "cell_type": "code",
   "execution_count": 45,
   "id": "daily-classics",
   "metadata": {},
   "outputs": [],
   "source": [
    "df_data=[]\n",
    "for fname in fileList:\n",
    "    df = pyal.mat2dataframe(fname, shift_idx_fields=True)\n",
    "    df_data.append(df)"
   ]
  },
  {
   "cell_type": "markdown",
   "id": "wired-vacation",
   "metadata": {},
   "source": [
    "preprocessing:"
   ]
  },
  {
   "cell_type": "code",
   "execution_count": 13,
   "id": "abstract-junior",
   "metadata": {},
   "outputs": [
    {
     "name": "stderr",
     "output_type": "stream",
     "text": [
      "/home/msafaie/REPOS/MyPyalData/pyaldata/tools.py:940: UserWarning: Assuming spikes are actually spikes and dividing by bin size.\n",
      "  utils.warnings.warn(\"Assuming spikes are actually spikes and dividing by bin size.\")\n",
      "/home/msafaie/REPOS/MyPyalData/pyaldata/tools.py:940: UserWarning: Assuming spikes are actually spikes and dividing by bin size.\n",
      "  utils.warnings.warn(\"Assuming spikes are actually spikes and dividing by bin size.\")\n",
      "/home/msafaie/REPOS/MyPyalData/pyaldata/tools.py:940: UserWarning: Assuming spikes are actually spikes and dividing by bin size.\n",
      "  utils.warnings.warn(\"Assuming spikes are actually spikes and dividing by bin size.\")\n",
      "/home/msafaie/REPOS/MyPyalData/pyaldata/tools.py:940: UserWarning: Assuming spikes are actually spikes and dividing by bin size.\n",
      "  utils.warnings.warn(\"Assuming spikes are actually spikes and dividing by bin size.\")\n"
     ]
    }
   ],
   "source": [
    "def prep_exec_all_targets (df, n_components=10):\n",
    "    \"preprocessing for execution eopch\"\n",
    "    df[\"target_id\"] = df.apply(get_target_id, axis=1)  # add a field `target_id` with int values\n",
    "\n",
    "    df_= pyal.add_firing_rates(df, 'smooth')\n",
    "    \n",
    "    df_= pyal.select_trials(df_, df_.result== 'R')\n",
    "    df_= pyal.select_trials(df_, df_.epoch=='BL')\n",
    "    \n",
    "    df_ = pyal.remove_low_firing_neurons(df_, \"M1_spikes\", 1)\n",
    "    df_ = pyal.remove_low_firing_neurons(df_, \"PMd_spikes\", 1)\n",
    "    \n",
    "    df_ = pyal.restrict_to_interval(df_, start_point_name='idx_movement_on', rel_start=0, rel_end=30)\n",
    "    \n",
    "    M1_rates = np.concatenate(df_.M1_rates.values, axis=0)\n",
    "    pca_model = PCA(n_components=n_components, svd_solver='full');\n",
    "    pca_model.fit(M1_rates);\n",
    "    df_ = pyal.apply_dim_reduce_model(df_, pca_model, 'M1_rates', 'M1_pca');\n",
    "\n",
    "    PMd_rates = np.concatenate(df_.PMd_rates.values, axis=0)\n",
    "    pca_model = PCA(n_components=n_components, svd_solver='full');\n",
    "    pca_model.fit(PMd_rates);\n",
    "    df_ = pyal.apply_dim_reduce_model(df_, pca_model, 'PMd_rates', 'PMd_pca');\n",
    "\n",
    "    \n",
    "    return df_\n",
    "\n",
    "\n",
    "df_data_exec = [prep_exec_all_targets(df) for  df in df_data]"
   ]
  },
  {
   "cell_type": "code",
   "execution_count": 14,
   "id": "realistic-armenia",
   "metadata": {},
   "outputs": [
    {
     "name": "stderr",
     "output_type": "stream",
     "text": [
      "/home/msafaie/REPOS/MyPyalData/pyaldata/tools.py:940: UserWarning: Assuming spikes are actually spikes and dividing by bin size.\n",
      "  utils.warnings.warn(\"Assuming spikes are actually spikes and dividing by bin size.\")\n",
      "/home/msafaie/REPOS/MyPyalData/pyaldata/tools.py:940: UserWarning: Assuming spikes are actually spikes and dividing by bin size.\n",
      "  utils.warnings.warn(\"Assuming spikes are actually spikes and dividing by bin size.\")\n",
      "/home/msafaie/REPOS/MyPyalData/pyaldata/tools.py:940: UserWarning: Assuming spikes are actually spikes and dividing by bin size.\n",
      "  utils.warnings.warn(\"Assuming spikes are actually spikes and dividing by bin size.\")\n",
      "/home/msafaie/REPOS/MyPyalData/pyaldata/tools.py:940: UserWarning: Assuming spikes are actually spikes and dividing by bin size.\n",
      "  utils.warnings.warn(\"Assuming spikes are actually spikes and dividing by bin size.\")\n"
     ]
    }
   ],
   "source": [
    "def prep_prep_all_targets (df, n_components=10):\n",
    "    \"preprocessing for Preparation epoch\"\n",
    "    df[\"target_id\"] = df.apply(get_target_id, axis=1)  # add a field `target_id` with int values\n",
    "\n",
    "    df_= pyal.add_firing_rates(df, 'smooth')\n",
    "    \n",
    "    df_= pyal.select_trials(df_, df_.result== 'R')\n",
    "    df_= pyal.select_trials(df_, df_.epoch=='BL')\n",
    "    \n",
    "    df_ = pyal.remove_low_firing_neurons(df_, \"M1_spikes\", 1)\n",
    "    df_ = pyal.remove_low_firing_neurons(df_, \"PMd_spikes\", 1)\n",
    "    \n",
    "    df_ = pyal.restrict_to_interval(df_, start_point_name='idx_movement_on', rel_start=-30, rel_end=0)\n",
    "    \n",
    "    M1_rates = np.concatenate(df_.M1_rates.values, axis=0)\n",
    "    pca_model = PCA(n_components=n_components, svd_solver='full');\n",
    "    pca_model.fit(M1_rates);\n",
    "    df_ = pyal.apply_dim_reduce_model(df_, pca_model, 'M1_rates', 'M1_pca');\n",
    "\n",
    "    PMd_rates = np.concatenate(df_.PMd_rates.values, axis=0)\n",
    "    pca_model = PCA(n_components=n_components, svd_solver='full');\n",
    "    pca_model.fit(PMd_rates);\n",
    "    df_ = pyal.apply_dim_reduce_model(df_, pca_model, 'PMd_rates', 'PMd_pca');\n",
    "\n",
    "    \n",
    "    return df_\n",
    "\n",
    "\n",
    "df_data_prep = [prep_prep_all_targets(df) for  df in df_data]"
   ]
  },
  {
   "cell_type": "markdown",
   "id": "genuine-convention",
   "metadata": {},
   "source": [
    "plot"
   ]
  },
  {
   "cell_type": "code",
   "execution_count": 15,
   "id": "peaceful-afghanistan",
   "metadata": {},
   "outputs": [
    {
     "data": {
      "image/png": "[encoded data removed]",
      "text/plain": [
       "<Figure size 432x288 with 1 Axes>"
      ]
     },
     "metadata": {
      "needs_background": "light"
     },
     "output_type": "display_data"
    }
   ],
   "source": [
    "fig,ax = plt.subplots()\n",
    "\n",
    "CC=[]\n",
    "for target in range(8):\n",
    "    dfs_prep = [pyal.select_trials(df_,df_.target_id==target) for df_ in df_data_prep]\n",
    "    dfs_exec = [pyal.select_trials(df_,df_.target_id==target) for df_ in df_data_exec]\n",
    "    \n",
    "    # PMd prep: mon1~mon2\n",
    "    CC.append(dt.CCA_pyal(dfs_prep[0],'PMd_pca', dfs_prep[1],'PMd_pca'))\n",
    "    # M1 exec: mon1~mon2\n",
    "    CC.append(dt.CCA_pyal(dfs_exec[0],'M1_pca', dfs_exec[1],'M1_pca'))\n",
    "    # m1 mon1: prep~exec\n",
    "    CC.append(dt.CCA_pyal(dfs_prep[0],'M1_pca', dfs_exec[0],'M1_pca'))\n",
    "    # PMd mon1: prep~exec\n",
    "    CC.append(dt.CCA_pyal(dfs_prep[0],'PMd_pca', dfs_exec[0],'PMd_pca'))\n",
    "\n",
    "CC= np.array(CC)\n",
    "\n",
    "utility.shaded_errorbar(ax,CC[0::8,:].T, label='PMd prep: mon1~mon2')\n",
    "utility.shaded_errorbar(ax,CC[1::8,:].T, label='M1 exec: mon1~mon2')\n",
    "utility.shaded_errorbar(ax,CC[2::8,:].T,ls='--',label='m1 mon1: prep~exec')\n",
    "utility.shaded_errorbar(ax,CC[3::8,:].T,ls='--',label='PMd mon1: prep~exec')\n",
    "\n",
    "ax.set_xlabel('components')\n",
    "ax.set_ylabel('canonical correlation')\n",
    "ax.legend()\n",
    "ax.set_ylim([0,1])\n",
    "ax.xaxis.set_major_locator(MaxNLocator(integer=True))\n",
    "ax.set_title('CCA --- average across targets', usetex=True);"
   ]
  },
  {
   "attachments": {
    "61b08995-c82d-4b65-83e0-c9a72bc6cedd.png": {
     "image/png": "[encoded data removed]"
    }
   },
   "cell_type": "markdown",
   "id": "verified-particle",
   "metadata": {},
   "source": [
    "similar results from prep~exec of Monkey2:\n",
    "\n",
    "![image.png](attachment:61b08995-c82d-4b65-83e0-c9a72bc6cedd.png)\n",
    "\n",
    "---\n",
    "\n",
    "what about the VAF?  \n",
    "I'll look at VAF, instead of correlation, in the plot above"
   ]
  },
  {
   "cell_type": "code",
   "execution_count": 72,
   "id": "clinical-camping",
   "metadata": {},
   "outputs": [],
   "source": [
    "def epoch_pyal (start_point_name: str =None, end_point_name: str =None, rel_start: int =0, rel_end: int =0):\n",
    "    \"Set the parameters for a time epoch\"\n",
    "    def restrict_to_interval(df: pd.DataFrame) -> pd.DataFrame:\n",
    "        \"Apply the interval (time epoch) to the Pyal DataFrame\"\n",
    "        return pyal.restrict_to_interval(df, start_point_name=start_point_name, end_point_name=end_point_name, rel_start=rel_start, rel_end=rel_end)\n",
    "    return restrict_to_interval"
   ]
  },
  {
   "cell_type": "code",
   "execution_count": 93,
   "id": "incomplete-stevens",
   "metadata": {},
   "outputs": [],
   "source": [
    "def VAF_pc_cc_pyal(df1:pd.DataFrame, field1: str, epoch1:type(epoch_pyal), target1: int,\n",
    "             df2:pd.DataFrame, field2: str, epoch2:type(epoch_pyal), target2: int) -> (np.ndarray, np.ndarray):\n",
    "    \"\"\"\n",
    "    Measure VAF for each CCA axis, between 2 DataFrames, fields, time epochs, and targets.\n",
    "    epoch1, epoch2: an instance of `epoch_pyal` function\n",
    "    \"\"\"\n",
    "    if \"target_id\" not in df1.columns:\n",
    "        df1[\"target_id\"] = df1.apply(get_target_id, axis=1)\n",
    "    if \"target_id\" not in df2.columns:\n",
    "        df2[\"target_id\"] = df2.apply(get_target_id, axis=1)\n",
    " \n",
    "    df1 = epoch1(df1)\n",
    "    rates_1 = np.concatenate(df1[field1].values, axis=0)\n",
    "    rates_1 -= np.mean(rates_1,axis=0)\n",
    "    rates_1_model = PCA(n_components=10, svd_solver='full').fit(rates_1)\n",
    "    rates_1_C = rates_1_model.components_\n",
    "    df1 = pyal.apply_dim_reduce_model(df1, rates_1_model, field1, '_pca');\n",
    "\n",
    "    \n",
    "    df1 = pyal.select_trials(df1, df1.target_id==target1)\n",
    "    pca_1_target = np.concatenate(df1['_pca'].values, axis=0)\n",
    "\n",
    "    \n",
    "    df2 = epoch1(df2)\n",
    "    rates_2 = np.concatenate(df2[field2].values, axis=0)\n",
    "    rates_2 -= np.mean(rates_2,axis=0)\n",
    "    rates_2_model = PCA(n_components=10, svd_solver='full').fit(rates_2)\n",
    "    rates_2_C = rates_2_model.components_\n",
    "    df2 = pyal.apply_dim_reduce_model(df2, rates_2_model, field2, '_pca');\n",
    "    \n",
    "    df2 = pyal.select_trials(df2, df2.target_id==target2)\n",
    "    pca_2_target = np.concatenate(df2['_pca'].values, axis=0)\n",
    "    \n",
    "    \n",
    "    # same number of timepoints in both matrices\n",
    "    n_samples = min ([pca_1_target.shape[0], pca_2_target.shape[0]])\n",
    "    pca_1_target = pca_1_target[:n_samples,:]\n",
    "    pca_2_target = pca_2_target[:n_samples,:]\n",
    "\n",
    "    A, B, _, _, _ = dt.canoncorr(pca_1_target, pca_2_target, fullReturn=True)\n",
    "    VAFs1 = dt.VAF_pc_cc(rates_1, rates_1_C, A)\n",
    "    VAFs2 = dt.VAF_pc_cc(rates_2, rates_2_C, B)\n",
    "    \n",
    "    return VAFs1, VAFs2\n"
   ]
  },
  {
   "cell_type": "code",
   "execution_count": 94,
   "id": "outer-stadium",
   "metadata": {},
   "outputs": [],
   "source": [
    "def prep_general (df, n_components=10):\n",
    "    \"preprocessing general!\"\n",
    "    df[\"target_id\"] = df.apply(get_target_id, axis=1)  # add a field `target_id` with int values\n",
    "\n",
    "    df_= pyal.add_firing_rates(df, 'smooth')\n",
    "    \n",
    "    df_= pyal.select_trials(df_, df_.result== 'R')\n",
    "    df_= pyal.select_trials(df_, df_.epoch=='BL')\n",
    "    \n",
    "    df_ = pyal.remove_low_firing_neurons(df_, \"M1_spikes\", 1)\n",
    "    df_ = pyal.remove_low_firing_neurons(df_, \"PMd_spikes\", 1)\n",
    "    return df_\n",
    "\n",
    "\n",
    "df_data_ready = [prep_general(df) for  df in df_data]\n",
    "\n",
    "prep_epoch = epoch_pyal(start_point_name='idx_movement_on', rel_start=-30, rel_end=0)\n",
    "exec_epoch = epoch_pyal(start_point_name='idx_movement_on', rel_start=0, rel_end=30)"
   ]
  },
  {
   "cell_type": "code",
   "execution_count": 95,
   "id": "wicked-enterprise",
   "metadata": {},
   "outputs": [],
   "source": [
    "a,b = VAF_pc_cc_pyal(df1=df_data_ready[0], field1='M1_rates', epoch1=prep_epoch, target1=0,\n",
    "               df2=df_data_ready[1], field2='M1_rates', epoch2=prep_epoch, target2=0)"
   ]
  },
  {
   "cell_type": "code",
   "execution_count": 96,
   "id": "convertible-fashion",
   "metadata": {},
   "outputs": [
    {
     "data": {
      "text/plain": [
       "(0.6502203347968962, 0.704164975571471)"
      ]
     },
     "execution_count": 96,
     "metadata": {},
     "output_type": "execute_result"
    }
   ],
   "source": [
    "sum(a),sum(b)"
   ]
  },
  {
   "cell_type": "code",
   "execution_count": 115,
   "id": "useful-formation",
   "metadata": {},
   "outputs": [
    {
     "data": {
      "image/png": "[encoded data removed]",
      "text/plain": [
       "<Figure size 432x288 with 1 Axes>"
      ]
     },
     "metadata": {
      "needs_background": "light"
     },
     "output_type": "display_data"
    }
   ],
   "source": [
    "fig,ax = plt.subplots()\n",
    "\n",
    "\n",
    "CC=[]\n",
    "\n",
    "for target in range(8):\n",
    "    # PMd prep: mon1~mon2\n",
    "    a,b=VAF_pc_cc_pyal(df1=df_data_ready[0], field1='PMd_rates', epoch1=prep_epoch, target1=target,\n",
    "                       df2=df_data_ready[1], field2='PMd_rates', epoch2=prep_epoch, target2=target)\n",
    "    CC.append((a+b)/2)\n",
    "\n",
    "    # M1 exec: mon1~mon2\n",
    "    a,b=VAF_pc_cc_pyal(df1=df_data_ready[0], field1='M1_rates', epoch1=exec_epoch, target1=target,\n",
    "                       df2=df_data_ready[1], field2='M1_rates', epoch2=exec_epoch, target2=target)\n",
    "    CC.append((a+b)/2)\n",
    "\n",
    "    # m1 mon1: prep~exec\n",
    "    a,b=VAF_pc_cc_pyal(df1=df_data_ready[0], field1='M1_rates', epoch1=prep_epoch, target1=target,\n",
    "                       df2=df_data_ready[0], field2='M1_rates', epoch2=exec_epoch, target2=target)\n",
    "    CC.append((a+b)/2)\n",
    "\n",
    "    # PMd mon1: prep~exec\n",
    "    a,b=VAF_pc_cc_pyal(df1=df_data_ready[0], field1='PMd_rates', epoch1=prep_epoch, target1=target,\n",
    "                       df2=df_data_ready[0], field2='PMd_rates', epoch2=exec_epoch, target2=target)\n",
    "    CC.append((a+b)/2)\n",
    "\n",
    "\n",
    "CC= np.array(CC)\n",
    "\n",
    "utility.shaded_errorbar(ax,np.cumsum(CC[0::8,:].T,axis=0), label='PMd prep: mon1~mon2')\n",
    "utility.shaded_errorbar(ax,np.cumsum(CC[1::8,:].T,axis=0), label='M1 exec: mon1~mon2')\n",
    "utility.shaded_errorbar(ax,np.cumsum(CC[2::8,:].T,axis=0),ls='--',label='m1 mon1: prep~exec')\n",
    "utility.shaded_errorbar(ax,np.cumsum(CC[3::8,:].T,axis=0),ls='--',label='PMd mon1: prep~exec')\n",
    "\n",
    "ax.set_xlabel('components')\n",
    "ax.set_ylabel('cumulative VAF')\n",
    "ax.legend()\n",
    "ax.set_ylim([0,1])\n",
    "ax.xaxis.set_major_locator(MaxNLocator(integer=True))\n",
    "ax.set_title('CCA --- average across targets', usetex=True);"
   ]
  },
  {
   "cell_type": "markdown",
   "id": "addressed-probability",
   "metadata": {},
   "source": [
    "But the problem is that there are some negative VAF values in the data, for instance:\n",
    "`CC[0::8,:].T[:,0]` equals:  \n",
    "`array([ 0.02796096, -0.02232802,  0.01273408,  0.059073,  0.05136983,  0.04561993,  0.01131165,  0.16620779,  0.09269115,  0.11831196])`"
   ]
  }
 ],
 "metadata": {
  "kernelspec": {
   "display_name": "Python 3",
   "language": "python",
   "name": "python3"
  },
  "language_info": {
   "codemirror_mode": {
    "name": "ipython",
    "version": 3
   },
   "file_extension": ".py",
   "mimetype": "text/x-python",
   "name": "python",
   "nbconvert_exporter": "python",
   "pygments_lexer": "ipython3",
   "version": "3.9.2"
  }
 },
 "nbformat": 4,
 "nbformat_minor": 5
}
