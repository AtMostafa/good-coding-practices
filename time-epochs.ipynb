{
 "cells": [
  {
   "cell_type": "markdown",
   "id": "prime-archive",
   "metadata": {},
   "source": [
    "# part0: imports"
   ]
  },
  {
   "cell_type": "code",
   "execution_count": 1,
   "id": "concerned-crown",
   "metadata": {},
   "outputs": [],
   "source": [
    "import os, sys, pathlib\n",
    "from pprint import pprint \n",
    "from importlib import reload\n",
    "import logging\n",
    "logging.basicConfig(level=logging.ERROR)\n",
    "import warnings\n",
    "warnings.simplefilter(\"ignore\")\n",
    "\n",
    "\n",
    "import pandas as pd\n",
    "import numpy as np\n",
    "import xarray as xr\n",
    "from sklearn.decomposition import PCA\n",
    "import scipy.linalg as linalg\n",
    "\n",
    "import matplotlib.pyplot as plt\n",
    "import matplotlib.cm as cm\n",
    "import matplotlib\n",
    "from matplotlib.ticker import MaxNLocator\n",
    "\n",
    "\n",
    "from tools import utilityTools as utility\n",
    "from tools import dataTools as dt\n",
    "import pyaldata as pyal\n",
    "\n",
    "%matplotlib inline\n",
    "\n",
    "root = pathlib.Path(\"/data\")"
   ]
  },
  {
   "cell_type": "markdown",
   "id": "enormous-respondent",
   "metadata": {},
   "source": [
    "# Compare different epochs\n",
    "\n",
    "the idea is to see whether canonical axes between 2 animals provide a higher VAF for time epochs in the trial that they have not been trained on, compared to, for example, M1-PMd axes in a single animal.\n",
    "\n",
    "\n",
    "## VAF in a subspace\n",
    "\n",
    "Check the VAF for a single session as a test\n"
   ]
  },
  {
   "cell_type": "code",
   "execution_count": 2,
   "id": "immune-touch",
   "metadata": {},
   "outputs": [],
   "source": [
    "animal= 'Chewie'\n",
    "fname = root / animal / \"Chewie_CO_CS_2016-10-21.mat\"\n",
    "\n",
    "df = pyal.mat2dataframe(fname, shift_idx_fields=True)"
   ]
  },
  {
   "cell_type": "markdown",
   "id": "institutional-selection",
   "metadata": {},
   "source": [
    "preprocessing"
   ]
  },
  {
   "cell_type": "code",
   "execution_count": 3,
   "id": "invalid-comfort",
   "metadata": {},
   "outputs": [
    {
     "name": "stderr",
     "output_type": "stream",
     "text": [
      "/home/msafaie/REPOS/MyPyalData/pyaldata/tools.py:940: UserWarning: Assuming spikes are actually spikes and dividing by bin size.\n",
      "  utils.warnings.warn(\"Assuming spikes are actually spikes and dividing by bin size.\")\n",
      "/home/msafaie/REPOS/MyPyalData/pyaldata/tools.py:940: UserWarning: Assuming spikes are actually spikes and dividing by bin size.\n",
      "  utils.warnings.warn(\"Assuming spikes are actually spikes and dividing by bin size.\")\n"
     ]
    }
   ],
   "source": [
    "def get_target_id(trial):\n",
    "    return int(np.round((trial.target_direction + np.pi) / (0.25*np.pi))) - 1\n",
    "\n",
    "df = pyal.select_trials(df, df.result== 'R')\n",
    "df = pyal.select_trials(df, df.epoch=='BL')\n",
    "df = pyal.remove_low_firing_neurons(df, \"M1_spikes\", 1)\n",
    "df = pyal.remove_low_firing_neurons(df, \"PMd_spikes\", 1)\n",
    "\n",
    "df = pyal.add_firing_rates(df, 'smooth')\n",
    "\n",
    "df[\"target_id\"] = df.apply(get_target_id, axis=1)  # add a field `target_id` with int values"
   ]
  },
  {
   "cell_type": "markdown",
   "id": "incorrect-faculty",
   "metadata": {},
   "source": [
    "applying PCA for 300ms post movement onset"
   ]
  },
  {
   "cell_type": "code",
   "execution_count": 4,
   "id": "alternative-format",
   "metadata": {},
   "outputs": [],
   "source": [
    "df_ = pyal.restrict_to_interval(df, start_point_name='idx_movement_on', rel_start=0, rel_end=30)\n",
    "\n",
    "M1_rates = np.concatenate(df_.M1_rates.values, axis=0)\n",
    "M1_rates -=np.mean(M1_rates,axis=0)\n",
    "\n",
    "M1_model = PCA(n_components=10, svd_solver='full');\n",
    "M1_model.fit(M1_rates);\n",
    "df_ = pyal.apply_dim_reduce_model(df_, M1_model, 'M1_rates', 'M1_pca');\n",
    "\n",
    "\n",
    "PMd_rates = np.concatenate(df_.PMd_rates.values, axis=0)\n",
    "PMd_rates -=np.mean(PMd_rates,axis=0)\n",
    "\n",
    "PMd_model = PCA(n_components=10, svd_solver='full');\n",
    "PMd_model.fit(PMd_rates);\n",
    "df_ = pyal.apply_dim_reduce_model(df_, PMd_model, 'PMd_rates', 'PMd_pca');"
   ]
  },
  {
   "cell_type": "markdown",
   "id": "baking-profession",
   "metadata": {},
   "source": [
    "to make life easy, just limit everything to 1 target"
   ]
  },
  {
   "cell_type": "code",
   "execution_count": 5,
   "id": "developmental-investigation",
   "metadata": {},
   "outputs": [],
   "source": [
    "df__= pyal.select_trials(df_, df_.target_id ==4)"
   ]
  },
  {
   "cell_type": "markdown",
   "id": "green-dover",
   "metadata": {},
   "source": [
    "CCA on m1-pmd"
   ]
  },
  {
   "cell_type": "code",
   "execution_count": 6,
   "id": "unavailable-thursday",
   "metadata": {},
   "outputs": [],
   "source": [
    "d0 = np.concatenate(df__['M1_pca'].values, axis=0)\n",
    "d1 = np.concatenate(df__['PMd_pca'].values, axis=0)\n",
    "\n",
    "n_samples = min ([d0.shape[0], d1.shape[0]])\n",
    "d0 = d0[:n_samples,:]\n",
    "d1 = d1[:n_samples,:]\n",
    "\n",
    "A, B, r, _, _ = dt.canoncorr(d0, d1, fullReturn=True)"
   ]
  },
  {
   "cell_type": "code",
   "execution_count": 7,
   "id": "substantial-visiting",
   "metadata": {},
   "outputs": [
    {
     "name": "stdout",
     "output_type": "stream",
     "text": [
      "the CCs are:[8.96324810e-01 8.45333297e-01 6.09736330e-01 5.31759284e-01\n",
      " 4.53251615e-01 3.78936008e-01 2.34072941e-01 1.31709437e-01\n",
      " 7.19664795e-02 7.97605354e-04]\n"
     ]
    }
   ],
   "source": [
    "print(f'the CCs are:{r}')"
   ]
  },
  {
   "cell_type": "markdown",
   "id": "greater-dollar",
   "metadata": {},
   "source": [
    "Based on the Gallego Nat Comm 2018 paper and some playing (data and projection matrices in the paper are row-wise): \n",
    "$$\\%VAF=\\frac{norm(X)-norm(X-XC^TA(A^TA)^{-1}A^TC)}{norm(X)}$$\n",
    "where:\n",
    "- $A$ is the CCA output, the output of the `canoncorr` function\n",
    "- $C$ is the `PCA_model.components_`\n",
    "- $X$ is the data matrix, $T\\times n$ with $T$ time points and $n$ neurons, and each neuron is **zero mean**\n",
    "- $norm$ is sum of squared elements  "
   ]
  },
  {
   "cell_type": "code",
   "execution_count": 8,
   "id": "thrown-jerusalem",
   "metadata": {},
   "outputs": [
    {
     "data": {
      "text/plain": [
       "0.6482088310037387"
      ]
     },
     "execution_count": 8,
     "metadata": {},
     "output_type": "execute_result"
    }
   ],
   "source": [
    "C = M1_model.components_\n",
    "X = M1_rates\n",
    "norm = lambda m:np.sum(m**2)\n",
    "\n",
    "VAF = norm(X) - norm(X-X@C.T@A@linalg.inv(A.T@A)@A.T@C)\n",
    "VAF /= norm(X)\n",
    "\n",
    "VAF"
   ]
  },
  {
   "cell_type": "markdown",
   "id": "biblical-pendant",
   "metadata": {},
   "source": [
    "Seems to give reasonable results: lowering number of PCs reduces the VAF.\n",
    "\n",
    "However, there are problems:\n",
    "- the formulation in the paper, gives a VAF for each dimension, so the formula above should be applied to individual axes.\n",
    "- It is already implemented in MATLAB [here](https://github.com/limblab/proc-juan/blob/65dd81a1fc0ddb23def8039df9053a2be3e9bf88/paper_cross-task_manifold_review/vaf_CCs.m#L114), which uses the VAF function from the dPCA paper [here](https://github.com/machenslab/dPCA/blob/master/matlab/dpca_explainedVariance.m). I should translate that to compare?!?\n",
    "\n",
    "> The value above actually equals to the total VAF :)\n",
    "\n",
    "### dimension-wise VFA"
   ]
  },
  {
   "cell_type": "code",
   "execution_count": 9,
   "id": "collect-drill",
   "metadata": {},
   "outputs": [
    {
     "name": "stdout",
     "output_type": "stream",
     "text": [
      "VAF for each axis: [0.02676476 0.10622462 0.00220823 0.09365388 0.07488183 0.08086034\n",
      " 0.0431955  0.07888466 0.06745041 0.07408459] \n",
      " total: 0.6482088310037387\n"
     ]
    }
   ],
   "source": [
    "D = linalg.inv(A.T@A)@A.T@C\n",
    "E = C.T@A\n",
    "\n",
    "VAFs=np.empty((C.shape[0],))\n",
    "\n",
    "for comp in range(1,C.shape[0]+1):\n",
    "\n",
    "    VAF = norm(X - X @ E[:,:comp] @ D[:comp,:]) / norm(X)\n",
    "    VAFs[comp-1] = 1-VAF\n",
    "\n",
    "VAFs = np.array([VAFs[0],*np.diff(VAFs)])\n",
    "print(f'VAF for each axis: {VAFs} \\n total: {sum(VAFs)}')"
   ]
  },
  {
   "cell_type": "code",
   "execution_count": null,
   "id": "loaded-mexican",
   "metadata": {},
   "outputs": [],
   "source": []
  }
 ],
 "metadata": {
  "kernelspec": {
   "display_name": "Python 3",
   "language": "python",
   "name": "python3"
  },
  "language_info": {
   "codemirror_mode": {
    "name": "ipython",
    "version": 3
   },
   "file_extension": ".py",
   "mimetype": "text/x-python",
   "name": "python",
   "nbconvert_exporter": "python",
   "pygments_lexer": "ipython3",
   "version": "3.9.2"
  }
 },
 "nbformat": 4,
 "nbformat_minor": 5
}
