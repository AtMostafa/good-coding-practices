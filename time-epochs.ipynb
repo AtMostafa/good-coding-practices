{
 "cells": [
  {
   "cell_type": "markdown",
   "id": "international-season",
   "metadata": {},
   "source": [
    "# part0: imports"
   ]
  },
  {
   "cell_type": "code",
   "execution_count": 25,
   "id": "treated-driving",
   "metadata": {},
   "outputs": [],
   "source": [
    "import os, sys, pathlib\n",
    "from pprint import pprint \n",
    "from importlib import reload\n",
    "import logging\n",
    "logging.basicConfig(level=logging.ERROR)\n",
    "import warnings\n",
    "warnings.simplefilter(\"ignore\")\n",
    "\n",
    "\n",
    "import pandas as pd\n",
    "import numpy as np\n",
    "import xarray as xr\n",
    "from sklearn.decomposition import PCA\n",
    "import scipy.linalg as linalg\n",
    "\n",
    "import matplotlib.pyplot as plt\n",
    "import matplotlib.cm as cm\n",
    "import matplotlib\n",
    "from matplotlib.ticker import MaxNLocator\n",
    "\n",
    "\n",
    "from tools import utilityTools as utility\n",
    "from tools import dataTools as dt\n",
    "import pyaldata as pyal\n",
    "\n",
    "%matplotlib inline\n",
    "\n",
    "root = pathlib.Path(\"/data\")"
   ]
  },
  {
   "cell_type": "markdown",
   "id": "unnecessary-chamber",
   "metadata": {},
   "source": [
    "# Compare different epochs\n",
    "\n",
    "the idea is to see whether canonical axes between 2 animals provide a higher VAF for time epochs in the trial that they have not been trained on, compared to, for example, M1-PMd axes in a single animal.\n",
    "\n",
    "Check the VAF for a single session as a test"
   ]
  },
  {
   "cell_type": "code",
   "execution_count": 2,
   "id": "d988006d-de3a-4f4d-a8a1-e5829d982d1e",
   "metadata": {},
   "outputs": [],
   "source": [
    "animal= 'Chewie'\n",
    "fname = root / animal / \"Chewie_CO_CS_2016-10-21.mat\"\n",
    "\n",
    "df = pyal.mat2dataframe(fname, shift_idx_fields=True)"
   ]
  },
  {
   "cell_type": "markdown",
   "id": "229e78c4-980b-4e3f-a5a9-74fd1af4ae96",
   "metadata": {},
   "source": [
    "preprocessing"
   ]
  },
  {
   "cell_type": "code",
   "execution_count": 3,
   "id": "d5b3192c-8844-4bb2-8177-b6000a930086",
   "metadata": {},
   "outputs": [
    {
     "name": "stderr",
     "output_type": "stream",
     "text": [
      "/home/mostafa/Repositories/MyPyalData/pyaldata/tools.py:940: UserWarning: Assuming spikes are actually spikes and dividing by bin size.\n",
      "  utils.warnings.warn(\"Assuming spikes are actually spikes and dividing by bin size.\")\n",
      "/home/mostafa/Repositories/MyPyalData/pyaldata/tools.py:940: UserWarning: Assuming spikes are actually spikes and dividing by bin size.\n",
      "  utils.warnings.warn(\"Assuming spikes are actually spikes and dividing by bin size.\")\n"
     ]
    }
   ],
   "source": [
    "def get_target_id(trial):\n",
    "    return int(np.round((trial.target_direction + np.pi) / (0.25*np.pi))) - 1\n",
    "\n",
    "df = pyal.select_trials(df, df.result== 'R')\n",
    "df = pyal.select_trials(df, df.epoch=='BL')\n",
    "df = pyal.remove_low_firing_neurons(df, \"M1_spikes\", 1)\n",
    "df = pyal.remove_low_firing_neurons(df, \"PMd_spikes\", 1)\n",
    "\n",
    "df = pyal.add_firing_rates(df, 'smooth')\n",
    "\n",
    "df[\"target_id\"] = df.apply(get_target_id, axis=1)  # add a field `target_id` with int values"
   ]
  },
  {
   "cell_type": "markdown",
   "id": "741be315-9166-421b-82b8-d177e28d07e9",
   "metadata": {},
   "source": [
    "pca to m1 and pmd"
   ]
  },
  {
   "cell_type": "code",
   "execution_count": 4,
   "id": "7d23b6d3-1f5d-46d0-93e3-049d6218c646",
   "metadata": {},
   "outputs": [],
   "source": [
    "M1_rates = np.concatenate(df.M1_rates.values, axis=0)\n",
    "pca_model = PCA(n_components=20, svd_solver='full');\n",
    "pca_model.fit(M1_rates);\n",
    "df = pyal.apply_dim_reduce_model(df, pca_model, 'M1_rates', 'M1_pca');\n",
    "\n",
    "PMd_rates = np.concatenate(df.PMd_rates.values, axis=0)\n",
    "pca_model = PCA(n_components=20, svd_solver='full');\n",
    "pca_model.fit(PMd_rates);\n",
    "df = pyal.apply_dim_reduce_model(df, pca_model, 'PMd_rates', 'PMd_pca');\n"
   ]
  },
  {
   "cell_type": "markdown",
   "id": "4c5f0b22-953d-44de-af2b-87c8eed2cb6e",
   "metadata": {},
   "source": [
    "applying PCA for 300ms past movement onset"
   ]
  },
  {
   "cell_type": "code",
   "execution_count": 5,
   "id": "a2b93f5a-47c0-4771-b53c-640e8aa78355",
   "metadata": {},
   "outputs": [],
   "source": [
    "df_ = pyal.restrict_to_interval(df, start_point_name='idx_movement_on', rel_start=0, rel_end=30)\n",
    "\n",
    "M1_rates = np.concatenate(df_.M1_rates.values, axis=0)\n",
    "M1_model = PCA(n_components=20, svd_solver='full');\n",
    "M1_model.fit(M1_rates);\n",
    "df_ = pyal.apply_dim_reduce_model(df_, M1_model, 'M1_rates', 'M1_pca');\n",
    "\n",
    "PMd_rates = np.concatenate(df_.PMd_rates.values, axis=0)\n",
    "PMd_model = PCA(n_components=20, svd_solver='full');\n",
    "PMd_model.fit(PMd_rates);\n",
    "df_ = pyal.apply_dim_reduce_model(df_, PMd_model, 'PMd_rates', 'PMd_pca');"
   ]
  },
  {
   "cell_type": "markdown",
   "id": "8747fc8d-6c8b-49ad-aba2-0fe05c8f0dff",
   "metadata": {},
   "source": [
    "to make life easy, just limit everything to 1 target"
   ]
  },
  {
   "cell_type": "code",
   "execution_count": 6,
   "id": "87f9eb87-2113-4323-873d-bc80a832bbaf",
   "metadata": {},
   "outputs": [],
   "source": [
    "df_= pyal.select_trials(df_, df_.target_direction ==0)"
   ]
  },
  {
   "cell_type": "markdown",
   "id": "f5ff733e-c52d-4aa4-a890-eed01d1978b6",
   "metadata": {},
   "source": [
    "CCA on m1-pmd"
   ]
  },
  {
   "cell_type": "code",
   "execution_count": 23,
   "id": "e075a360-3458-4b3c-a319-c41f6f7f20f2",
   "metadata": {},
   "outputs": [],
   "source": [
    "d0 = np.concatenate(df_['M1_pca'].values, axis=0)\n",
    "d1 = np.concatenate(df_['PMd_pca'].values, axis=0)\n",
    "\n",
    "n_samples = min ([d0.shape[0], d1.shape[0]])\n",
    "d0 = d0[:n_samples,:]\n",
    "d1 = d1[:n_samples,:]\n",
    "\n",
    "A, B, r, _, _ = dt.canoncorr(d0, d1, fullReturn=True)"
   ]
  },
  {
   "cell_type": "code",
   "execution_count": 8,
   "id": "716574b0-0ef3-4c1d-92f5-3e1c28d0bd99",
   "metadata": {},
   "outputs": [
    {
     "name": "stdout",
     "output_type": "stream",
     "text": [
      "the CCs are:[0.94779339 0.87838562 0.83821908 0.73555619 0.70545989 0.66681631\n",
      " 0.61031016 0.5606342  0.51480629 0.46384192 0.42750414 0.42011013\n",
      " 0.32919582 0.29094555 0.28618524 0.23505218 0.22347631 0.11351897\n",
      " 0.10931743 0.06073484]\n"
     ]
    }
   ],
   "source": [
    "print(f'the CCs are:{r}')"
   ]
  },
  {
   "cell_type": "markdown",
   "id": "932b3a1b-714d-4d6e-b1b0-958f9223bf3a",
   "metadata": {},
   "source": [
    "---\n",
    "\n",
    "From Bence's code [here](https://github.com/BeNeuroLab/pysubspaces/blob/4b7c7512ccdff8fdbd1334cb6c3acc8f5bdbf3d6/pysubspaces/subspaces.py#L29)."
   ]
  },
  {
   "cell_type": "code",
   "execution_count": 9,
   "id": "3866193f-f1fb-4b7c-a16e-b16a8bf89731",
   "metadata": {},
   "outputs": [],
   "source": [
    "def variance_in_subspace(X, W):\n",
    "    \"\"\"\n",
    "    Variance in a given subspace\n",
    "    Parameters\n",
    "    ----------\n",
    "    X : 2D np.ndarray\n",
    "        n_samples x n_features data array\n",
    "    W : 2D np.ndarray\n",
    "        n_components x n_features projection matrix\n",
    "    Returns\n",
    "    -------\n",
    "    variance in the subspace\n",
    "    \"\"\"\n",
    "    return np.trace(W @ np.cov(X.T) @ W.T)"
   ]
  },
  {
   "cell_type": "code",
   "execution_count": 22,
   "id": "4b182baa-f764-4bf5-9659-efadd053c777",
   "metadata": {},
   "outputs": [
    {
     "data": {
      "text/plain": [
       "0.36386542693890445"
      ]
     },
     "execution_count": 22,
     "metadata": {},
     "output_type": "execute_result"
    }
   ],
   "source": [
    "variance_in_subspace (M1_rates, A.T @ M1_model.components_)/ np.var(M1_rates)\n"
   ]
  },
  {
   "cell_type": "markdown",
   "id": "c03ef027-0e04-4ee0-ab36-49c4fb1737ff",
   "metadata": {},
   "source": [
    "but what is the total variance? what does it mean?\n",
    "based on the Nat Comm paper and some playing: \n",
    "$$\\%VAF=\\frac{var(X)-var(X-XC^TA^T(A^TA)^{-1}AC)}{var(X)}$$\n",
    "where:\n",
    "- $A$ is the CCA output, projection matric\n",
    "- $C$ is the `PCA_model.components_`\n",
    "- $X$ is the data matrix, $T\\times n$ with $T$ time points and $n$ neurons"
   ]
  },
  {
   "cell_type": "code",
   "execution_count": 26,
   "id": "0ccfab0d-2b80-4afc-8a07-f7cf79f228de",
   "metadata": {},
   "outputs": [
    {
     "data": {
      "text/plain": [
       "-84.77620263749426"
      ]
     },
     "execution_count": 26,
     "metadata": {},
     "output_type": "execute_result"
    }
   ],
   "source": [
    "C = M1_model.components_\n",
    "X = M1_rates\n",
    "\n",
    "VAF = np.var(X) - np.var(X-X@C.T@A.T@linalg.inv(A.T@A)@A@C)\n",
    "\n",
    "VAF /= np.var(X)\n",
    "\n",
    "VAF"
   ]
  },
  {
   "cell_type": "code",
   "execution_count": null,
   "id": "4555cff7-5438-4ac5-9d95-a24d8da4ab05",
   "metadata": {},
   "outputs": [],
   "source": []
  },
  {
   "cell_type": "code",
   "execution_count": null,
   "id": "a6c9ebc1-4fe0-48aa-81da-634209630b0b",
   "metadata": {},
   "outputs": [],
   "source": []
  },
  {
   "cell_type": "code",
   "execution_count": null,
   "id": "feb72c72-f11d-48fb-92ca-96360beca373",
   "metadata": {},
   "outputs": [],
   "source": []
  },
  {
   "cell_type": "code",
   "execution_count": null,
   "id": "95ebc324-e43c-43f7-98f4-0f74af7a00ca",
   "metadata": {},
   "outputs": [],
   "source": []
  },
  {
   "cell_type": "code",
   "execution_count": null,
   "id": "6783f0e9-ad7f-4e90-a8f0-b45db5f74247",
   "metadata": {},
   "outputs": [],
   "source": []
  },
  {
   "cell_type": "markdown",
   "id": "varying-theater",
   "metadata": {},
   "source": [
    "all the preprocessing steps"
   ]
  },
  {
   "cell_type": "code",
   "execution_count": null,
   "id": "pleased-haven",
   "metadata": {},
   "outputs": [],
   "source": [
    "def prep_pyalData (df):\n",
    "    df_= pyal.add_firing_rates(df, 'smooth')\n",
    "    df_= pyal.select_trials(df_, df_.result== 'R')\n",
    "    df_= pyal.select_trials(df_, df_.epoch=='BL')\n",
    "    df_= pyal.select_trials(df_, df_.target_direction < -2)\n",
    "    \n",
    "    df_ = pyal.remove_low_firing_neurons(df_, \"M1_spikes\", 1)\n",
    "    df_ = pyal.remove_low_firing_neurons(df_, \"PMd_spikes\", 1)\n",
    "    \n",
    "    df_ = pyal.restrict_to_interval(df_, start_point_name='idx_movement_on', rel_start=0, rel_end=30)\n",
    "    \n",
    "    M1_rates = np.concatenate(df_.M1_rates.values, axis=0)\n",
    "    pca_model = PCA(n_components=20, svd_solver='full');\n",
    "    pca_model.fit(M1_rates);\n",
    "    df_ = pyal.apply_dim_reduce_model(df_, pca_model, 'M1_rates', 'M1_pca');\n",
    "\n",
    "    PMd_rates = np.concatenate(df_.PMd_rates.values, axis=0)\n",
    "    pca_model = PCA(n_components=20, svd_solver='full');\n",
    "    pca_model.fit(PMd_rates);\n",
    "    df_ = pyal.apply_dim_reduce_model(df_, pca_model, 'PMd_rates', 'PMd_pca');\n",
    "\n",
    "    \n",
    "    return df_"
   ]
  },
  {
   "cell_type": "markdown",
   "id": "answering-evidence",
   "metadata": {},
   "source": [
    "Prep both sessions"
   ]
  },
  {
   "cell_type": "code",
   "execution_count": null,
   "id": "chronic-stack",
   "metadata": {},
   "outputs": [],
   "source": [
    "df_data_ = [prep_pyalData(df) for  df in df_data]"
   ]
  },
  {
   "cell_type": "markdown",
   "id": "beneficial-vehicle",
   "metadata": {},
   "source": [
    "plot the CCs across animals, to one target"
   ]
  },
  {
   "cell_type": "code",
   "execution_count": null,
   "id": "protective-resident",
   "metadata": {},
   "outputs": [],
   "source": [
    "d0_M1 = np.concatenate(df_data_[0].M1_pca.values, axis=0)\n",
    "d1_M1 = np.concatenate(df_data_[1].M1_pca.values, axis=0)\n",
    "\n",
    "# same number of timepoints in both matrices\n",
    "n_samples_M1 = min ([d0_M1.shape[0], d1_M1.shape[0]])\n",
    "d0_M1_ = d0_M1[:n_samples_M1,:]\n",
    "d1_M1_ = d1_M1[:n_samples_M1,:]\n",
    "\n",
    "CC_M1 = dt.canoncorr(d0_M1_, d1_M1_)\n",
    "\n",
    "_,ax = plt.subplots()\n",
    "\n",
    "ax.plot(CC_M1, 'r-o', label='aligned')\n",
    "\n",
    "ax.set_xlabel('components')\n",
    "ax.set_ylabel('correlation')\n",
    "ax.legend()\n",
    "ax.set_ylim([0,1])\n",
    "ax.set_title('CCA between M1 of two monkeys');"
   ]
  },
  {
   "cell_type": "markdown",
   "id": "electrical-secret",
   "metadata": {},
   "source": [
    "#### BE WARE!\n",
    "\n",
    "results depend on the initial number of PCs, i.e., features in the data matrix.\n",
    "For 10 PCs, the max CC will be 0.75 instead of 0.85\n",
    "\n",
    "---\n",
    "Next, let's add to the plot above, within monkey M1 CCs."
   ]
  },
  {
   "cell_type": "code",
   "execution_count": null,
   "id": "threatened-compression",
   "metadata": {},
   "outputs": [],
   "source": [
    "d0_PMd = np.concatenate(df_data_[0].PMd_pca.values, axis=0)\n",
    "d1_PMd = np.concatenate(df_data_[1].PMd_pca.values, axis=0)\n",
    "\n",
    "# same number of timepoints in both matrices\n",
    "n_samples_d0 = min ([d0_M1.shape[0], d0_PMd.shape[0]])\n",
    "n_samples_d1 = min ([d1_M1.shape[0], d1_PMd.shape[0]])\n",
    "d0_PMd_ = d0_PMd[:n_samples_d0,:]\n",
    "d1_PMd_ = d1_PMd[:n_samples_d1,:]\n",
    "n_samples_PMd = min ([d0_PMd.shape[0], d1_PMd.shape[0]])\n",
    "d0_PMd_ = d0_PMd[:n_samples_PMd,:]\n",
    "d1_PMd_ = d1_PMd[:n_samples_PMd,:]\n",
    "\n",
    "\n",
    "\n",
    "CC_d0 = dt.canoncorr(d0_M1_, d0_PMd_)\n",
    "CC_d1 = dt.canoncorr(d1_M1_, d1_PMd_)\n",
    "CC_PMd= dt.canoncorr(d0_PMd_, d1_PMd_)\n",
    "\n",
    "_,ax = plt.subplots()\n",
    "\n",
    "ax.plot(CC_M1, label='M1 across')\n",
    "ax.plot(CC_PMd, label='PMd across')\n",
    "ax.plot(CC_d0,'--', label='Monkey1 within')\n",
    "ax.plot(CC_d1,'--', label='Monkey2 within')\n",
    "\n",
    "ax.set_xlabel('components')\n",
    "ax.set_ylabel('canonical correlation')\n",
    "ax.legend()\n",
    "ax.set_ylim([0,1])\n",
    "ax.xaxis.set_major_locator(MaxNLocator(integer=True))\n",
    "ax.set_title('CCA --- to a single target', usetex=True);"
   ]
  },
  {
   "cell_type": "markdown",
   "id": "french-chuck",
   "metadata": {},
   "source": [
    "average over every target"
   ]
  },
  {
   "cell_type": "code",
   "execution_count": null,
   "id": "visible-mercury",
   "metadata": {},
   "outputs": [],
   "source": [
    "def get_target_id(trial):\n",
    "    return int(np.round((trial.target_direction + np.pi) / (0.25*np.pi))) - 1\n",
    "\n",
    "def prep_pyalData_all_targets (df, n_components=20):\n",
    "    df[\"target_id\"] = df.apply(get_target_id, axis=1)  # add a field `target_id` with int values\n",
    "\n",
    "    df_= pyal.add_firing_rates(df, 'smooth')\n",
    "    df_= pyal.select_trials(df_, df_.result== 'R')\n",
    "    df_= pyal.select_trials(df_, df_.epoch=='BL')\n",
    "    \n",
    "    df_ = pyal.remove_low_firing_neurons(df_, \"M1_spikes\", 1)\n",
    "    df_ = pyal.remove_low_firing_neurons(df_, \"PMd_spikes\", 1)\n",
    "    \n",
    "    df_ = pyal.restrict_to_interval(df_, start_point_name='idx_movement_on', rel_start=0, rel_end=30)\n",
    "    \n",
    "    M1_rates = np.concatenate(df_.M1_rates.values, axis=0)\n",
    "    pca_model = PCA(n_components=n_components, svd_solver='full');\n",
    "    pca_model.fit(M1_rates);\n",
    "    df_ = pyal.apply_dim_reduce_model(df_, pca_model, 'M1_rates', 'M1_pca');\n",
    "\n",
    "    PMd_rates = np.concatenate(df_.PMd_rates.values, axis=0)\n",
    "    pca_model = PCA(n_components=n_components, svd_solver='full');\n",
    "    pca_model.fit(PMd_rates);\n",
    "    df_ = pyal.apply_dim_reduce_model(df_, pca_model, 'PMd_rates', 'PMd_pca');\n",
    "\n",
    "    \n",
    "    return df_\n",
    "\n",
    "\n",
    "df_data__ = [prep_pyalData_all_targets(df) for  df in df_data]"
   ]
  },
  {
   "cell_type": "code",
   "execution_count": null,
   "id": "acknowledged-catch",
   "metadata": {},
   "outputs": [],
   "source": [
    "fig,ax = plt.subplots()\n",
    "\n",
    "CC=[]\n",
    "for target in range(8):\n",
    "    dfs = [pyal.select_trials(df_,df_.target_id==target) for df_ in df_data__]\n",
    "    \n",
    "    # monkey0: m1~pmd\n",
    "    CC.append(CCA_pyal(dfs[0],'M1_pca', dfs[0],'PMd_pca'))\n",
    "    # monkey1: m1~pmd\n",
    "    CC.append(CCA_pyal(dfs[1],'M1_pca', dfs[1],'PMd_pca'))\n",
    "    # m1: mon1~mon2\n",
    "    CC.append(CCA_pyal(dfs[0],'M1_pca', dfs[1],'M1_pca'))\n",
    "    # pmd: mon1~mon2\n",
    "    CC.append(CCA_pyal(dfs[0],'PMd_pca', dfs[1],'PMd_pca'))\n",
    "\n",
    "CC= np.array(CC)\n",
    "\n",
    "utility.shaded_errorbar(ax,CC[0::8,:].T, ls='--',label='monkey0: m1~pmd')\n",
    "utility.shaded_errorbar(ax,CC[1::8,:].T,ls='--',label='monkey1: m1~pmd')\n",
    "utility.shaded_errorbar(ax,CC[2::8,:].T,label='m1: mon0~mon1')\n",
    "utility.shaded_errorbar(ax,CC[3::8,:].T,label='pmd: mon0~mon1')\n",
    "\n",
    "ax.set_xlabel('components')\n",
    "ax.set_ylabel('canonical correlation')\n",
    "ax.legend()\n",
    "ax.set_ylim([0,1])\n",
    "ax.xaxis.set_major_locator(MaxNLocator(integer=True))\n",
    "ax.set_title('CCA --- average of all targets', usetex=True);"
   ]
  },
  {
   "cell_type": "markdown",
   "id": "loose-requirement",
   "metadata": {},
   "source": [
    "let's also add inter target CCA in individual animals"
   ]
  },
  {
   "cell_type": "code",
   "execution_count": null,
   "id": "empty-inspector",
   "metadata": {},
   "outputs": [],
   "source": [
    "fig,ax = plt.subplots()\n",
    "\n",
    "target_CC_M1=[]\n",
    "target_CC_PMd=[]\n",
    "for target0 in range(8):\n",
    "    dfs0 = [pyal.select_trials(df_,df_.target_id==target0) for df_ in df_data__]\n",
    "    for target1 in range(target0,8):\n",
    "        dfs1 = [pyal.select_trials(df_,df_.target_id==target1) for df_ in df_data__]\n",
    "        \n",
    "        target_CC_M1.append(CCA_pyal(dfs0[0],'M1_pca', dfs1[0],'M1_pca'))\n",
    "        target_CC_M1.append(CCA_pyal(dfs0[1],'M1_pca', dfs1[1],'M1_pca'))\n",
    "\n",
    "        target_CC_PMd.append(CCA_pyal(dfs0[0],'PMd_pca', dfs1[0],'PMd_pca'))\n",
    "        target_CC_PMd.append(CCA_pyal(dfs0[1],'PMd_pca', dfs1[1],'PMd_pca'))\n",
    "\n",
    "\n",
    "target_CC_M1= np.array(target_CC_M1)\n",
    "target_CC_PMd= np.array(target_CC_PMd)\n",
    "\n",
    "# utility.shaded_errorbar(ax,CC[0::8,:].T,ls='--',label='monkey0: m1~pmd')\n",
    "# utility.shaded_errorbar(ax,CC[1::8,:].T,ls='--',label='monkey1: m1~pmd')\n",
    "# utility.shaded_errorbar(ax,CC[2::8,:].T,label='m1: mon1~mon2')\n",
    "# utility.shaded_errorbar(ax,CC[3::8,:].T,label='pmd: mon1~mon2')\n",
    "\n",
    "utility.shaded_errorbar(ax,target_CC_M1.T,ls='--',marker='o',label='m1: inter-target')\n",
    "utility.shaded_errorbar(ax,target_CC_PMd.T,ls='--',marker='o',label='pmd: inter-target')\n",
    "\n",
    "\n",
    "ax.set_xlabel('components')\n",
    "ax.set_ylabel('canonical correlation')\n",
    "ax.legend()\n",
    "ax.set_ylim([0,1])\n",
    "ax.xaxis.set_major_locator(MaxNLocator(integer=True))\n",
    "ax.set_title('CCA --- average of all target pairs', usetex=True);"
   ]
  },
  {
   "cell_type": "markdown",
   "id": "italic-sound",
   "metadata": {},
   "source": [
    "## Same animal, different sessions\n",
    "\n",
    "similar to the NN 2020 paper"
   ]
  },
  {
   "cell_type": "code",
   "execution_count": null,
   "id": "simplified-albany",
   "metadata": {},
   "outputs": [],
   "source": [
    "pprint(goodFiles)"
   ]
  },
  {
   "cell_type": "code",
   "execution_count": null,
   "id": "unexpected-convergence",
   "metadata": {},
   "outputs": [],
   "source": [
    "fileList2 = {'C':['/data/Chewie/Chewie_CO_CS_2016-10-14.mat', '/data/Chewie/Chewie_CO_CS_2016-10-21.mat'],\n",
    "             'M':['/data/Mihili/Mihili_CO_CS_2015-05-12.mat', '/data/Mihili/Mihili_CO_CS_2015-05-11.mat']}\n",
    "n_components = 10\n",
    "\n",
    "\n",
    "df_data__ = {key:[] for key in fileList2}\n",
    "for animal,fList in fileList2.items():\n",
    "    for fname in fList:\n",
    "        df = pyal.mat2dataframe(fname, shift_idx_fields=True)\n",
    "        df = prep_pyalData_all_targets(df,n_components=n_components)\n",
    "        df_data__[animal].append(df)"
   ]
  },
  {
   "cell_type": "code",
   "execution_count": null,
   "id": "serial-brook",
   "metadata": {},
   "outputs": [],
   "source": [
    "fig,ax = plt.subplots()\n",
    "\n",
    "CC = {key:[] for key in fileList2}\n",
    "for animal in df_data__:\n",
    "    for target in range(8):\n",
    "        dfs = [pyal.select_trials(df_,df_.target_id==target) for df_ in df_data__[animal]]\n",
    "\n",
    "        CC[animal].append(CCA_pyal(dfs[0],'M1_pca', dfs[1],'M1_pca'))\n",
    "\n",
    "CC0= np.array(CC['C'])\n",
    "CC1= np.array(CC['M'])\n",
    "\n",
    "utility.shaded_errorbar(ax, CC0.T, ls='--',label='monkeyC')\n",
    "utility.shaded_errorbar(ax, CC1.T, ls='--',label='monkeyM')\n",
    "\n",
    "ax.set_xlabel('components')\n",
    "ax.set_ylabel('canonical correlation')\n",
    "ax.legend()\n",
    "ax.set_ylim([0,1.1])\n",
    "ax.xaxis.set_major_locator(MaxNLocator(integer=True))\n",
    "ax.set_title(f'M1 CCA in 2 sessions', usetex=True);"
   ]
  },
  {
   "cell_type": "markdown",
   "id": "fantastic-tender",
   "metadata": {},
   "source": [
    "check the date between the 2 sessions"
   ]
  },
  {
   "cell_type": "code",
   "execution_count": null,
   "id": "elegant-apache",
   "metadata": {},
   "outputs": [],
   "source": [
    "from datetime import datetime\n",
    "for animal, dfList in df_data__.items():\n",
    "    date = []\n",
    "    for df in dfList:\n",
    "        date.append(datetime.strptime(df.date[0], \"%m-%d-%Y\"))\n",
    "    print(f'For {animal=} the gap is:{date[1] - date[0]}')\n"
   ]
  },
  {
   "cell_type": "markdown",
   "id": "sorted-hazard",
   "metadata": {},
   "source": [
    "check the number of neurons in the `MIHILI` dataset"
   ]
  },
  {
   "cell_type": "code",
   "execution_count": null,
   "id": "posted-estimate",
   "metadata": {},
   "outputs": [],
   "source": [
    "df_data__['M'][0].M1_rates[0].shape, df_data__['M'][1].M1_rates[0].shape"
   ]
  },
  {
   "attachments": {
    "fc93787a-ad8f-49ef-8a19-5f460bdd33e3.png": {
     "image/png": "[encoded data removed]"
    }
   },
   "cell_type": "markdown",
   "id": "infectious-fellow",
   "metadata": {},
   "source": [
    "maybe fewer neurons in `M` is the reason for its better performance!\n",
    "\n",
    "It seems like it! with 60 components:\n",
    "\n",
    "![image.png](attachment:fc93787a-ad8f-49ef-8a19-5f460bdd33e3.png)"
   ]
  },
  {
   "cell_type": "markdown",
   "id": "nuclear-fancy",
   "metadata": {},
   "source": [
    "# Ideas:\n",
    "+ **Explained variance**:\n",
    "Juan said:\n",
    ">it'd be interesting to look at the variance explained by the shared dimensions though (both within monkey and across).\n",
    "\n",
    "Calculating the explained variance could be through the method outlined in the paper: \"Gallego, Nat Comm 2018\" which I guess is the following process of encoding and decoding:\n",
    "    \n",
    "$$\\% VAF = VAF\\frac{X \\rightarrow PC \\rightarrow CC_{M0\\sim M1} \\rightarrow PC' \\rightarrow X'}\n",
    "{X \\rightarrow PC \\rightarrow X'}$$\n",
    "\n",
    "- [x] **Fewer PCs**: So far, CCA has converged in every case.\n",
    "Might be due to 20 PCs as input which gives CCA all the information it can ask for!\n",
    "> check this [file](./CCA-fewPCs.ipynb).\n",
    "Nothing too exciting!\n",
    "\n",
    "+ **stability**: use the same transformations for aligning later sessions, hoping M1-PMd drops in accuracy and M1-M1 across animals, doesn't?!\n",
    "    + doesn't make a lot of sense, because whatever the PMd-M1 relations are, they should remain similar later on during the same task\n",
    "\n",
    "+ **non-movement epochs**: If the idea is that CCA reveals the underlying organisation, canonical axes should generalise across different time points in a trial;\n",
    "i.e., post stimulus and post movement, ...\n"
   ]
  }
 ],
 "metadata": {
  "kernelspec": {
   "display_name": "Python 3",
   "language": "python",
   "name": "python3"
  },
  "language_info": {
   "codemirror_mode": {
    "name": "ipython",
    "version": 3
   },
   "file_extension": ".py",
   "mimetype": "text/x-python",
   "name": "python",
   "nbconvert_exporter": "python",
   "pygments_lexer": "ipython3",
   "version": "3.9.5"
  }
 },
 "nbformat": 4,
 "nbformat_minor": 5
}
