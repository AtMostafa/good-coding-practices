{
 "cells": [
  {
   "cell_type": "code",
   "execution_count": 1,
   "id": "00059128",
   "metadata": {
    "execution": {
     "iopub.execute_input": "2023-08-25T15:58:39.086378Z",
     "iopub.status.busy": "2023-08-25T15:58:39.086209Z",
     "iopub.status.idle": "2023-08-25T15:58:40.370141Z",
     "shell.execute_reply": "2023-08-25T15:58:40.369608Z"
    }
   },
   "outputs": [
    {
     "name": "stdout",
     "output_type": "stream",
     "text": [
      "Done\n"
     ]
    }
   ],
   "source": [
    "%matplotlib inline\n",
    "\n",
    "import os, pathlib\n",
    "import logging, warnings\n",
    "logging.basicConfig(level=logging.ERROR)\n",
    "warnings.simplefilter(\"ignore\")\n",
    "import matplotlib.pyplot as plt\n",
    "\n",
    "if \"__file__\" not in dir():\n",
    "    try:\n",
    "        NBPath = pathlib.Path.cwd()\n",
    "        RepoPath = NBPath.parent\n",
    "        os.chdir(RepoPath)\n",
    "\n",
    "        from tools import dataTools as dt\n",
    "        from tools import ccaTools as cca\n",
    "        from tools import decodeTools as decode\n",
    "\n",
    "        import params\n",
    "        monkey_defs = params.monkey_defs\n",
    "        mouse_defs = params.mouse_defs\n",
    "\n",
    "        set_rc =  params.set_rc_params\n",
    "        set_rc()\n",
    "        root = params.root\n",
    "\n",
    "        os.chdir(RepoPath / 'monkey')\n",
    "        %run \"_dataset-selection.ipynb\"\n",
    "\n",
    "    finally:\n",
    "        os.chdir(NBPath)\n",
    "\n",
    "    print('Done')\n",
    "\n",
    "FIGPATH = params.figPath / 'fig4'\n",
    "if not os.path.exists(FIGPATH):\n",
    "    os.makedirs(FIGPATH)"
   ]
  },
  {
   "cell_type": "markdown",
   "id": "10aa2e5d-f25c-405a-ba73-2b2464c37b9e",
   "metadata": {},
   "source": [
    "### Get data\n"
   ]
  },
  {
   "cell_type": "code",
   "execution_count": 2,
   "id": "d9fb936c-4ef3-4776-bd0f-bea0b5322a40",
   "metadata": {
    "execution": {
     "iopub.execute_input": "2023-08-25T15:58:40.372255Z",
     "iopub.status.busy": "2023-08-25T15:58:40.372043Z",
     "iopub.status.idle": "2023-08-25T15:58:40.375248Z",
     "shell.execute_reply": "2023-08-25T15:58:40.374878Z"
    }
   },
   "outputs": [],
   "source": [
    "full_list_MCx_monkey, allDFs_MCx_monkey = dt.get_full_monkey_data(GoodDataList_CO)\n",
    "_, allDFs_str_mouse = dt.get_full_mouse_data()\n",
    "raster_example_df = dt.get_example_monkey_data(epoch = monkey_defs.exec_epoch)"
   ]
  },
  {
   "cell_type": "markdown",
   "id": "b34cb594",
   "metadata": {},
   "source": [
    "### Fig 4B: CCA for striatum in mice"
   ]
  },
  {
   "cell_type": "code",
   "execution_count": null,
   "id": "488478e3",
   "metadata": {},
   "outputs": [],
   "source": [
    "fig, axes = plt.subplots(ncols = 2, gridspec_kw={'width_ratios': [params.panels.cca[0],params.panels.cca_hist[0]-params.panels.cca[0]]})\n",
    "\n",
    "cca.plot_cca(axes[0], axes[1], allDFs_str_mouse, \n",
    "            mouse_defs.exec_epoch, \n",
    "            mouse_defs.areas[1], \n",
    "            mouse_defs.n_components, \n",
    "            dataset='mouse')\n",
    "fig.savefig(FIGPATH / 'mouse-cca-str.pdf', format='pdf', bbox_inches='tight')"
   ]
  },
  {
   "cell_type": "markdown",
   "id": "07e36307",
   "metadata": {},
   "source": [
    "### Fig 4C: Decoding for mice striatum"
   ]
  },
  {
   "cell_type": "code",
   "execution_count": null,
   "id": "5184b9f6",
   "metadata": {},
   "outputs": [],
   "source": [
    "fig, ax = plt.subplots()\n",
    "decode.plot_decoding(ax, allDFs_str_mouse, \n",
    "                 epoch = mouse_defs.exec_epoch_decode, \n",
    "                 area = mouse_defs.area[1], \n",
    "                 dataset = 'mouse', \n",
    "                 color_by_behav_corr = True)"
   ]
  },
  {
   "cell_type": "markdown",
   "id": "26a06f5b",
   "metadata": {},
   "source": [
    "### Fig 4E: CCA for preparation in monkeys"
   ]
  },
  {
   "cell_type": "code",
   "execution_count": null,
   "id": "8a1df122",
   "metadata": {},
   "outputs": [],
   "source": [
    "fig, axes = plt.subplots(ncols = 2, gridspec_kw={'width_ratios': [params.panels.cca[0],params.panels.cca_hist[0]-params.panels.cca[0]]})\n",
    "\n",
    "cca.plot_cca(axes[0], axes[1], allDFs_MCx_monkey, \n",
    "            monkey_defs.prep_epoch, \n",
    "            monkey_defs.areas[2], \n",
    "            monkey_defs.n_components, \n",
    "            dataset='monkey')\n",
    "fig.savefig(FIGPATH / 'monkey-cca-prep.pdf', format='pdf', bbox_inches='tight')\n"
   ]
  },
  {
   "cell_type": "markdown",
   "id": "4145a731-d518-4b69-bc46-78ca617b9745",
   "metadata": {},
   "source": [
    "### 4F: Decoding for monkeys "
   ]
  },
  {
   "cell_type": "code",
   "execution_count": null,
   "id": "cd744b9e",
   "metadata": {},
   "outputs": [],
   "source": [
    "fig, ax = plt.subplots()\n",
    "decode.plot_monkey_decoding(ax, allDFs_MCx_monkey, \n",
    "                        epoch = monkey_defs.prep_epoch, \n",
    "                        area = monkey_defs.areas[2], \n",
    "                        target = True)\n",
    "\n",
    "fig.savefig(FIGPATH / 'monkey-target-decoding.pdf', format='pdf', bbox_inches='tight')\n"
   ]
  }
 ],
 "metadata": {
  "interpreter": {
   "hash": "f438ab41c639bccf4a0690d593feedbc6f327eadb4a78567565a57c35fedcdae"
  },
  "kernelspec": {
   "display_name": "Python 3.10.5 ('cca': conda)",
   "language": "python",
   "name": "python3"
  },
  "language_info": {
   "codemirror_mode": {
    "name": "ipython",
    "version": 3
   },
   "file_extension": ".py",
   "mimetype": "text/x-python",
   "name": "python",
   "nbconvert_exporter": "python",
   "pygments_lexer": "ipython3",
   "version": "3.10.12"
  },
  "vscode": {
   "interpreter": {
    "hash": "146bff742f048d001dec7fafb91c8daeb769f9aeaad9c8d129a83c9f9fb9a9b2"
   }
  }
 },
 "nbformat": 4,
 "nbformat_minor": 5
}
