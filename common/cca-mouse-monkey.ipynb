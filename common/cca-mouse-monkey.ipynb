{
 "cells": [
  {
   "cell_type": "markdown",
   "id": "6dbda86d",
   "metadata": {},
   "source": [
    "# part0: imports"
   ]
  },
  {
   "cell_type": "code",
   "execution_count": 1,
   "id": "b2b7a810",
   "metadata": {},
   "outputs": [
    {
     "name": "stdout",
     "output_type": "stream",
     "text": [
      "the variable `GoodDataList` contains the session names\n",
      "Done!\n"
     ]
    }
   ],
   "source": [
    "import os, sys, pathlib\n",
    "from pprint import pprint\n",
    "import gc\n",
    "import pickle\n",
    "from importlib import reload\n",
    "import logging, warnings\n",
    "logging.basicConfig(level=logging.ERROR)\n",
    "from IPython.display import display, clear_output\n",
    "\n",
    "import pandas as pd\n",
    "import numpy as np\n",
    "import sklearn\n",
    "from sklearn.decomposition import PCA\n",
    "import scipy.linalg as linalg\n",
    "\n",
    "import matplotlib.pyplot as plt\n",
    "import matplotlib.cm as cm\n",
    "import matplotlib\n",
    "from matplotlib.ticker import MaxNLocator\n",
    "from matplotlib.collections import LineCollection\n",
    "%matplotlib inline\n",
    "%config InlineBackend.figure_formats = ['png2x']\n",
    "\n",
    "\n",
    "import pyaldata as pyal\n",
    "\n",
    "try:\n",
    "    nbPath = pathlib.Path.cwd()\n",
    "    RepoPath = nbPath.parent\n",
    "    os.chdir(RepoPath)\n",
    "\n",
    "    from tools import utilityTools as utility\n",
    "    from tools import dataTools as dt\n",
    "    from mouse import defs as mouse_defs\n",
    "    from monkey import defs as monkey_defs\n",
    "    import params\n",
    "    \n",
    "    os.chdir(RepoPath / 'monkey')\n",
    "    %run \"_dataset-selection.ipynb\"\n",
    "    \n",
    "    set_rc =  params.set_rc_params\n",
    "    set_rc()\n",
    "    root = params.root\n",
    "finally:\n",
    "    os.chdir(nbPath)\n",
    "\n",
    "n_components = 10    \n",
    "\n",
    "if \"__file__\" not in dir():\n",
    "    reload(dt)\n",
    "    reload(mouse_defs)\n",
    "    reload(monkey_defs)\n",
    "    \n",
    "    print('Done!')"
   ]
  },
  {
   "cell_type": "markdown",
   "id": "6e896ba5",
   "metadata": {
    "tags": []
   },
   "source": [
    "# reading data"
   ]
  },
  {
   "cell_type": "code",
   "execution_count": 2,
   "id": "d4d1d774",
   "metadata": {},
   "outputs": [],
   "source": [
    "animalList = ['mouse-data']\n",
    "\n",
    "animalFiles = []\n",
    "for animal in animalList:\n",
    "    animalFiles.extend(utility.find_file(root/animal, 'mat'))\n",
    "\n",
    "\n",
    "AllDFs=[]\n",
    "for fname in animalFiles:\n",
    "    print(fname)\n",
    "    df = dt.load_pyal_data(fname)\n",
    "    df['mouse'] = fname.split(os.sep)[-1][fname.split(os.sep)[-1].find('WR'):].split('_')[0]\n",
    "    df['file'] = fname.split(os.sep)[-1]\n",
    "    df = mouse_defs.prep_general_mouse(df)\n",
    "    AllDFs.append(df)\n",
    "\n",
    "clear_output()"
   ]
  },
  {
   "cell_type": "code",
   "execution_count": 3,
   "id": "8c5619a4-ed20-453d-aab9-d29baabb3def",
   "metadata": {},
   "outputs": [],
   "source": [
    "warnings.filterwarnings(\"ignore\")\n",
    "allDFs_M1 = []\n",
    "for animal, sessionList in GoodDataList[monkey_defs.areas[0]].items():\n",
    "    if 'Mr' in animal:\n",
    "        continue  # to remove MrT\n",
    "    for session in sessionList:\n",
    "        path = root/animal/session\n",
    "        allDFs_M1.append(monkey_defs.prep_general(dt.load_pyal_data(path)))\n",
    "        \n",
    "\n",
    "allDFs_PMd = []\n",
    "for animal, sessionList in GoodDataList[monkey_defs.areas[1]].items():\n",
    "    if 'Mr' in animal:\n",
    "        continue  # to remove MrT\n",
    "    for session in sessionList:\n",
    "        path = root/animal/session\n",
    "        allDFs_PMd.append(monkey_defs.prep_general(dt.load_pyal_data(path)))\n",
    "        \n",
    "warnings.filterwarnings(\"default\")"
   ]
  },
  {
   "cell_type": "markdown",
   "id": "4e5070d0-f598-42d9-9206-977f76b16d68",
   "metadata": {},
   "source": [
    "# Alignment across mice and monkeys\n",
    "\n",
    "## M1"
   ]
  },
  {
   "cell_type": "code",
   "execution_count": 4,
   "id": "a17329e3-c2ae-4312-8336-3cd8101bf8ac",
   "metadata": {},
   "outputs": [
    {
     "name": "stdout",
     "output_type": "stream",
     "text": [
      "len(pairDfM1)=84\n"
     ]
    }
   ],
   "source": [
    "pairDfM1 = []\n",
    "for I, monkey_df in enumerate(allDFs_M1):\n",
    "    for J, mouse_df in enumerate(AllDFs):\n",
    "        pairDfM1.append((monkey_df,mouse_df))\n",
    "\n",
    "print(f'{len(pairDfM1)=}')"
   ]
  },
  {
   "cell_type": "code",
   "execution_count": 21,
   "id": "78714ba7-1c0b-438e-8b8f-1ed49cb2a392",
   "metadata": {},
   "outputs": [],
   "source": [
    "side1df = [monkey for monkey,_ in pairDfM1]\n",
    "side2df = [mouse for _,mouse in pairDfM1]\n",
    "\n",
    "warnings.filterwarnings(\"ignore\")\n",
    "AllData_monkey = dt.get_data_array(side1df, monkey_defs.exec_epoch, area=monkey_defs.areas[0], model=n_components)\n",
    "AllData_mouse = dt.get_data_array(side2df, mouse_defs.exec_epoch, area=mouse_defs.areas[0], model=n_components)\n",
    "warnings.filterwarnings(\"default\")\n",
    "\n",
    "allCCs=[]\n",
    "for sessionData1,sessionData2 in zip(AllData_monkey,AllData_mouse):\n",
    "    # concatenate the targets along the trials\n",
    "    data1 = np.reshape(sessionData1, (-1,*sessionData1.shape[2:]))\n",
    "    data2 = np.reshape(sessionData2, (-1,*sessionData2.shape[2:]))\n",
    "    # shuffle the trial x target axis\n",
    "    params.rng.shuffle(data1,axis=0)\n",
    "    params.rng.shuffle(data2,axis=0)\n",
    "    min_trials, min_time,_ = np.min((data2.shape,data1.shape),axis=0)\n",
    "    data1 = np.reshape(data1[:min_trials,:min_time,:], (-1,n_components))\n",
    "    data2 = np.reshape(data2[:min_trials,:min_time,:], (-1,n_components))\n",
    "    allCCs.append(dt.canoncorr(data1, data2))\n",
    "allCCs = np.array(allCCs).T\n"
   ]
  },
  {
   "cell_type": "code",
   "execution_count": 22,
   "id": "c533c408-1357-4c53-9691-dbb33edece09",
   "metadata": {},
   "outputs": [
    {
     "data": {
      "image/png": "[encoded data removed]",
      "text/plain": [
       "<Figure size 432x288 with 1 Axes>"
      ]
     },
     "metadata": {
      "image/png": {
       "height": 274,
       "width": 379
      },
      "needs_background": "light"
     },
     "output_type": "display_data"
    }
   ],
   "source": [
    "# plot\n",
    "_,ax = plt.subplots()\n",
    "utility.shaded_errorbar(ax, allCCs, color='b', marker = 'o', label=f'{monkey_defs.areas[0]}, $n={allCCs.shape[1]}$ sessions')\n",
    "ax.set_ylim([0,1])\n",
    "ax.set_xlabel('Components')\n",
    "ax.legend()\n",
    "ax.set_ylabel('Canonical correlation')\n",
    "ax.set_title(r'Alignment of monkeys $\\sim$ mice');"
   ]
  },
  {
   "cell_type": "code",
   "execution_count": null,
   "id": "6b0f91db-10ee-470c-8178-2d9ebfaa09c8",
   "metadata": {},
   "outputs": [],
   "source": []
  },
  {
   "cell_type": "code",
   "execution_count": null,
   "id": "946f62a1-0d75-4e74-9794-e89a566c0cd5",
   "metadata": {},
   "outputs": [],
   "source": []
  },
  {
   "cell_type": "code",
   "execution_count": null,
   "id": "4d28bc7b-acf4-4c05-ab35-e8686bf19716",
   "metadata": {},
   "outputs": [],
   "source": []
  }
 ],
 "metadata": {
  "interpreter": {
   "hash": "72da6499f934495e06c03d484049d4696c0f7b78c6b9c64cf8676e9ec2014a6a"
  },
  "kernelspec": {
   "display_name": "Python 3 (ipykernel)",
   "language": "python",
   "name": "python3"
  },
  "language_info": {
   "codemirror_mode": {
    "name": "ipython",
    "version": 3
   },
   "file_extension": ".py",
   "mimetype": "text/x-python",
   "name": "python",
   "nbconvert_exporter": "python",
   "pygments_lexer": "ipython3",
   "version": "3.9.6"
  }
 },
 "nbformat": 4,
 "nbformat_minor": 5
}
