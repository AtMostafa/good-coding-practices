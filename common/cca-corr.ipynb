{
 "cells": [
  {
   "cell_type": "markdown",
   "id": "d374a142",
   "metadata": {},
   "source": [
    "# part0: imports"
   ]
  },
  {
   "cell_type": "code",
   "execution_count": 1,
   "id": "05c18582",
   "metadata": {},
   "outputs": [
    {
     "name": "stdout",
     "output_type": "stream",
     "text": [
      "the variable `GoodDataList` contains the session names\n",
      "Done!\n"
     ]
    }
   ],
   "source": [
    "import os, sys, pathlib\n",
    "from pprint import pprint\n",
    "import gc\n",
    "import pickle\n",
    "from importlib import reload\n",
    "import logging, warnings\n",
    "logging.basicConfig(level=logging.WARNING)\n",
    "from IPython.display import display, clear_output\n",
    "\n",
    "import pandas as pd\n",
    "import numpy as np\n",
    "import sklearn\n",
    "from sklearn.decomposition import PCA\n",
    "import scipy.linalg as linalg\n",
    "from scipy.stats import pearsonr\n",
    "\n",
    "import matplotlib.pyplot as plt\n",
    "import matplotlib.cm as cm\n",
    "import matplotlib\n",
    "from matplotlib.ticker import MaxNLocator\n",
    "from matplotlib.collections import LineCollection\n",
    "from matplotlib.backends.backend_pdf import PdfPages\n",
    "%matplotlib inline\n",
    "%config InlineBackend.figure_formats = ['png2x']\n",
    "\n",
    "import pyaldata as pyal\n",
    "\n",
    "\n",
    "try:\n",
    "    nbPath = pathlib.Path.cwd()\n",
    "    RepoPath = nbPath.parent\n",
    "    os.chdir(RepoPath)\n",
    "\n",
    "    from tools import utilityTools as utility\n",
    "    from tools import dataTools as dt\n",
    "    from mouse import defs as mouse_defs\n",
    "    from monkey import defs as monkey_defs\n",
    "    import params\n",
    "    \n",
    "    os.chdir(RepoPath / 'monkey')\n",
    "    %run \"_dataset-selection.ipynb\"\n",
    "    \n",
    "    set_rc =  params.set_rc_params\n",
    "    set_rc()\n",
    "    root = params.root\n",
    "finally:\n",
    "    os.chdir(nbPath)\n",
    "\n",
    "if \"__file__\" not in dir():\n",
    "    reload(dt)\n",
    "    reload(mouse_defs)\n",
    "    reload(monkey_defs)\n",
    "    print('Done!')"
   ]
  },
  {
   "cell_type": "markdown",
   "id": "ac6a6c27-22a9-4b61-9700-eb4a631c8430",
   "metadata": {},
   "source": [
    "# reading data"
   ]
  },
  {
   "cell_type": "code",
   "execution_count": 2,
   "id": "0351074b-d101-43dd-9460-07acda83a855",
   "metadata": {},
   "outputs": [],
   "source": [
    "animalList = ['mouse-data']\n",
    "\n",
    "animalFiles = []\n",
    "for animal in animalList:\n",
    "    animalFiles.extend(utility.find_file(root/animal, 'mat'))\n",
    "\n",
    "\n",
    "AllDFs=[]\n",
    "for fname in animalFiles:\n",
    "    print(fname)\n",
    "    df = dt.load_pyal_data(fname)\n",
    "    df['mouse'] = fname.split(os.sep)[-1][fname.split(os.sep)[-1].find('WR'):].split('_')[0]\n",
    "    df['file'] = fname.split(os.sep)[-1]\n",
    "    df = mouse_defs.prep_general_mouse(df)\n",
    "    AllDFs.append(df)\n",
    "\n",
    "clear_output()"
   ]
  },
  {
   "cell_type": "code",
   "execution_count": 3,
   "id": "7ea50f29-daad-4ade-beb5-89ffbd079536",
   "metadata": {},
   "outputs": [],
   "source": [
    "warnings.filterwarnings(\"ignore\")\n",
    "allDFs_M1 = []\n",
    "for animal, sessionList in GoodDataList[monkey_defs.areas[0]].items():\n",
    "    if 'Mr' in animal:\n",
    "        continue  # to remove MrT\n",
    "    for session in sessionList:\n",
    "        path = root/animal/session\n",
    "        allDFs_M1.append(monkey_defs.prep_general(dt.load_pyal_data(path)))\n",
    "        \n",
    "\n",
    "allDFs_PMd = []\n",
    "for animal, sessionList in GoodDataList[monkey_defs.areas[1]].items():\n",
    "    if 'Mr' in animal:\n",
    "        continue  # to remove MrT\n",
    "    for session in sessionList:\n",
    "        path = root/animal/session\n",
    "        allDFs_PMd.append(monkey_defs.prep_general(dt.load_pyal_data(path)))\n",
    "        \n",
    "warnings.filterwarnings(\"default\")"
   ]
  },
  {
   "cell_type": "markdown",
   "id": "3450da00-4b98-4b17-aa86-bcca36aa2871",
   "metadata": {},
   "source": [
    "# Behavioural Correlations\n",
    "\n",
    "Correlate behaviour during the trial  \n",
    "\n",
    "\n",
    "## Correaltions to the **same** target, without time warping\n",
    "\n",
    "trimming the trials to the same length\n",
    "\n",
    "---\n",
    "\n",
    "### mouse"
   ]
  },
  {
   "cell_type": "code",
   "execution_count": 19,
   "id": "d870bf4b-0616-4835-b7b8-c67691b7b2c7",
   "metadata": {},
   "outputs": [],
   "source": [
    "def trim_within_mouse_corr(allDF:list[pd.DataFrame],):\n",
    "    trim_within_corrs = {}\n",
    "    within_good = within_bad = 0\n",
    "    for df in allDF:\n",
    "        trim_within_corrs[df.file[0]] = []\n",
    "        targets = np.unique(df.target_id)\n",
    "        for target in targets:\n",
    "            df_ = pyal.select_trials(df, df.target_id == target)\n",
    "            for i, vel1 in enumerate(df_.hVelB):\n",
    "                a = vel1[df_.idx_movement_on[i]:df_.idx_pull_off[i],:]\n",
    "                for j, vel2 in enumerate(df_.hVelB):\n",
    "                    if j<=i: continue\n",
    "                    b = vel2[df_.idx_movement_on[j]:df_.idx_pull_off[j],:]\n",
    "                    if abs(len(b) - len(a)) > min((len(b) , len(a))):\n",
    "                        within_bad += 1\n",
    "                        continue\n",
    "                    a_,b_ = mouse_defs.time_trim(a,b)\n",
    "                    r = [pearsonr(aa,bb)[0] for aa,bb in zip(a_.T,b_.T)]\n",
    "                    trim_within_corrs[df_.file[0]].append(np.mean(np.abs(r)))\n",
    "                    within_good += 1\n",
    "\n",
    "    logging.warning(f'mismatching within trial pair dropped: {within_bad/(within_good+within_bad)*100:2.0f}%')\n",
    "    return trim_within_corrs\n",
    "\n",
    "\n",
    "def trim_across_mouse_corr(allDF:list[pd.DataFrame],):\n",
    "    trim_across_corrs = {}\n",
    "    across_good = across_bad = 0\n",
    "    for dfi, df1 in enumerate(allDF):\n",
    "        targets = np.unique(df1.target_id)\n",
    "        trim_across_corrs[df1.file[0]]={}\n",
    "        for dfj, df2 in enumerate(allDF):\n",
    "            trim_across_corrs[df2.file[0]] = {} if df2.file[0] not in trim_across_corrs.keys() else trim_across_corrs[df2.file[0]]\n",
    "            if dfj <= dfi: continue\n",
    "            trim_across_corrs[df1.file[0]][df2.file[0]]=[]\n",
    "            for target in targets:\n",
    "                df1_ = pyal.select_trials(df1, df1.target_id == target)\n",
    "                df2_ = pyal.select_trials(df2, df2.target_id == target)\n",
    "                for i, vel1 in enumerate(df1_.hVelB):\n",
    "                    a = vel1[df1_.idx_movement_on[i]:df1_.idx_pull_off[i],:]\n",
    "                    for j, vel2 in enumerate(df2_.hVelB):\n",
    "                        b = vel2[df2_.idx_movement_on[j]:df2_.idx_pull_off[j],:]\n",
    "                        if abs(len(b) - len(a)) > min((len(b) , len(a))):\n",
    "                            across_bad += 1\n",
    "                            continue\n",
    "                        a_,b_ = mouse_defs.time_trim(a,b)\n",
    "                        r = [pearsonr(aa,bb)[0] for aa,bb in zip(a_.T,b_.T)]\n",
    "                        trim_across_corrs[df1_.file[0]][df2_.file[0]].append(np.mean(np.abs(r)))\n",
    "                        across_good += 1\n",
    "\n",
    "        # make the across correlations symmetrical!\n",
    "        for  df2_file, val in trim_across_corrs[df1_.file[0]].items():\n",
    "            trim_across_corrs[df2_file][df1_.file[0]] = val\n",
    "\n",
    "    logging.warning(f'mismatching across trial pair dropped: {across_bad/(across_good+across_bad)*100:2.0f}%')\n",
    "    return trim_across_corrs"
   ]
  },
  {
   "cell_type": "markdown",
   "id": "bf56285a-e786-4f83-91d2-96c5dd8d75f0",
   "metadata": {},
   "source": [
    "---\n",
    "\n",
    "### monkey"
   ]
  },
  {
   "cell_type": "code",
   "execution_count": 20,
   "id": "db7fcc60-2a3d-46a2-afa3-24c5afaf37eb",
   "metadata": {},
   "outputs": [],
   "source": [
    "def trim_within_monkey_corr(allDF:list[pd.DataFrame],):\n",
    "    good = bad = 0\n",
    "    within_corrs = {}\n",
    "    for df in allDF:\n",
    "        within_corrs[df.session[0]] = []\n",
    "        targets = np.unique(df.target_id)\n",
    "        for target in targets:\n",
    "            df_ = pyal.select_trials(df, df.target_id == target)\n",
    "            for i, vel1 in enumerate(df_.vel):\n",
    "                a = vel1[int(df_.idx_movement_on[i]):int(df_.idx_trial_end[i]),:]\n",
    "                for j, vel2 in enumerate(df_.vel):\n",
    "                    if j<=i: continue\n",
    "                    b = vel2[int(df_.idx_movement_on[j]):int(df_.idx_trial_end[j]),:]\n",
    "                    if abs(len(b) - len(a)) > min((len(b) , len(a))):\n",
    "                        bad += 1\n",
    "                        continue\n",
    "                    a_,b_ = monkey_defs.time_trim(a,b)\n",
    "                    r = [pearsonr(aa,bb)[0] for aa,bb in zip(a_.T,b_.T)]\n",
    "                    within_corrs[df_.session[0]].append(np.mean(np.abs(r)))\n",
    "                    good += 1\n",
    "    \n",
    "    logging.warning(f'mismatching across trial pair dropped: {bad/(good+bad)*100:2.0f}')\n",
    "    return within_corrs\n",
    "\n",
    "\n",
    "def trim_across_monkey_corr(allDF:list[pd.DataFrame],):\n",
    "    good = bad = 0\n",
    "    across_corrs = {}\n",
    "    for dfi, df1 in enumerate(allDF):\n",
    "        targets = np.unique(df1.target_id)\n",
    "        across_corrs[df1.session[0]]={}\n",
    "        for dfj, df2 in enumerate(allDF):\n",
    "            across_corrs[df2.session[0]] = {} if df2.session[0] not in across_corrs.keys() else across_corrs[df2.session[0]]\n",
    "            if dfj <= dfi: continue\n",
    "            across_corrs[df1.session[0]][df2.session[0]]=[]\n",
    "            for target in targets:\n",
    "                df1_ = pyal.select_trials(df1, df1.target_id == target)\n",
    "                df2_ = pyal.select_trials(df2, df2.target_id == target)\n",
    "                for i, vel1 in enumerate(df1_.vel):\n",
    "                    a = vel1[int(df1_.idx_movement_on[i]):int(df1_.idx_trial_end[i]),:]\n",
    "                    for j, vel2 in enumerate(df2_.vel):\n",
    "                        b = vel2[int(df2_.idx_movement_on[j]):int(df2_.idx_trial_end[j]),:]\n",
    "                        if abs(len(b) - len(a)) > min((len(b) , len(a))):\n",
    "                            bad += 1\n",
    "                            continue\n",
    "                        a_,b_ = monkey_defs.time_trim(a,b)\n",
    "                        r = [pearsonr(aa,bb)[0] for aa,bb in zip(a_.T,b_.T)]\n",
    "                        across_corrs[df1_.session[0]][df2_.session[0]].append(np.mean(np.abs(r)))\n",
    "                        good += 1\n",
    "\n",
    "        \n",
    "        # make the across correlations symmetrical!\n",
    "        for  df2_session, val in across_corrs[df1_.session[0]].items():\n",
    "            across_corrs[df2_session][df1_.session[0]] = val\n",
    "\n",
    "    logging.warning(f'mismatching across trial pair dropped: {bad/(good+bad)*100:2.0f}')\n",
    "    return across_corrs"
   ]
  },
  {
   "cell_type": "markdown",
   "id": "84689582-4658-4eb5-9b0d-c74b10e898e2",
   "metadata": {},
   "source": [
    "Calculate the correlations"
   ]
  },
  {
   "cell_type": "code",
   "execution_count": 21,
   "id": "ee70b5e6-892f-499b-a813-35c66b75492a",
   "metadata": {},
   "outputs": [
    {
     "name": "stderr",
     "output_type": "stream",
     "text": [
      "WARNING:root:mismatching within trial pair dropped: 19%\n",
      "WARNING:root:mismatching across trial pair dropped: 25%\n",
      "WARNING:root:mismatching across trial pair dropped:  0\n",
      "WARNING:root:mismatching across trial pair dropped:  0\n"
     ]
    }
   ],
   "source": [
    "if \"__file__\" not in dir():\n",
    "    within_corrs_mice = trim_within_mouse_corr (AllDFs)\n",
    "    across_corrs_mice = trim_across_mouse_corr (AllDFs)\n",
    "\n",
    "    within_corrs_monkeys = trim_within_monkey_corr (allDFs_M1)\n",
    "    across_corrs_monkeys = trim_across_monkey_corr (allDFs_M1)"
   ]
  },
  {
   "cell_type": "markdown",
   "id": "d81ba1ee-0ee1-45df-9f05-3825b19bb1a0",
   "metadata": {},
   "source": [
    "Plot distribution of Behavioural correlations"
   ]
  },
  {
   "cell_type": "code",
   "execution_count": 22,
   "id": "62bd8cd9-437b-4e91-8399-655b42d3def4",
   "metadata": {},
   "outputs": [
    {
     "data": {
      "image/png": "[encoded data removed]",
      "text/plain": [
       "<Figure size 576x216 with 2 Axes>"
      ]
     },
     "metadata": {
      "image/png": {
       "height": 240,
       "width": 464
      },
      "needs_background": "light"
     },
     "output_type": "display_data"
    }
   ],
   "source": [
    "if \"__file__\" not in dir():     \n",
    "    fig,axes = plt.subplots(1,2,figsize=(8,3), sharex=True)\n",
    "    \n",
    "    w_mice = list(within_corrs_mice.values())\n",
    "    w_mice = np.array([l for L in w_mice for l in L])\n",
    "    w_monkey = list(within_corrs_monkeys.values())\n",
    "    w_monkey = np.array([l for L in w_monkey for l in L])\n",
    "    axes[0].hist(w_mice,   density=True,alpha=.8,color='r',label=r'mice')\n",
    "    axes[0].hist(w_monkey, density=True,alpha=.8,color='b',label=r'monkey')\n",
    "    axes[0].axvline(w_mice.mean(), color='r')\n",
    "    axes[0].axvline(w_monkey.mean(), color='b')\n",
    "    axes[0].set_title('Within session correlations')\n",
    "\n",
    "    a_mice = np.array([m for L in across_corrs_mice.values() for l in L.values() for m in l])\n",
    "    a_monkey = np.array([m for L in across_corrs_monkeys.values() for l in L.values() for m in l])\n",
    "    axes[1].hist(a_mice, density=True, alpha=.8,color='r',label=r'mice')\n",
    "    axes[1].hist(a_monkey, density=True, alpha=.8,color='b',label=r'monkeys')\n",
    "    axes[1].axvline(a_mice.mean(), color='r')\n",
    "    axes[1].axvline(a_monkey.mean(), color='b')\n",
    "    axes[1].set_title('Across session correlations')\n",
    "    \n",
    "\n",
    "    axes[1].legend()\n",
    "#     axes[0].set_ylabel(r\"\");\n",
    "    \n",
    "    for ax in axes:\n",
    "        ax.set_yticks([])\n",
    "        ax.set_xlabel(r\"Pearson's $r$\");\n",
    "    \n",
    "    fig.suptitle('Velocity',fontsize='x-large', y=1.05);"
   ]
  },
  {
   "cell_type": "markdown",
   "id": "93acdef9-39b0-45c2-9be9-e2885d23b2b6",
   "metadata": {},
   "source": [
    "# Canonical Correlations\n",
    "\n",
    "mice"
   ]
  },
  {
   "cell_type": "code",
   "execution_count": 23,
   "id": "421dd032-505c-4f50-b895-05b0794eda28",
   "metadata": {},
   "outputs": [],
   "source": [
    "pairFileList_mice = []\n",
    "for I, df1 in enumerate(AllDFs):\n",
    "    for J, (df2) in enumerate(AllDFs):\n",
    "        if J<=I or df1.file[0] == df2.file[0]: continue  # repetitions\n",
    "        pairFileList_mice.append((I,J))\n"
   ]
  },
  {
   "cell_type": "markdown",
   "id": "de9678e4-bd48-4ed3-a398-2a903a50f440",
   "metadata": {},
   "source": [
    "monkeys"
   ]
  },
  {
   "cell_type": "code",
   "execution_count": 24,
   "id": "b64de291-074a-42fa-9051-841f43f8a24c",
   "metadata": {},
   "outputs": [],
   "source": [
    "pairFileList_monkeys = []\n",
    "for I, df1 in enumerate(allDFs_M1):\n",
    "    for J, df2 in enumerate(allDFs_M1):\n",
    "        if J<=I or df1.session[0] == df2.session[0]: continue  # to repetitions\n",
    "        pairFileList_monkeys.append((I,J))\n"
   ]
  },
  {
   "cell_type": "markdown",
   "id": "ffc0f9cd-0c74-4a6f-814c-0c68623fd89b",
   "metadata": {},
   "source": [
    "read data"
   ]
  },
  {
   "cell_type": "code",
   "execution_count": 25,
   "id": "479822b6-f789-48a5-852e-7e45238cfcb6",
   "metadata": {},
   "outputs": [],
   "source": [
    "side1df = [AllDFs[i] for i,_ in pairFileList_mice]\n",
    "side2df = [AllDFs[j] for _,j in pairFileList_mice]\n",
    "warnings.filterwarnings(\"ignore\")\n",
    "AllData1_mice = dt.get_data_array(side1df, mouse_defs.exec_epoch, area=mouse_defs.areas[0], model=mouse_defs.n_components)\n",
    "AllData2_mice = dt.get_data_array(side2df, mouse_defs.exec_epoch, area=mouse_defs.areas[0], model=mouse_defs.n_components)\n",
    "_,_, min_trials_mice, min_time_mice,_ = np.min((AllData2_mice.shape,AllData2_mice.shape),axis=0)\n",
    "\n",
    "side1df = [allDFs_M1[i] for i,_ in pairFileList_monkeys]\n",
    "side2df = [allDFs_M1[j] for _,j in pairFileList_monkeys]\n",
    "AllData1_monkey = dt.get_data_array(side1df, monkey_defs.exec_epoch, area=monkey_defs.areas[0], model=monkey_defs.n_components)\n",
    "AllData2_monkey = dt.get_data_array(side2df, monkey_defs.exec_epoch, area=monkey_defs.areas[0], model=monkey_defs.n_components)\n",
    "_,_, min_trials_monkey, min_time_monkey,_ = np.min((AllData1_monkey.shape,AllData1_monkey.shape),axis=0)\n",
    "\n",
    "warnings.filterwarnings(\"default\")\n"
   ]
  },
  {
   "cell_type": "code",
   "execution_count": 47,
   "id": "865f6ad8-dbd6-46bc-ba30-60b7de1c9e47",
   "metadata": {},
   "outputs": [],
   "source": [
    "Behav_corr_TH = 0.75\n",
    "\n",
    "CC_corr_mice=[]\n",
    "for i, (sessionData1,sessionData2) in enumerate(zip(AllData1_mice,AllData2_mice)):\n",
    "    data1 = np.reshape(sessionData1[:,:min_trials_mice,:min_time_mice,:], (-1,mouse_defs.n_components))\n",
    "    data2 = np.reshape(sessionData2[:,:min_trials_mice,:min_time_mice,:], (-1,mouse_defs.n_components))\n",
    "    k,l = pairFileList_mice[i]\n",
    "    behav = np.array(across_corrs_mice[AllDFs[k].file[0]][AllDFs[l].file[0]])\n",
    "    behav = behav[behav>Behav_corr_TH]\n",
    "    CC_corr_mice.append((dt.canoncorr(data1, data2)[:4].mean() , np.mean(behav)))\n",
    "CC_corr_mice = np.array(CC_corr_mice)\n",
    "\n",
    "\n",
    "CC_corr_monkey=[]\n",
    "for i, (sessionData1,sessionData2) in enumerate(zip(AllData1_monkey,AllData2_monkey)):\n",
    "    data1 = np.reshape(sessionData1[:,:min_trials_monkey,:min_time_monkey,:], (-1,monkey_defs.n_components))\n",
    "    data2 = np.reshape(sessionData2[:,:min_trials_monkey,:min_time_monkey,:], (-1,monkey_defs.n_components))\n",
    "    k,l = pairFileList_monkeys[i]\n",
    "    behav = np.array(across_corrs_monkeys[allDFs_M1[k].session[0]][allDFs_M1[l].session[0]])\n",
    "    behav = behav[behav>Behav_corr_TH]\n",
    "    CC_corr_monkey.append((dt.canoncorr(data1, data2)[:4].mean() , np.mean(behav)))\n",
    "CC_corr_monkey = np.array(CC_corr_monkey)"
   ]
  },
  {
   "cell_type": "markdown",
   "id": "831f592e-c024-4c74-af58-a6842f803e21",
   "metadata": {},
   "source": [
    "plot"
   ]
  },
  {
   "cell_type": "code",
   "execution_count": 48,
   "id": "eb874158-30cc-4f76-a660-45b3417b5948",
   "metadata": {},
   "outputs": [
    {
     "data": {
      "image/png": "[encoded data removed]",
      "text/plain": [
       "<Figure size 216x216 with 1 Axes>"
      ]
     },
     "metadata": {
      "image/png": {
       "height": 219,
       "width": 218
      },
      "needs_background": "light"
     },
     "output_type": "display_data"
    }
   ],
   "source": [
    "if \"__file__\" not in dir():     \n",
    "    fig,ax = plt.subplots(1,1,figsize=(3,3),)\n",
    "    \n",
    "    ax.scatter(CC_corr_mice[:,1],CC_corr_mice[:,0],color='r', label='Mice')\n",
    "    ax.scatter(CC_corr_monkey[:,1],CC_corr_monkey[:,0], color='b', label='Monkeys')\n",
    "\n",
    "    ax.set_xlabel('Behavioural correlation')\n",
    "    ax.set_ylabel('Canonical correlation')\n",
    "    ax.legend()\n",
    "    ax.set_title(f'min. behav. corr.: {Behav_corr_TH:0.2f}')"
   ]
  }
 ],
 "metadata": {
  "interpreter": {
   "hash": "72da6499f934495e06c03d484049d4696c0f7b78c6b9c64cf8676e9ec2014a6a"
  },
  "kernelspec": {
   "display_name": "Python 3 (ipykernel)",
   "language": "python",
   "name": "python3"
  },
  "language_info": {
   "codemirror_mode": {
    "name": "ipython",
    "version": 3
   },
   "file_extension": ".py",
   "mimetype": "text/x-python",
   "name": "python",
   "nbconvert_exporter": "python",
   "pygments_lexer": "ipython3",
   "version": "3.9.6"
  }
 },
 "nbformat": 4,
 "nbformat_minor": 5
}
