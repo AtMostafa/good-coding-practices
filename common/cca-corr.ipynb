{
 "cells": [
  {
   "cell_type": "markdown",
   "id": "d374a142",
   "metadata": {},
   "source": [
    "# part0: imports"
   ]
  },
  {
   "cell_type": "code",
   "execution_count": 1,
   "id": "05c18582",
   "metadata": {},
   "outputs": [
    {
     "name": "stdout",
     "output_type": "stream",
     "text": [
      "the variable `GoodDataList` contains the session names\n",
      "Done!\n"
     ]
    }
   ],
   "source": [
    "import os, sys, pathlib\n",
    "from pprint import pprint\n",
    "import gc\n",
    "import pickle\n",
    "from importlib import reload\n",
    "import logging, warnings\n",
    "logging.basicConfig(level=logging.WARNING)\n",
    "from IPython.display import display, clear_output\n",
    "\n",
    "import pandas as pd\n",
    "import numpy as np\n",
    "import sklearn\n",
    "from sklearn.decomposition import PCA\n",
    "import scipy.linalg as linalg\n",
    "from scipy.stats import pearsonr\n",
    "\n",
    "import matplotlib.pyplot as plt\n",
    "import matplotlib.cm as cm\n",
    "import matplotlib\n",
    "from matplotlib.ticker import MaxNLocator\n",
    "from matplotlib.collections import LineCollection\n",
    "from matplotlib.backends.backend_pdf import PdfPages\n",
    "%matplotlib inline\n",
    "%config InlineBackend.figure_formats = ['png2x']\n",
    "\n",
    "import pyaldata as pyal\n",
    "\n",
    "\n",
    "try:\n",
    "    nbPath = pathlib.Path.cwd()\n",
    "    RepoPath = nbPath.parent\n",
    "    os.chdir(RepoPath)\n",
    "\n",
    "    from tools import utilityTools as utility\n",
    "    from tools import dataTools as dt\n",
    "    from mouse import defs as mouse_defs\n",
    "    from monkey import defs as monkey_defs\n",
    "    import params\n",
    "    \n",
    "    os.chdir(RepoPath / 'monkey')\n",
    "    %run \"_dataset-selection.ipynb\"\n",
    "    \n",
    "    set_rc =  params.set_rc_params\n",
    "    set_rc()\n",
    "    root = params.root\n",
    "finally:\n",
    "    os.chdir(nbPath)\n",
    "\n",
    "if \"__file__\" not in dir():\n",
    "    reload(dt)\n",
    "    reload(mouse_defs)\n",
    "    reload(monkey_defs)\n",
    "    print('Done!')"
   ]
  },
  {
   "cell_type": "markdown",
   "id": "ac6a6c27-22a9-4b61-9700-eb4a631c8430",
   "metadata": {},
   "source": [
    "# reading data"
   ]
  },
  {
   "cell_type": "code",
   "execution_count": 2,
   "id": "0351074b-d101-43dd-9460-07acda83a855",
   "metadata": {},
   "outputs": [],
   "source": [
    "animalList = ['mouse-data']\n",
    "\n",
    "animalFiles = []\n",
    "for animal in animalList:\n",
    "    animalFiles.extend(utility.find_file(root/animal, 'mat'))\n",
    "\n",
    "\n",
    "AllDFs=[]\n",
    "for fname in animalFiles:\n",
    "    print(fname)\n",
    "    df = dt.load_pyal_data(fname)\n",
    "    df['mouse'] = fname.split(os.sep)[-1][fname.split(os.sep)[-1].find('WR'):].split('_')[0]\n",
    "    df['file'] = fname.split(os.sep)[-1]\n",
    "    df = mouse_defs.prep_general_mouse(df)\n",
    "    AllDFs.append(df)\n",
    "\n",
    "clear_output()"
   ]
  },
  {
   "cell_type": "code",
   "execution_count": 2,
   "id": "7ea50f29-daad-4ade-beb5-89ffbd079536",
   "metadata": {},
   "outputs": [],
   "source": [
    "warnings.filterwarnings(\"ignore\")\n",
    "allDFs_M1 = []\n",
    "for animal, sessionList in GoodDataList[monkey_defs.areas[0]].items():\n",
    "    if 'Mr' in animal:\n",
    "        continue  # to remove MrT\n",
    "    for session in sessionList:\n",
    "        path = root/animal/session\n",
    "        allDFs_M1.append(monkey_defs.prep_general(dt.load_pyal_data(path)))\n",
    "        \n",
    "\n",
    "allDFs_PMd = []\n",
    "for animal, sessionList in GoodDataList[monkey_defs.areas[1]].items():\n",
    "    if 'Mr' in animal:\n",
    "        continue  # to remove MrT\n",
    "    for session in sessionList:\n",
    "        path = root/animal/session\n",
    "        allDFs_PMd.append(monkey_defs.prep_general(dt.load_pyal_data(path)))\n",
    "        \n",
    "warnings.filterwarnings(\"default\")"
   ]
  },
  {
   "cell_type": "code",
   "execution_count": null,
   "id": "7f95cd7a-2e66-445b-be78-d422dc23ee2a",
   "metadata": {},
   "outputs": [],
   "source": []
  },
  {
   "cell_type": "code",
   "execution_count": null,
   "id": "fbd84a00-87bf-4d10-ba19-6e8155345fcc",
   "metadata": {},
   "outputs": [],
   "source": []
  },
  {
   "cell_type": "code",
   "execution_count": null,
   "id": "087ad6d9-3d4e-4b5d-a771-904573564186",
   "metadata": {},
   "outputs": [],
   "source": []
  },
  {
   "cell_type": "code",
   "execution_count": null,
   "id": "13fb0452-5c89-458c-a455-032459acb35c",
   "metadata": {},
   "outputs": [],
   "source": []
  },
  {
   "cell_type": "code",
   "execution_count": null,
   "id": "03ae54c7-2f0c-4048-aa0b-e51a62a8b5a1",
   "metadata": {},
   "outputs": [],
   "source": []
  },
  {
   "cell_type": "code",
   "execution_count": null,
   "id": "546937ff-0fd7-4183-9c60-9330de4ee673",
   "metadata": {},
   "outputs": [],
   "source": []
  },
  {
   "cell_type": "markdown",
   "id": "3450da00-4b98-4b17-aa86-bcca36aa2871",
   "metadata": {},
   "source": [
    "# Behavioural Correlations\n",
    "\n",
    "Correlate behaviour during the trial  \n",
    "\n",
    "\n",
    "## Correaltions to the **same** target, without time warping\n",
    "\n",
    "trimming the trials to the same length"
   ]
  },
  {
   "cell_type": "code",
   "execution_count": 11,
   "id": "d870bf4b-0616-4835-b7b8-c67691b7b2c7",
   "metadata": {},
   "outputs": [],
   "source": [
    "def trim_within_mouse_corr(allDF:list[pd.DataFrame],):\n",
    "    trim_within_corrs = {}\n",
    "    within_good = within_bad = 0\n",
    "    for df in allDF:\n",
    "        trim_within_corrs[df.file[0]] = []\n",
    "        targets = np.unique(df.target_id)\n",
    "        for target in targets:\n",
    "            df_ = pyal.select_trials(df, df.target_id == target)\n",
    "            for i, vel1 in enumerate(df_.hVelB):\n",
    "                a = vel1[df_.idx_movement_on[i]:df_.idx_pull_off[i],:]\n",
    "                for j, vel2 in enumerate(df_.hVelB):\n",
    "                    if j<=i: continue\n",
    "                    b = vel2[df_.idx_movement_on[j]:df_.idx_pull_off[j],:]\n",
    "                    if abs(len(b) - len(a)) > min((len(b) , len(a))):\n",
    "                        within_bad += 1\n",
    "                        continue\n",
    "                    a_,b_ = defs.time_trim(a,b)\n",
    "                    r = [pearsonr(aa,bb)[0] for aa,bb in zip(a_.T,b_.T)]\n",
    "                    trim_within_corrs[df_.file[0]].append(np.mean(np.abs(r)))\n",
    "                    within_good += 1\n",
    "\n",
    "    logging.warning(f'mismatching within trial pair dropeed: {within_bad/(within_good+within_bad)*100:2.0f}%')\n",
    "    return trim_within_corrs\n",
    "\n",
    "\n",
    "def trim_across_mouse_corr(allDF:list[pd.DataFrame],):\n",
    "    trim_across_corrs = {}\n",
    "    across_good = across_bad = 0\n",
    "    for dfi, df1 in enumerate(allDF):\n",
    "        targets = np.unique(df1.target_id)\n",
    "        trim_across_corrs[df1.file[0]]={}\n",
    "        for dfj, df2 in enumerate(allDF):\n",
    "            trim_across_corrs[df2.file[0]] = {} if df2.file[0] not in trim_across_corrs.keys() else trim_across_corrs[df2.file[0]]\n",
    "            if dfj <= dfi: continue\n",
    "            trim_across_corrs[df1.file[0]][df2.file[0]]=[]\n",
    "            for target in targets:\n",
    "                df1_ = pyal.select_trials(df1, df1.target_id == target)\n",
    "                df2_ = pyal.select_trials(df2, df2.target_id == target)\n",
    "                for i, vel1 in enumerate(df1_.hVelB):\n",
    "                    a = vel1[df1_.idx_movement_on[i]:df1_.idx_pull_off[i],:]\n",
    "                    for j, vel2 in enumerate(df2_.hVelB):\n",
    "                        b = vel2[df2_.idx_movement_on[j]:df2_.idx_pull_off[j],:]\n",
    "                        if abs(len(b) - len(a)) > min((len(b) , len(a))):\n",
    "                            across_bad += 1\n",
    "                            continue\n",
    "                        a_,b_ = defs.time_trim(a,b)\n",
    "                        r = [pearsonr(aa,bb)[0] for aa,bb in zip(a_.T,b_.T)]\n",
    "                        trim_across_corrs[df1_.file[0]][df2_.file[0]].append(np.mean(np.abs(r)))\n",
    "                        across_good += 1\n",
    "\n",
    "        # make the across correlations symmetrical!\n",
    "        for  df2_file, val in trim_across_corrs[df1_.file[0]].items():\n",
    "            trim_across_corrs[df2_file][df1_.file[0]] = val\n",
    "\n",
    "    logging.warning(f'mismatching across trial pair dropeed: {across_bad/(across_good+across_bad)*100:2.0f}%')\n",
    "    return trim_across_corrs"
   ]
  },
  {
   "cell_type": "code",
   "execution_count": 12,
   "id": "62bd8cd9-437b-4e91-8399-655b42d3def4",
   "metadata": {},
   "outputs": [
    {
     "name": "stderr",
     "output_type": "stream",
     "text": [
      "WARNING:root:mismatching within trial pair dropeed: 19%\n",
      "WARNING:root:mismatching across trial pair dropeed: 25%\n"
     ]
    },
    {
     "data": {
      "image/png": "[encoded data removed]",
      "text/plain": [
       "<Figure size 720x720 with 30 Axes>"
      ]
     },
     "metadata": {
      "image/png": {
       "height": 497,
       "width": 597
      },
      "needs_background": "light"
     },
     "output_type": "display_data"
    }
   ],
   "source": [
    "if \"__file__\" not in dir():\n",
    "    within_corrs = trim_within_mouse_corr (AllDFs)\n",
    "    across_corrs = trim_across_mouse_corr (AllDFs)\n",
    "\n",
    "    fig,axes = plt.subplots(len(AllDFs),len(AllDFs),figsize=(10,10))\n",
    "\n",
    "    for i, df1 in enumerate(AllDFs):\n",
    "        for j, df2 in enumerate(AllDFs):\n",
    "            if j<=i:\n",
    "                utility.phantom_axes(axes[i,j])\n",
    "                continue\n",
    "            ax = axes[i,j]\n",
    "            ax.hist(across_corrs[df1.file[0]][df2.file[0]],alpha=.8,color='r',label=r'across $i$ \\& $j$')\n",
    "            ax.hist(within_corrs[df1.file[0]],alpha=.5,color='b',label='within $i$')\n",
    "            ax.hist(within_corrs[df2.file[0]],alpha=.5,color='b',label='within $j$')\n",
    "            ax.text(.5,.9,f'$\\mu = {np.mean(across_corrs[df1.file[0]][df2.file[0]]):0.2f}$', ha='center',fontsize='medium',transform=ax.transAxes)\n",
    "            ax.set_yticks([])\n",
    "            ax.spines['top'].set_visible(False)\n",
    "            ax.spines['right'].set_visible(False)\n",
    "            ax.spines['left'].set_visible(False)\n",
    "            ax.set_xlim([0,1])\n",
    "            ax.set_xticks([0,1])\n",
    "\n",
    "    [fig.delaxes(ax) for ax in axes[-1,:]]\n",
    "    axes[0,1].legend(bbox_to_anchor=(0,.5),loc=7)\n",
    "    axes[-2,-1].set_xlabel(r\"Pearson's $r$\", labelpad=-6);\n",
    "    fig.supylabel('Different sessions', x=.92)\n",
    "    fig.suptitle('Velocity correlations',y=.9,fontsize='x-large');"
   ]
  }
 ],
 "metadata": {
  "interpreter": {
   "hash": "72da6499f934495e06c03d484049d4696c0f7b78c6b9c64cf8676e9ec2014a6a"
  },
  "kernelspec": {
   "display_name": "Python 3 (ipykernel)",
   "language": "python",
   "name": "python3"
  },
  "language_info": {
   "codemirror_mode": {
    "name": "ipython",
    "version": 3
   },
   "file_extension": ".py",
   "mimetype": "text/x-python",
   "name": "python",
   "nbconvert_exporter": "python",
   "pygments_lexer": "ipython3",
   "version": "3.9.6"
  }
 },
 "nbformat": 4,
 "nbformat_minor": 5
}
