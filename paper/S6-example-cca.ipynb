{
 "cells": [
  {
   "cell_type": "markdown",
   "id": "61b102c0",
   "metadata": {},
   "source": [
    "# part0: imports"
   ]
  },
  {
   "cell_type": "code",
   "execution_count": 4,
   "id": "00059128",
   "metadata": {},
   "outputs": [
    {
     "name": "stdout",
     "output_type": "stream",
     "text": [
      "the variable `GoodDataList` contains the session names\n",
      "Done\n"
     ]
    }
   ],
   "source": [
    "%matplotlib inline\n",
    "\n",
    "\n",
    "import os, sys, pathlib\n",
    "from pprint import pprint\n",
    "import gc, time\n",
    "import pickle\n",
    "from importlib import reload\n",
    "import logging, warnings\n",
    "logging.basicConfig(level=logging.ERROR)\n",
    "warnings.simplefilter(\"ignore\")\n",
    "\n",
    "import PyPDF2 as ppdf\n",
    "import pandas as pd\n",
    "import numpy as np\n",
    "import sklearn\n",
    "from sklearn.decomposition import PCA\n",
    "import scipy.linalg as linalg\n",
    "from sklearn.linear_model import Ridge, LinearRegression\n",
    "from sklearn.model_selection import cross_val_score\n",
    "from sklearn.metrics import make_scorer, r2_score\n",
    "\n",
    "\n",
    "import matplotlib.pyplot as plt\n",
    "import matplotlib.cm as cm\n",
    "import matplotlib as mpl\n",
    "import matplotlib.lines as mlines\n",
    "from matplotlib.ticker import MaxNLocator, FormatStrFormatter\n",
    "from matplotlib.collections import LineCollection\n",
    "\n",
    "\n",
    "import pyaldata as pyal\n",
    "\n",
    "if \"__file__\" not in dir():\n",
    "    try:\n",
    "        NBPath = pathlib.Path.cwd()\n",
    "        RepoPath = NBPath.parent\n",
    "        os.chdir(RepoPath)\n",
    "\n",
    "        from tools import utilityTools as utility\n",
    "        from tools import dataTools as dt\n",
    "        import params\n",
    "        reload(params)\n",
    "        monkey_defs = params.monkey_defs\n",
    "        mouse_defs = params.mouse_defs\n",
    "\n",
    "        set_rc =  params.set_rc_params\n",
    "        set_rc()\n",
    "        root = params.root\n",
    "\n",
    "        os.chdir(RepoPath / 'monkey')\n",
    "        %run \"_dataset-selection.ipynb\"\n",
    "\n",
    "    finally:\n",
    "        os.chdir(NBPath)\n",
    "\n",
    "    # %run S6-example-cca.ipynb\"\n",
    "\n",
    "    print('Done')"
   ]
  },
  {
   "cell_type": "markdown",
   "id": "10aa2e5d-f25c-405a-ba73-2b2464c37b9e",
   "metadata": {},
   "source": [
    "# Part 1\n",
    "\n",
    "functions that plot each panel.\n",
    "\n"
   ]
  },
  {
   "cell_type": "markdown",
   "id": "10159e45-a434-4695-b186-89f64ecf058c",
   "metadata": {},
   "source": [
    "---\n",
    "\n",
    "monkey population data"
   ]
  },
  {
   "cell_type": "code",
   "execution_count": 5,
   "id": "d9fb936c-4ef3-4776-bd0f-bea0b5322a40",
   "metadata": {},
   "outputs": [],
   "source": [
    "@utility.report\n",
    "def get_full_monkey_data():\n",
    "    full_list_MCx = []\n",
    "    for animal, sessionList in GoodDataList[monkey_defs.areas[2]].items():\n",
    "        if 'Mr' in animal:\n",
    "            continue  # to remove MrT\n",
    "        full_list_MCx.append((animal,sessionList))\n",
    "    full_list_MCx = [(animal,session) for animal,sessions in full_list_MCx for session in set(sessions)]\n",
    "    # load the DFs\n",
    "    allDFs_MCx = []\n",
    "    for animal, session in full_list_MCx:\n",
    "        path = root/animal/session\n",
    "        allDFs_MCx.append(monkey_defs.prep_general(dt.load_pyal_data(path)))\n",
    "\n",
    "    return full_list_MCx, allDFs_MCx"
   ]
  },
  {
   "cell_type": "markdown",
   "id": "7d4f032e-2906-4d5e-9888-1140f80815af",
   "metadata": {},
   "source": [
    "---\n",
    "\n",
    "CCA for the example sessions"
   ]
  },
  {
   "cell_type": "code",
   "execution_count": 6,
   "id": "06a6550f-b95d-42fa-bc58-b6f5c4aa544f",
   "metadata": {},
   "outputs": [],
   "source": [
    "@utility.report\n",
    "def plot_cca_for_pair(ax, example_df):\n",
    "    assert len(example_df)==2, 'function works for pairs'\n",
    "    defs = monkey_defs\n",
    "\n",
    "    df1, df2 = example_df\n",
    "    AllData1 = dt.get_data_array(df1, defs.exec_epoch, area=defs.areas[2], model=defs.n_components)\n",
    "    AllData2 = dt.get_data_array(df2, defs.exec_epoch, area=defs.areas[2], model=defs.n_components)\n",
    "    _,_, min_trials, min_time,_ = np.min((AllData1.shape,AllData2.shape),axis=0)\n",
    "    allCCs=[]\n",
    "    for sessionData1,sessionData2 in zip(AllData1,AllData2):\n",
    "        data1 = np.reshape(sessionData1[:,:min_trials,:min_time,:], (-1,defs.n_components))\n",
    "        data2 = np.reshape(sessionData2[:,:min_trials,:min_time,:], (-1,defs.n_components))\n",
    "        allCCs.append(dt.canoncorr(data1, data2))\n",
    "    allCCs = np.array(allCCs).T\n",
    "    \n",
    "    # lower bound\n",
    "    len_trial = int(np.round(np.diff(defs.WINDOW_exec)/defs.BIN_SIZE))\n",
    "    AllDataL1 = defs._get_data_array(df1, epoch_L=len_trial, area=defs.areas[2], model=defs.n_components)\n",
    "    AllDataL2 = defs._get_data_array(df2, epoch_L=len_trial, area=defs.areas[2], model=defs.n_components)\n",
    "    _,_, min_trials, min_time,_ = np.min((AllDataL1.shape,AllDataL2.shape),axis=0)\n",
    "    CCsL=[]\n",
    "    for sessionData1,sessionData2 in zip(AllDataL1,AllDataL2):\n",
    "        r = []\n",
    "        for n in range(params.n_iter * 10):\n",
    "            sessionData1_sh = params.rng.permutation(sessionData1,axis=0)\n",
    "            sessionData2_sh = params.rng.permutation(sessionData2,axis=0)\n",
    "            data1 = np.reshape(sessionData1_sh[:,:min_trials,:min_time,:], (-1,monkey_defs.n_components))\n",
    "            data2 = np.reshape(sessionData2_sh[:,:min_trials,:min_time,:], (-1,monkey_defs.n_components))\n",
    "            r.append(dt.canoncorr(data1, data2))\n",
    "        CCsL.append(r)\n",
    "    CCsL = np.array(CCsL)\n",
    "    CCsL = np.percentile(CCsL, 1, axis=1).T\n",
    "    \n",
    "    # upper bound\n",
    "    AllDataU = dt.get_data_array([df1,df2], monkey_defs.exec_epoch, area=monkey_defs.areas[2], model=monkey_defs.n_components)\n",
    "    n_shared_trial1 = AllDataU.shape[2]\n",
    "    trialList1 = np.arange(n_shared_trial1)\n",
    "    CCsU=[]\n",
    "    for session, sessionData in enumerate(AllDataU):\n",
    "        r = []\n",
    "        for n in range(params.n_iter * 10):\n",
    "            params.rng.shuffle(trialList1)\n",
    "            # non-overlapping randomised trials\n",
    "            trial1 = trialList1[:n_shared_trial1//2]\n",
    "            trial2 = trialList1[-(n_shared_trial1//2):]\n",
    "            data1 = np.reshape(sessionData[:,trial1,:,:], (-1,monkey_defs.n_components))\n",
    "            data2 = np.reshape(sessionData[:,trial2,:,:], (-1,monkey_defs.n_components))\n",
    "            r.append(dt.canoncorr(data1, data2))\n",
    "        CCsU.append(r)\n",
    "    CCsU = np.array(CCsU)\n",
    "    CCsU = np.percentile(CCsU, 99, axis=1).T\n",
    "\n",
    "    # plotting\n",
    "    x_ = np.arange(1,monkey_defs.n_components+1)\n",
    "    ax.plot(x_, allCCs, color=params.colors.MainCC, marker = 'o', label=f'Across monkeys')\n",
    "    ax.plot(x_, CCsU[:,0], color=params.colors.UpperCC, marker = '<', ls='--', label=f'Within monkey1')\n",
    "    ax.plot(x_, CCsU[:,1], marker = '<', ls='--', label=f'Within monkey2')\n",
    "    ax.plot(x_, CCsL, color=params.colors.LowerCC, marker = '>', ls=':', label=f'Control')\n",
    "\n",
    "\n",
    "    ax.set_ylim([-.05,1])\n",
    "    ax.set_xlim([.6,monkey_defs.n_components+.6])\n",
    "    ax.set_xlabel('Neural mode')\n",
    "    ax.xaxis.set_major_locator(MaxNLocator(integer=True))\n",
    "    # ax.set_title(f'{defs.areas[2]} Alignment')\n",
    "    ax.legend(loc='upper right', bbox_to_anchor=(1, 1))\n",
    "    ax.set_ylabel('Canonical correlation')\n",
    "    \n",
    "    ax.spines['top'].set_visible(False)\n",
    "    ax.spines['right'].set_visible(False)\n",
    "    ax.spines['bottom'].set_bounds([1,monkey_defs.n_components])\n",
    "    ax.spines['left'].set_bounds([0,1])"
   ]
  },
  {
   "cell_type": "code",
   "execution_count": 8,
   "id": "2c038a8e-5b53-4eaa-bded-f85c5d9ed07a",
   "metadata": {},
   "outputs": [
    {
     "name": "stdout",
     "output_type": "stream",
     "text": [
      "Executed: `get_full_monkey_data` in 21.5s\n",
      "Executed: `plot_cca_for_pair` in 14.1s\n"
     ]
    },
    {
     "data": {
      "image/png": "[encoded data removed]",
      "text/plain": [
       "<Figure size 600x400 with 1 Axes>"
      ]
     },
     "metadata": {
      "needs_background": "light"
     },
     "output_type": "display_data"
    }
   ],
   "source": [
    "if \"__file__\" not in dir():\n",
    "    plt.close('all')\n",
    "    set_rc()\n",
    "    fig,ax = plt.subplots(dpi=100)\n",
    "    \n",
    "    # _, allDFs = get_full_monkey_data()\n",
    "    \n",
    "    plot_cca_for_pair(ax, allDFs[10:12])\n",
    "    "
   ]
  },
  {
   "cell_type": "markdown",
   "id": "c6806511-6197-45b5-beb6-316a050c9c83",
   "metadata": {},
   "source": [
    "---\n",
    "\n",
    "Mouse CCA plot"
   ]
  },
  {
   "cell_type": "code",
   "execution_count": 9,
   "id": "22ceccd6-a508-4bef-84e7-9cffa87aed00",
   "metadata": {},
   "outputs": [],
   "source": [
    "@utility.report\n",
    "def get_full_mouse_data():\n",
    "    defs = mouse_defs\n",
    "    \n",
    "    animalList = ['mouse-data']\n",
    "    animalFiles = []\n",
    "    for animal in animalList:\n",
    "        animalFiles.extend(utility.find_file(root / animal, 'mat'))\n",
    "\n",
    "    AllDFs=[]\n",
    "    for fname in animalFiles:\n",
    "        df = dt.load_pyal_data(fname)\n",
    "        df['mouse'] = fname.split(os.sep)[-1][fname.split(os.sep)[-1].find('WR'):].split('_')[0]\n",
    "        df['file'] = fname.split(os.sep)[-1]\n",
    "        df = defs.prep_general_mouse(df)\n",
    "        AllDFs.append(df)\n",
    "\n",
    "    allDFs_M1 = []\n",
    "    for df in AllDFs:\n",
    "        if 'M1_rates' in df.columns:\n",
    "            allDFs_M1.append(df)\n",
    "\n",
    "\n",
    "    allDFs_Str = []\n",
    "    for df in AllDFs:\n",
    "        if 'Str_rates' in df.columns:\n",
    "            allDFs_Str.append(df)\n",
    "            \n",
    "    return allDFs_M1, allDFs_Str"
   ]
  },
  {
   "cell_type": "code",
   "execution_count": 10,
   "id": "34e5d867-32a3-499d-b238-9d759a049882",
   "metadata": {},
   "outputs": [],
   "source": [
    "@utility.report\n",
    "def plot_mouse_M1_cca_for_pair(ax, example_df):\n",
    "    defs = mouse_defs\n",
    "    df1, df2 = example_df\n",
    "    \n",
    "    AllData1 = dt.get_data_array(df1, defs.exec_epoch, area=defs.areas[0], model=defs.n_components)\n",
    "    AllData2 = dt.get_data_array(df2, defs.exec_epoch, area=defs.areas[0], model=defs.n_components)\n",
    "    _,_, min_trials, min_time,_ = np.min((AllData1.shape,AllData2.shape),axis=0)\n",
    "    allCCs=[]\n",
    "    for sessionData1,sessionData2 in zip(AllData1,AllData2):\n",
    "        data1 = np.reshape(sessionData1[:,:min_trials,:min_time,:], (-1,defs.n_components))\n",
    "        data2 = np.reshape(sessionData2[:,:min_trials,:min_time,:], (-1,defs.n_components))\n",
    "        allCCs.append(dt.canoncorr(data1, data2))\n",
    "    allCCs = np.array(allCCs).T\n",
    "\n",
    "    # upper bound\n",
    "    AllData1 = dt.get_data_array([df1, df2], defs.exec_epoch, area=defs.areas[0], model=defs.n_components)\n",
    "    n_iter = params.n_iter * 10\n",
    "    n_shared_trial1 = AllData1.shape[2]\n",
    "    trialList1 = np.arange(n_shared_trial1)\n",
    "    CCsU=[]\n",
    "    for sessionData in AllData1:\n",
    "        r = []\n",
    "        for n in range(n_iter):\n",
    "            params.rng.shuffle(trialList1)\n",
    "            # non-overlapping randomised trials\n",
    "            trial1 = trialList1[:n_shared_trial1//2]\n",
    "            trial2 = trialList1[-(n_shared_trial1//2):]\n",
    "            data1 = np.reshape(sessionData[:,trial1,:,:], (-1,defs.n_components))\n",
    "            data2 = np.reshape(sessionData[:,trial2,:,:], (-1,defs.n_components))\n",
    "            r.append(dt.canoncorr(data1, data2))\n",
    "        CCsU.append(r)\n",
    "    CCsU = np.array(CCsU)\n",
    "    CCsU = np.percentile(CCsU, 99, axis=1).T\n",
    "\n",
    "    # lower bound\n",
    "    len_trial = int(np.round(np.diff(defs.WINDOW_exec)/defs.BIN_SIZE))\n",
    "\n",
    "    AllData1 = dt.get_data_array(df1, area=defs.areas[0], model=defs.n_components)\n",
    "    AllData2 = dt.get_data_array(df2, area=defs.areas[0], model=defs.n_components)\n",
    "    _,_, min_trials, min_time,_ = np.min((AllData1.shape,AllData2.shape),axis=0)\n",
    "\n",
    "    CCsL=[]\n",
    "    for sessionData1,sessionData2 in zip(AllData1,AllData2):\n",
    "        r = []\n",
    "        for n in range(n_iter):\n",
    "            sessionData1_sh = params.rng.permutation(sessionData1,axis=0)\n",
    "            sessionData2_sh = params.rng.permutation(sessionData2,axis=0)\n",
    "            time_idx = params.rng.integers(min_time-len_trial)\n",
    "\n",
    "            data1 = np.reshape(sessionData1_sh[:,:min_trials,time_idx:time_idx+len_trial,:], (-1,defs.n_components))\n",
    "            data2 = np.reshape(sessionData2_sh[:,:min_trials,time_idx:time_idx+len_trial,:], (-1,defs.n_components))\n",
    "            r.append(dt.canoncorr(data1, data2))\n",
    "        CCsL.append(r)\n",
    "    CCsL = np.array(CCsL)\n",
    "    CCsL = np.percentile(CCsL, 1, axis=1).T\n",
    "\n",
    "\n",
    "    #====================================PLOTTING\n",
    "        \n",
    "    x_ = np.arange(1,monkey_defs.n_components+1)\n",
    "    ax.plot(x_, allCCs, color=params.colors.MainCC, marker = 'o', label=f'Across mice')\n",
    "    ax.plot(x_, CCsU[:,0], color=params.colors.UpperCC, marker = '<', ls='--', label=f'Within mouse1')\n",
    "    ax.plot(x_, CCsU[:,1], marker = '<', ls='--', label=f'Within mouse2')\n",
    "    ax.plot(x_, CCsL, color=params.colors.LowerCC, marker = '>', ls=':', label=f'Control')\n",
    "\n",
    "    \n",
    "\n",
    "    ax.set_ylim([-.05,1])\n",
    "    ax.set_xlim([.6,monkey_defs.n_components+.6])\n",
    "    ax.set_xlabel('Neural mode')\n",
    "    ax.xaxis.set_major_locator(MaxNLocator(integer=True))\n",
    "    ax.legend(loc='upper right', bbox_to_anchor=(1, 1))\n",
    "    ax.set_ylabel('Canonical correlation')\n",
    "    \n",
    "    ax.spines['top'].set_visible(False)\n",
    "    ax.spines['right'].set_visible(False)\n",
    "    ax.spines['bottom'].set_bounds([1,defs.n_components])\n",
    "    ax.spines['left'].set_bounds([0,1])"
   ]
  },
  {
   "cell_type": "code",
   "execution_count": 11,
   "id": "14906a95-2796-4e0f-8975-50d52d2b95b1",
   "metadata": {},
   "outputs": [
    {
     "name": "stdout",
     "output_type": "stream",
     "text": [
      "Executed: `get_full_mouse_data` in 1.2s\n",
      "Executed: `plot_mouse_M1_cca_for_pair` in 2.1s\n"
     ]
    },
    {
     "data": {
      "image/png": "[encoded data removed]",
      "text/plain": [
       "<Figure size 600x400 with 1 Axes>"
      ]
     },
     "metadata": {
      "needs_background": "light"
     },
     "output_type": "display_data"
    }
   ],
   "source": [
    "if \"__file__\" not in dir():\n",
    "    plt.close('all')\n",
    "    set_rc()\n",
    "    fig=plt.figure(dpi=100)\n",
    "    gs = fig.add_gridspec(nrows=1, ncols=1,)\n",
    "\n",
    "    ax = fig.add_subplot(gs[0])\n",
    "\n",
    "    \n",
    "    allDFs_M1, _ = get_full_mouse_data()\n",
    "    \n",
    "    plot_mouse_M1_cca_for_pair(ax, allDFs_M1[:2])\n",
    "    \n",
    "    plt.show()"
   ]
  },
  {
   "cell_type": "markdown",
   "id": "3078eb21-79b2-4e9a-96be-f7cd141f9ed2",
   "metadata": {},
   "source": [
    "# Part 2\n",
    "Plot figure"
   ]
  },
  {
   "cell_type": "code",
   "execution_count": 2,
   "id": "dfde11e9-58cf-43f9-b95c-a132acb86d32",
   "metadata": {},
   "outputs": [
    {
     "name": "stdout",
     "output_type": "stream",
     "text": [
      "Executed: `plot_moneky_fr_raster` in 0.1s\n",
      "Executed: `plot_moneky_fr_raster` in 0.1s\n",
      "Executed: `plot_moneky_vel_ex` in 0.1s\n",
      "Executed: `plot_moneky_vel_ex` in 0.2s\n",
      "Executed: `plot_monkey_pc_example` in 0.3s\n",
      "Executed: `plot_cca_for_ex` in 4.3s\n",
      "Executed: `get_full_monkey_data` in 16.3s\n",
      "Executed: `plot_monkey_cca` in 360.5s\n",
      "Executed: `plot_monkey_decoding` in 202.8s\n",
      "Executed: `get_full_mouse_data` in 1.2s\n",
      "Executed: `plot_mouse_cca` in 14.0s\n",
      "Executed: `plot_mouse_cca_corr` in 13.5s\n",
      "Executed: `plot_monkey_cca_corr` in 138.0s\n",
      "Executed: `plot_traj_corr` in 1.6s\n"
     ]
    }
   ],
   "source": [
    "if \"__file__\" not in dir():\n",
    "    plt.close('all')\n",
    "    set_rc()\n",
    "    %matplotlib inline\n",
    "    figsize=params.LargeFig\n",
    "    fig=plt.figure(figsize=figsize)\n",
    "    \n",
    "   \n",
    "\n",
    "    \n",
    "    ##########################################\n",
    "    # 4: CCA plot for the example animals\n",
    "    gs4   =utility.add_gridspec_abs(fig, nrows=1, ncols=1,\n",
    "                                    left=0,\n",
    "                                    bottom=gs3.bottom*figsize[1]-params.panels.cca[1]-.3, \n",
    "                                    width=params.panels.cca[0],\n",
    "                                    height=params.panels.cca[1])\n",
    "\n",
    "    ax4 = fig.add_subplot(gs4[0])\n",
    "    \n",
    "    plot_cca_for_ex(ax4)\n",
    "    \n",
    "\n",
    "    \n",
    "\n",
    "    \n",
    "    \n",
    "#     fig.align_ylabels([ax1,ax4])\n",
    "    #############################################\n",
    "    #%%%%%%%%%%%%%%%%%%%%%%%%%%%%%%%%%%%%%%%%%%%%\n",
    "    AXES=(ax1,axes2_1[0],axes3[0],ax4,ax5,ax6,ax7,ax8,ax9)\n",
    "    OFFX=np.array([.02]*len(AXES))\n",
    "    OFFY=np.array([.01]*len(AXES))\n",
    "    # OFFX[[-1]]=0.12\n",
    "    OFFX[[0,2,3,4,5,6,7,8]]=0.05\n",
    "    \n",
    "    params.add_panel_caption(axes=AXES, offsetX=OFFX, offsetY=OFFY)\n",
    "    \n",
    "    fig.savefig(params.figPath / 'figure2.pdf', format='pdf', bbox_inches='tight')"
   ]
  },
  {
   "cell_type": "code",
   "execution_count": null,
   "id": "617d57c3-54a3-47fd-8931-e1259f9541ac",
   "metadata": {},
   "outputs": [],
   "source": []
  }
 ],
 "metadata": {
  "interpreter": {
   "hash": "72da6499f934495e06c03d484049d4696c0f7b78c6b9c64cf8676e9ec2014a6a"
  },
  "kernelspec": {
   "display_name": "Python 3 (ipykernel)",
   "language": "python",
   "name": "python3"
  },
  "language_info": {
   "codemirror_mode": {
    "name": "ipython",
    "version": 3
   },
   "file_extension": ".py",
   "mimetype": "text/x-python",
   "name": "python",
   "nbconvert_exporter": "python",
   "pygments_lexer": "ipython3",
   "version": "3.10.0"
  }
 },
 "nbformat": 4,
 "nbformat_minor": 5
}
