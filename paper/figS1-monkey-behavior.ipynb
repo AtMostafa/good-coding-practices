{
 "cells": [
  {
   "cell_type": "markdown",
   "id": "06debf48",
   "metadata": {},
   "source": [
    "# part0: imports"
   ]
  },
  {
   "cell_type": "code",
   "execution_count": 1,
   "id": "f206a049",
   "metadata": {
    "execution": {
     "iopub.execute_input": "2023-08-25T17:33:36.297194Z",
     "iopub.status.busy": "2023-08-25T17:33:36.297064Z",
     "iopub.status.idle": "2023-08-25T17:33:37.482240Z",
     "shell.execute_reply": "2023-08-25T17:33:37.481806Z"
    }
   },
   "outputs": [
    {
     "name": "stdout",
     "output_type": "stream",
     "text": [
      "Done\n"
     ]
    }
   ],
   "source": [
    "%matplotlib inline\n",
    "\n",
    "import os, pathlib\n",
    "from importlib import reload\n",
    "import logging, warnings\n",
    "logging.basicConfig(level=logging.ERROR)\n",
    "warnings.simplefilter(\"ignore\")\n",
    "import numpy as np\n",
    "from sklearn.decomposition import PCA\n",
    "import matplotlib.pyplot as plt\n",
    "from matplotlib.ticker import MaxNLocator, FormatStrFormatter\n",
    "from IPython.display import clear_output\n",
    "\n",
    "import pyaldata as pyal\n",
    "\n",
    "if \"__file__\" not in dir():\n",
    "    try:\n",
    "        NBPath = pathlib.Path.cwd()\n",
    "        RepoPath = NBPath.parent\n",
    "        os.chdir(RepoPath)\n",
    "\n",
    "        from tools import utilityTools as utility\n",
    "        from tools import dataTools as dt\n",
    "        import params\n",
    "        reload(params)\n",
    "        monkey_defs = params.monkey_defs\n",
    "        mouse_defs = params.mouse_defs\n",
    "        defs = monkey_defs\n",
    "\n",
    "        set_rc =  params.set_rc_params\n",
    "        set_rc()\n",
    "        root = params.root\n",
    "\n",
    "        os.chdir(RepoPath / 'monkey')\n",
    "        %run \"_dataset-selection.ipynb\"\n",
    "\n",
    "    finally:\n",
    "        os.chdir(NBPath)\n",
    "\n",
    "    # %run \"figS1-monkey-behaviour.ipynb\"\n",
    "\n",
    "    print('Done')\n",
    "\n",
    "FIGPATH = params.figPath / 'figS1-monkey-behaviour'\n",
    "if not os.path.exists(FIGPATH):\n",
    "    os.makedirs(FIGPATH)"
   ]
  },
  {
   "cell_type": "markdown",
   "id": "5e751f1c-f06c-4fe4-a0bc-b2389ed43729",
   "metadata": {
    "tags": []
   },
   "source": [
    "# Part 1\n",
    "\n",
    "functions that plot each panel.\n"
   ]
  },
  {
   "cell_type": "code",
   "execution_count": 2,
   "id": "5c6334d0-a764-4eb0-95e9-8839b9141f1c",
   "metadata": {
    "execution": {
     "iopub.execute_input": "2023-08-25T17:33:37.484277Z",
     "iopub.status.busy": "2023-08-25T17:33:37.484006Z",
     "iopub.status.idle": "2023-08-25T17:33:37.487048Z",
     "shell.execute_reply": "2023-08-25T17:33:37.486733Z"
    }
   },
   "outputs": [],
   "source": [
    "@utility.report\n",
    "def get_1session_monkey_data():\n",
    "    full_list_MCx = []\n",
    "    for animal, sessionList in SingleSessionEx.items():\n",
    "        full_list_MCx.append((animal,sessionList))\n",
    "    full_list_MCx = [(animal,session) for animal,sessions in full_list_MCx for session in set(sessions)]\n",
    "    # load the DFs\n",
    "    allDFs_MCx = []\n",
    "    for animal, session in full_list_MCx:\n",
    "        path = root/animal/session\n",
    "        allDFs_MCx.append(monkey_defs.prep_general(dt.load_pyal_data(path)))\n",
    "\n",
    "    return allDFs_MCx"
   ]
  },
  {
   "cell_type": "code",
   "execution_count": 3,
   "id": "9f1bf1b0",
   "metadata": {
    "execution": {
     "iopub.execute_input": "2023-08-25T17:33:37.488567Z",
     "iopub.status.busy": "2023-08-25T17:33:37.488382Z",
     "iopub.status.idle": "2023-08-25T17:33:37.491176Z",
     "shell.execute_reply": "2023-08-25T17:33:37.490888Z"
    }
   },
   "outputs": [],
   "source": [
    "@utility.report\n",
    "def get_full_monkey_data():\n",
    "    full_list_MCx = []\n",
    "    for animal, sessionList in GoodDataList_CO[monkey_defs.areas[2]].items():\n",
    "        if 'Mr' in animal:\n",
    "            continue  # to remove MrT\n",
    "        full_list_MCx.append((animal,sessionList))\n",
    "    full_list_MCx = [(animal,session) for animal,sessions in full_list_MCx for session in set(sessions)]\n",
    "    # load the DFs\n",
    "    allDFs_MCx = []\n",
    "    for animal, session in full_list_MCx:\n",
    "        path = root/animal/session\n",
    "        allDFs_MCx.append(monkey_defs.prep_general(dt.load_pyal_data(path)))\n",
    "\n",
    "    return allDFs_MCx"
   ]
  },
  {
   "cell_type": "markdown",
   "id": "279b1374-2c25-4583-ac98-64cb40ed431c",
   "metadata": {},
   "source": [
    "---"
   ]
  },
  {
   "cell_type": "code",
   "execution_count": 4,
   "id": "11c0408e-e62e-43ac-8bec-4d908c4ca903",
   "metadata": {
    "execution": {
     "iopub.execute_input": "2023-08-25T17:33:37.492669Z",
     "iopub.status.busy": "2023-08-25T17:33:37.492493Z",
     "iopub.status.idle": "2023-08-25T17:33:37.495883Z",
     "shell.execute_reply": "2023-08-25T17:33:37.495570Z"
    }
   },
   "outputs": [],
   "source": [
    "def plot_traj(ax, df):\n",
    "    df = pyal.restrict_to_interval(df, epoch_fun=monkey_defs.exec_epoch)\n",
    "    colors = np.roll(utility.get_colors(monkey_defs.n_targets),3,axis=0)\n",
    "    for i,traj in enumerate(df.pos):\n",
    "        color = colors[df.target_id[i]]\n",
    "        ax.plot(traj[:,0], traj[:,1], color=color, lw=.4)\n",
    "    ax.xaxis.set_major_locator(MaxNLocator(integer=True, min_n_ticks=3, nbins=3))\n",
    "    ax.yaxis.set_major_locator(MaxNLocator(integer=True, min_n_ticks=3, nbins=3))\n",
    "    ax.set_xticklabels(np.int16(ax.get_xticks()-ax.get_xticks().min()))\n",
    "    ax.set_yticklabels(np.int16(ax.get_yticks()-ax.get_yticks().min()))\n",
    "    ax.spines['top'].set_visible(False)\n",
    "    ax.spines['right'].set_visible(False)\n",
    "    ax.set_xlabel('$X (mm)$')\n",
    "    ax.set_ylabel('$Y (mm)$')"
   ]
  },
  {
   "cell_type": "markdown",
   "id": "d2c2f7c8-1b62-4ef0-ab97-2726598ffe6f",
   "metadata": {},
   "source": [
    "---\n",
    "plot VAF distrbution"
   ]
  },
  {
   "cell_type": "code",
   "execution_count": 5,
   "id": "2f42ec05-72e7-469f-98d2-454a3f1d236a",
   "metadata": {
    "execution": {
     "iopub.execute_input": "2023-08-25T17:33:37.497565Z",
     "iopub.status.busy": "2023-08-25T17:33:37.497210Z",
     "iopub.status.idle": "2023-08-25T17:33:37.500661Z",
     "shell.execute_reply": "2023-08-25T17:33:37.500354Z"
    }
   },
   "outputs": [],
   "source": [
    "def plot_vaf(ax, df, field='MCx_rates', **kwarg):\n",
    "    n_components = 20\n",
    "    \n",
    "    df_ = pyal.restrict_to_interval(df, epoch_fun=defs.exec_epoch)\n",
    "    \n",
    "    rates = np.concatenate(df_[field].values, axis=0)\n",
    "    rates_model = PCA(n_components=n_components, svd_solver='full').fit(rates)\n",
    "    \n",
    "    line = ax.plot(np.arange(1,n_components+1), np.cumsum(rates_model.explained_variance_ratio_), **kwarg)\n",
    "\n",
    "    ax.set_yticks(np.arange(0,1,.2))\n",
    "    ax.set_ylim([0,.9])\n",
    "    ax.set_xticks(np.arange(1,n_components+1,3))\n",
    "    ax.set_xlabel('Neural modes')\n",
    "    ax.set_ylabel('VAF')\n",
    "    ax.spines['top'].set_visible(False)\n",
    "    ax.spines['right'].set_visible(False)\n",
    "    return line"
   ]
  },
  {
   "cell_type": "markdown",
   "id": "0f5a739d",
   "metadata": {},
   "source": [
    "---\n",
    "\n",
    "Plot the correlation panel"
   ]
  },
  {
   "cell_type": "code",
   "execution_count": 6,
   "id": "35dad049",
   "metadata": {
    "execution": {
     "iopub.execute_input": "2023-08-25T17:33:37.502313Z",
     "iopub.status.busy": "2023-08-25T17:33:37.501969Z",
     "iopub.status.idle": "2023-08-25T17:33:37.507212Z",
     "shell.execute_reply": "2023-08-25T17:33:37.506781Z"
    }
   },
   "outputs": [],
   "source": [
    "@utility.report\n",
    "def plot_traj_corr(ax, allDFs_MCx):\n",
    "    try:\n",
    "        os.chdir(params.repoPath / 'monkey')\n",
    "        %run \"_monkey-corr.ipynb\"\n",
    "    finally:\n",
    "        os.chdir(NBPath)\n",
    "\n",
    "    within_corrs_monkeys = trim_within_monkey_corr (allDFs_MCx)\n",
    "\n",
    "    # plotting\n",
    "    w_monkey = list(within_corrs_monkeys.values())\n",
    "    w_monkey = np.array([l for L in w_monkey for l in L])\n",
    "    ax.hist(w_monkey, density=True, alpha=.8, color=params.colors.MonkeyPts)\n",
    "    ax.axvline(w_monkey.mean(), color=params.colors.MonkeyPts, zorder=0)\n",
    "    \n",
    "    ax.set_yticks([])\n",
    "    ax.set_xticks([0,1])\n",
    "    ax.set_xlim([0,1])\n",
    "    ax.set_ylabel('Probability\\ndensity')\n",
    "    ax.set_xlabel('Behavioural correlation')\n",
    "    ax.spines['left'].set_visible(False)\n",
    "    ax.spines['top'].set_visible(False)\n",
    "    ax.spines['right'].set_visible(False)\n",
    "    ax.set_facecolor('None')\n",
    "    return within_corrs_monkeys"
   ]
  },
  {
   "cell_type": "markdown",
   "id": "9a57de5a-38b2-422b-a50d-184660959178",
   "metadata": {},
   "source": [
    "# Part 2\n",
    "\n",
    "Plot figure"
   ]
  },
  {
   "cell_type": "code",
   "execution_count": 7,
   "id": "de05a700-b989-4d61-bc3f-7a627c8f7222",
   "metadata": {
    "execution": {
     "iopub.execute_input": "2023-08-25T17:33:37.508827Z",
     "iopub.status.busy": "2023-08-25T17:33:37.508688Z",
     "iopub.status.idle": "2023-08-25T17:36:40.653174Z",
     "shell.execute_reply": "2023-08-25T17:36:40.652704Z"
    },
    "tags": []
   },
   "outputs": [],
   "source": [
    "if \"__file__\" not in dir():\n",
    "    plt.close('all')\n",
    "    set_rc()\n",
    "    figsize=params.LargeFig\n",
    "    fig=plt.figure(figsize=figsize)\n",
    "    \n",
    "   \n",
    "    sessionDFs_MCx = get_1session_monkey_data()\n",
    "    \n",
    "    ##########################################\n",
    "    # 1: trajectories\n",
    "    gs1   =utility.add_gridspec_abs(fig, nrows=1, ncols=len(sessionDFs_MCx), left=0, \n",
    "                                    bottom=figsize[1]-params.panels.SmallH, \n",
    "                                    width=figsize[0], \n",
    "                                    height=params.panels.SmallH,\n",
    "                                    wspace=.3)\n",
    "    \n",
    "    axes1=[]\n",
    "    for i, df in enumerate(sessionDFs_MCx):\n",
    "        axes1.append(ax:=fig.add_subplot(gs1[i]))\n",
    "        plot_traj(ax, df)\n",
    "        ax.set_title(f'Monkey ${df.monkey[0][0]}$')\n",
    "        if i>0:\n",
    "            ax.set_ylabel('')\n",
    "            ax.set_xlabel('')\n",
    "\n",
    "\n",
    "    ##########################################\n",
    "    # 2: trajectory correlations \n",
    "    gs2   =utility.add_gridspec_abs(fig, nrows=1, ncols=len(sessionDFs_MCx), left=0, \n",
    "                                    bottom=figsize[1]*gs1.bottom-params.panels.SmallH-.4, \n",
    "                                    width=figsize[0], \n",
    "                                    height=params.panels.SmallH)\n",
    "    \n",
    "\n",
    "    allDFs_MCx = get_full_monkey_data()\n",
    "\n",
    "    axes2 = []\n",
    "    for ind, AX in enumerate(axes1):\n",
    "        axes2.append(ax:=fig.add_subplot(gs2[ind]))\n",
    "        title = AX.get_title()[6:]\n",
    "        DFs = []\n",
    "        for df in allDFs_MCx:\n",
    "            if df.monkey[0][0] in title:\n",
    "                DFs.append(df)\n",
    "\n",
    "        within_corrs_monkeys = plot_traj_corr(ax, DFs)\n",
    "        ax.text(np.mean(within_corrs_monkeys[sessionDFs_MCx[ind].session[0]]),\n",
    "                ax.get_ylim()[1]/2,\n",
    "                '*', ha='center', va='center', fontsize=12)\n",
    "        if ind > 0:\n",
    "            ax.set_ylabel('')\n",
    "            ax.set_xlabel('')\n",
    "            \n",
    "\n",
    "    ##########################################\n",
    "    # 3: VAF \n",
    "    gs3   =utility.add_gridspec_abs(fig, nrows=1, ncols=len(sessionDFs_MCx), left=0, \n",
    "                                    bottom=figsize[1]*gs2.bottom-params.panels.SmallH-.4, \n",
    "                                    width=figsize[0], \n",
    "                                    height=params.panels.SmallH)\n",
    "    \n",
    "\n",
    "    axes3=[]\n",
    "    for i, df in enumerate(sessionDFs_MCx):\n",
    "        axes3.append(ax:=fig.add_subplot(gs3[i]))\n",
    "        plot_vaf(ax, df, field = 'MCx_rates', color=params.colors.MouseM1, zorder = 1)\n",
    "    \n",
    "    for df in allDFs_MCx:\n",
    "        for ind, AX in enumerate(axes1):\n",
    "            if df.monkey[0][0] in AX.get_title()[6:]:\n",
    "                ax = axes3[ind]\n",
    "                break\n",
    "\n",
    "        plot_vaf(ax, df, field = 'MCx_rates', color='gray', zorder = 0, lw=.5)\n",
    "        ax.set_ylim([0,.9])\n",
    "    \n",
    "    for ax in axes3[1:]:\n",
    "        ax.set_ylabel('')\n",
    "        ax.set_xlabel('')\n",
    "    \n",
    "    #############################################\n",
    "    #%%%%%%%%%%%%%%%%%%%%%%%%%%%%%%%%%%%%%%%%%%%%\n",
    "    AXES=(axes1[0],axes2[0],axes3[0])\n",
    "    OFFX=np.array([.03]*len(AXES))\n",
    "    OFFY=np.array([.01]*len(AXES))\n",
    "#     # OFFX[[-1]]=0.12\n",
    "#     # OFFX[[1]]=0.06\n",
    "    \n",
    "    params.add_panel_caption(axes=AXES, offsetX=OFFX, offsetY=OFFY)\n",
    "\n",
    "    fig.savefig(FIGPATH / 'figureS1-monkey-behaviour.pdf', format='pdf', bbox_inches='tight')\n",
    "\n",
    "clear_output()"
   ]
  }
 ],
 "metadata": {
  "kernelspec": {
   "display_name": "Python 3.10.5 ('cca')",
   "language": "python",
   "name": "python3"
  },
  "language_info": {
   "codemirror_mode": {
    "name": "ipython",
    "version": 3
   },
   "file_extension": ".py",
   "mimetype": "text/x-python",
   "name": "python",
   "nbconvert_exporter": "python",
   "pygments_lexer": "ipython3",
   "version": "3.10.12"
  },
  "vscode": {
   "interpreter": {
    "hash": "f438ab41c639bccf4a0690d593feedbc6f327eadb4a78567565a57c35fedcdae"
   }
  }
 },
 "nbformat": 4,
 "nbformat_minor": 5
}
