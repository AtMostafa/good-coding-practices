{
 "cells": [
  {
   "cell_type": "code",
   "execution_count": 1,
   "id": "05c18582",
   "metadata": {
    "execution": {
     "iopub.execute_input": "2022-09-06T17:12:38.871751Z",
     "iopub.status.busy": "2022-09-06T17:12:38.871514Z",
     "iopub.status.idle": "2022-09-06T17:12:39.923318Z",
     "shell.execute_reply": "2022-09-06T17:12:39.922976Z"
    }
   },
   "outputs": [
    {
     "name": "stdout",
     "output_type": "stream",
     "text": [
      "Done\n"
     ]
    }
   ],
   "source": [
    "%matplotlib inline\n",
    "\n",
    "import os, pathlib\n",
    "import pickle\n",
    "from importlib import reload\n",
    "import logging, warnings\n",
    "logging.basicConfig(level=logging.ERROR)\n",
    "warnings.simplefilter(\"ignore\")\n",
    "\n",
    "import numpy as np\n",
    "import matplotlib.pyplot as plt\n",
    "from matplotlib.ticker import MaxNLocator, FormatStrFormatter\n",
    "from IPython.display import clear_output\n",
    "\n",
    "if \"__file__\" not in dir():\n",
    "    try:\n",
    "        NBPath = pathlib.Path.cwd()\n",
    "        RepoPath = NBPath.parent\n",
    "        os.chdir(RepoPath)\n",
    "\n",
    "        from tools import utilityTools as utility\n",
    "        from tools import dataTools as dt\n",
    "        from tools import lstm\n",
    "        import params\n",
    "        reload(params)\n",
    "        monkey_defs = params.monkey_defs\n",
    "        mouse_defs = params.mouse_defs\n",
    "\n",
    "        set_rc =  params.set_rc_params\n",
    "        set_rc()\n",
    "        root = params.root\n",
    "\n",
    "        os.chdir(RepoPath / 'monkey')\n",
    "        %run \"_dataset-selection.ipynb\"\n",
    "\n",
    "    finally:\n",
    "        os.chdir(NBPath)\n",
    "\n",
    "    # %run \"S2-decode-behav-corr.ipynb\"\n",
    "\n",
    "    print('Done')\n",
    "\n",
    "FIGPATH = params.figPath / 'figS9-decode-behav-corr'\n",
    "if not os.path.exists(FIGPATH):\n",
    "    os.makedirs(FIGPATH)"
   ]
  },
  {
   "cell_type": "markdown",
   "id": "4a89b66c-513f-4aad-8f9f-b2daf8e6836a",
   "metadata": {},
   "source": [
    "---\n",
    "# Part 1\n",
    "\n",
    "functions that plot each panel.\n",
    "\n"
   ]
  },
  {
   "cell_type": "code",
   "execution_count": 2,
   "id": "398f9bdf-8077-44c3-a941-41aac29ea39e",
   "metadata": {
    "execution": {
     "iopub.execute_input": "2022-09-06T17:12:39.926283Z",
     "iopub.status.busy": "2022-09-06T17:12:39.926141Z",
     "iopub.status.idle": "2022-09-06T17:12:39.929231Z",
     "shell.execute_reply": "2022-09-06T17:12:39.928822Z"
    }
   },
   "outputs": [],
   "source": [
    "@utility.report\n",
    "def get_full_monkey_data():\n",
    "    full_list_MCx = []\n",
    "    for animal, sessionList in GoodDataList[monkey_defs.areas[2]].items():\n",
    "        if 'Mr' in animal:\n",
    "            continue  # to remove MrT\n",
    "        full_list_MCx.append((animal,sessionList))\n",
    "    full_list_MCx = [(animal,session) for animal,sessions in full_list_MCx for session in set(sessions)]\n",
    "    # load the DFs\n",
    "    allDFs_MCx = []\n",
    "    for animal, session in full_list_MCx:\n",
    "        path = root/animal/session\n",
    "        allDFs_MCx.append(monkey_defs.prep_general(dt.load_pyal_data(path)))\n",
    "\n",
    "    return full_list_MCx, allDFs_MCx"
   ]
  },
  {
   "cell_type": "code",
   "execution_count": 3,
   "id": "5376a931-65ed-408c-a680-cbb00b57ec30",
   "metadata": {
    "execution": {
     "iopub.execute_input": "2022-09-06T17:12:39.931533Z",
     "iopub.status.busy": "2022-09-06T17:12:39.931336Z",
     "iopub.status.idle": "2022-09-06T17:12:39.935719Z",
     "shell.execute_reply": "2022-09-06T17:12:39.935297Z"
    }
   },
   "outputs": [],
   "source": [
    "@utility.report\n",
    "def get_full_mouse_data():\n",
    "    defs = mouse_defs\n",
    "    \n",
    "    animalList = ['mouse-data']\n",
    "    animalFiles = []\n",
    "    for animal in animalList:\n",
    "        animalFiles.extend(utility.find_file(root / animal, 'mat'))\n",
    "\n",
    "    AllDFs=[]\n",
    "    for fname in animalFiles:\n",
    "        df = dt.load_pyal_data(fname)\n",
    "        df['mouse'] = fname.split(os.sep)[-1][fname.split(os.sep)[-1].find('WR'):].split('_')[0]\n",
    "        df['file'] = fname.split(os.sep)[-1]\n",
    "        df = defs.prep_general_mouse(df)\n",
    "        AllDFs.append(df)\n",
    "\n",
    "    allDFs_M1 = []\n",
    "    for df in AllDFs:\n",
    "        if 'M1_rates' in df.columns:\n",
    "            allDFs_M1.append(df)\n",
    "\n",
    "\n",
    "    allDFs_Str = []\n",
    "    for df in AllDFs:\n",
    "        if 'Str_rates' in df.columns:\n",
    "            allDFs_Str.append(df)\n",
    "            \n",
    "    return allDFs_M1, allDFs_Str"
   ]
  },
  {
   "cell_type": "markdown",
   "id": "1b4a7d83-7fcd-4e82-8a95-beec3cb1fea3",
   "metadata": {},
   "source": [
    "---\n",
    "plot the panel"
   ]
  },
  {
   "cell_type": "code",
   "execution_count": 4,
   "id": "7221cb13-c971-41a0-bff2-ba89d8dd79f1",
   "metadata": {
    "execution": {
     "iopub.execute_input": "2022-09-06T17:12:39.937888Z",
     "iopub.status.busy": "2022-09-06T17:12:39.937717Z",
     "iopub.status.idle": "2022-09-06T17:12:39.962375Z",
     "shell.execute_reply": "2022-09-06T17:12:39.962131Z"
    }
   },
   "outputs": [],
   "source": [
    "try:\n",
    "    os.chdir(params.repoPath / 'monkey')\n",
    "    %run \"_monkey-corr.ipynb\"\n",
    "finally:\n",
    "    os.chdir(NBPath)\n",
    "\n",
    "try:\n",
    "    os.chdir(params.repoPath / 'mouse')\n",
    "    %run \"_mouse-corr.ipynb\"\n",
    "finally:\n",
    "    os.chdir(NBPath)\n",
    "        \n",
    "@utility.report\n",
    "def plot_monkey_decode_corr(ax, full_list, allDFs_MCx):\n",
    "    defs = monkey_defs\n",
    "        \n",
    "    across_corrs_monkeys = trim_across_monkey_corr(allDFs_MCx)\n",
    "\n",
    "    pairIndex_across = []\n",
    "    for I, df1 in enumerate(allDFs_MCx):\n",
    "        for J, df2 in enumerate(allDFs_MCx):\n",
    "            if J<=I or df1.monkey[0] == df2.monkey[0]: continue  # to repetitions\n",
    "            if 'Chewie' in df1.monkey[0] and 'Chewie' in df2.monkey[0]: continue\n",
    "            pairIndex_across.append((I,J))\n",
    "            \n",
    "    reg_scores_across = []\n",
    "    for id1, testId in pairIndex_across:\n",
    "        pathPickle = root / 'monkey-pickles' / f'{allDFs_MCx[id1].session[0]}-{allDFs_MCx[testId].session[0]}_aligned.p'\n",
    "\n",
    "        assert os.path.exists(pathPickle), 'Run figure 2 first to save the decoding data!'\n",
    "\n",
    "        with open(pathPickle,\"rb\") as f:\n",
    "            reg_scores_across.append(pickle.load(f))\n",
    "    pop_score_across = np.array(reg_scores_across)\n",
    "            \n",
    "            \n",
    "    corr_monkey=[]\n",
    "    for i, (id1, testId) in enumerate(pairIndex_across):\n",
    "        df1, df2 = allDFs_MCx[id1] , allDFs_MCx[testId]\n",
    "        behav = np.array(across_corrs_monkeys[df1.session[0]][df2.session[0]])\n",
    "        behav = behav[behav>params.Behav_corr_TH]\n",
    "        decode = pop_score_across[i]\n",
    "        corr_monkey.append((decode , np.mean(behav)))\n",
    "    corr_monkey = np.array(corr_monkey)   \n",
    "\n",
    "\n",
    "    #plotting\n",
    "    ax.scatter(corr_monkey[:,1],corr_monkey[:,0], color=params.colors.MonkeyPts, label='Monkeys', zorder=0)\n",
    "    ax.set_xlabel('Behavioural correlation')\n",
    "    ax.set_ylabel('Prediction accuracy ($R^2$)')\n",
    "    ax.set_ylim([.15,1])\n",
    "    ax.spines['left'].set_bounds([.2,1])\n",
    "    ax.set_xlim([.69,.95])\n",
    "    ax.spines['bottom'].set_bounds([.7,.95])\n",
    "    ax.legend(loc=(0,.8))\n",
    "    ax.spines['top'].set_visible(False)\n",
    "    ax.spines['right'].set_visible(False)\n",
    "    ax.yaxis.set_major_formatter(FormatStrFormatter('$%0.2f$'))\n",
    "\n",
    "    \n",
    "@utility.report\n",
    "def plot_mouse_decode_corr(ax, AllDFs):\n",
    "    defs = mouse_defs\n",
    "    across_corrs_mice = trim_across_mouse_corr (AllDFs)\n",
    "    \n",
    "    pairIndex_across = []\n",
    "    for i, df1 in enumerate(AllDFs):\n",
    "        animal1 = df1.mouse[0]\n",
    "        pairIndex_across.append((i,[]))\n",
    "        for j, df2 in enumerate(AllDFs):\n",
    "            if j<i: continue\n",
    "            animal2 = df2.mouse[0]\n",
    "            if animal1 == animal2: continue\n",
    "            pairIndex_across[-1][1].append(j)\n",
    "    pairIndex_across = [(i,j) for i,jList in pairIndex_across for j in jList]\n",
    "\n",
    "    M1_scores = []\n",
    "    for (id1, testId) in pairIndex_across:\n",
    "        AllData, AllVel = defs.get_data_array_and_vel([AllDFs[id1],AllDFs[testId]], defs.exec_epoch_decode,\n",
    "                                                      area=defs.areas[0], n_components=defs.n_components)\n",
    "\n",
    "        # adding history\n",
    "        AllData = dt.add_history_to_data_array(AllData, defs.MAX_HISTORY)\n",
    "        AllData = AllData[...,defs.MAX_HISTORY:,:]\n",
    "        AllVel = AllVel[...,defs.MAX_HISTORY:,:]\n",
    "\n",
    "        AllData1 = AllData[0,...]\n",
    "        AllData2 = AllData[1,...]\n",
    "        AllVel1 = AllVel[0,...]\n",
    "        AllVel2 = AllVel[1,...]\n",
    "        \n",
    "        # resizing\n",
    "        _,n_trial,n_time,n_comp = AllData1.shape\n",
    "        X1 = AllData1.reshape((-1,n_comp))\n",
    "        X2 = AllData2.reshape((-1,n_comp))\n",
    "        AllVel1 = AllVel1.reshape((-1,n_time,3))\n",
    "        AllVel2 = AllVel2.reshape((-1,n_time,3))\n",
    "\n",
    "        *_,U,V = dt.canoncorr(X1, X2, fullReturn=True)\n",
    "        U = U.reshape((-1,n_time,n_comp))\n",
    "        V = V.reshape((-1,n_time,n_comp))\n",
    "\n",
    "        lstm_model = lstm.LSTMDecoder(input_dims=U.shape[-1], output_dims=3)\n",
    "        lstm_model.fit(x_train=U, y_train=AllVel1)\n",
    "        lstm_model.predict(V, AllVel2)\n",
    "        M1_scores.append(lstm_model.score.mean())\n",
    "\n",
    "    M1_score_across = np.array(M1_scores)\n",
    "\n",
    "\n",
    "    Str_scores = []\n",
    "    for (id1, testId) in pairIndex_across:\n",
    "        AllData, AllVel = defs.get_data_array_and_vel([AllDFs[id1],AllDFs[testId]], defs.exec_epoch_decode,\n",
    "                                                      area=defs.areas[1], n_components=defs.n_components)\n",
    "\n",
    "        # adding history\n",
    "        AllData = dt.add_history_to_data_array(AllData, defs.MAX_HISTORY)\n",
    "        AllData = AllData[...,defs.MAX_HISTORY:,:]\n",
    "        AllVel = AllVel[...,defs.MAX_HISTORY:,:]\n",
    "\n",
    "        AllData1 = AllData[0,...]\n",
    "        AllData2 = AllData[1,...]\n",
    "        AllVel1 = AllVel[0,...]\n",
    "        AllVel2 = AllVel[1,...]\n",
    "        \n",
    "        # resizing\n",
    "        _,n_trial,n_time,n_comp = AllData1.shape\n",
    "        X1 = AllData1.reshape((-1,n_comp))\n",
    "        X2 = AllData2.reshape((-1,n_comp))\n",
    "        AllVel1 = AllVel1.reshape((-1,n_time,3))\n",
    "        AllVel2 = AllVel2.reshape((-1,n_time,3))\n",
    "\n",
    "        *_,U,V = dt.canoncorr(X1, X2, fullReturn=True)\n",
    "        U = U.reshape((-1,n_time,n_comp))\n",
    "        V = V.reshape((-1,n_time,n_comp))\n",
    "\n",
    "        lstm_model = lstm.LSTMDecoder(input_dims=U.shape[-1], output_dims=3)\n",
    "        lstm_model.fit(x_train=U, y_train=AllVel1)\n",
    "        lstm_model.predict(V, AllVel2)\n",
    "        Str_scores.append(lstm_model.score.mean())\n",
    "\n",
    "    Str_score_across = np.array(Str_scores)\n",
    "\n",
    "\n",
    "    corr_mice=[]\n",
    "    for i, (id1, testId) in enumerate(pairIndex_across):\n",
    "        df1, df2 = AllDFs[id1] , AllDFs[testId]\n",
    "        behav = np.array(across_corrs_mice[df1.file[0]][df2.file[0]])\n",
    "        behav = behav[behav>params.Behav_corr_TH]\n",
    "        M1_decode = M1_score_across[i]\n",
    "        Str_decode = Str_score_across[i]\n",
    "        corr_mice.append((M1_decode , np.mean(behav), Str_decode))\n",
    "    corr_mice = np.array(corr_mice)\n",
    "\n",
    "    #plotting\n",
    "    ax.scatter(corr_mice[:,1],corr_mice[:,0],color=params.colors.MouseM1, label='Mice M1', zorder=1)\n",
    "    ax.scatter(corr_mice[:,1],corr_mice[:,2],color=params.colors.MouseStr, label='Mice Str', zorder=1)"
   ]
  },
  {
   "cell_type": "code",
   "execution_count": 5,
   "id": "4f626a71-fb0e-4969-a3c1-c5181886ac23",
   "metadata": {
    "execution": {
     "iopub.execute_input": "2022-09-06T17:12:39.983567Z",
     "iopub.status.busy": "2022-09-06T17:12:39.983433Z",
     "iopub.status.idle": "2022-09-06T17:15:05.276765Z",
     "shell.execute_reply": "2022-09-06T17:15:05.276336Z"
    }
   },
   "outputs": [
    {
     "name": "stdout",
     "output_type": "stream",
     "text": [
      "Running: `get_full_monkey_data`...\r"
     ]
    },
    {
     "name": "stdout",
     "output_type": "stream",
     "text": [
      "Executed: `get_full_monkey_data` in 12.4s\n",
      "Executed: `get_full_mouse_data` in 0.6s\n",
      "Executed: `plot_mouse_decode_corr` in 144.5s\n",
      "Running: `plot_monkey_decode_corr`...\r"
     ]
    },
    {
     "name": "stderr",
     "output_type": "stream",
     "text": [
      "/tmp/ipykernel_11937/3854961561.py:34: UserWarning: Dropping the trials with the following IDs because of invalid time indexing. For more information, try warn_per_trial=True\n",
      "\n",
      "        [1157]\n",
      "  df1 = pyal.restrict_to_interval(df1__, epoch_fun=defs.exec_epoch)\n",
      "/tmp/ipykernel_11937/3854961561.py:48: UserWarning: Dropping the trials with the following IDs because of invalid time indexing. For more information, try warn_per_trial=True\n",
      "\n",
      "        [1157]\n",
      "  df2 = pyal.restrict_to_interval(df2__, epoch_fun=defs.exec_epoch)\n",
      "/tmp/ipykernel_11937/3854961561.py:48: UserWarning: Dropping the trials with the following IDs because of invalid time indexing. For more information, try warn_per_trial=True\n",
      "\n",
      "        [1157]\n",
      "  df2 = pyal.restrict_to_interval(df2__, epoch_fun=defs.exec_epoch)\n",
      "/tmp/ipykernel_11937/3854961561.py:48: UserWarning: Dropping the trials with the following IDs because of invalid time indexing. For more information, try warn_per_trial=True\n",
      "\n",
      "        [1157]\n",
      "  df2 = pyal.restrict_to_interval(df2__, epoch_fun=defs.exec_epoch)\n",
      "/tmp/ipykernel_11937/3854961561.py:48: UserWarning: Dropping the trials with the following IDs because of invalid time indexing. For more information, try warn_per_trial=True\n",
      "\n",
      "        [1157]\n",
      "  df2 = pyal.restrict_to_interval(df2__, epoch_fun=defs.exec_epoch)\n",
      "/tmp/ipykernel_11937/3854961561.py:48: UserWarning: Dropping the trials with the following IDs because of invalid time indexing. For more information, try warn_per_trial=True\n",
      "\n",
      "        [1157]\n",
      "  df2 = pyal.restrict_to_interval(df2__, epoch_fun=defs.exec_epoch)\n",
      "/tmp/ipykernel_11937/3854961561.py:48: UserWarning: Dropping the trials with the following IDs because of invalid time indexing. For more information, try warn_per_trial=True\n",
      "\n",
      "        [1157]\n",
      "  df2 = pyal.restrict_to_interval(df2__, epoch_fun=defs.exec_epoch)\n",
      "/tmp/ipykernel_11937/3854961561.py:48: UserWarning: Dropping the trials with the following IDs because of invalid time indexing. For more information, try warn_per_trial=True\n",
      "\n",
      "        [1157]\n",
      "  df2 = pyal.restrict_to_interval(df2__, epoch_fun=defs.exec_epoch)\n",
      "/tmp/ipykernel_11937/3854961561.py:48: UserWarning: Dropping the trials with the following IDs because of invalid time indexing. For more information, try warn_per_trial=True\n",
      "\n",
      "        [1157]\n",
      "  df2 = pyal.restrict_to_interval(df2__, epoch_fun=defs.exec_epoch)\n",
      "/tmp/ipykernel_11937/3854961561.py:48: UserWarning: Dropping the trials with the following IDs because of invalid time indexing. For more information, try warn_per_trial=True\n",
      "\n",
      "        [1157]\n",
      "  df2 = pyal.restrict_to_interval(df2__, epoch_fun=defs.exec_epoch)\n",
      "/tmp/ipykernel_11937/3854961561.py:48: UserWarning: Dropping the trials with the following IDs because of invalid time indexing. For more information, try warn_per_trial=True\n",
      "\n",
      "        [1157]\n",
      "  df2 = pyal.restrict_to_interval(df2__, epoch_fun=defs.exec_epoch)\n"
     ]
    },
    {
     "name": "stdout",
     "output_type": "stream",
     "text": [
      "Executed: `plot_monkey_decode_corr` in 28.7s\n"
     ]
    },
    {
     "data": {
      "image/png": "[encoded data removed]",
      "text/plain": [
       "<Figure size 640x480 with 1 Axes>"
      ]
     },
     "metadata": {
      "image/png": {
       "height": 420,
       "width": 566
      }
     },
     "output_type": "display_data"
    }
   ],
   "source": [
    "fig=plt.figure(dpi=100)\n",
    "ax = fig.add_subplot()\n",
    "\n",
    "full_list, allDFs_MCx = get_full_monkey_data()\n",
    "allDFs_M1, _ = get_full_mouse_data()\n",
    "\n",
    "plot_mouse_decode_corr(ax, allDFs_M1)\n",
    "plot_monkey_decode_corr(ax, full_list, allDFs_MCx)\n",
    "\n",
    "fig.savefig(FIGPATH / 'figureS9-decode-behav-corr.pdf', format='pdf', bbox_inches='tight')\n"
   ]
  }
 ],
 "metadata": {
  "kernelspec": {
   "display_name": "Python 3.10.5 ('cca': conda)",
   "language": "python",
   "name": "python3"
  },
  "language_info": {
   "codemirror_mode": {
    "name": "ipython",
    "version": 3
   },
   "file_extension": ".py",
   "mimetype": "text/x-python",
   "name": "python",
   "nbconvert_exporter": "python",
   "pygments_lexer": "ipython3",
   "version": "3.10.12"
  },
  "vscode": {
   "interpreter": {
    "hash": "f438ab41c639bccf4a0690d593feedbc6f327eadb4a78567565a57c35fedcdae"
   }
  }
 },
 "nbformat": 4,
 "nbformat_minor": 5
}
