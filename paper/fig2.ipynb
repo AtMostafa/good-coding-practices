{
 "cells": [
  {
   "cell_type": "markdown",
   "id": "61b102c0",
   "metadata": {},
   "source": [
    "# part0: imports"
   ]
  },
  {
   "cell_type": "code",
   "execution_count": 1,
   "id": "00059128",
   "metadata": {},
   "outputs": [
    {
     "name": "stdout",
     "output_type": "stream",
     "text": [
      "Done\n"
     ]
    }
   ],
   "source": [
    "%matplotlib inline\n",
    "\n",
    "from tqdm import tqdm\n",
    "import os, sys, pathlib\n",
    "from pprint import pprint\n",
    "import gc, time\n",
    "import pickle\n",
    "from importlib import reload\n",
    "import logging, warnings\n",
    "logging.basicConfig(level=logging.ERROR)\n",
    "warnings.simplefilter(\"ignore\")\n",
    "\n",
    "import PyPDF2 as ppdf\n",
    "import pandas as pd\n",
    "import numpy as np\n",
    "import sklearn\n",
    "from sklearn.decomposition import PCA\n",
    "import scipy.linalg as linalg\n",
    "from sklearn.linear_model import Ridge, LinearRegression\n",
    "from sklearn.model_selection import cross_val_score, KFold\n",
    "from sklearn.metrics import make_scorer, r2_score\n",
    "\n",
    "\n",
    "import matplotlib.pyplot as plt\n",
    "import matplotlib.cm as cm\n",
    "import matplotlib as mpl\n",
    "import matplotlib.lines as mlines\n",
    "from matplotlib.ticker import MaxNLocator, FormatStrFormatter\n",
    "from matplotlib.collections import LineCollection\n",
    "\n",
    "import torch\n",
    "\n",
    "import pyaldata as pyal\n",
    "\n",
    "if \"__file__\" not in dir():\n",
    "    try:\n",
    "        NBPath = pathlib.Path.cwd()\n",
    "        RepoPath = NBPath.parent\n",
    "        os.chdir(RepoPath)\n",
    "\n",
    "        from tools import utilityTools as utility\n",
    "        from tools import dataTools as dt\n",
    "        from tools import lstm\n",
    "        reload(lstm)\n",
    "        import params\n",
    "        reload(params)\n",
    "        monkey_defs = params.monkey_defs\n",
    "        mouse_defs = params.mouse_defs\n",
    "\n",
    "        set_rc =  params.set_rc_params\n",
    "        set_rc()\n",
    "        root = params.root\n",
    "\n",
    "        os.chdir(RepoPath / 'monkey')\n",
    "        %run \"_dataset-selection.ipynb\"\n",
    "\n",
    "    finally:\n",
    "        os.chdir(NBPath)\n",
    "\n",
    "    %run \"fig2.ipynb\"\n",
    "\n",
    "    print('Done')"
   ]
  },
  {
   "cell_type": "markdown",
   "id": "10aa2e5d-f25c-405a-ba73-2b2464c37b9e",
   "metadata": {},
   "source": [
    "# Part 1\n",
    "\n",
    "functions that plot each panel.\n",
    "\n",
    "---\n",
    "\n",
    "Raster panel"
   ]
  },
  {
   "cell_type": "code",
   "execution_count": null,
   "id": "d3a84f30-d28c-42f1-ab20-79d6fd981655",
   "metadata": {},
   "outputs": [],
   "source": [
    "def prep_example_df():\n",
    "    raster_example = monkey_defs.raster_example\n",
    "    raster_example_df = []\n",
    "    for session in raster_example:\n",
    "        path = root/session.split('_')[0]/session\n",
    "        df = monkey_defs.prep_general(dt.load_pyal_data(path))\n",
    "        df = pyal.restrict_to_interval(df, epoch_fun=monkey_defs.exec_epoch)\n",
    "        raster_example_df.append(df)\n",
    "    return raster_example_df\n",
    "\n",
    "@utility.report\n",
    "def plot_moneky_fr_raster(df,gs):\n",
    "    trial=12\n",
    "    axes = []\n",
    "    data = []\n",
    "    for tar in range(monkey_defs.n_targets):\n",
    "        df_ = pyal.select_trials(df, df.target_id==tar)\n",
    "        data.append(df_.M1_rates[trial])\n",
    "    data = np.array(data)\n",
    "    vmin = np.amin(data, axis= (0,1))\n",
    "    vmax = np.amax(data, axis= (0,1))\n",
    "\n",
    "    for j,tarData in enumerate(data):\n",
    "        ax = fig.add_subplot(gs[j])\n",
    "        axes.append(ax)\n",
    "        tarData -= vmin\n",
    "        tarData /= (vmax - vmin)\n",
    "        ax.imshow(tarData.T, aspect='auto')\n",
    "        ax.tick_params('both', bottom=False, left=False, labelbottom=False, labelleft=False)\n",
    "        ax.spines['top'].set_visible(False)\n",
    "        ax.spines['right'].set_visible(False)\n",
    "        ax.spines['bottom'].set_visible(False)\n",
    "        ax.spines['left'].set_visible(False)\n",
    "        ax.set_title(r'$ \\rightarrow $', rotation=(360/monkey_defs.n_targets)*(j-3), pad=0.5)\n",
    "    axes[0].set_ylabel(f'Units ($n={tarData.shape[1]}$)')\n",
    "    return axes\n",
    "\n",
    "@utility.report\n",
    "def plot_moneky_vel_ex(df,gs):\n",
    "    trial=12\n",
    "    axes = []\n",
    "    for tar in range(monkey_defs.n_targets):\n",
    "        df_ = pyal.select_trials(df, df.target_id==tar)\n",
    "        data = df_.pos[trial]\n",
    "        data -= np.mean(data, axis=0, keepdims=True)\n",
    "        ax = fig.add_subplot(gs[tar])\n",
    "        axes.append(ax)\n",
    "        ax.plot(data[:,0], color='b', label='$X$')\n",
    "        # ax2 = ax.twinx()\n",
    "        # utility.phantom_axes(ax2)\n",
    "        ax.plot(data[:,1], color='r', label='$Y$')\n",
    "        ax.tick_params('both', bottom=False, left=False, labelbottom=False, labelleft=False)\n",
    "        ax.spines['top'].set_visible(False)\n",
    "        ax.spines['right'].set_visible(False)\n",
    "        ax.spines['bottom'].set_visible(False)\n",
    "        ax.spines['left'].set_visible(False)\n",
    "    \n",
    "    return axes"
   ]
  },
  {
   "cell_type": "markdown",
   "id": "36774a15-9858-4c69-8140-1b29bf384245",
   "metadata": {},
   "source": [
    "3D dynamics panel"
   ]
  },
  {
   "cell_type": "code",
   "execution_count": null,
   "id": "fe0ea7e3-7def-41da-9fb9-7d6deae34b2d",
   "metadata": {},
   "outputs": [],
   "source": [
    "@utility.report\n",
    "def plot_monkey_pc_example(raster_example_df, gs):   \n",
    "    fig=gs.figure\n",
    "    \n",
    "    colors = utility.get_colors(8)\n",
    "    dfs=[]\n",
    "    axes=[]\n",
    "    for i,df in enumerate(raster_example_df):\n",
    "        rates = np.concatenate(df['M1_rates'].values, axis=0)\n",
    "        rates_model = PCA(n_components=10, svd_solver='full').fit(rates)\n",
    "        df_ = pyal.apply_dim_reduce_model(df, rates_model, 'M1_rates', '_pca');\n",
    "        dfs.append(df_)\n",
    "        ax = fig.add_subplot(gs[i], projection='3d',fc='None')\n",
    "        axes.append(ax)\n",
    "        for tar in range(monkey_defs.n_targets):\n",
    "            df__ = pyal.select_trials(df_, df_.target_id==tar)\n",
    "            ex = pyal.get_sig_by_trial(df__,'_pca')\n",
    "            ex = np.mean(ex, axis=2)[:,:3]\n",
    "            ax.plot(ex[:,0],ex[:,1],ex[:,2],color=colors[tar],lw=1)\n",
    "            ax.view_init(60,-47)\n",
    "\n",
    "    AllData = dt.get_data_array(raster_example_df, area='M1', model=10)\n",
    "    data1 = np.reshape(AllData[0,...], (-1,10))\n",
    "    data2 = np.reshape(AllData[1,...], (-1,10))\n",
    "    A,B,*_ = dt.canoncorr(data1,data2,fullReturn=True)\n",
    "    coef_ = [A,B]\n",
    "    for i,sessionData in enumerate(AllData):\n",
    "        ax = fig.add_subplot(gs[i+3], projection='3d',fc='None')\n",
    "        U, _, Vh = linalg.svd(coef_[i], full_matrices=False, compute_uv=True, overwrite_a=False, check_finite=False)\n",
    "        axes.append(ax)\n",
    "        for tar in range(8):\n",
    "            ex = np.mean(sessionData[tar,...], axis=0)\n",
    "            ex = ex @ U @ Vh\n",
    "            ax.plot(ex[:,0],ex[:,1],ex[:,2],color=colors[tar],lw=1)\n",
    "            ax.view_init(60,-47)\n",
    "\n",
    "    titles=[r'Monkey $C_L$ (\\textit{unaligned})',r'Monkey $M$ (\\textit{unaligned})',\n",
    "            r'Monkey $C_L$ (\\textit{aligned})',  r'Monkey $M$ (\\textit{aligned})']\n",
    "    labels = ['PC','PC','CC','CC']\n",
    "    for i, ax in enumerate(axes):\n",
    "        ax.set_xticks([])\n",
    "        ax.set_yticks([])\n",
    "        ax.set_zticks([])\n",
    "        ax.set_xlabel(f'{labels[i]}1', labelpad=-15)\n",
    "        ax.set_ylabel(f'{labels[i]}2', labelpad=-15)\n",
    "        ax.set_zlabel(f'{labels[i]}3', labelpad=-15)\n",
    "        ax.set_title(titles[i], y=.9, loc='center')\n",
    "    \n",
    "    #======== add the arrow\n",
    "    \n",
    "    ax = fig.add_subplot(gs[2], fc='None')\n",
    "    ax = utility.phantom_axes(ax)\n",
    "    ax.arrow(0,0,1,0,length_includes_head=True, width=.005, head_width=.015,head_length=.1, ec='k', fc='k')\n",
    "    ax.set_ylim([-.1,.1])\n",
    "    ax.set_xlim([-.5,1.1])\n",
    "    ax.text(0.5,0.01,'CCA', ha='center', va='bottom')\n",
    "    ax.text(0.5,-0.01,'(alignment)', ha='center', va='top')\n",
    "    \n",
    "    return axes"
   ]
  },
  {
   "cell_type": "markdown",
   "id": "7d4f032e-2906-4d5e-9888-1140f80815af",
   "metadata": {},
   "source": [
    "CCA for the example sessions"
   ]
  },
  {
   "cell_type": "code",
   "execution_count": null,
   "id": "06a6550f-b95d-42fa-bc58-b6f5c4aa544f",
   "metadata": {},
   "outputs": [],
   "source": [
    "@utility.report\n",
    "def plot_cca_for_ex(ax,):\n",
    "    defs = monkey_defs\n",
    "    raster_example = defs.raster_example\n",
    "    raster_example_df = []\n",
    "    for session in raster_example:\n",
    "        path = root/session.split('_')[0]/session\n",
    "        df = defs.prep_general(dt.load_pyal_data(path))\n",
    "        raster_example_df.append(df)\n",
    "    \n",
    "    df1, df2 = raster_example_df\n",
    "    AllData1 = dt.get_data_array(df1, defs.exec_epoch, area=defs.areas[2], model=defs.n_components)\n",
    "    AllData2 = dt.get_data_array(df2, defs.exec_epoch, area=defs.areas[2], model=defs.n_components)\n",
    "    _,_, min_trials, min_time,_ = np.min((AllData1.shape,AllData2.shape),axis=0)\n",
    "    allCCs=[]\n",
    "    for sessionData1,sessionData2 in zip(AllData1,AllData2):\n",
    "        data1 = np.reshape(sessionData1[:,:min_trials,:min_time,:], (-1,defs.n_components))\n",
    "        data2 = np.reshape(sessionData2[:,:min_trials,:min_time,:], (-1,defs.n_components))\n",
    "        allCCs.append(dt.canoncorr(data1, data2))\n",
    "    allCCs = np.array(allCCs).T\n",
    "    \n",
    "    # lower bound\n",
    "    len_trial = int(np.round(np.diff(defs.WINDOW_exec)/defs.BIN_SIZE))\n",
    "    AllDataL1 = defs._get_data_array(df1, epoch_L=len_trial, area=defs.areas[2], model=defs.n_components)\n",
    "    AllDataL2 = defs._get_data_array(df2, epoch_L=len_trial, area=defs.areas[2], model=defs.n_components)\n",
    "    _,_, min_trials, min_time,_ = np.min((AllDataL1.shape,AllDataL2.shape),axis=0)\n",
    "    CCsL=[]\n",
    "    for sessionData1,sessionData2 in zip(AllDataL1,AllDataL2):\n",
    "        r = []\n",
    "        for n in range(params.n_iter * 10):\n",
    "            sessionData1_sh = params.rng.permutation(sessionData1,axis=0)\n",
    "            sessionData2_sh = params.rng.permutation(sessionData2,axis=0)\n",
    "            data1 = np.reshape(sessionData1_sh[:,:min_trials,:min_time,:], (-1,monkey_defs.n_components))\n",
    "            data2 = np.reshape(sessionData2_sh[:,:min_trials,:min_time,:], (-1,monkey_defs.n_components))\n",
    "            r.append(dt.canoncorr(data1, data2))\n",
    "        CCsL.append(r)\n",
    "    CCsL = np.array(CCsL)\n",
    "    CCsL = np.percentile(CCsL, 1, axis=1).T\n",
    "    \n",
    "    # upper bound\n",
    "    AllDataU = dt.get_data_array([df1,df2], monkey_defs.exec_epoch, area=monkey_defs.areas[2], model=monkey_defs.n_components)\n",
    "    n_shared_trial1 = AllDataU.shape[2]\n",
    "    trialList1 = np.arange(n_shared_trial1)\n",
    "    CCsU=[]\n",
    "    for session, sessionData in enumerate(AllDataU):\n",
    "        r = []\n",
    "        for n in range(params.n_iter * 10):\n",
    "            params.rng.shuffle(trialList1)\n",
    "            # non-overlapping randomised trials\n",
    "            trial1 = trialList1[:n_shared_trial1//2]\n",
    "            trial2 = trialList1[-(n_shared_trial1//2):]\n",
    "            data1 = np.reshape(sessionData[:,trial1,:,:], (-1,monkey_defs.n_components))\n",
    "            data2 = np.reshape(sessionData[:,trial2,:,:], (-1,monkey_defs.n_components))\n",
    "            r.append(dt.canoncorr(data1, data2))\n",
    "        CCsU.append(r)\n",
    "    CCsU = np.array(CCsU)\n",
    "    CCsU = np.percentile(CCsU, 99, axis=1).T\n",
    "\n",
    "    # plotting\n",
    "    x_ = np.arange(1,monkey_defs.n_components+1)\n",
    "    ax.plot(x_, allCCs, color=params.colors.MainCC, marker = 'o', label=f'Across monkeys')\n",
    "    ax.plot(x_, CCsU[:,0], color=params.colors.UpperCC, marker = '<', ls='--', label=f'Within monkey1')\n",
    "    ax.plot(x_, CCsU[:,1], marker = '<', ls='--', label=f'Within monkey2')\n",
    "    ax.plot(x_, CCsL, color=params.colors.LowerCC, marker = '>', ls=':', label=f'Control')\n",
    "\n",
    "\n",
    "    ax.set_ylim([-.05,1])\n",
    "    ax.set_xlim([.6,monkey_defs.n_components+.6])\n",
    "    ax.set_xlabel('Neural mode')\n",
    "    ax.xaxis.set_major_locator(MaxNLocator(integer=True))\n",
    "    # ax.set_title(f'{defs.areas[2]} Alignment')\n",
    "    ax.legend(loc=(.55,.67))\n",
    "    ax.set_ylabel('Canonical correlation')\n",
    "    \n",
    "    ax.spines['top'].set_visible(False)\n",
    "    ax.spines['right'].set_visible(False)\n",
    "    ax.spines['bottom'].set_bounds([1,monkey_defs.n_components])\n",
    "    ax.spines['left'].set_bounds([0,1])"
   ]
  },
  {
   "cell_type": "code",
   "execution_count": null,
   "id": "2c038a8e-5b53-4eaa-bded-f85c5d9ed07a",
   "metadata": {},
   "outputs": [],
   "source": [
    "if \"__file__\" not in dir():\n",
    "    plt.close('all')\n",
    "    set_rc()\n",
    "    fig,ax = plt.subplots(dpi=100)\n",
    "    \n",
    "    plot_cca_for_ex(ax)\n",
    "    "
   ]
  },
  {
   "cell_type": "markdown",
   "id": "10159e45-a434-4695-b186-89f64ecf058c",
   "metadata": {},
   "source": [
    "---\n",
    "\n",
    "monkey population CCA plot"
   ]
  },
  {
   "cell_type": "code",
   "execution_count": null,
   "id": "d9fb936c-4ef3-4776-bd0f-bea0b5322a40",
   "metadata": {},
   "outputs": [],
   "source": [
    "@utility.report\n",
    "def get_full_monkey_data():\n",
    "    full_list_MCx = []\n",
    "    for animal, sessionList in GoodDataList[monkey_defs.areas[2]].items():\n",
    "        if 'Mr' in animal:\n",
    "            continue  # to remove MrT\n",
    "        full_list_MCx.append((animal,sessionList))\n",
    "    full_list_MCx = [(animal,session) for animal,sessions in full_list_MCx for session in set(sessions)]\n",
    "    # load the DFs\n",
    "    allDFs_MCx = []\n",
    "    for animal, session in full_list_MCx:\n",
    "        path = root/animal/session\n",
    "        allDFs_MCx.append(monkey_defs.prep_general(dt.load_pyal_data(path)))\n",
    "\n",
    "    return full_list_MCx, allDFs_MCx"
   ]
  },
  {
   "cell_type": "code",
   "execution_count": 5,
   "id": "55ab4f90-108f-4c22-a744-3a35db5b2038",
   "metadata": {},
   "outputs": [],
   "source": [
    "@utility.report\n",
    "def plot_monkey_cca(ax, ax_hist, full_list_MCx, allDFs_MCx):\n",
    "    pairFileList1 = []\n",
    "    for I, (animal1,session1) in enumerate(full_list_MCx):\n",
    "        for J, (animal2,session2) in enumerate(full_list_MCx):\n",
    "            if J<=I or animal1 == animal2: continue  # to repetitions\n",
    "            if 'Chewie' in animal1 and 'Chewie' in animal2: continue \n",
    "            pairFileList1.append((I,J))\n",
    "\n",
    "    side1df = [allDFs_MCx[i] for i,_ in pairFileList1]\n",
    "    side2df = [allDFs_MCx[j] for _,j in pairFileList1]\n",
    "    AllData1 = dt.get_data_array(side1df, monkey_defs.exec_epoch, area=monkey_defs.areas[2], model=monkey_defs.n_components)\n",
    "    AllData2 = dt.get_data_array(side2df, monkey_defs.exec_epoch, area=monkey_defs.areas[2], model=monkey_defs.n_components)\n",
    "    _,_, min_trials, min_time,_ = np.min((AllData1.shape,AllData2.shape),axis=0)\n",
    "    allCCs=[]\n",
    "    for sessionData1,sessionData2 in zip(AllData1,AllData2):\n",
    "        data1 = np.reshape(sessionData1[:,:min_trials,:min_time,:], (-1,defs.n_components))\n",
    "        data2 = np.reshape(sessionData2[:,:min_trials,:min_time,:], (-1,defs.n_components))\n",
    "        allCCs.append(dt.canoncorr(data1, data2))\n",
    "    allCCs = np.array(allCCs).T\n",
    "\n",
    "    # lower bound\n",
    "    len_trial = int(np.round(np.diff(monkey_defs.WINDOW_exec)/monkey_defs.BIN_SIZE))\n",
    "    single_FileList1 = []\n",
    "    for I, (animal1,session1) in enumerate(full_list_MCx):\n",
    "        for J, (animal2,session2) in enumerate(full_list_MCx):\n",
    "            if J<=I or animal1 == animal2: continue  # to repetitions\n",
    "            if 'Chewie' in animal1 and 'Chewie' in animal2: continue \n",
    "            single_FileList1.append((I,J))\n",
    "    n_iter = params.n_iter * 10\n",
    "    side1df = [allDFs_MCx[i] for i,_ in single_FileList1]\n",
    "    side2df = [allDFs_MCx[j] for _,j in single_FileList1]\n",
    "    AllData1 = monkey_defs._get_data_array(side1df, epoch_L=len_trial, area=monkey_defs.areas[2], model=monkey_defs.n_components)\n",
    "    AllData1_ = monkey_defs._get_data_array(side2df, epoch_L=len_trial, area=monkey_defs.areas[2], model=monkey_defs.n_components)\n",
    "    _,_, min_trials, min_time,_ = np.min((AllData1.shape,AllData1_.shape),axis=0)\n",
    "\n",
    "    CCsL=[]\n",
    "    for sessionData1,sessionData2 in zip(AllData1,AllData1_):\n",
    "        r = []\n",
    "        for n in range(n_iter):\n",
    "            sessionData1_sh = params.rng.permutation(sessionData1,axis=0)\n",
    "            sessionData2_sh = params.rng.permutation(sessionData2,axis=0)\n",
    "\n",
    "            data1 = np.reshape(sessionData1_sh[:,:min_trials,:min_time,:], (-1,defs.n_components))\n",
    "            data2 = np.reshape(sessionData2_sh[:,:min_trials,:min_time,:], (-1,defs.n_components))\n",
    "            r.append(dt.canoncorr(data1, data2))\n",
    "        CCsL.append(r)\n",
    "    CCsL = np.array(CCsL)\n",
    "    CCsL = np.percentile(CCsL, 1, axis=1).T\n",
    "\n",
    "    # Upper bound\n",
    "    single_FileList1 = []\n",
    "    for I, _ in enumerate(full_list_MCx):\n",
    "        single_FileList1.append(I)\n",
    "    side1df = [allDFs_MCx[i] for i in single_FileList1]\n",
    "    AllData1 = dt.get_data_array(side1df, monkey_defs.exec_epoch, area=monkey_defs.areas[2], model=monkey_defs.n_components)\n",
    "    n_shared_trial1 = AllData1.shape[2]\n",
    "    trialList1 = np.arange(n_shared_trial1)\n",
    "    CCsU=[]\n",
    "    for session, sessionData in enumerate(AllData1):\n",
    "        r = []\n",
    "        for n in range(n_iter):\n",
    "            params.rng.shuffle(trialList1)\n",
    "            # non-overlapping randomised trials\n",
    "            trial1 = trialList1[:n_shared_trial1//2]\n",
    "            trial2 = trialList1[-(n_shared_trial1//2):]\n",
    "            data1 = np.reshape(sessionData[:,trial1,:,:], (-1,defs.n_components))\n",
    "            data2 = np.reshape(sessionData[:,trial2,:,:], (-1,defs.n_components))\n",
    "            r.append(dt.canoncorr(data1, data2))\n",
    "        CCsU.append(r)\n",
    "    CCsU = np.array(CCsU)\n",
    "    CCsU = np.percentile(CCsU, 99, axis=1).T\n",
    "\n",
    "    # plotting\n",
    "    x_ = np.arange(1,monkey_defs.n_components+1)\n",
    "    utility.shaded_errorbar(ax, x_, allCCs, color=params.colors.MainCC, marker = 'o')\n",
    "    utility.shaded_errorbar(ax, x_, CCsU, color=params.colors.UpperCC, marker = '<', ls='--')\n",
    "    utility.shaded_errorbar(ax, x_, CCsL, color=params.colors.LowerCC, marker = '>', ls=':')\n",
    "\n",
    "    ax.set_ylim([-.05,1])\n",
    "    ax.set_xlim([.6,monkey_defs.n_components+.6])\n",
    "    ax.set_xlabel('Neural mode')\n",
    "    ax.xaxis.set_major_locator(MaxNLocator(integer=True))\n",
    "    ax.set_ylabel('Canonical correlation')\n",
    "    ax.spines['top'].set_visible(False)\n",
    "    ax.spines['right'].set_visible(False)\n",
    "    ax.spines['bottom'].set_bounds([1,monkey_defs.n_components])\n",
    "    ax.spines['left'].set_bounds([0,1])\n",
    "    ax.text(x=monkey_defs.n_components, y=1, s= f'$n={CCsL.shape[1]}$ pairs of sessions\\nacross $3$ monkeys',\n",
    "           ha='right', va='top', fontsize=mpl.rcParams['xtick.labelsize'])\n",
    "    \n",
    "    #plot the hist\n",
    "\n",
    "    bins = np.arange(0,1,0.05)\n",
    "    ax_hist.xaxis.set_visible(False)\n",
    "    ax_hist.set_facecolor('None')\n",
    "    ax_hist.spines['bottom'].set_visible(False)\n",
    "    ax_hist.spines['right'].set_visible(False)\n",
    "    ax_hist.spines['top'].set_visible(False)\n",
    "    ax_hist.spines['left'].set_bounds([0,1])\n",
    "    ax_hist.set_ylim([-.05,1])\n",
    "    ax_hist.hist(allCCs[:4,:].mean(axis=0), bins=bins, density=True, label=f'Across ($n={allCCs.shape[1]}$)',\n",
    "            color=params.colors.MainCC, alpha=.8, orientation='horizontal')\n",
    "    ax_hist.hist(CCsU[:4,:].mean(axis=0), bins=bins, density=True,label=f'Within ($n={CCsU.shape[1]}$)',\n",
    "            color=params.colors.UpperCC, alpha=.8, orientation='horizontal')\n",
    "    ax_hist.hist(CCsL[:4,:].mean(axis=0), bins=bins, density=True, label=f'Control ($n={CCsL.shape[1]}$)',\n",
    "            color=params.colors.LowerCC, alpha=.8, orientation='horizontal')\n",
    "    \n",
    "    ax_hist.tick_params('y', direction='out')\n",
    "    ax_hist.set_yticklabels([])\n",
    "    ax_hist.legend(loc=(0,-.05))"
   ]
  },
  {
   "cell_type": "code",
   "execution_count": 6,
   "id": "c6d8e701-2e04-41c4-bc4c-2383ef0badd5",
   "metadata": {
    "tags": []
   },
   "outputs": [
    {
     "name": "stdout",
     "output_type": "stream",
     "text": [
      "Executed: `get_full_monkey_data` in 13.9s\n",
      "Executed: `plot_monkey_cca` in 6.1s\n"
     ]
    },
    {
     "data": {
      "image/png": "[encoded data removed]",
      "text/plain": [
       "<Figure size 600x400 with 2 Axes>"
      ]
     },
     "metadata": {
      "needs_background": "light"
     },
     "output_type": "display_data"
    }
   ],
   "source": [
    "if \"__file__\" not in dir():\n",
    "    plt.close('all')\n",
    "    set_rc()\n",
    "    fig=plt.figure(dpi=100)\n",
    "    gs = fig.add_gridspec(nrows=1, ncols=2, width_ratios=(5,1), wspace=0)\n",
    "\n",
    "    ax = fig.add_subplot(gs[0])\n",
    "    ax_ = fig.add_subplot(gs[1])\n",
    "\n",
    "    \n",
    "    full_list_MCx, allDFs_MCx = get_full_monkey_data()\n",
    "    \n",
    "    plot_monkey_cca(ax,ax_, full_list_MCx[10:13], allDFs_MCx)\n",
    "    \n",
    "    plt.show()"
   ]
  },
  {
   "cell_type": "markdown",
   "id": "4145a731-d518-4b69-bc46-78ca617b9745",
   "metadata": {},
   "source": [
    "---\n",
    "\n",
    "decoding for monkeys"
   ]
  },
  {
   "cell_type": "code",
   "execution_count": 4,
   "id": "0659f95f-f4a6-4333-8480-9fa7594ea14a",
   "metadata": {},
   "outputs": [],
   "source": [
    "@utility.report\n",
    "\n",
    "def plot_monkey_decoding(ax, allDFs, redo = False):\n",
    "    defs = monkey_defs\n",
    "\n",
    "    within_score = {}\n",
    "    aligned_score = {}\n",
    "    unaligned_score = {}\n",
    "    for i, df1 in enumerate(tqdm(allDFs)):\n",
    "        pathPickle = root / 'monkey-pickles' / f'{df1.session[0]}_within.p'\n",
    "        if os.path.exists(pathPickle) and not redo:\n",
    "            with open(pathPickle,\"rb\") as f:\n",
    "                within_score[df1.session[0]] = pickle.load(f)\n",
    "        else:\n",
    "            AllData, AllVel = defs.get_data_array_and_vel([df1], defs.exec_epoch_decode,\n",
    "                                                        area=defs.areas[2], n_components=defs.n_components)\n",
    "            # adding history\n",
    "            AllData = dt.add_history_to_data_array(AllData,defs.MAX_HISTORY)\n",
    "            AllData = AllData[...,defs.MAX_HISTORY:,:]\n",
    "            AllVel = AllVel[...,defs.MAX_HISTORY:,:]\n",
    "            AllData1 = AllData[0,...]\n",
    "            AllVel1 = AllVel[0,...]\n",
    "            *_,n_time,n_comp = AllData1.shape\n",
    "            # resizing\n",
    "            X1 = AllData1.reshape((-1,n_time,n_comp))\n",
    "            AllVel1 = AllVel1.reshape((-1,n_time,2))\n",
    "            \n",
    "            fold_score =[]\n",
    "            kf = KFold(n_splits=10)\n",
    "            for train_index, test_index in kf.split(X1[:,0,0]):\n",
    "                x_train, x_test = X1[train_index,...], X1[test_index,...]\n",
    "                y_train, y_test = AllVel1[train_index,...], AllVel1[test_index,...]\n",
    "\n",
    "                lstm_model = lstm.LSTMDecoder(input_dims=X1.shape[-1], output_dims=2)\n",
    "                lstm_model.fit(x_train=x_train, y_train=y_train)\n",
    "                lstm_model.predict(x_test, y_test)\n",
    "                fold_score.append(lstm_model.score)\n",
    "            fold_score = np.median(fold_score)\n",
    "            within_score[df1.session[0]] = fold_score\n",
    "\n",
    "            with open(pathPickle, 'wb') as f:\n",
    "                pickle.dump(within_score[df1.session[0]], f)\n",
    "                f.close()\n",
    "\n",
    "        aligned_score[df1.session[0]] = {}\n",
    "        unaligned_score[df1.session[0]] = {}\n",
    "        for j, df2 in enumerate(tqdm(allDFs)):\n",
    "            if j <= i: continue\n",
    "            if df1.monkey[0] == df2.monkey[0]: continue\n",
    "            if 'Chewie' in df1.monkey[0] and 'Chewie' in df2.monkey[0]: continue\n",
    "            alignedPickle = root / 'monkey-pickles' /  f'{df1.session[0]}-{df2.session[0]}_aligned.p'\n",
    "            unalignedPickle = root / 'monkey-pickles' /  f'{df1.session[0]}-{df2.session[0]}_unaligned.p'\n",
    "            if os.path.exists(alignedPickle) and os.path.exists(unalignedPickle) and not redo:\n",
    "                with open(alignedPickle,\"rb\") as f:\n",
    "                    aligned_score[df1.session[0]].update(pickle.load(f)[df1.session[0]])\n",
    "                    f.close()\n",
    "                with open(unalignedPickle,\"rb\") as f:\n",
    "                    unaligned_score[df1.session[0]].update(pickle.load(f)[df1.session[0]])\n",
    "                    f.close()\n",
    "            else:\n",
    "\n",
    "                AllData, AllVel = defs.get_data_array_and_vel([df1,df2],\n",
    "                                                            defs.exec_epoch_decode, area=defs.areas[2], n_components=defs.n_components)\n",
    "                # adding history\n",
    "                AllData = dt.add_history_to_data_array(AllData,defs.MAX_HISTORY)\n",
    "                AllData = AllData[...,defs.MAX_HISTORY:,:]\n",
    "                AllVel = AllVel[...,defs.MAX_HISTORY:,:]\n",
    "\n",
    "                AllData1 = AllData[0,...]\n",
    "                AllData2 = AllData[1,...]\n",
    "                AllVel1 = AllVel[0,...]\n",
    "                AllVel2 = AllVel[1,...]\n",
    "                # resizing\n",
    "                *_,n_time,n_comp = AllData1.shape\n",
    "\n",
    "                X1 = AllData1.reshape((-1,n_comp))\n",
    "                X2 = AllData2.reshape((-1,n_comp))\n",
    "                AllVel2 = AllVel2.reshape((-1,n_time,2))\n",
    "                AllVel1 = AllVel1.reshape((-1,n_time,2))\n",
    "\n",
    "                # train the aligned\n",
    "                *_,U,V = dt.canoncorr(X1, X2, fullReturn=True)\n",
    "                U = U.reshape((-1,n_time,n_comp))\n",
    "                V = V.reshape((-1,n_time,n_comp))\n",
    "                X1 = X1.reshape((-1,n_time,n_comp))\n",
    "                X2 = X2.reshape((-1,n_time,n_comp))\n",
    "\n",
    "                lstm_model = lstm.LSTMDecoder(input_dims=U.shape[-1], output_dims=2)\n",
    "                lstm_model.fit(x_train=U, y_train=AllVel1)\n",
    "                lstm_model.predict(V, AllVel2)\n",
    "                aligned_score[df1.session[0]][df2.session[0]]=lstm_model.score.mean()\n",
    "                with open(alignedPickle, 'wb') as f:\n",
    "                    pickle.dump({df2.session[0]:lstm_model.score.mean()}, f)\n",
    "                    f.close()\n",
    "                #================================\n",
    "                # Unaligned\n",
    "                lstm_model = lstm.LSTMDecoder(input_dims=U.shape[-1], output_dims=2)\n",
    "                lstm_model.fit(x_train=X1, y_train=AllVel1)\n",
    "                lstm_model.predict(X2, AllVel2)\n",
    "                unaligned_score[df1.session[0]][df2.session[0]]=lstm_model.score.mean()\n",
    "                with open(unalignedPickle, 'wb') as f:\n",
    "                    pickle.dump({df2.session[0]:lstm_model.score.mean()}, f)\n",
    "                    f.close()\n",
    "\n",
    "#======================== PLOTTING\n",
    "    pop_within = np.array(list(within_score.values()))\n",
    "    pop_aligned = np.array([val for key in aligned_score for val in aligned_score[key].values()])\n",
    "    pop_unaligned = np.array([val for key in unaligned_score for val in unaligned_score[key].values()])\n",
    "\n",
    "    ax.errorbar(1, pop_aligned.mean(), np.std(pop_aligned), label='Across\\n' r'(\\textit{aligned})',\n",
    "                color=params.colors.MainCC, fmt='-o', capsize=1.5)    \n",
    "    ax.errorbar(0, pop_unaligned.mean(), np.std(pop_unaligned), label='Across\\n' r'(\\textit{unaligned})',\n",
    "                color=params.colors.LowerCC, fmt='-o', capsize=1.5)\n",
    "    ax.errorbar(2, pop_within.mean(), np.std(pop_within), label='Within',\n",
    "                color=params.colors.UpperCC, fmt='-o', capsize=1.5)\n",
    "\n",
    "\n",
    "    for file1, nested_dict in aligned_score.items():\n",
    "        wi_val1 = within_score[file1]\n",
    "        for file2, al_val in nested_dict.items():\n",
    "            wi_val2 = within_score[file2]\n",
    "            unal_val = unaligned_score[file1][file2]\n",
    "            ax.plot([0,1,2], [unal_val, al_val, wi_val1],\n",
    "                    color='gray', lw=.2, zorder=-5)\n",
    "            ax.plot([1,2], [al_val, wi_val2],\n",
    "                    color='gray', lw=.2, zorder=-5)\n",
    "\n",
    "    ax.set_xlim([-0.2,2.2])\n",
    "    ax.set_xticks([0,1,2])\n",
    "    ax.set_xticklabels(['Across\\n' r'(\\textit{unaligned})',\n",
    "                        'Across\\n' r'(\\textit{aligned})',\n",
    "                        'Within'])\n",
    "    ax.set_ylabel('Prediction accuracy ($R^2$)')\n",
    "    ax.set_ylim([-.05,1])\n",
    "    # ax.legend(loc='upper right', bbox_to_anchor=(1.1, 1))\n",
    "    ax.spines['top'].set_visible(False)\n",
    "    ax.spines['right'].set_visible(False)\n",
    "    ax.spines['bottom'].set_bounds([0,2])\n",
    "    ax.spines['left'].set_bounds([0,1])\n"
   ]
  },
  {
   "cell_type": "code",
   "execution_count": 5,
   "id": "cfec8bea-0094-4e29-8328-efd20c1102c7",
   "metadata": {},
   "outputs": [
    {
     "name": "stdout",
     "output_type": "stream",
     "text": [
      "Executed: `get_full_monkey_data` in 13.8s\n",
      "Running: `plot_monkey_decoding`...\r"
     ]
    },
    {
     "name": "stderr",
     "output_type": "stream",
     "text": [
      "100%|██████████| 3/3 [01:38<00:00, 32.85s/it]\n",
      "100%|██████████| 3/3 [01:38<00:00, 32.74s/it]]\n",
      "100%|██████████| 3/3 [00:00<00:00, 89240.51it/s]\n",
      "100%|██████████| 3/3 [29:44<00:00, 594.71s/it]"
     ]
    },
    {
     "name": "stdout",
     "output_type": "stream",
     "text": [
      "Executed: `plot_monkey_decoding` in 1784.1s\n"
     ]
    },
    {
     "name": "stderr",
     "output_type": "stream",
     "text": [
      "\n"
     ]
    },
    {
     "data": {
      "image/png": "[encoded data removed]",
      "text/plain": [
       "<Figure size 600x400 with 1 Axes>"
      ]
     },
     "metadata": {
      "needs_background": "light"
     },
     "output_type": "display_data"
    }
   ],
   "source": [
    "if \"__file__\" not in dir():\n",
    "    plt.close('all')\n",
    "    set_rc()\n",
    "    fig=plt.figure(dpi=100)\n",
    "    ax = fig.add_subplot()\n",
    "\n",
    "    # _, allDFs_MCx = get_full_monkey_data()\n",
    "    \n",
    "    plot_monkey_decoding(ax, allDFs_MCx[10:13], redo=False)\n",
    "    \n",
    "    plt.show()"
   ]
  },
  {
   "cell_type": "markdown",
   "id": "c6806511-6197-45b5-beb6-316a050c9c83",
   "metadata": {},
   "source": [
    "---\n",
    "\n",
    "Mouse CCA plot"
   ]
  },
  {
   "cell_type": "code",
   "execution_count": null,
   "id": "22ceccd6-a508-4bef-84e7-9cffa87aed00",
   "metadata": {},
   "outputs": [],
   "source": [
    "@utility.report\n",
    "def get_full_mouse_data():\n",
    "    defs = mouse_defs\n",
    "    \n",
    "    animalList = ['mouse-data']\n",
    "    animalFiles = []\n",
    "    for animal in animalList:\n",
    "        animalFiles.extend(utility.find_file(root / animal, 'mat'))\n",
    "\n",
    "    AllDFs=[]\n",
    "    for fname in animalFiles:\n",
    "        df = dt.load_pyal_data(fname)\n",
    "        df['mouse'] = fname.split(os.sep)[-1][fname.split(os.sep)[-1].find('WR'):].split('_')[0]\n",
    "        df['file'] = fname.split(os.sep)[-1]\n",
    "        df = defs.prep_general_mouse(df)\n",
    "        AllDFs.append(df)\n",
    "\n",
    "    allDFs_M1 = []\n",
    "    for df in AllDFs:\n",
    "        if 'M1_rates' in df.columns:\n",
    "            allDFs_M1.append(df)\n",
    "\n",
    "\n",
    "    allDFs_Str = []\n",
    "    for df in AllDFs:\n",
    "        if 'Str_rates' in df.columns:\n",
    "            allDFs_Str.append(df)\n",
    "            \n",
    "    return allDFs_M1, allDFs_Str"
   ]
  },
  {
   "cell_type": "code",
   "execution_count": null,
   "id": "c7231f59-8b48-4f87-a746-4a753c32730d",
   "metadata": {},
   "outputs": [],
   "source": [
    "@utility.report\n",
    "def plot_mouse_cca(ax, ax_hist, allDFs_M1):\n",
    "    defs = mouse_defs\n",
    "    \n",
    "    pairFileList1 = []\n",
    "    for I, df1 in enumerate(allDFs_M1):\n",
    "        for J, (df2) in enumerate(allDFs_M1):\n",
    "            if J<=I or df1.mouse[0] == df2.mouse[0]: continue  # repetitions\n",
    "            pairFileList1.append((I,J))\n",
    "    side1df = [allDFs_M1[i] for i,_ in pairFileList1]\n",
    "    side2df = [allDFs_M1[j] for _,j in pairFileList1]\n",
    "    AllData1 = dt.get_data_array(side1df, defs.exec_epoch, area=defs.areas[0], model=defs.n_components)\n",
    "    AllData2 = dt.get_data_array(side2df, defs.exec_epoch, area=defs.areas[0], model=defs.n_components)\n",
    "    _,_, min_trials, min_time,_ = np.min((AllData1.shape,AllData2.shape),axis=0)\n",
    "    allCCs=[]\n",
    "    for sessionData1,sessionData2 in zip(AllData1,AllData2):\n",
    "        data1 = np.reshape(sessionData1[:,:min_trials,:min_time,:], (-1,defs.n_components))\n",
    "        data2 = np.reshape(sessionData2[:,:min_trials,:min_time,:], (-1,defs.n_components))\n",
    "        allCCs.append(dt.canoncorr(data1, data2))\n",
    "    allCCs = np.array(allCCs).T\n",
    "\n",
    "    # upper bound\n",
    "    AllData1 = dt.get_data_array(allDFs_M1, defs.exec_epoch, area=defs.areas[0], model=defs.n_components)\n",
    "    n_iter = params.n_iter * 10\n",
    "    n_shared_trial1 = AllData1.shape[2]\n",
    "    trialList1 = np.arange(n_shared_trial1)\n",
    "    CCsU=[]\n",
    "    for sessionData in AllData1:\n",
    "        r = []\n",
    "        for n in range(n_iter):\n",
    "            params.rng.shuffle(trialList1)\n",
    "            # non-overlapping randomised trials\n",
    "            trial1 = trialList1[:n_shared_trial1//2]\n",
    "            trial2 = trialList1[-(n_shared_trial1//2):]\n",
    "            data1 = np.reshape(sessionData[:,trial1,:,:], (-1,defs.n_components))\n",
    "            data2 = np.reshape(sessionData[:,trial2,:,:], (-1,defs.n_components))\n",
    "            r.append(dt.canoncorr(data1, data2))\n",
    "        CCsU.append(r)\n",
    "    CCsU = np.array(CCsU)\n",
    "    CCsU = np.percentile(CCsU, 99, axis=1).T\n",
    "\n",
    "    # lower bound\n",
    "    pairFileList1 = []\n",
    "    for I, df1 in enumerate(allDFs_M1):\n",
    "        for J, df2 in enumerate(allDFs_M1):\n",
    "            if J<=I or df1.mouse[0] == df2.mouse[0]: continue  # repetitions\n",
    "            pairFileList1.append((I,J))\n",
    "    side1df = [allDFs_M1[i] for i,_ in pairFileList1]\n",
    "    side2df = [allDFs_M1[j] for _,j in pairFileList1]\n",
    "    len_trial = int(np.round(np.diff(defs.WINDOW_exec)/defs.BIN_SIZE))\n",
    "\n",
    "    AllData1 = dt.get_data_array(side1df, area=defs.areas[0], model=defs.n_components)\n",
    "    AllData2 = dt.get_data_array(side2df, area=defs.areas[0], model=defs.n_components)\n",
    "    _,_, min_trials, min_time,_ = np.min((AllData1.shape,AllData2.shape),axis=0)\n",
    "\n",
    "    CCsL=[]\n",
    "    for sessionData1,sessionData2 in zip(AllData1,AllData2):\n",
    "        r = []\n",
    "        for n in range(n_iter):\n",
    "            sessionData1_sh = params.rng.permutation(sessionData1,axis=0)\n",
    "            sessionData2_sh = params.rng.permutation(sessionData2,axis=0)\n",
    "            time_idx = params.rng.integers(min_time-len_trial)\n",
    "\n",
    "            data1 = np.reshape(sessionData1_sh[:,:min_trials,time_idx:time_idx+len_trial,:], (-1,defs.n_components))\n",
    "            data2 = np.reshape(sessionData2_sh[:,:min_trials,time_idx:time_idx+len_trial,:], (-1,defs.n_components))\n",
    "            r.append(dt.canoncorr(data1, data2))\n",
    "        CCsL.append(r)\n",
    "    CCsL = np.array(CCsL)\n",
    "    CCsL = np.percentile(CCsL, 1, axis=1).T\n",
    "\n",
    "\n",
    "    #====================================PLOTTING\n",
    "    \n",
    "    x_ = np.arange(1,defs.n_components+1)\n",
    "    utility.shaded_errorbar(ax, x_, allCCs, color=params.colors.MainCC, marker = 'o')\n",
    "    utility.shaded_errorbar(ax, x_, CCsU, color=params.colors.UpperCC, marker = '<', ls='--')\n",
    "    utility.shaded_errorbar(ax, x_, CCsL, color=params.colors.LowerCC, marker = '>', ls=':')\n",
    "\n",
    "    ax.set_ylim([-.05,1])\n",
    "    ax.set_xlim([.6,defs.n_components+.6])\n",
    "    ax.set_xlabel('Neural mode')\n",
    "    ax.xaxis.set_major_locator(MaxNLocator(integer=True))\n",
    "    ax.set_ylabel('Canonical correlation')\n",
    "    ax.spines['top'].set_visible(False)\n",
    "    ax.spines['right'].set_visible(False)\n",
    "    ax.spines['bottom'].set_bounds([1,defs.n_components])\n",
    "    ax.spines['left'].set_bounds([0,1])\n",
    "    ax.text(x=defs.n_components, y=1, s= f'$n={CCsL.shape[1]}$ pairs of sessions\\nacross $4$ mice',\n",
    "            ha='right', va='top', fontsize=mpl.rcParams['xtick.labelsize'])\n",
    "\n",
    "    #plot the hist\n",
    "\n",
    "    bins = np.arange(0,1,0.05)\n",
    "    ax_hist.xaxis.set_visible(False)\n",
    "    ax_hist.set_facecolor('None')\n",
    "    ax_hist.spines['bottom'].set_visible(False)\n",
    "    ax_hist.spines['right'].set_visible(False)\n",
    "    ax_hist.spines['top'].set_visible(False)\n",
    "    ax_hist.spines['left'].set_bounds([0,1])\n",
    "    ax_hist.set_ylim([-.05,1])\n",
    "    ax_hist.hist(allCCs[:4,:].mean(axis=0), bins=bins, density=True, label=f'($n={allCCs.shape[1]}$)',\n",
    "            color=params.colors.MainCC, alpha=.8, orientation='horizontal')\n",
    "    ax_hist.hist(CCsU[:4,:].mean(axis=0), bins=bins, density=True,label=f'($n={CCsU.shape[1]}$)',\n",
    "            color=params.colors.UpperCC, alpha=.8, orientation='horizontal')\n",
    "    ax_hist.hist(CCsL[:4,:].mean(axis=0), bins=bins, density=True, label=f'($n={CCsL.shape[1]}$)',\n",
    "            color=params.colors.LowerCC, alpha=.8, orientation='horizontal')\n",
    "    \n",
    "    ax_hist.tick_params('y', direction='out')\n",
    "    ax_hist.set_yticklabels([])\n",
    "    ax_hist.legend(loc=(0,-0.05))"
   ]
  },
  {
   "cell_type": "code",
   "execution_count": null,
   "id": "6cc17a24-5dcc-43fe-9a37-0f6b11fa05a8",
   "metadata": {},
   "outputs": [],
   "source": [
    "if \"__file__\" not in dir():\n",
    "    plt.close('all')\n",
    "    set_rc()\n",
    "    fig=plt.figure(dpi=100)\n",
    "    gs = fig.add_gridspec(nrows=1, ncols=2, width_ratios=(5,1), wspace=0)\n",
    "\n",
    "    ax = fig.add_subplot(gs[0])\n",
    "    ax_ = fig.add_subplot(gs[1])\n",
    "\n",
    "    \n",
    "    allDFs_M1, _ = get_full_mouse_data()\n",
    "    \n",
    "    plot_mouse_cca(ax,ax_, allDFs_M1)\n",
    "    \n",
    "    plt.show()"
   ]
  },
  {
   "cell_type": "markdown",
   "id": "5753ee67-169e-4978-b9de-b24afb791bdb",
   "metadata": {},
   "source": [
    "---\n",
    "\n",
    "plot the behavioural vs CCA"
   ]
  },
  {
   "cell_type": "code",
   "execution_count": null,
   "id": "2367e412-afd3-4b49-8228-d524420c6ca8",
   "metadata": {},
   "outputs": [],
   "source": [
    "@utility.report\n",
    "def plot_monkey_cca_corr(ax, allDFs_MCx):\n",
    "    try:\n",
    "        os.chdir(params.repoPath / 'monkey')\n",
    "        %run \"_monkey-corr.ipynb\"\n",
    "    finally:\n",
    "        os.chdir(NBPath)\n",
    "        \n",
    "    across_corrs_monkeys = trim_across_monkey_corr(allDFs_MCx)\n",
    "\n",
    "    pairFileList_monkeys = []\n",
    "    for I, df1 in enumerate(allDFs_MCx):\n",
    "        for J, df2 in enumerate(allDFs_MCx):\n",
    "            if J<=I or df1.monkey[0] == df2.monkey[0]: continue  # to repetitions\n",
    "            if 'Chewie' in df1.monkey[0] and 'Chewie' in df2.monkey[0]: continue\n",
    "            pairFileList_monkeys.append((I,J))\n",
    "            \n",
    "    side1df = [allDFs_MCx[i] for i,_ in pairFileList_monkeys]\n",
    "    side2df = [allDFs_MCx[j] for _,j in pairFileList_monkeys]\n",
    "    AllData1_monkey = dt.get_data_array(side1df, monkey_defs.exec_epoch, area=monkey_defs.areas[2], model=monkey_defs.n_components)\n",
    "    AllData2_monkey = dt.get_data_array(side2df, monkey_defs.exec_epoch, area=monkey_defs.areas[2], model=monkey_defs.n_components)\n",
    "    _,_, min_trials_monkey, min_time_monkey,_ = np.min((AllData1_monkey.shape,AllData2_monkey.shape),axis=0)\n",
    "\n",
    "    CC_corr_monkey=[]\n",
    "    for i, (sessionData1,sessionData2) in enumerate(zip(AllData1_monkey,AllData2_monkey)):\n",
    "        data1 = np.reshape(sessionData1[:,:min_trials_monkey,:min_time_monkey,:], (-1,monkey_defs.n_components))\n",
    "        data2 = np.reshape(sessionData2[:,:min_trials_monkey,:min_time_monkey,:], (-1,monkey_defs.n_components))\n",
    "        k,l = pairFileList_monkeys[i]\n",
    "        behav = np.array(across_corrs_monkeys[allDFs_MCx[k].session[0]][allDFs_MCx[l].session[0]])\n",
    "        behav = behav[behav>params.Behav_corr_TH]\n",
    "        CC_corr_monkey.append((dt.canoncorr(data1, data2)[:4].mean() , np.mean(behav)))\n",
    "    CC_corr_monkey = np.array(CC_corr_monkey)\n",
    "    \n",
    "    #plotting\n",
    "    ax.scatter(CC_corr_monkey[:,1],CC_corr_monkey[:,0], color=params.colors.MonkeyPts, label='Monkeys', zorder=0)\n",
    "    ax.set_xlabel('Behavioural correlation')\n",
    "    ax.set_ylabel('Canonical correlation')\n",
    "    ax.set_ylim([.53,.85])\n",
    "    ax.spines['left'].set_bounds([.55,.85])\n",
    "    ax.set_xlim([.69,.95])\n",
    "    ax.spines['bottom'].set_bounds([.7,.95])\n",
    "    ax.legend(loc=(0,.8))\n",
    "    ax.spines['top'].set_visible(False)\n",
    "    ax.spines['right'].set_visible(False)\n",
    "    ax.yaxis.set_major_formatter(FormatStrFormatter('$%0.2f$'))\n",
    "\n",
    "    \n",
    "@utility.report\n",
    "def plot_mouse_cca_corr(ax, AllDFs):\n",
    "    try:\n",
    "        os.chdir(params.repoPath / 'mouse')\n",
    "        %run \"_mouse-corr.ipynb\"\n",
    "    finally:\n",
    "        os.chdir(NBPath)\n",
    "        \n",
    "    across_corrs_mice = trim_across_mouse_corr (AllDFs)\n",
    "    \n",
    "    pairFileList_mice = []\n",
    "    for I, df1 in enumerate(AllDFs):\n",
    "        for J, (df2) in enumerate(AllDFs):\n",
    "            if J<=I or df1.mouse[0] == df2.mouse[0]: continue  # repetitions\n",
    "            pairFileList_mice.append((I,J))\n",
    "\n",
    "    side1df = [AllDFs[i] for i,_ in pairFileList_mice]\n",
    "    side2df = [AllDFs[j] for _,j in pairFileList_mice]\n",
    "    AllData1_mice = dt.get_data_array(side1df, mouse_defs.exec_epoch, area=mouse_defs.areas[0], model=mouse_defs.n_components)\n",
    "    AllData2_mice = dt.get_data_array(side2df, mouse_defs.exec_epoch, area=mouse_defs.areas[0], model=mouse_defs.n_components)\n",
    "    _,_, min_trials_mice, min_time_mice,_ = np.min((AllData1_mice.shape,AllData2_mice.shape),axis=0)\n",
    "\n",
    "    CC_corr_mice=[]\n",
    "    for i, (sessionData1,sessionData2) in enumerate(zip(AllData1_mice,AllData2_mice)):\n",
    "        data1 = np.reshape(sessionData1[:,:min_trials_mice,:min_time_mice,:], (-1,mouse_defs.n_components))\n",
    "        data2 = np.reshape(sessionData2[:,:min_trials_mice,:min_time_mice,:], (-1,mouse_defs.n_components))\n",
    "        k,l = pairFileList_mice[i]\n",
    "        behav = np.array(across_corrs_mice[AllDFs[k].file[0]][AllDFs[l].file[0]])\n",
    "        behav = behav[behav>params.Behav_corr_TH]\n",
    "        CC_corr_mice.append((dt.canoncorr(data1, data2)[:4].mean() , np.mean(behav)))\n",
    "    CC_corr_mice = np.array(CC_corr_mice)\n",
    "\n",
    "    #plotting\n",
    "    ax.scatter(CC_corr_mice[:,1],CC_corr_mice[:,0],color=params.colors.MousePts, label='Mice', zorder=1)"
   ]
  },
  {
   "cell_type": "code",
   "execution_count": null,
   "id": "910b0f25-f709-41e3-b2e3-90e50ad1a7bb",
   "metadata": {},
   "outputs": [],
   "source": [
    "if \"__file__\" not in dir():\n",
    "    plt.close('all')\n",
    "    set_rc()\n",
    "    fig=plt.figure(dpi=100)\n",
    "    ax = fig.add_subplot()\n",
    "    \n",
    "    # allDFs_MCx, _ = get_full_monkey_data()\n",
    "    # allDFs_M1, _ = get_full_mouse_data()\n",
    "\n",
    "    \n",
    "    plot_mouse_cca_corr(ax, allDFs_M1)\n",
    "    plot_monkey_cca_corr(ax, allDFs_MCx[10:15])\n",
    "    \n",
    "    \n",
    "    plt.show()"
   ]
  },
  {
   "cell_type": "markdown",
   "id": "aff1d836-1d1b-46d2-ab2d-e6d425feada1",
   "metadata": {},
   "source": [
    "---\n",
    "\n",
    "plot the within session trajectory correlations"
   ]
  },
  {
   "cell_type": "code",
   "execution_count": null,
   "id": "89f99964-9dbd-4988-8f35-aa1502597fc9",
   "metadata": {},
   "outputs": [],
   "source": [
    "@utility.report\n",
    "def plot_traj_corr(ax, allDFs_MCx, AllDFs):\n",
    "    try:\n",
    "        os.chdir(params.repoPath / 'monkey')\n",
    "        %run \"_monkey-corr.ipynb\"\n",
    "        os.chdir(params.repoPath / 'mouse')\n",
    "        %run \"_mouse-corr.ipynb\"\n",
    "    finally:\n",
    "        os.chdir(NBPath)\n",
    "\n",
    "    within_corrs_monkeys = trim_within_monkey_corr (allDFs_MCx)\n",
    "    within_corrs_mice = trim_within_mouse_corr (AllDFs)\n",
    "\n",
    "    # plotting\n",
    "    \n",
    "    w_mice = list(within_corrs_mice.values())\n",
    "    w_mice = np.array([l for L in w_mice for l in L])\n",
    "    w_monkey = list(within_corrs_monkeys.values())\n",
    "    w_monkey = np.array([l for L in w_monkey for l in L])\n",
    "    ax.hist(w_mice,   density=True,alpha=.8,color=params.colors.MousePts, label=r'Mice')\n",
    "    ax.hist(w_monkey, density=True,alpha=.8,color=params.colors.MonkeyPts, label=r'Monkeys')\n",
    "    ax.axvline(w_mice.mean(), color=params.colors.MousePts, zorder=0)\n",
    "    ax.axvline(w_monkey.mean(), color=params.colors.MonkeyPts, zorder=0)\n",
    "    \n",
    "    ax.set_yticks([])\n",
    "    ax.set_xticks([0,1])\n",
    "    ax.set_xlim([0,1])\n",
    "    ax.tick_params(axis='x', direction='in')\n",
    "    ax.set_ylabel('Probability\\ndensity')\n",
    "    ax.spines['left'].set_visible(False)\n",
    "    ax.spines['top'].set_visible(False)\n",
    "    ax.spines['right'].set_visible(False)\n",
    "    ax.set_facecolor('None')"
   ]
  },
  {
   "cell_type": "code",
   "execution_count": null,
   "id": "0f42a74b-5ced-4121-9e3b-093f53ba1ba8",
   "metadata": {},
   "outputs": [],
   "source": [
    "if \"__file__\" not in dir():\n",
    "    plt.close('all')\n",
    "    set_rc()\n",
    "    fig=plt.figure(dpi=100)\n",
    "    ax = fig.add_subplot()\n",
    "    \n",
    "    # _, allDFs_MCx = get_full_monkey_data()\n",
    "    # allDFs_M1, _ = get_full_mouse_data()\n",
    "\n",
    "    plot_traj_corr(ax, allDFs_MCx[10:15], allDFs_M1)    \n",
    "    \n",
    "    plt.show()"
   ]
  },
  {
   "cell_type": "markdown",
   "id": "3078eb21-79b2-4e9a-96be-f7cd141f9ed2",
   "metadata": {},
   "source": [
    "# Part 2\n",
    "Plot figure"
   ]
  },
  {
   "cell_type": "code",
   "execution_count": 2,
   "id": "dfde11e9-58cf-43f9-b95c-a132acb86d32",
   "metadata": {},
   "outputs": [
    {
     "name": "stdout",
     "output_type": "stream",
     "text": [
      "Executed: `plot_moneky_fr_raster` in 0.1s\n",
      "Executed: `plot_moneky_fr_raster` in 0.1s\n",
      "Executed: `plot_moneky_vel_ex` in 0.2s\n",
      "Executed: `plot_moneky_vel_ex` in 0.1s\n",
      "Executed: `plot_monkey_pc_example` in 0.3s\n",
      "Executed: `plot_cca_for_ex` in 5.6s\n",
      "Executed: `get_full_monkey_data` in 23.7s\n",
      "Executed: `plot_monkey_cca` in 228.7s\n",
      "Running: `plot_monkey_decoding`...\r"
     ]
    },
    {
     "name": "stderr",
     "output_type": "stream",
     "text": [
      "  0%|          | 0/21 [00:00<?, ?it/s]"
     ]
    },
    {
     "name": "stdout",
     "output_type": "stream",
     "text": [
      "/data/monkey-pickles/Chewie_CO_CS_2016-10-21_within_decoding.p\n"
     ]
    },
    {
     "name": "stderr",
     "output_type": "stream",
     "text": [
      "100%|██████████| 10/10 [00:39<00:00,  3.98s/it]\n",
      "100%|██████████| 10/10 [00:40<00:00,  4.01s/it]\n",
      "100%|██████████| 10/10 [00:40<00:00,  4.09s/it]\n",
      "100%|██████████| 10/10 [00:40<00:00,  4.02s/it]\n",
      "100%|██████████| 10/10 [00:40<00:00,  4.09s/it]\n",
      "100%|██████████| 10/10 [00:40<00:00,  4.04s/it]\n",
      "100%|██████████| 10/10 [00:40<00:00,  4.05s/it]\n",
      "100%|██████████| 10/10 [00:40<00:00,  4.09s/it]\n",
      "100%|██████████| 10/10 [00:40<00:00,  4.00s/it]\n",
      "100%|██████████| 10/10 [00:40<00:00,  4.08s/it]\n",
      "  5%|▍         | 1/21 [06:48<2:16:18, 408.91s/it]"
     ]
    },
    {
     "name": "stdout",
     "output_type": "stream",
     "text": [
      "/data/monkey-pickles/Chewie_CO_FF_2016-10-13_within_decoding.p\n"
     ]
    },
    {
     "name": "stderr",
     "output_type": "stream",
     "text": [
      "100%|██████████| 10/10 [00:33<00:00,  3.33s/it]\n",
      "100%|██████████| 10/10 [00:34<00:00,  3.43s/it]\n",
      "100%|██████████| 10/10 [00:33<00:00,  3.34s/it]\n",
      "100%|██████████| 10/10 [00:33<00:00,  3.31s/it]\n",
      "100%|██████████| 10/10 [00:32<00:00,  3.24s/it]\n",
      "100%|██████████| 10/10 [00:31<00:00,  3.17s/it]\n",
      "100%|██████████| 10/10 [00:33<00:00,  3.35s/it]\n",
      "100%|██████████| 10/10 [00:34<00:00,  3.44s/it]\n",
      "100%|██████████| 10/10 [00:34<00:00,  3.42s/it]\n",
      "100%|██████████| 10/10 [00:28<00:00,  2.86s/it]\n",
      " 10%|▉         | 2/21 [12:19<1:54:51, 362.70s/it]"
     ]
    },
    {
     "name": "stdout",
     "output_type": "stream",
     "text": [
      "/data/monkey-pickles/Chewie_CO_FF_2016-10-05_within_decoding.p\n"
     ]
    },
    {
     "name": "stderr",
     "output_type": "stream",
     "text": [
      "100%|██████████| 10/10 [00:29<00:00,  2.92s/it]\n",
      "100%|██████████| 10/10 [00:27<00:00,  2.73s/it]\n",
      "100%|██████████| 10/10 [00:27<00:00,  2.76s/it]\n",
      "100%|██████████| 10/10 [00:26<00:00,  2.61s/it]\n",
      "100%|██████████| 10/10 [00:24<00:00,  2.47s/it]\n",
      "100%|██████████| 10/10 [00:23<00:00,  2.32s/it]\n",
      "100%|██████████| 10/10 [00:28<00:00,  2.81s/it]\n",
      "100%|██████████| 10/10 [00:27<00:00,  2.80s/it]\n",
      "100%|██████████| 10/10 [00:26<00:00,  2.69s/it]\n",
      "100%|██████████| 10/10 [00:27<00:00,  2.75s/it]\n",
      " 14%|█▍        | 3/21 [16:48<1:36:02, 320.17s/it]"
     ]
    },
    {
     "name": "stdout",
     "output_type": "stream",
     "text": [
      "/data/monkey-pickles/Chewie_CO_VR_2016-09-14_within_decoding.p\n"
     ]
    },
    {
     "name": "stderr",
     "output_type": "stream",
     "text": [
      "100%|██████████| 10/10 [00:21<00:00,  2.10s/it]\n",
      "100%|██████████| 10/10 [00:20<00:00,  2.07s/it]\n",
      "100%|██████████| 10/10 [00:20<00:00,  2.05s/it]\n",
      "100%|██████████| 10/10 [00:21<00:00,  2.11s/it]\n",
      "100%|██████████| 10/10 [00:19<00:00,  1.91s/it]\n",
      "100%|██████████| 10/10 [00:20<00:00,  2.04s/it]\n",
      "100%|██████████| 10/10 [00:21<00:00,  2.13s/it]\n",
      "100%|██████████| 10/10 [00:21<00:00,  2.13s/it]\n",
      "100%|██████████| 10/10 [00:20<00:00,  2.06s/it]\n",
      "100%|██████████| 10/10 [00:20<00:00,  2.07s/it]\n",
      " 19%|█▉        | 4/21 [20:16<1:18:08, 275.79s/it]"
     ]
    },
    {
     "name": "stdout",
     "output_type": "stream",
     "text": [
      "/data/monkey-pickles/Chewie_CO_FF_2016-09-21_within_decoding.p\n"
     ]
    },
    {
     "name": "stderr",
     "output_type": "stream",
     "text": [
      "100%|██████████| 10/10 [00:18<00:00,  1.87s/it]\n",
      "100%|██████████| 10/10 [00:19<00:00,  1.94s/it]\n",
      "100%|██████████| 10/10 [00:18<00:00,  1.89s/it]\n",
      "100%|██████████| 10/10 [00:18<00:00,  1.84s/it]\n",
      "100%|██████████| 10/10 [00:19<00:00,  1.93s/it]\n",
      "100%|██████████| 10/10 [00:19<00:00,  1.95s/it]\n",
      "100%|██████████| 10/10 [00:18<00:00,  1.87s/it]\n",
      "100%|██████████| 10/10 [00:18<00:00,  1.86s/it]\n",
      "100%|██████████| 10/10 [00:18<00:00,  1.85s/it]\n",
      "100%|██████████| 10/10 [00:18<00:00,  1.84s/it]\n",
      " 24%|██▍       | 5/21 [23:26<1:05:14, 244.66s/it]"
     ]
    },
    {
     "name": "stdout",
     "output_type": "stream",
     "text": [
      "/data/monkey-pickles/Chewie_CO_FF_2016-09-19_within_decoding.p\n"
     ]
    },
    {
     "name": "stderr",
     "output_type": "stream",
     "text": [
      "100%|██████████| 10/10 [00:22<00:00,  2.29s/it]\n",
      "100%|██████████| 10/10 [00:23<00:00,  2.38s/it]\n",
      "100%|██████████| 10/10 [00:23<00:00,  2.31s/it]\n",
      "100%|██████████| 10/10 [00:22<00:00,  2.26s/it]\n",
      "100%|██████████| 10/10 [00:23<00:00,  2.33s/it]\n",
      "100%|██████████| 10/10 [00:22<00:00,  2.24s/it]\n",
      "100%|██████████| 10/10 [00:21<00:00,  2.20s/it]\n",
      "100%|██████████| 10/10 [00:23<00:00,  2.37s/it]\n",
      "100%|██████████| 10/10 [00:22<00:00,  2.25s/it]\n",
      "100%|██████████| 10/10 [00:24<00:00,  2.43s/it]\n",
      " 29%|██▊       | 6/21 [27:17<1:00:02, 240.20s/it]"
     ]
    },
    {
     "name": "stdout",
     "output_type": "stream",
     "text": [
      "/data/monkey-pickles/Chewie_CO_FF_2016-09-15_within_decoding.p\n"
     ]
    },
    {
     "name": "stderr",
     "output_type": "stream",
     "text": [
      "100%|██████████| 10/10 [00:25<00:00,  2.56s/it]\n",
      "100%|██████████| 10/10 [00:25<00:00,  2.56s/it]\n",
      "100%|██████████| 10/10 [00:24<00:00,  2.49s/it]\n",
      "100%|██████████| 10/10 [00:24<00:00,  2.46s/it]\n",
      "100%|██████████| 10/10 [00:25<00:00,  2.55s/it]\n",
      "100%|██████████| 10/10 [00:25<00:00,  2.52s/it]\n",
      "100%|██████████| 10/10 [00:23<00:00,  2.36s/it]\n",
      "100%|██████████| 10/10 [00:24<00:00,  2.41s/it]\n",
      "100%|██████████| 10/10 [00:25<00:00,  2.53s/it]\n",
      "100%|██████████| 10/10 [00:23<00:00,  2.34s/it]\n",
      " 33%|███▎      | 7/21 [31:26<56:41, 243.00s/it]  "
     ]
    },
    {
     "name": "stdout",
     "output_type": "stream",
     "text": [
      "/data/monkey-pickles/Chewie_CO_CS_2016-10-14_within_decoding.p\n"
     ]
    },
    {
     "name": "stderr",
     "output_type": "stream",
     "text": [
      "100%|██████████| 10/10 [01:42<00:00, 10.22s/it]\n",
      "100%|██████████| 10/10 [01:35<00:00,  9.52s/it]\n",
      "100%|██████████| 10/10 [01:41<00:00, 10.13s/it]\n",
      "100%|██████████| 10/10 [01:40<00:00, 10.08s/it]\n",
      "100%|██████████| 10/10 [01:39<00:00,  9.97s/it]\n",
      "100%|██████████| 10/10 [01:42<00:00, 10.29s/it]\n",
      "100%|██████████| 10/10 [01:39<00:00,  9.96s/it]\n",
      "100%|██████████| 10/10 [01:42<00:00, 10.29s/it]\n",
      "100%|██████████| 10/10 [01:39<00:00,  9.90s/it]\n",
      "100%|██████████| 10/10 [01:33<00:00,  9.32s/it]\n",
      " 38%|███▊      | 8/21 [48:06<1:44:52, 484.04s/it]"
     ]
    },
    {
     "name": "stdout",
     "output_type": "stream",
     "text": [
      "/data/monkey-pickles/Chewie_CO_CS_2015-03-12_within_decoding.p\n"
     ]
    },
    {
     "name": "stderr",
     "output_type": "stream",
     "text": [
      "100%|██████████| 10/10 [02:01<00:00, 12.18s/it]\n",
      "100%|██████████| 10/10 [02:03<00:00, 12.37s/it]\n",
      "100%|██████████| 10/10 [01:56<00:00, 11.67s/it]\n",
      "100%|██████████| 10/10 [02:00<00:00, 12.09s/it]\n",
      "100%|██████████| 10/10 [02:00<00:00, 12.07s/it]\n",
      "100%|██████████| 10/10 [01:59<00:00, 11.96s/it]\n",
      "100%|██████████| 10/10 [02:01<00:00, 12.12s/it]\n",
      "100%|██████████| 10/10 [02:03<00:00, 12.35s/it]\n",
      "100%|██████████| 10/10 [02:01<00:00, 12.20s/it]\n",
      "100%|██████████| 10/10 [02:00<00:00, 12.03s/it]\n",
      " 43%|████▎     | 9/21 [1:08:19<2:22:24, 712.08s/it]"
     ]
    },
    {
     "name": "stdout",
     "output_type": "stream",
     "text": [
      "/data/monkey-pickles/Chewie_CO_CS_2015-03-19_within_decoding.p\n"
     ]
    },
    {
     "name": "stderr",
     "output_type": "stream",
     "text": [
      "100%|██████████| 10/10 [02:23<00:00, 14.31s/it]\n",
      "100%|██████████| 10/10 [02:24<00:00, 14.41s/it]\n",
      "100%|██████████| 10/10 [02:20<00:00, 14.08s/it]\n",
      "100%|██████████| 10/10 [02:21<00:00, 14.17s/it]\n",
      "100%|██████████| 10/10 [02:25<00:00, 14.52s/it]\n",
      "100%|██████████| 10/10 [02:22<00:00, 14.24s/it]\n",
      "100%|██████████| 10/10 [02:17<00:00, 13.75s/it]\n",
      "100%|██████████| 10/10 [02:23<00:00, 14.36s/it]\n",
      "100%|██████████| 10/10 [02:23<00:00, 14.32s/it]\n",
      "100%|██████████| 10/10 [02:25<00:00, 14.56s/it]\n",
      " 48%|████▊     | 10/21 [1:32:10<2:51:13, 933.93s/it]"
     ]
    },
    {
     "name": "stdout",
     "output_type": "stream",
     "text": [
      "/data/monkey-pickles/Chewie_CO_CS_2015-03-11_within_decoding.p\n"
     ]
    },
    {
     "name": "stderr",
     "output_type": "stream",
     "text": [
      "100%|██████████| 10/10 [02:03<00:00, 12.36s/it]\n",
      "100%|██████████| 10/10 [02:04<00:00, 12.43s/it]\n",
      "100%|██████████| 10/10 [01:59<00:00, 11.97s/it]\n",
      "100%|██████████| 10/10 [02:04<00:00, 12.40s/it]\n",
      "100%|██████████| 10/10 [02:03<00:00, 12.40s/it]\n",
      "100%|██████████| 10/10 [02:02<00:00, 12.23s/it]\n",
      "100%|██████████| 10/10 [02:04<00:00, 12.41s/it]\n",
      "100%|██████████| 10/10 [02:05<00:00, 12.60s/it]\n",
      "100%|██████████| 10/10 [02:04<00:00, 12.42s/it]\n",
      "100%|██████████| 10/10 [02:05<00:00, 12.57s/it]\n",
      " 52%|█████▏    | 11/21 [1:52:51<2:51:19, 1027.98s/it]"
     ]
    },
    {
     "name": "stdout",
     "output_type": "stream",
     "text": [
      "/data/monkey-pickles/Chewie_CO_CS_2015-03-13_within_decoding.p\n"
     ]
    },
    {
     "name": "stderr",
     "output_type": "stream",
     "text": [
      "100%|██████████| 10/10 [02:17<00:00, 13.76s/it]\n",
      "100%|██████████| 10/10 [02:20<00:00, 14.08s/it]\n",
      "100%|██████████| 10/10 [02:20<00:00, 14.02s/it]\n",
      "100%|██████████| 10/10 [02:16<00:00, 13.66s/it]\n",
      "100%|██████████| 10/10 [02:13<00:00, 13.38s/it]\n",
      "100%|██████████| 10/10 [02:21<00:00, 14.13s/it]\n",
      "100%|██████████| 10/10 [02:13<00:00, 13.39s/it]\n",
      "100%|██████████| 10/10 [02:20<00:00, 14.03s/it]\n",
      "100%|██████████| 10/10 [02:21<00:00, 14.10s/it]\n",
      "100%|██████████| 10/10 [02:15<00:00, 13.56s/it]\n",
      " 57%|█████▋    | 12/21 [2:15:56<2:50:28, 1136.47s/it]"
     ]
    },
    {
     "name": "stdout",
     "output_type": "stream",
     "text": [
      "/data/monkey-pickles/Mihili_CO_FF_2014-02-17_within_decoding.p\n"
     ]
    },
    {
     "name": "stderr",
     "output_type": "stream",
     "text": [
      "100%|██████████| 10/10 [00:25<00:00,  2.59s/it]\n",
      "100%|██████████| 10/10 [00:25<00:00,  2.57s/it]\n",
      "100%|██████████| 10/10 [00:25<00:00,  2.58s/it]\n",
      "100%|██████████| 10/10 [00:23<00:00,  2.38s/it]\n",
      "100%|██████████| 10/10 [00:26<00:00,  2.60s/it]\n",
      "100%|██████████| 10/10 [00:25<00:00,  2.50s/it]\n",
      "100%|██████████| 10/10 [00:26<00:00,  2.61s/it]\n",
      "100%|██████████| 10/10 [00:24<00:00,  2.43s/it]\n",
      "100%|██████████| 10/10 [00:24<00:00,  2.40s/it]\n",
      "100%|██████████| 10/10 [00:25<00:00,  2.59s/it]\n",
      " 62%|██████▏   | 13/21 [2:20:09<1:55:51, 868.98s/it] "
     ]
    },
    {
     "name": "stdout",
     "output_type": "stream",
     "text": [
      "/data/monkey-pickles/Mihili_CO_VR_2014-03-03_within_decoding.p\n"
     ]
    },
    {
     "name": "stderr",
     "output_type": "stream",
     "text": [
      "100%|██████████| 10/10 [00:22<00:00,  2.22s/it]\n",
      "100%|██████████| 10/10 [00:24<00:00,  2.43s/it]\n",
      "100%|██████████| 10/10 [00:24<00:00,  2.49s/it]\n",
      "100%|██████████| 10/10 [00:24<00:00,  2.48s/it]\n",
      "100%|██████████| 10/10 [00:24<00:00,  2.42s/it]\n",
      "100%|██████████| 10/10 [00:23<00:00,  2.32s/it]\n",
      "100%|██████████| 10/10 [00:24<00:00,  2.41s/it]\n",
      "100%|██████████| 10/10 [00:22<00:00,  2.23s/it]\n",
      "100%|██████████| 10/10 [00:23<00:00,  2.40s/it]\n",
      "100%|██████████| 10/10 [00:24<00:00,  2.46s/it]\n",
      " 67%|██████▋   | 14/21 [2:24:09<1:19:11, 678.83s/it]"
     ]
    },
    {
     "name": "stdout",
     "output_type": "stream",
     "text": [
      "/data/monkey-pickles/Mihili_CO_CS_2014-09-29_within_decoding.p\n"
     ]
    },
    {
     "name": "stderr",
     "output_type": "stream",
     "text": [
      "100%|██████████| 10/10 [01:37<00:00,  9.80s/it]\n",
      "100%|██████████| 10/10 [01:41<00:00, 10.17s/it]\n",
      "100%|██████████| 10/10 [01:38<00:00,  9.87s/it]\n",
      "100%|██████████| 10/10 [01:36<00:00,  9.66s/it]\n",
      "100%|██████████| 10/10 [01:42<00:00, 10.26s/it]\n",
      "100%|██████████| 10/10 [01:35<00:00,  9.53s/it]\n",
      "100%|██████████| 10/10 [01:39<00:00,  9.96s/it]\n",
      "100%|██████████| 10/10 [01:38<00:00,  9.84s/it]\n",
      "100%|██████████| 10/10 [01:40<00:00, 10.06s/it]\n",
      "100%|██████████| 10/10 [01:32<00:00,  9.27s/it]\n",
      " 71%|███████▏  | 15/21 [2:40:36<1:17:10, 771.78s/it]"
     ]
    },
    {
     "name": "stdout",
     "output_type": "stream",
     "text": [
      "/data/monkey-pickles/Mihili_CO_VR_2014-03-04_within_decoding.p\n"
     ]
    },
    {
     "name": "stderr",
     "output_type": "stream",
     "text": [
      "100%|██████████| 10/10 [00:25<00:00,  2.54s/it]\n",
      "100%|██████████| 10/10 [00:25<00:00,  2.53s/it]\n",
      "100%|██████████| 10/10 [00:23<00:00,  2.39s/it]\n",
      "100%|██████████| 10/10 [00:24<00:00,  2.46s/it]\n",
      "100%|██████████| 10/10 [00:25<00:00,  2.53s/it]\n",
      "100%|██████████| 10/10 [00:24<00:00,  2.49s/it]\n",
      "100%|██████████| 10/10 [00:24<00:00,  2.42s/it]\n",
      "100%|██████████| 10/10 [00:24<00:00,  2.49s/it]\n",
      "100%|██████████| 10/10 [00:25<00:00,  2.59s/it]\n",
      "100%|██████████| 10/10 [00:23<00:00,  2.30s/it]\n",
      " 76%|███████▌  | 16/21 [2:44:45<51:11, 614.24s/it]  "
     ]
    },
    {
     "name": "stdout",
     "output_type": "stream",
     "text": [
      "/data/monkey-pickles/Mihili_CO_VR_2014-03-06_within_decoding.p\n"
     ]
    },
    {
     "name": "stderr",
     "output_type": "stream",
     "text": [
      "100%|██████████| 10/10 [00:27<00:00,  2.80s/it]\n",
      "100%|██████████| 10/10 [00:27<00:00,  2.77s/it]\n",
      "100%|██████████| 10/10 [00:27<00:00,  2.74s/it]\n",
      "100%|██████████| 10/10 [00:27<00:00,  2.78s/it]\n",
      "100%|██████████| 10/10 [00:26<00:00,  2.62s/it]\n",
      "100%|██████████| 10/10 [00:25<00:00,  2.59s/it]\n",
      "100%|██████████| 10/10 [00:27<00:00,  2.79s/it]\n",
      "100%|██████████| 10/10 [00:27<00:00,  2.79s/it]\n",
      "100%|██████████| 10/10 [00:27<00:00,  2.77s/it]\n",
      "100%|██████████| 10/10 [00:28<00:00,  2.81s/it]\n",
      " 81%|████████  | 17/21 [2:49:20<34:09, 512.45s/it]"
     ]
    },
    {
     "name": "stdout",
     "output_type": "stream",
     "text": [
      "/data/monkey-pickles/Mihili_CO_FF_2014-02-18_within_decoding.p\n"
     ]
    },
    {
     "name": "stderr",
     "output_type": "stream",
     "text": [
      "100%|██████████| 10/10 [00:29<00:00,  2.93s/it]\n",
      "100%|██████████| 10/10 [00:28<00:00,  2.88s/it]\n",
      "100%|██████████| 10/10 [00:27<00:00,  2.76s/it]\n",
      "100%|██████████| 10/10 [00:27<00:00,  2.72s/it]\n",
      "100%|██████████| 10/10 [00:28<00:00,  2.89s/it]\n",
      "100%|██████████| 10/10 [00:28<00:00,  2.86s/it]\n",
      "100%|██████████| 10/10 [00:29<00:00,  2.94s/it]\n",
      "100%|██████████| 10/10 [00:26<00:00,  2.68s/it]\n",
      "100%|██████████| 10/10 [00:27<00:00,  2.73s/it]\n",
      "100%|██████████| 10/10 [00:28<00:00,  2.86s/it]\n",
      " 86%|████████▌ | 18/21 [2:54:04<22:11, 443.69s/it]"
     ]
    },
    {
     "name": "stdout",
     "output_type": "stream",
     "text": [
      "/data/monkey-pickles/Jaco_CO_CS_2016-02-04_within_decoding.p\n"
     ]
    },
    {
     "name": "stderr",
     "output_type": "stream",
     "text": [
      "100%|██████████| 10/10 [00:34<00:00,  3.44s/it]\n",
      "100%|██████████| 10/10 [00:33<00:00,  3.38s/it]\n",
      "100%|██████████| 10/10 [00:34<00:00,  3.49s/it]\n",
      "100%|██████████| 10/10 [00:34<00:00,  3.41s/it]\n",
      "100%|██████████| 10/10 [00:32<00:00,  3.26s/it]\n",
      "100%|██████████| 10/10 [00:34<00:00,  3.42s/it]\n",
      "100%|██████████| 10/10 [00:34<00:00,  3.49s/it]\n",
      "100%|██████████| 10/10 [00:34<00:00,  3.48s/it]\n",
      "100%|██████████| 10/10 [00:34<00:00,  3.46s/it]\n",
      "100%|██████████| 10/10 [00:35<00:00,  3.53s/it]\n",
      " 90%|█████████ | 19/21 [2:59:49<13:47, 413.95s/it]"
     ]
    },
    {
     "name": "stdout",
     "output_type": "stream",
     "text": [
      "/data/monkey-pickles/Jaco_CO_CS_2016-02-17_within_decoding.p\n"
     ]
    },
    {
     "name": "stderr",
     "output_type": "stream",
     "text": [
      "100%|██████████| 10/10 [00:22<00:00,  2.22s/it]\n",
      "100%|██████████| 10/10 [00:23<00:00,  2.36s/it]\n",
      "100%|██████████| 10/10 [00:22<00:00,  2.26s/it]\n",
      "100%|██████████| 10/10 [00:23<00:00,  2.36s/it]\n",
      "100%|██████████| 10/10 [00:22<00:00,  2.30s/it]\n",
      "100%|██████████| 10/10 [00:21<00:00,  2.19s/it]\n",
      "100%|██████████| 10/10 [00:21<00:00,  2.15s/it]\n",
      "100%|██████████| 10/10 [00:23<00:00,  2.34s/it]\n",
      "100%|██████████| 10/10 [00:21<00:00,  2.16s/it]\n",
      "100%|██████████| 10/10 [00:21<00:00,  2.19s/it]\n",
      " 95%|█████████▌| 20/21 [3:03:35<05:57, 357.53s/it]"
     ]
    },
    {
     "name": "stdout",
     "output_type": "stream",
     "text": [
      "/data/monkey-pickles/Jaco_CO_CS_2016-01-28_within_decoding.p\n"
     ]
    },
    {
     "name": "stderr",
     "output_type": "stream",
     "text": [
      "100%|██████████| 10/10 [00:18<00:00,  1.85s/it]\n",
      "100%|██████████| 10/10 [00:18<00:00,  1.88s/it]\n",
      "100%|██████████| 10/10 [00:18<00:00,  1.82s/it]\n",
      "100%|██████████| 10/10 [00:18<00:00,  1.85s/it]\n",
      "100%|██████████| 10/10 [00:17<00:00,  1.79s/it]\n",
      "100%|██████████| 10/10 [00:18<00:00,  1.89s/it]\n",
      "100%|██████████| 10/10 [00:15<00:00,  1.57s/it]\n",
      "100%|██████████| 10/10 [00:17<00:00,  1.79s/it]\n",
      "100%|██████████| 10/10 [00:19<00:00,  1.90s/it]\n",
      "100%|██████████| 10/10 [00:16<00:00,  1.63s/it]\n",
      "100%|██████████| 21/21 [3:06:35<00:00, 533.14s/it]\n",
      "  0%|          | 0/126 [00:00<?, ?it/s]"
     ]
    },
    {
     "name": "stdout",
     "output_type": "stream",
     "text": [
      "/data/monkey-pickles/Chewie_CO_CS_2016-10-21_Mihili_CO_FF_2014-02-17_across_aligned_decoding.p\n"
     ]
    },
    {
     "name": "stderr",
     "output_type": "stream",
     "text": [
      "100%|██████████| 10/10 [00:27<00:00,  2.76s/it]\n",
      "  1%|          | 1/126 [00:28<59:32, 28.58s/it]"
     ]
    },
    {
     "name": "stdout",
     "output_type": "stream",
     "text": [
      "/data/monkey-pickles/Chewie_CO_CS_2016-10-21_Mihili_CO_VR_2014-03-03_across_aligned_decoding.p\n"
     ]
    },
    {
     "name": "stderr",
     "output_type": "stream",
     "text": [
      "100%|██████████| 10/10 [00:26<00:00,  2.63s/it]\n",
      "  2%|▏         | 2/126 [00:55<57:19, 27.74s/it]"
     ]
    },
    {
     "name": "stdout",
     "output_type": "stream",
     "text": [
      "/data/monkey-pickles/Chewie_CO_CS_2016-10-21_Mihili_CO_CS_2014-09-29_across_aligned_decoding.p\n"
     ]
    },
    {
     "name": "stderr",
     "output_type": "stream",
     "text": [
      "100%|██████████| 10/10 [00:41<00:00,  4.12s/it]\n",
      "  2%|▏         | 3/126 [01:38<1:10:49, 34.55s/it]"
     ]
    },
    {
     "name": "stdout",
     "output_type": "stream",
     "text": [
      "/data/monkey-pickles/Chewie_CO_CS_2016-10-21_Mihili_CO_VR_2014-03-04_across_aligned_decoding.p\n"
     ]
    },
    {
     "name": "stderr",
     "output_type": "stream",
     "text": [
      "100%|██████████| 10/10 [00:27<00:00,  2.72s/it]\n",
      "  3%|▎         | 4/126 [02:06<1:05:03, 31.99s/it]"
     ]
    },
    {
     "name": "stdout",
     "output_type": "stream",
     "text": [
      "/data/monkey-pickles/Chewie_CO_CS_2016-10-21_Mihili_CO_VR_2014-03-06_across_aligned_decoding.p\n"
     ]
    },
    {
     "name": "stderr",
     "output_type": "stream",
     "text": [
      "100%|██████████| 10/10 [00:29<00:00,  2.98s/it]\n",
      "  4%|▍         | 5/126 [02:37<1:03:37, 31.55s/it]"
     ]
    },
    {
     "name": "stdout",
     "output_type": "stream",
     "text": [
      "/data/monkey-pickles/Chewie_CO_CS_2016-10-21_Mihili_CO_FF_2014-02-18_across_aligned_decoding.p\n"
     ]
    },
    {
     "name": "stderr",
     "output_type": "stream",
     "text": [
      "100%|██████████| 10/10 [00:31<00:00,  3.13s/it]\n",
      "  5%|▍         | 6/126 [03:09<1:03:35, 31.79s/it]"
     ]
    },
    {
     "name": "stdout",
     "output_type": "stream",
     "text": [
      "/data/monkey-pickles/Chewie_CO_CS_2016-10-21_Jaco_CO_CS_2016-02-04_across_aligned_decoding.p\n"
     ]
    },
    {
     "name": "stderr",
     "output_type": "stream",
     "text": [
      "100%|██████████| 10/10 [00:36<00:00,  3.64s/it]\n",
      "  6%|▌         | 7/126 [03:46<1:06:41, 33.62s/it]"
     ]
    },
    {
     "name": "stdout",
     "output_type": "stream",
     "text": [
      "/data/monkey-pickles/Chewie_CO_CS_2016-10-21_Jaco_CO_CS_2016-02-17_across_aligned_decoding.p\n"
     ]
    },
    {
     "name": "stderr",
     "output_type": "stream",
     "text": [
      "100%|██████████| 10/10 [00:23<00:00,  2.36s/it]\n",
      "  6%|▋         | 8/126 [04:11<1:00:22, 30.70s/it]"
     ]
    },
    {
     "name": "stdout",
     "output_type": "stream",
     "text": [
      "/data/monkey-pickles/Chewie_CO_CS_2016-10-21_Jaco_CO_CS_2016-01-28_across_aligned_decoding.p\n"
     ]
    },
    {
     "name": "stderr",
     "output_type": "stream",
     "text": [
      "100%|██████████| 10/10 [00:18<00:00,  1.89s/it]\n",
      "  7%|▋         | 9/126 [04:30<53:07, 27.24s/it]  "
     ]
    },
    {
     "name": "stdout",
     "output_type": "stream",
     "text": [
      "/data/monkey-pickles/Chewie_CO_FF_2016-10-13_Mihili_CO_FF_2014-02-17_across_aligned_decoding.p\n"
     ]
    },
    {
     "name": "stderr",
     "output_type": "stream",
     "text": [
      "100%|██████████| 10/10 [00:25<00:00,  2.56s/it]\n",
      "  8%|▊         | 10/126 [04:57<52:13, 27.02s/it]"
     ]
    },
    {
     "name": "stdout",
     "output_type": "stream",
     "text": [
      "/data/monkey-pickles/Chewie_CO_FF_2016-10-13_Mihili_CO_VR_2014-03-03_across_aligned_decoding.p\n"
     ]
    },
    {
     "name": "stderr",
     "output_type": "stream",
     "text": [
      "100%|██████████| 10/10 [00:25<00:00,  2.55s/it]\n",
      "  9%|▊         | 11/126 [05:23<51:20, 26.79s/it]"
     ]
    },
    {
     "name": "stdout",
     "output_type": "stream",
     "text": [
      "/data/monkey-pickles/Chewie_CO_FF_2016-10-13_Mihili_CO_CS_2014-09-29_across_aligned_decoding.p\n"
     ]
    },
    {
     "name": "stderr",
     "output_type": "stream",
     "text": [
      "100%|██████████| 10/10 [00:35<00:00,  3.54s/it]\n",
      " 10%|▉         | 12/126 [06:00<56:38, 29.81s/it]"
     ]
    },
    {
     "name": "stdout",
     "output_type": "stream",
     "text": [
      "/data/monkey-pickles/Chewie_CO_FF_2016-10-13_Mihili_CO_VR_2014-03-04_across_aligned_decoding.p\n"
     ]
    },
    {
     "name": "stderr",
     "output_type": "stream",
     "text": [
      "100%|██████████| 10/10 [00:28<00:00,  2.89s/it]\n",
      " 10%|█         | 13/126 [06:30<56:07, 29.80s/it]"
     ]
    },
    {
     "name": "stdout",
     "output_type": "stream",
     "text": [
      "/data/monkey-pickles/Chewie_CO_FF_2016-10-13_Mihili_CO_VR_2014-03-06_across_aligned_decoding.p\n"
     ]
    },
    {
     "name": "stderr",
     "output_type": "stream",
     "text": [
      "100%|██████████| 10/10 [00:30<00:00,  3.09s/it]\n",
      " 11%|█         | 14/126 [07:02<56:46, 30.41s/it]"
     ]
    },
    {
     "name": "stdout",
     "output_type": "stream",
     "text": [
      "/data/monkey-pickles/Chewie_CO_FF_2016-10-13_Mihili_CO_FF_2014-02-18_across_aligned_decoding.p\n"
     ]
    },
    {
     "name": "stderr",
     "output_type": "stream",
     "text": [
      "100%|██████████| 10/10 [00:30<00:00,  3.08s/it]\n",
      " 12%|█▏        | 15/126 [07:33<57:00, 30.81s/it]"
     ]
    },
    {
     "name": "stdout",
     "output_type": "stream",
     "text": [
      "/data/monkey-pickles/Chewie_CO_FF_2016-10-13_Jaco_CO_CS_2016-02-04_across_aligned_decoding.p\n"
     ]
    },
    {
     "name": "stderr",
     "output_type": "stream",
     "text": [
      "100%|██████████| 10/10 [00:35<00:00,  3.50s/it]\n",
      " 13%|█▎        | 16/126 [08:09<59:19, 32.36s/it]"
     ]
    },
    {
     "name": "stdout",
     "output_type": "stream",
     "text": [
      "/data/monkey-pickles/Chewie_CO_FF_2016-10-13_Jaco_CO_CS_2016-02-17_across_aligned_decoding.p\n"
     ]
    },
    {
     "name": "stderr",
     "output_type": "stream",
     "text": [
      "100%|██████████| 10/10 [00:25<00:00,  2.56s/it]\n",
      " 13%|█▎        | 17/126 [08:36<55:29, 30.55s/it]"
     ]
    },
    {
     "name": "stdout",
     "output_type": "stream",
     "text": [
      "/data/monkey-pickles/Chewie_CO_FF_2016-10-13_Jaco_CO_CS_2016-01-28_across_aligned_decoding.p\n"
     ]
    },
    {
     "name": "stderr",
     "output_type": "stream",
     "text": [
      "100%|██████████| 10/10 [00:19<00:00,  1.98s/it]\n",
      " 14%|█▍        | 18/126 [08:56<49:32, 27.53s/it]"
     ]
    },
    {
     "name": "stdout",
     "output_type": "stream",
     "text": [
      "/data/monkey-pickles/Chewie_CO_FF_2016-10-05_Mihili_CO_FF_2014-02-17_across_aligned_decoding.p\n"
     ]
    },
    {
     "name": "stderr",
     "output_type": "stream",
     "text": [
      "100%|██████████| 10/10 [00:27<00:00,  2.75s/it]\n",
      " 15%|█▌        | 19/126 [09:24<49:32, 27.78s/it]"
     ]
    },
    {
     "name": "stdout",
     "output_type": "stream",
     "text": [
      "/data/monkey-pickles/Chewie_CO_FF_2016-10-05_Mihili_CO_VR_2014-03-03_across_aligned_decoding.p\n"
     ]
    },
    {
     "name": "stderr",
     "output_type": "stream",
     "text": [
      "100%|██████████| 10/10 [00:27<00:00,  2.72s/it]\n",
      " 16%|█▌        | 20/126 [09:52<49:11, 27.84s/it]"
     ]
    },
    {
     "name": "stdout",
     "output_type": "stream",
     "text": [
      "/data/monkey-pickles/Chewie_CO_FF_2016-10-05_Mihili_CO_CS_2014-09-29_across_aligned_decoding.p\n"
     ]
    },
    {
     "name": "stderr",
     "output_type": "stream",
     "text": [
      "100%|██████████| 10/10 [00:28<00:00,  2.89s/it]\n",
      " 17%|█▋        | 21/126 [10:23<49:55, 28.53s/it]"
     ]
    },
    {
     "name": "stdout",
     "output_type": "stream",
     "text": [
      "/data/monkey-pickles/Chewie_CO_FF_2016-10-05_Mihili_CO_VR_2014-03-04_across_aligned_decoding.p\n"
     ]
    },
    {
     "name": "stderr",
     "output_type": "stream",
     "text": [
      "100%|██████████| 10/10 [00:28<00:00,  2.84s/it]\n",
      " 17%|█▋        | 22/126 [10:52<49:51, 28.77s/it]"
     ]
    },
    {
     "name": "stdout",
     "output_type": "stream",
     "text": [
      "/data/monkey-pickles/Chewie_CO_FF_2016-10-05_Mihili_CO_VR_2014-03-06_across_aligned_decoding.p\n"
     ]
    },
    {
     "name": "stderr",
     "output_type": "stream",
     "text": [
      "100%|██████████| 10/10 [00:30<00:00,  3.02s/it]\n",
      " 18%|█▊        | 23/126 [11:23<50:34, 29.46s/it]"
     ]
    },
    {
     "name": "stdout",
     "output_type": "stream",
     "text": [
      "/data/monkey-pickles/Chewie_CO_FF_2016-10-05_Mihili_CO_FF_2014-02-18_across_aligned_decoding.p\n"
     ]
    },
    {
     "name": "stderr",
     "output_type": "stream",
     "text": [
      "100%|██████████| 10/10 [00:30<00:00,  3.02s/it]\n",
      " 19%|█▉        | 24/126 [11:54<50:54, 29.94s/it]"
     ]
    },
    {
     "name": "stdout",
     "output_type": "stream",
     "text": [
      "/data/monkey-pickles/Chewie_CO_FF_2016-10-05_Jaco_CO_CS_2016-02-04_across_aligned_decoding.p\n"
     ]
    },
    {
     "name": "stderr",
     "output_type": "stream",
     "text": [
      "100%|██████████| 10/10 [00:29<00:00,  2.98s/it]\n",
      " 20%|█▉        | 25/126 [12:25<50:46, 30.17s/it]"
     ]
    },
    {
     "name": "stdout",
     "output_type": "stream",
     "text": [
      "/data/monkey-pickles/Chewie_CO_FF_2016-10-05_Jaco_CO_CS_2016-02-17_across_aligned_decoding.p\n"
     ]
    },
    {
     "name": "stderr",
     "output_type": "stream",
     "text": [
      "100%|██████████| 10/10 [00:23<00:00,  2.39s/it]\n",
      " 21%|██        | 26/126 [12:49<47:29, 28.50s/it]"
     ]
    },
    {
     "name": "stdout",
     "output_type": "stream",
     "text": [
      "/data/monkey-pickles/Chewie_CO_FF_2016-10-05_Jaco_CO_CS_2016-01-28_across_aligned_decoding.p\n"
     ]
    },
    {
     "name": "stderr",
     "output_type": "stream",
     "text": [
      "100%|██████████| 10/10 [00:20<00:00,  2.06s/it]\n",
      " 21%|██▏       | 27/126 [13:11<43:26, 26.33s/it]"
     ]
    },
    {
     "name": "stdout",
     "output_type": "stream",
     "text": [
      "/data/monkey-pickles/Chewie_CO_VR_2016-09-14_Mihili_CO_FF_2014-02-17_across_aligned_decoding.p\n"
     ]
    },
    {
     "name": "stderr",
     "output_type": "stream",
     "text": [
      "100%|██████████| 10/10 [00:21<00:00,  2.15s/it]\n",
      " 22%|██▏       | 28/126 [13:33<41:04, 25.15s/it]"
     ]
    },
    {
     "name": "stdout",
     "output_type": "stream",
     "text": [
      "/data/monkey-pickles/Chewie_CO_VR_2016-09-14_Mihili_CO_VR_2014-03-03_across_aligned_decoding.p\n"
     ]
    },
    {
     "name": "stderr",
     "output_type": "stream",
     "text": [
      "100%|██████████| 10/10 [00:21<00:00,  2.17s/it]\n",
      " 23%|██▎       | 29/126 [13:55<39:22, 24.35s/it]"
     ]
    },
    {
     "name": "stdout",
     "output_type": "stream",
     "text": [
      "/data/monkey-pickles/Chewie_CO_VR_2016-09-14_Mihili_CO_CS_2014-09-29_across_aligned_decoding.p\n"
     ]
    },
    {
     "name": "stderr",
     "output_type": "stream",
     "text": [
      "100%|██████████| 10/10 [00:21<00:00,  2.16s/it]\n",
      " 24%|██▍       | 30/126 [14:18<38:10, 23.86s/it]"
     ]
    },
    {
     "name": "stdout",
     "output_type": "stream",
     "text": [
      "/data/monkey-pickles/Chewie_CO_VR_2016-09-14_Mihili_CO_VR_2014-03-04_across_aligned_decoding.p\n"
     ]
    },
    {
     "name": "stderr",
     "output_type": "stream",
     "text": [
      "100%|██████████| 10/10 [00:21<00:00,  2.20s/it]\n",
      " 25%|██▍       | 31/126 [14:41<37:14, 23.53s/it]"
     ]
    },
    {
     "name": "stdout",
     "output_type": "stream",
     "text": [
      "/data/monkey-pickles/Chewie_CO_VR_2016-09-14_Mihili_CO_VR_2014-03-06_across_aligned_decoding.p\n"
     ]
    },
    {
     "name": "stderr",
     "output_type": "stream",
     "text": [
      "100%|██████████| 10/10 [00:22<00:00,  2.23s/it]\n",
      " 25%|██▌       | 32/126 [15:04<36:37, 23.38s/it]"
     ]
    },
    {
     "name": "stdout",
     "output_type": "stream",
     "text": [
      "/data/monkey-pickles/Chewie_CO_VR_2016-09-14_Mihili_CO_FF_2014-02-18_across_aligned_decoding.p\n"
     ]
    },
    {
     "name": "stderr",
     "output_type": "stream",
     "text": [
      "100%|██████████| 10/10 [00:22<00:00,  2.22s/it]\n",
      " 26%|██▌       | 33/126 [15:27<36:01, 23.25s/it]"
     ]
    },
    {
     "name": "stdout",
     "output_type": "stream",
     "text": [
      "/data/monkey-pickles/Chewie_CO_VR_2016-09-14_Jaco_CO_CS_2016-02-04_across_aligned_decoding.p\n"
     ]
    },
    {
     "name": "stderr",
     "output_type": "stream",
     "text": [
      "100%|██████████| 10/10 [00:21<00:00,  2.12s/it]\n",
      " 27%|██▋       | 34/126 [15:49<35:00, 22.84s/it]"
     ]
    },
    {
     "name": "stdout",
     "output_type": "stream",
     "text": [
      "/data/monkey-pickles/Chewie_CO_VR_2016-09-14_Jaco_CO_CS_2016-02-17_across_aligned_decoding.p\n"
     ]
    },
    {
     "name": "stderr",
     "output_type": "stream",
     "text": [
      "100%|██████████| 10/10 [00:21<00:00,  2.11s/it]\n",
      " 28%|██▊       | 35/126 [16:11<34:09, 22.53s/it]"
     ]
    },
    {
     "name": "stdout",
     "output_type": "stream",
     "text": [
      "/data/monkey-pickles/Chewie_CO_VR_2016-09-14_Jaco_CO_CS_2016-01-28_across_aligned_decoding.p\n"
     ]
    },
    {
     "name": "stderr",
     "output_type": "stream",
     "text": [
      "100%|██████████| 10/10 [00:21<00:00,  2.10s/it]\n",
      " 29%|██▊       | 36/126 [16:32<33:26, 22.30s/it]"
     ]
    },
    {
     "name": "stdout",
     "output_type": "stream",
     "text": [
      "/data/monkey-pickles/Chewie_CO_FF_2016-09-21_Mihili_CO_FF_2014-02-17_across_aligned_decoding.p\n"
     ]
    },
    {
     "name": "stderr",
     "output_type": "stream",
     "text": [
      "100%|██████████| 10/10 [00:19<00:00,  1.97s/it]\n",
      " 29%|██▉       | 37/126 [16:53<32:13, 21.72s/it]"
     ]
    },
    {
     "name": "stdout",
     "output_type": "stream",
     "text": [
      "/data/monkey-pickles/Chewie_CO_FF_2016-09-21_Mihili_CO_VR_2014-03-03_across_aligned_decoding.p\n"
     ]
    },
    {
     "name": "stderr",
     "output_type": "stream",
     "text": [
      "100%|██████████| 10/10 [00:17<00:00,  1.75s/it]\n",
      " 30%|███       | 38/126 [17:11<30:19, 20.68s/it]"
     ]
    },
    {
     "name": "stdout",
     "output_type": "stream",
     "text": [
      "/data/monkey-pickles/Chewie_CO_FF_2016-09-21_Mihili_CO_CS_2014-09-29_across_aligned_decoding.p\n"
     ]
    },
    {
     "name": "stderr",
     "output_type": "stream",
     "text": [
      "100%|██████████| 10/10 [00:19<00:00,  1.98s/it]\n",
      " 31%|███       | 39/126 [17:32<30:02, 20.72s/it]"
     ]
    },
    {
     "name": "stdout",
     "output_type": "stream",
     "text": [
      "/data/monkey-pickles/Chewie_CO_FF_2016-09-21_Mihili_CO_VR_2014-03-04_across_aligned_decoding.p\n"
     ]
    },
    {
     "name": "stderr",
     "output_type": "stream",
     "text": [
      "100%|██████████| 10/10 [00:19<00:00,  1.96s/it]\n",
      " 32%|███▏      | 40/126 [17:52<29:30, 20.58s/it]"
     ]
    },
    {
     "name": "stdout",
     "output_type": "stream",
     "text": [
      "/data/monkey-pickles/Chewie_CO_FF_2016-09-21_Mihili_CO_VR_2014-03-06_across_aligned_decoding.p\n"
     ]
    },
    {
     "name": "stderr",
     "output_type": "stream",
     "text": [
      "100%|██████████| 10/10 [00:19<00:00,  1.94s/it]\n",
      " 33%|███▎      | 41/126 [18:12<28:57, 20.44s/it]"
     ]
    },
    {
     "name": "stdout",
     "output_type": "stream",
     "text": [
      "/data/monkey-pickles/Chewie_CO_FF_2016-09-21_Mihili_CO_FF_2014-02-18_across_aligned_decoding.p\n"
     ]
    },
    {
     "name": "stderr",
     "output_type": "stream",
     "text": [
      "100%|██████████| 10/10 [00:19<00:00,  1.97s/it]\n",
      " 33%|███▎      | 42/126 [18:33<28:36, 20.43s/it]"
     ]
    },
    {
     "name": "stdout",
     "output_type": "stream",
     "text": [
      "/data/monkey-pickles/Chewie_CO_FF_2016-09-21_Jaco_CO_CS_2016-02-04_across_aligned_decoding.p\n"
     ]
    },
    {
     "name": "stderr",
     "output_type": "stream",
     "text": [
      "100%|██████████| 10/10 [00:19<00:00,  1.92s/it]\n",
      " 34%|███▍      | 43/126 [18:52<28:02, 20.27s/it]"
     ]
    },
    {
     "name": "stdout",
     "output_type": "stream",
     "text": [
      "/data/monkey-pickles/Chewie_CO_FF_2016-09-21_Jaco_CO_CS_2016-02-17_across_aligned_decoding.p\n"
     ]
    },
    {
     "name": "stderr",
     "output_type": "stream",
     "text": [
      "100%|██████████| 10/10 [00:18<00:00,  1.86s/it]\n",
      " 35%|███▍      | 44/126 [19:12<27:17, 19.97s/it]"
     ]
    },
    {
     "name": "stdout",
     "output_type": "stream",
     "text": [
      "/data/monkey-pickles/Chewie_CO_FF_2016-09-21_Jaco_CO_CS_2016-01-28_across_aligned_decoding.p\n"
     ]
    },
    {
     "name": "stderr",
     "output_type": "stream",
     "text": [
      "100%|██████████| 10/10 [00:19<00:00,  1.95s/it]\n",
      " 36%|███▌      | 45/126 [19:32<27:04, 20.05s/it]"
     ]
    },
    {
     "name": "stdout",
     "output_type": "stream",
     "text": [
      "/data/monkey-pickles/Chewie_CO_FF_2016-09-19_Mihili_CO_FF_2014-02-17_across_aligned_decoding.p\n"
     ]
    },
    {
     "name": "stderr",
     "output_type": "stream",
     "text": [
      "100%|██████████| 10/10 [00:23<00:00,  2.40s/it]\n",
      " 37%|███▋      | 46/126 [19:57<28:37, 21.47s/it]"
     ]
    },
    {
     "name": "stdout",
     "output_type": "stream",
     "text": [
      "/data/monkey-pickles/Chewie_CO_FF_2016-09-19_Mihili_CO_VR_2014-03-03_across_aligned_decoding.p\n"
     ]
    },
    {
     "name": "stderr",
     "output_type": "stream",
     "text": [
      "100%|██████████| 10/10 [00:24<00:00,  2.45s/it]\n",
      " 37%|███▋      | 47/126 [20:22<29:46, 22.61s/it]"
     ]
    },
    {
     "name": "stdout",
     "output_type": "stream",
     "text": [
      "/data/monkey-pickles/Chewie_CO_FF_2016-09-19_Mihili_CO_CS_2014-09-29_across_aligned_decoding.p\n"
     ]
    },
    {
     "name": "stderr",
     "output_type": "stream",
     "text": [
      "100%|██████████| 10/10 [00:23<00:00,  2.35s/it]\n",
      " 38%|███▊      | 48/126 [20:47<30:11, 23.23s/it]"
     ]
    },
    {
     "name": "stdout",
     "output_type": "stream",
     "text": [
      "/data/monkey-pickles/Chewie_CO_FF_2016-09-19_Mihili_CO_VR_2014-03-04_across_aligned_decoding.p\n"
     ]
    },
    {
     "name": "stderr",
     "output_type": "stream",
     "text": [
      "100%|██████████| 10/10 [00:24<00:00,  2.48s/it]\n",
      " 39%|███▉      | 49/126 [21:12<30:43, 23.94s/it]"
     ]
    },
    {
     "name": "stdout",
     "output_type": "stream",
     "text": [
      "/data/monkey-pickles/Chewie_CO_FF_2016-09-19_Mihili_CO_VR_2014-03-06_across_aligned_decoding.p\n"
     ]
    },
    {
     "name": "stderr",
     "output_type": "stream",
     "text": [
      "100%|██████████| 10/10 [00:24<00:00,  2.43s/it]\n",
      " 40%|███▉      | 50/126 [21:37<30:45, 24.28s/it]"
     ]
    },
    {
     "name": "stdout",
     "output_type": "stream",
     "text": [
      "/data/monkey-pickles/Chewie_CO_FF_2016-09-19_Mihili_CO_FF_2014-02-18_across_aligned_decoding.p\n"
     ]
    },
    {
     "name": "stderr",
     "output_type": "stream",
     "text": [
      "100%|██████████| 10/10 [00:24<00:00,  2.43s/it]\n",
      " 40%|████      | 51/126 [22:02<30:38, 24.51s/it]"
     ]
    },
    {
     "name": "stdout",
     "output_type": "stream",
     "text": [
      "/data/monkey-pickles/Chewie_CO_FF_2016-09-19_Jaco_CO_CS_2016-02-04_across_aligned_decoding.p\n"
     ]
    },
    {
     "name": "stderr",
     "output_type": "stream",
     "text": [
      "100%|██████████| 10/10 [00:23<00:00,  2.34s/it]\n",
      " 41%|████▏     | 52/126 [22:27<30:05, 24.40s/it]"
     ]
    },
    {
     "name": "stdout",
     "output_type": "stream",
     "text": [
      "/data/monkey-pickles/Chewie_CO_FF_2016-09-19_Jaco_CO_CS_2016-02-17_across_aligned_decoding.p\n"
     ]
    },
    {
     "name": "stderr",
     "output_type": "stream",
     "text": [
      "100%|██████████| 10/10 [00:24<00:00,  2.44s/it]\n",
      " 42%|████▏     | 53/126 [22:52<29:57, 24.62s/it]"
     ]
    },
    {
     "name": "stdout",
     "output_type": "stream",
     "text": [
      "/data/monkey-pickles/Chewie_CO_FF_2016-09-19_Jaco_CO_CS_2016-01-28_across_aligned_decoding.p\n"
     ]
    },
    {
     "name": "stderr",
     "output_type": "stream",
     "text": [
      "100%|██████████| 10/10 [00:19<00:00,  1.98s/it]\n",
      " 43%|████▎     | 54/126 [23:12<28:04, 23.39s/it]"
     ]
    },
    {
     "name": "stdout",
     "output_type": "stream",
     "text": [
      "/data/monkey-pickles/Chewie_CO_FF_2016-09-15_Mihili_CO_FF_2014-02-17_across_aligned_decoding.p\n"
     ]
    },
    {
     "name": "stderr",
     "output_type": "stream",
     "text": [
      "100%|██████████| 10/10 [00:24<00:00,  2.49s/it]\n",
      " 44%|████▎     | 55/126 [23:38<28:29, 24.07s/it]"
     ]
    },
    {
     "name": "stdout",
     "output_type": "stream",
     "text": [
      "/data/monkey-pickles/Chewie_CO_FF_2016-09-15_Mihili_CO_VR_2014-03-03_across_aligned_decoding.p\n"
     ]
    },
    {
     "name": "stderr",
     "output_type": "stream",
     "text": [
      "100%|██████████| 10/10 [00:23<00:00,  2.38s/it]\n",
      " 44%|████▍     | 56/126 [24:03<28:16, 24.23s/it]"
     ]
    },
    {
     "name": "stdout",
     "output_type": "stream",
     "text": [
      "/data/monkey-pickles/Chewie_CO_FF_2016-09-15_Mihili_CO_CS_2014-09-29_across_aligned_decoding.p\n"
     ]
    },
    {
     "name": "stderr",
     "output_type": "stream",
     "text": [
      "100%|██████████| 10/10 [00:25<00:00,  2.59s/it]\n",
      " 45%|████▌     | 57/126 [24:30<28:49, 25.07s/it]"
     ]
    },
    {
     "name": "stdout",
     "output_type": "stream",
     "text": [
      "/data/monkey-pickles/Chewie_CO_FF_2016-09-15_Mihili_CO_VR_2014-03-04_across_aligned_decoding.p\n"
     ]
    },
    {
     "name": "stderr",
     "output_type": "stream",
     "text": [
      "100%|██████████| 10/10 [00:26<00:00,  2.62s/it]\n",
      " 46%|████▌     | 58/126 [24:57<29:03, 25.65s/it]"
     ]
    },
    {
     "name": "stdout",
     "output_type": "stream",
     "text": [
      "/data/monkey-pickles/Chewie_CO_FF_2016-09-15_Mihili_CO_VR_2014-03-06_across_aligned_decoding.p\n"
     ]
    },
    {
     "name": "stderr",
     "output_type": "stream",
     "text": [
      "100%|██████████| 10/10 [00:23<00:00,  2.39s/it]\n",
      " 47%|████▋     | 59/126 [25:21<28:20, 25.38s/it]"
     ]
    },
    {
     "name": "stdout",
     "output_type": "stream",
     "text": [
      "/data/monkey-pickles/Chewie_CO_FF_2016-09-15_Mihili_CO_FF_2014-02-18_across_aligned_decoding.p\n"
     ]
    },
    {
     "name": "stderr",
     "output_type": "stream",
     "text": [
      "100%|██████████| 10/10 [00:24<00:00,  2.45s/it]\n",
      " 48%|████▊     | 60/126 [25:47<27:54, 25.37s/it]"
     ]
    },
    {
     "name": "stdout",
     "output_type": "stream",
     "text": [
      "/data/monkey-pickles/Chewie_CO_FF_2016-09-15_Jaco_CO_CS_2016-02-04_across_aligned_decoding.p\n"
     ]
    },
    {
     "name": "stderr",
     "output_type": "stream",
     "text": [
      "100%|██████████| 10/10 [00:23<00:00,  2.33s/it]\n",
      " 48%|████▊     | 61/126 [26:11<27:04, 24.99s/it]"
     ]
    },
    {
     "name": "stdout",
     "output_type": "stream",
     "text": [
      "/data/monkey-pickles/Chewie_CO_FF_2016-09-15_Jaco_CO_CS_2016-02-17_across_aligned_decoding.p\n"
     ]
    },
    {
     "name": "stderr",
     "output_type": "stream",
     "text": [
      "100%|██████████| 10/10 [00:24<00:00,  2.46s/it]\n",
      " 49%|████▉     | 62/126 [26:36<26:46, 25.10s/it]"
     ]
    },
    {
     "name": "stdout",
     "output_type": "stream",
     "text": [
      "/data/monkey-pickles/Chewie_CO_FF_2016-09-15_Jaco_CO_CS_2016-01-28_across_aligned_decoding.p\n"
     ]
    },
    {
     "name": "stderr",
     "output_type": "stream",
     "text": [
      "100%|██████████| 10/10 [00:19<00:00,  1.95s/it]\n",
      " 50%|█████     | 63/126 [26:56<24:48, 23.62s/it]"
     ]
    },
    {
     "name": "stdout",
     "output_type": "stream",
     "text": [
      "/data/monkey-pickles/Chewie_CO_CS_2016-10-14_Mihili_CO_FF_2014-02-17_across_aligned_decoding.p\n"
     ]
    },
    {
     "name": "stderr",
     "output_type": "stream",
     "text": [
      "100%|██████████| 10/10 [00:26<00:00,  2.60s/it]\n",
      " 51%|█████     | 64/126 [27:24<25:32, 24.71s/it]"
     ]
    },
    {
     "name": "stdout",
     "output_type": "stream",
     "text": [
      "/data/monkey-pickles/Chewie_CO_CS_2016-10-14_Mihili_CO_VR_2014-03-03_across_aligned_decoding.p\n"
     ]
    },
    {
     "name": "stderr",
     "output_type": "stream",
     "text": [
      "100%|██████████| 10/10 [00:24<00:00,  2.41s/it]\n",
      " 52%|█████▏    | 65/126 [27:49<25:19, 24.91s/it]"
     ]
    },
    {
     "name": "stdout",
     "output_type": "stream",
     "text": [
      "/data/monkey-pickles/Chewie_CO_CS_2016-10-14_Mihili_CO_CS_2014-09-29_across_aligned_decoding.p\n"
     ]
    },
    {
     "name": "stderr",
     "output_type": "stream",
     "text": [
      "100%|██████████| 10/10 [01:45<00:00, 10.51s/it]\n",
      " 52%|█████▏    | 66/126 [29:37<49:49, 49.83s/it]"
     ]
    },
    {
     "name": "stdout",
     "output_type": "stream",
     "text": [
      "/data/monkey-pickles/Chewie_CO_CS_2016-10-14_Mihili_CO_VR_2014-03-04_across_aligned_decoding.p\n"
     ]
    },
    {
     "name": "stderr",
     "output_type": "stream",
     "text": [
      "100%|██████████| 10/10 [00:27<00:00,  2.79s/it]\n",
      " 53%|█████▎    | 67/126 [30:06<42:53, 43.62s/it]"
     ]
    },
    {
     "name": "stdout",
     "output_type": "stream",
     "text": [
      "/data/monkey-pickles/Chewie_CO_CS_2016-10-14_Mihili_CO_VR_2014-03-06_across_aligned_decoding.p\n"
     ]
    },
    {
     "name": "stderr",
     "output_type": "stream",
     "text": [
      "100%|██████████| 10/10 [00:30<00:00,  3.09s/it]\n",
      " 54%|█████▍    | 68/126 [30:38<38:51, 40.19s/it]"
     ]
    },
    {
     "name": "stdout",
     "output_type": "stream",
     "text": [
      "/data/monkey-pickles/Chewie_CO_CS_2016-10-14_Mihili_CO_FF_2014-02-18_across_aligned_decoding.p\n"
     ]
    },
    {
     "name": "stderr",
     "output_type": "stream",
     "text": [
      "100%|██████████| 10/10 [00:30<00:00,  3.04s/it]\n",
      " 55%|█████▍    | 69/126 [31:10<35:45, 37.64s/it]"
     ]
    },
    {
     "name": "stdout",
     "output_type": "stream",
     "text": [
      "/data/monkey-pickles/Chewie_CO_CS_2016-10-14_Jaco_CO_CS_2016-02-04_across_aligned_decoding.p\n"
     ]
    },
    {
     "name": "stderr",
     "output_type": "stream",
     "text": [
      "100%|██████████| 10/10 [00:38<00:00,  3.89s/it]\n",
      " 56%|█████▌    | 70/126 [31:50<35:53, 38.45s/it]"
     ]
    },
    {
     "name": "stdout",
     "output_type": "stream",
     "text": [
      "/data/monkey-pickles/Chewie_CO_CS_2016-10-14_Jaco_CO_CS_2016-02-17_across_aligned_decoding.p\n"
     ]
    },
    {
     "name": "stderr",
     "output_type": "stream",
     "text": [
      "100%|██████████| 10/10 [00:25<00:00,  2.56s/it]\n",
      " 56%|█████▋    | 71/126 [32:17<32:01, 34.94s/it]"
     ]
    },
    {
     "name": "stdout",
     "output_type": "stream",
     "text": [
      "/data/monkey-pickles/Chewie_CO_CS_2016-10-14_Jaco_CO_CS_2016-01-28_across_aligned_decoding.p\n"
     ]
    },
    {
     "name": "stderr",
     "output_type": "stream",
     "text": [
      "100%|██████████| 10/10 [00:20<00:00,  2.05s/it]\n",
      " 57%|█████▋    | 72/126 [32:39<27:50, 30.94s/it]"
     ]
    },
    {
     "name": "stdout",
     "output_type": "stream",
     "text": [
      "/data/monkey-pickles/Chewie_CO_CS_2015-03-12_Mihili_CO_FF_2014-02-17_across_aligned_decoding.p\n"
     ]
    },
    {
     "name": "stderr",
     "output_type": "stream",
     "text": [
      "100%|██████████| 10/10 [00:28<00:00,  2.80s/it]\n",
      " 58%|█████▊    | 73/126 [33:08<26:52, 30.42s/it]"
     ]
    },
    {
     "name": "stdout",
     "output_type": "stream",
     "text": [
      "/data/monkey-pickles/Chewie_CO_CS_2015-03-12_Mihili_CO_VR_2014-03-03_across_aligned_decoding.p\n"
     ]
    },
    {
     "name": "stderr",
     "output_type": "stream",
     "text": [
      "100%|██████████| 10/10 [00:25<00:00,  2.54s/it]\n",
      " 59%|█████▊    | 74/126 [33:34<25:20, 29.24s/it]"
     ]
    },
    {
     "name": "stdout",
     "output_type": "stream",
     "text": [
      "/data/monkey-pickles/Chewie_CO_CS_2015-03-12_Mihili_CO_CS_2014-09-29_across_aligned_decoding.p\n"
     ]
    },
    {
     "name": "stderr",
     "output_type": "stream",
     "text": [
      "100%|██████████| 10/10 [01:51<00:00, 11.10s/it]\n",
      " 60%|█████▉    | 75/126 [35:28<46:26, 54.64s/it]"
     ]
    },
    {
     "name": "stdout",
     "output_type": "stream",
     "text": [
      "/data/monkey-pickles/Chewie_CO_CS_2015-03-12_Mihili_CO_VR_2014-03-04_across_aligned_decoding.p\n"
     ]
    },
    {
     "name": "stderr",
     "output_type": "stream",
     "text": [
      "100%|██████████| 10/10 [00:28<00:00,  2.81s/it]\n",
      " 60%|██████    | 76/126 [35:57<39:10, 47.02s/it]"
     ]
    },
    {
     "name": "stdout",
     "output_type": "stream",
     "text": [
      "/data/monkey-pickles/Chewie_CO_CS_2015-03-12_Mihili_CO_VR_2014-03-06_across_aligned_decoding.p\n"
     ]
    },
    {
     "name": "stderr",
     "output_type": "stream",
     "text": [
      "100%|██████████| 10/10 [00:29<00:00,  2.98s/it]\n",
      " 61%|██████    | 77/126 [36:28<34:27, 42.19s/it]"
     ]
    },
    {
     "name": "stdout",
     "output_type": "stream",
     "text": [
      "/data/monkey-pickles/Chewie_CO_CS_2015-03-12_Mihili_CO_FF_2014-02-18_across_aligned_decoding.p\n"
     ]
    },
    {
     "name": "stderr",
     "output_type": "stream",
     "text": [
      "100%|██████████| 10/10 [00:28<00:00,  2.80s/it]\n",
      " 62%|██████▏   | 78/126 [36:58<30:37, 38.28s/it]"
     ]
    },
    {
     "name": "stdout",
     "output_type": "stream",
     "text": [
      "/data/monkey-pickles/Chewie_CO_CS_2015-03-12_Jaco_CO_CS_2016-02-04_across_aligned_decoding.p\n"
     ]
    },
    {
     "name": "stderr",
     "output_type": "stream",
     "text": [
      "100%|██████████| 10/10 [00:38<00:00,  3.83s/it]\n",
      " 63%|██████▎   | 79/126 [37:37<30:17, 38.67s/it]"
     ]
    },
    {
     "name": "stdout",
     "output_type": "stream",
     "text": [
      "/data/monkey-pickles/Chewie_CO_CS_2015-03-12_Jaco_CO_CS_2016-02-17_across_aligned_decoding.p\n"
     ]
    },
    {
     "name": "stderr",
     "output_type": "stream",
     "text": [
      "100%|██████████| 10/10 [00:25<00:00,  2.58s/it]\n",
      " 63%|██████▎   | 80/126 [38:04<26:54, 35.10s/it]"
     ]
    },
    {
     "name": "stdout",
     "output_type": "stream",
     "text": [
      "/data/monkey-pickles/Chewie_CO_CS_2015-03-12_Jaco_CO_CS_2016-01-28_across_aligned_decoding.p\n"
     ]
    },
    {
     "name": "stderr",
     "output_type": "stream",
     "text": [
      "100%|██████████| 10/10 [00:20<00:00,  2.10s/it]\n",
      " 64%|██████▍   | 81/126 [38:26<23:21, 31.15s/it]"
     ]
    },
    {
     "name": "stdout",
     "output_type": "stream",
     "text": [
      "/data/monkey-pickles/Chewie_CO_CS_2015-03-19_Mihili_CO_FF_2014-02-17_across_aligned_decoding.p\n"
     ]
    },
    {
     "name": "stderr",
     "output_type": "stream",
     "text": [
      "100%|██████████| 10/10 [00:28<00:00,  2.86s/it]\n",
      " 65%|██████▌   | 82/126 [38:56<22:32, 30.73s/it]"
     ]
    },
    {
     "name": "stdout",
     "output_type": "stream",
     "text": [
      "/data/monkey-pickles/Chewie_CO_CS_2015-03-19_Mihili_CO_VR_2014-03-03_across_aligned_decoding.p\n"
     ]
    },
    {
     "name": "stderr",
     "output_type": "stream",
     "text": [
      "100%|██████████| 10/10 [00:27<00:00,  2.72s/it]\n",
      " 66%|██████▌   | 83/126 [39:24<21:30, 30.02s/it]"
     ]
    },
    {
     "name": "stdout",
     "output_type": "stream",
     "text": [
      "/data/monkey-pickles/Chewie_CO_CS_2015-03-19_Mihili_CO_CS_2014-09-29_across_aligned_decoding.p\n"
     ]
    },
    {
     "name": "stderr",
     "output_type": "stream",
     "text": [
      "100%|██████████| 10/10 [01:49<00:00, 10.92s/it]\n",
      " 67%|██████▋   | 84/126 [41:16<38:16, 54.67s/it]"
     ]
    },
    {
     "name": "stdout",
     "output_type": "stream",
     "text": [
      "/data/monkey-pickles/Chewie_CO_CS_2015-03-19_Mihili_CO_VR_2014-03-04_across_aligned_decoding.p\n"
     ]
    },
    {
     "name": "stderr",
     "output_type": "stream",
     "text": [
      "100%|██████████| 10/10 [00:27<00:00,  2.75s/it]\n",
      " 67%|██████▋   | 85/126 [41:45<32:02, 46.90s/it]"
     ]
    },
    {
     "name": "stdout",
     "output_type": "stream",
     "text": [
      "/data/monkey-pickles/Chewie_CO_CS_2015-03-19_Mihili_CO_VR_2014-03-06_across_aligned_decoding.p\n"
     ]
    },
    {
     "name": "stderr",
     "output_type": "stream",
     "text": [
      "100%|██████████| 10/10 [00:30<00:00,  3.06s/it]\n",
      " 68%|██████▊   | 86/126 [42:17<28:14, 42.36s/it]"
     ]
    },
    {
     "name": "stdout",
     "output_type": "stream",
     "text": [
      "/data/monkey-pickles/Chewie_CO_CS_2015-03-19_Mihili_CO_FF_2014-02-18_across_aligned_decoding.p\n"
     ]
    },
    {
     "name": "stderr",
     "output_type": "stream",
     "text": [
      "100%|██████████| 10/10 [00:30<00:00,  3.02s/it]\n",
      " 69%|██████▉   | 87/126 [42:48<25:23, 39.07s/it]"
     ]
    },
    {
     "name": "stdout",
     "output_type": "stream",
     "text": [
      "/data/monkey-pickles/Chewie_CO_CS_2015-03-19_Jaco_CO_CS_2016-02-04_across_aligned_decoding.p\n"
     ]
    },
    {
     "name": "stderr",
     "output_type": "stream",
     "text": [
      "100%|██████████| 10/10 [00:35<00:00,  3.58s/it]\n",
      " 70%|██████▉   | 88/126 [43:25<24:21, 38.47s/it]"
     ]
    },
    {
     "name": "stdout",
     "output_type": "stream",
     "text": [
      "/data/monkey-pickles/Chewie_CO_CS_2015-03-19_Jaco_CO_CS_2016-02-17_across_aligned_decoding.p\n"
     ]
    },
    {
     "name": "stderr",
     "output_type": "stream",
     "text": [
      "100%|██████████| 10/10 [00:25<00:00,  2.59s/it]\n",
      " 71%|███████   | 89/126 [43:52<21:35, 35.00s/it]"
     ]
    },
    {
     "name": "stdout",
     "output_type": "stream",
     "text": [
      "/data/monkey-pickles/Chewie_CO_CS_2015-03-19_Jaco_CO_CS_2016-01-28_across_aligned_decoding.p\n"
     ]
    },
    {
     "name": "stderr",
     "output_type": "stream",
     "text": [
      "100%|██████████| 10/10 [00:20<00:00,  2.07s/it]\n",
      " 71%|███████▏  | 90/126 [44:14<18:36, 31.02s/it]"
     ]
    },
    {
     "name": "stdout",
     "output_type": "stream",
     "text": [
      "/data/monkey-pickles/Chewie_CO_CS_2015-03-11_Mihili_CO_FF_2014-02-17_across_aligned_decoding.p\n"
     ]
    },
    {
     "name": "stderr",
     "output_type": "stream",
     "text": [
      "100%|██████████| 10/10 [00:28<00:00,  2.89s/it]\n",
      " 72%|███████▏  | 91/126 [44:44<17:55, 30.73s/it]"
     ]
    },
    {
     "name": "stdout",
     "output_type": "stream",
     "text": [
      "/data/monkey-pickles/Chewie_CO_CS_2015-03-11_Mihili_CO_VR_2014-03-03_across_aligned_decoding.p\n"
     ]
    },
    {
     "name": "stderr",
     "output_type": "stream",
     "text": [
      "100%|██████████| 10/10 [00:26<00:00,  2.69s/it]\n",
      " 73%|███████▎  | 92/126 [45:12<16:56, 29.91s/it]"
     ]
    },
    {
     "name": "stdout",
     "output_type": "stream",
     "text": [
      "/data/monkey-pickles/Chewie_CO_CS_2015-03-11_Mihili_CO_CS_2014-09-29_across_aligned_decoding.p\n"
     ]
    },
    {
     "name": "stderr",
     "output_type": "stream",
     "text": [
      "100%|██████████| 10/10 [01:47<00:00, 10.79s/it]\n",
      " 74%|███████▍  | 93/126 [47:03<29:47, 54.18s/it]"
     ]
    },
    {
     "name": "stdout",
     "output_type": "stream",
     "text": [
      "/data/monkey-pickles/Chewie_CO_CS_2015-03-11_Mihili_CO_VR_2014-03-04_across_aligned_decoding.p\n"
     ]
    },
    {
     "name": "stderr",
     "output_type": "stream",
     "text": [
      "100%|██████████| 10/10 [00:28<00:00,  2.87s/it]\n",
      " 75%|███████▍  | 94/126 [47:32<25:00, 46.88s/it]"
     ]
    },
    {
     "name": "stdout",
     "output_type": "stream",
     "text": [
      "/data/monkey-pickles/Chewie_CO_CS_2015-03-11_Mihili_CO_VR_2014-03-06_across_aligned_decoding.p\n"
     ]
    },
    {
     "name": "stderr",
     "output_type": "stream",
     "text": [
      "100%|██████████| 10/10 [00:30<00:00,  3.07s/it]\n",
      " 75%|███████▌  | 95/126 [48:04<21:53, 42.38s/it]"
     ]
    },
    {
     "name": "stdout",
     "output_type": "stream",
     "text": [
      "/data/monkey-pickles/Chewie_CO_CS_2015-03-11_Mihili_CO_FF_2014-02-18_across_aligned_decoding.p\n"
     ]
    },
    {
     "name": "stderr",
     "output_type": "stream",
     "text": [
      "100%|██████████| 10/10 [00:29<00:00,  3.00s/it]\n",
      " 76%|███████▌  | 96/126 [48:36<19:30, 39.02s/it]"
     ]
    },
    {
     "name": "stdout",
     "output_type": "stream",
     "text": [
      "/data/monkey-pickles/Chewie_CO_CS_2015-03-11_Jaco_CO_CS_2016-02-04_across_aligned_decoding.p\n"
     ]
    },
    {
     "name": "stderr",
     "output_type": "stream",
     "text": [
      "100%|██████████| 10/10 [00:36<00:00,  3.65s/it]\n",
      " 77%|███████▋  | 97/126 [49:13<18:40, 38.63s/it]"
     ]
    },
    {
     "name": "stdout",
     "output_type": "stream",
     "text": [
      "/data/monkey-pickles/Chewie_CO_CS_2015-03-11_Jaco_CO_CS_2016-02-17_across_aligned_decoding.p\n"
     ]
    },
    {
     "name": "stderr",
     "output_type": "stream",
     "text": [
      "100%|██████████| 10/10 [00:26<00:00,  2.62s/it]\n",
      " 78%|███████▊  | 98/126 [49:40<16:25, 35.21s/it]"
     ]
    },
    {
     "name": "stdout",
     "output_type": "stream",
     "text": [
      "/data/monkey-pickles/Chewie_CO_CS_2015-03-11_Jaco_CO_CS_2016-01-28_across_aligned_decoding.p\n"
     ]
    },
    {
     "name": "stderr",
     "output_type": "stream",
     "text": [
      "100%|██████████| 10/10 [00:20<00:00,  2.06s/it]\n",
      " 79%|███████▊  | 99/126 [50:02<14:00, 31.13s/it]"
     ]
    },
    {
     "name": "stdout",
     "output_type": "stream",
     "text": [
      "/data/monkey-pickles/Chewie_CO_CS_2015-03-13_Mihili_CO_FF_2014-02-17_across_aligned_decoding.p\n"
     ]
    },
    {
     "name": "stderr",
     "output_type": "stream",
     "text": [
      "100%|██████████| 10/10 [00:28<00:00,  2.88s/it]\n",
      " 79%|███████▉  | 100/126 [50:32<13:20, 30.78s/it]"
     ]
    },
    {
     "name": "stdout",
     "output_type": "stream",
     "text": [
      "/data/monkey-pickles/Chewie_CO_CS_2015-03-13_Mihili_CO_VR_2014-03-03_across_aligned_decoding.p\n"
     ]
    },
    {
     "name": "stderr",
     "output_type": "stream",
     "text": [
      "100%|██████████| 10/10 [00:25<00:00,  2.53s/it]\n",
      " 80%|████████  | 101/126 [50:58<12:16, 29.47s/it]"
     ]
    },
    {
     "name": "stdout",
     "output_type": "stream",
     "text": [
      "/data/monkey-pickles/Chewie_CO_CS_2015-03-13_Mihili_CO_CS_2014-09-29_across_aligned_decoding.p\n"
     ]
    },
    {
     "name": "stderr",
     "output_type": "stream",
     "text": [
      "100%|██████████| 10/10 [01:52<00:00, 11.26s/it]\n",
      " 81%|████████  | 102/126 [52:54<22:06, 55.29s/it]"
     ]
    },
    {
     "name": "stdout",
     "output_type": "stream",
     "text": [
      "/data/monkey-pickles/Chewie_CO_CS_2015-03-13_Mihili_CO_VR_2014-03-04_across_aligned_decoding.p\n"
     ]
    },
    {
     "name": "stderr",
     "output_type": "stream",
     "text": [
      "100%|██████████| 10/10 [00:28<00:00,  2.81s/it]\n",
      " 82%|████████▏ | 103/126 [53:23<18:12, 47.50s/it]"
     ]
    },
    {
     "name": "stdout",
     "output_type": "stream",
     "text": [
      "/data/monkey-pickles/Chewie_CO_CS_2015-03-13_Mihili_CO_VR_2014-03-06_across_aligned_decoding.p\n"
     ]
    },
    {
     "name": "stderr",
     "output_type": "stream",
     "text": [
      "100%|██████████| 10/10 [00:31<00:00,  3.12s/it]\n",
      " 83%|████████▎ | 104/126 [53:56<15:45, 42.98s/it]"
     ]
    },
    {
     "name": "stdout",
     "output_type": "stream",
     "text": [
      "/data/monkey-pickles/Chewie_CO_CS_2015-03-13_Mihili_CO_FF_2014-02-18_across_aligned_decoding.p\n"
     ]
    },
    {
     "name": "stderr",
     "output_type": "stream",
     "text": [
      "100%|██████████| 10/10 [00:32<00:00,  3.22s/it]\n",
      " 83%|████████▎ | 105/126 [54:29<14:02, 40.13s/it]"
     ]
    },
    {
     "name": "stdout",
     "output_type": "stream",
     "text": [
      "/data/monkey-pickles/Chewie_CO_CS_2015-03-13_Jaco_CO_CS_2016-02-04_across_aligned_decoding.p\n"
     ]
    },
    {
     "name": "stderr",
     "output_type": "stream",
     "text": [
      "100%|██████████| 10/10 [00:38<00:00,  3.85s/it]\n",
      " 84%|████████▍ | 106/126 [55:09<13:21, 40.06s/it]"
     ]
    },
    {
     "name": "stdout",
     "output_type": "stream",
     "text": [
      "/data/monkey-pickles/Chewie_CO_CS_2015-03-13_Jaco_CO_CS_2016-02-17_across_aligned_decoding.p\n"
     ]
    },
    {
     "name": "stderr",
     "output_type": "stream",
     "text": [
      "100%|██████████| 10/10 [00:24<00:00,  2.49s/it]\n",
      " 85%|████████▍ | 107/126 [55:35<11:20, 35.84s/it]"
     ]
    },
    {
     "name": "stdout",
     "output_type": "stream",
     "text": [
      "/data/monkey-pickles/Chewie_CO_CS_2015-03-13_Jaco_CO_CS_2016-01-28_across_aligned_decoding.p\n"
     ]
    },
    {
     "name": "stderr",
     "output_type": "stream",
     "text": [
      "100%|██████████| 10/10 [00:20<00:00,  2.09s/it]\n",
      " 86%|████████▌ | 108/126 [55:57<09:30, 31.67s/it]"
     ]
    },
    {
     "name": "stdout",
     "output_type": "stream",
     "text": [
      "/data/monkey-pickles/Mihili_CO_FF_2014-02-17_Jaco_CO_CS_2016-02-04_across_aligned_decoding.p\n"
     ]
    },
    {
     "name": "stderr",
     "output_type": "stream",
     "text": [
      "100%|██████████| 10/10 [00:28<00:00,  2.89s/it]\n",
      " 87%|████████▋ | 109/126 [56:27<08:48, 31.10s/it]"
     ]
    },
    {
     "name": "stdout",
     "output_type": "stream",
     "text": [
      "/data/monkey-pickles/Mihili_CO_FF_2014-02-17_Jaco_CO_CS_2016-02-17_across_aligned_decoding.p\n"
     ]
    },
    {
     "name": "stderr",
     "output_type": "stream",
     "text": [
      "100%|██████████| 10/10 [00:23<00:00,  2.39s/it]\n",
      " 87%|████████▋ | 110/126 [56:51<07:46, 29.15s/it]"
     ]
    },
    {
     "name": "stdout",
     "output_type": "stream",
     "text": [
      "/data/monkey-pickles/Mihili_CO_FF_2014-02-17_Jaco_CO_CS_2016-01-28_across_aligned_decoding.p\n"
     ]
    },
    {
     "name": "stderr",
     "output_type": "stream",
     "text": [
      "100%|██████████| 10/10 [00:20<00:00,  2.08s/it]\n",
      " 88%|████████▊ | 111/126 [57:13<06:42, 26.85s/it]"
     ]
    },
    {
     "name": "stdout",
     "output_type": "stream",
     "text": [
      "/data/monkey-pickles/Mihili_CO_VR_2014-03-03_Jaco_CO_CS_2016-02-04_across_aligned_decoding.p\n"
     ]
    },
    {
     "name": "stderr",
     "output_type": "stream",
     "text": [
      "100%|██████████| 10/10 [00:26<00:00,  2.63s/it]\n",
      " 89%|████████▉ | 112/126 [57:40<06:16, 26.91s/it]"
     ]
    },
    {
     "name": "stdout",
     "output_type": "stream",
     "text": [
      "/data/monkey-pickles/Mihili_CO_VR_2014-03-03_Jaco_CO_CS_2016-02-17_across_aligned_decoding.p\n"
     ]
    },
    {
     "name": "stderr",
     "output_type": "stream",
     "text": [
      "100%|██████████| 10/10 [00:23<00:00,  2.34s/it]\n",
      " 90%|████████▉ | 113/126 [58:04<05:39, 26.10s/it]"
     ]
    },
    {
     "name": "stdout",
     "output_type": "stream",
     "text": [
      "/data/monkey-pickles/Mihili_CO_VR_2014-03-03_Jaco_CO_CS_2016-01-28_across_aligned_decoding.p\n"
     ]
    },
    {
     "name": "stderr",
     "output_type": "stream",
     "text": [
      "100%|██████████| 10/10 [00:21<00:00,  2.10s/it]\n",
      " 90%|█████████ | 114/126 [58:26<04:57, 24.79s/it]"
     ]
    },
    {
     "name": "stdout",
     "output_type": "stream",
     "text": [
      "/data/monkey-pickles/Mihili_CO_CS_2014-09-29_Jaco_CO_CS_2016-02-04_across_aligned_decoding.p\n"
     ]
    },
    {
     "name": "stderr",
     "output_type": "stream",
     "text": [
      "100%|██████████| 10/10 [00:34<00:00,  3.47s/it]\n",
      " 91%|█████████▏| 115/126 [59:02<05:09, 28.17s/it]"
     ]
    },
    {
     "name": "stdout",
     "output_type": "stream",
     "text": [
      "/data/monkey-pickles/Mihili_CO_CS_2014-09-29_Jaco_CO_CS_2016-02-17_across_aligned_decoding.p\n"
     ]
    },
    {
     "name": "stderr",
     "output_type": "stream",
     "text": [
      "100%|██████████| 10/10 [00:24<00:00,  2.50s/it]\n",
      " 92%|█████████▏| 116/126 [59:28<04:35, 27.54s/it]"
     ]
    },
    {
     "name": "stdout",
     "output_type": "stream",
     "text": [
      "/data/monkey-pickles/Mihili_CO_CS_2014-09-29_Jaco_CO_CS_2016-01-28_across_aligned_decoding.p\n"
     ]
    },
    {
     "name": "stderr",
     "output_type": "stream",
     "text": [
      "100%|██████████| 10/10 [00:20<00:00,  2.04s/it]\n",
      " 93%|█████████▎| 117/126 [59:49<03:51, 25.71s/it]"
     ]
    },
    {
     "name": "stdout",
     "output_type": "stream",
     "text": [
      "/data/monkey-pickles/Mihili_CO_VR_2014-03-04_Jaco_CO_CS_2016-02-04_across_aligned_decoding.p\n"
     ]
    },
    {
     "name": "stderr",
     "output_type": "stream",
     "text": [
      "100%|██████████| 10/10 [00:27<00:00,  2.78s/it]\n",
      " 94%|█████████▎| 118/126 [1:00:18<03:32, 26.57s/it]"
     ]
    },
    {
     "name": "stdout",
     "output_type": "stream",
     "text": [
      "/data/monkey-pickles/Mihili_CO_VR_2014-03-04_Jaco_CO_CS_2016-02-17_across_aligned_decoding.p\n"
     ]
    },
    {
     "name": "stderr",
     "output_type": "stream",
     "text": [
      "100%|██████████| 10/10 [00:26<00:00,  2.62s/it]\n",
      " 94%|█████████▍| 119/126 [1:00:45<03:06, 26.70s/it]"
     ]
    },
    {
     "name": "stdout",
     "output_type": "stream",
     "text": [
      "/data/monkey-pickles/Mihili_CO_VR_2014-03-04_Jaco_CO_CS_2016-01-28_across_aligned_decoding.p\n"
     ]
    },
    {
     "name": "stderr",
     "output_type": "stream",
     "text": [
      "100%|██████████| 10/10 [00:20<00:00,  2.09s/it]\n",
      " 95%|█████████▌| 120/126 [1:01:07<02:31, 25.18s/it]"
     ]
    },
    {
     "name": "stdout",
     "output_type": "stream",
     "text": [
      "/data/monkey-pickles/Mihili_CO_VR_2014-03-06_Jaco_CO_CS_2016-02-04_across_aligned_decoding.p\n"
     ]
    },
    {
     "name": "stderr",
     "output_type": "stream",
     "text": [
      "100%|██████████| 10/10 [00:31<00:00,  3.14s/it]\n",
      " 96%|█████████▌| 121/126 [1:01:39<02:16, 27.30s/it]"
     ]
    },
    {
     "name": "stdout",
     "output_type": "stream",
     "text": [
      "/data/monkey-pickles/Mihili_CO_VR_2014-03-06_Jaco_CO_CS_2016-02-17_across_aligned_decoding.p\n"
     ]
    },
    {
     "name": "stderr",
     "output_type": "stream",
     "text": [
      "100%|██████████| 10/10 [00:25<00:00,  2.58s/it]\n",
      " 97%|█████████▋| 122/126 [1:02:05<01:48, 27.09s/it]"
     ]
    },
    {
     "name": "stdout",
     "output_type": "stream",
     "text": [
      "/data/monkey-pickles/Mihili_CO_VR_2014-03-06_Jaco_CO_CS_2016-01-28_across_aligned_decoding.p\n"
     ]
    },
    {
     "name": "stderr",
     "output_type": "stream",
     "text": [
      "100%|██████████| 10/10 [00:20<00:00,  2.07s/it]\n",
      " 98%|█████████▊| 123/126 [1:02:27<01:16, 25.39s/it]"
     ]
    },
    {
     "name": "stdout",
     "output_type": "stream",
     "text": [
      "/data/monkey-pickles/Mihili_CO_FF_2014-02-18_Jaco_CO_CS_2016-02-04_across_aligned_decoding.p\n"
     ]
    },
    {
     "name": "stderr",
     "output_type": "stream",
     "text": [
      "100%|██████████| 10/10 [00:32<00:00,  3.23s/it]\n",
      " 98%|█████████▊| 124/126 [1:03:00<00:55, 27.72s/it]"
     ]
    },
    {
     "name": "stdout",
     "output_type": "stream",
     "text": [
      "/data/monkey-pickles/Mihili_CO_FF_2014-02-18_Jaco_CO_CS_2016-02-17_across_aligned_decoding.p\n"
     ]
    },
    {
     "name": "stderr",
     "output_type": "stream",
     "text": [
      "100%|██████████| 10/10 [00:25<00:00,  2.57s/it]\n",
      " 99%|█████████▉| 125/126 [1:03:27<00:27, 27.36s/it]"
     ]
    },
    {
     "name": "stdout",
     "output_type": "stream",
     "text": [
      "/data/monkey-pickles/Mihili_CO_FF_2014-02-18_Jaco_CO_CS_2016-01-28_across_aligned_decoding.p\n"
     ]
    },
    {
     "name": "stderr",
     "output_type": "stream",
     "text": [
      "100%|██████████| 10/10 [00:19<00:00,  1.90s/it]\n",
      "100%|██████████| 126/126 [1:03:46<00:00, 30.37s/it]\n",
      "100%|██████████| 10/10 [00:28<00:00,  2.82s/it]\n",
      "100%|██████████| 10/10 [00:23<00:00,  2.35s/it]t]\n",
      "100%|██████████| 10/10 [00:42<00:00,  4.24s/it]  \n",
      "100%|██████████| 10/10 [00:28<00:00,  2.88s/it]t]\n",
      "100%|██████████| 10/10 [00:31<00:00,  3.16s/it]t]\n",
      "100%|██████████| 10/10 [00:31<00:00,  3.10s/it]t]\n",
      "100%|██████████| 10/10 [00:39<00:00,  3.94s/it]t]\n",
      "100%|██████████| 10/10 [00:26<00:00,  2.61s/it]t]\n",
      "100%|██████████| 10/10 [00:20<00:00,  2.07s/it]t]\n",
      "100%|██████████| 10/10 [00:28<00:00,  2.88s/it]  \n",
      "100%|██████████| 10/10 [00:26<00:00,  2.61s/it]]\n",
      "100%|██████████| 10/10 [00:34<00:00,  3.42s/it]]\n",
      "100%|██████████| 10/10 [00:28<00:00,  2.88s/it]]\n",
      "100%|██████████| 10/10 [00:30<00:00,  3.04s/it]]\n",
      "100%|██████████| 10/10 [00:32<00:00,  3.24s/it]]\n",
      "100%|██████████| 10/10 [00:35<00:00,  3.50s/it]]\n",
      "100%|██████████| 10/10 [00:25<00:00,  2.56s/it]it]\n",
      "100%|██████████| 10/10 [00:18<00:00,  1.89s/it]]  \n",
      "100%|██████████| 10/10 [00:28<00:00,  2.84s/it]]\n",
      "100%|██████████| 10/10 [00:25<00:00,  2.55s/it]]\n",
      "100%|██████████| 10/10 [00:29<00:00,  3.00s/it]]\n",
      "100%|██████████| 10/10 [00:25<00:00,  2.53s/it]]\n",
      "100%|██████████| 10/10 [00:30<00:00,  3.00s/it]]\n",
      "100%|██████████| 10/10 [00:27<00:00,  2.76s/it]]\n",
      "100%|██████████| 10/10 [00:29<00:00,  2.96s/it]]\n",
      "100%|██████████| 10/10 [00:25<00:00,  2.51s/it]]\n",
      "100%|██████████| 10/10 [00:20<00:00,  2.08s/it]]\n",
      "100%|██████████| 10/10 [00:19<00:00,  1.98s/it]]\n",
      "100%|██████████| 10/10 [00:21<00:00,  2.12s/it]]\n",
      "100%|██████████| 10/10 [00:22<00:00,  2.24s/it]]\n",
      "100%|██████████| 10/10 [00:21<00:00,  2.14s/it]]\n",
      "100%|██████████| 10/10 [00:21<00:00,  2.18s/it]]\n",
      "100%|██████████| 10/10 [00:20<00:00,  2.06s/it]]\n",
      "100%|██████████| 10/10 [00:21<00:00,  2.19s/it]]\n",
      "100%|██████████| 10/10 [00:19<00:00,  1.91s/it]]\n",
      "100%|██████████| 10/10 [00:19<00:00,  1.94s/it]]\n",
      "100%|██████████| 10/10 [00:19<00:00,  1.94s/it]]\n",
      "100%|██████████| 10/10 [00:19<00:00,  1.93s/it]]\n",
      "100%|██████████| 10/10 [00:19<00:00,  1.90s/it]]\n",
      "100%|██████████| 10/10 [00:17<00:00,  1.74s/it]]\n",
      "100%|██████████| 10/10 [00:18<00:00,  1.90s/it]]\n",
      "100%|██████████| 10/10 [00:19<00:00,  1.96s/it]]\n",
      "100%|██████████| 10/10 [00:19<00:00,  1.94s/it]]\n",
      "100%|██████████| 10/10 [00:19<00:00,  1.96s/it]]\n",
      "100%|██████████| 10/10 [00:19<00:00,  1.92s/it]]\n",
      "100%|██████████| 10/10 [00:24<00:00,  2.50s/it]]\n",
      "100%|██████████| 10/10 [00:23<00:00,  2.31s/it]]\n",
      "100%|██████████| 10/10 [00:22<00:00,  2.23s/it]]\n",
      "100%|██████████| 10/10 [00:24<00:00,  2.41s/it]]\n",
      "100%|██████████| 10/10 [00:24<00:00,  2.46s/it]]\n",
      "100%|██████████| 10/10 [00:24<00:00,  2.46s/it]]\n",
      "100%|██████████| 10/10 [00:23<00:00,  2.38s/it]]\n",
      "100%|██████████| 10/10 [00:23<00:00,  2.33s/it]]\n",
      "100%|██████████| 10/10 [00:18<00:00,  1.90s/it]]\n",
      "100%|██████████| 10/10 [00:24<00:00,  2.49s/it]]\n",
      "100%|██████████| 10/10 [00:24<00:00,  2.50s/it]]\n",
      "100%|██████████| 10/10 [00:24<00:00,  2.46s/it]]\n",
      "100%|██████████| 10/10 [00:25<00:00,  2.53s/it]]\n",
      "100%|██████████| 10/10 [00:25<00:00,  2.51s/it]]\n",
      "100%|██████████| 10/10 [00:23<00:00,  2.39s/it]]\n",
      "100%|██████████| 10/10 [00:24<00:00,  2.47s/it]]\n",
      "100%|██████████| 10/10 [00:25<00:00,  2.55s/it]]\n",
      "100%|██████████| 10/10 [00:20<00:00,  2.04s/it]]\n",
      "100%|██████████| 10/10 [00:28<00:00,  2.84s/it]]\n",
      "100%|██████████| 10/10 [00:25<00:00,  2.56s/it]]\n",
      "100%|██████████| 10/10 [01:44<00:00, 10.45s/it]]\n",
      "100%|██████████| 10/10 [00:28<00:00,  2.81s/it]]\n",
      "100%|██████████| 10/10 [00:28<00:00,  2.86s/it]]\n",
      "100%|██████████| 10/10 [00:32<00:00,  3.24s/it]]\n",
      "100%|██████████| 10/10 [00:37<00:00,  3.76s/it]]\n",
      "100%|██████████| 10/10 [00:24<00:00,  2.47s/it]]\n",
      "100%|██████████| 10/10 [00:20<00:00,  2.09s/it]]\n",
      "100%|██████████| 10/10 [00:28<00:00,  2.89s/it]]\n",
      "100%|██████████| 10/10 [00:26<00:00,  2.67s/it]]\n",
      "100%|██████████| 10/10 [01:49<00:00, 10.94s/it]]\n",
      "100%|██████████| 10/10 [00:28<00:00,  2.87s/it]]\n",
      "100%|██████████| 10/10 [00:31<00:00,  3.15s/it]]\n",
      "100%|██████████| 10/10 [00:31<00:00,  3.17s/it]]\n",
      "100%|██████████| 10/10 [00:37<00:00,  3.77s/it]]\n",
      "100%|██████████| 10/10 [00:26<00:00,  2.62s/it]]\n",
      "100%|██████████| 10/10 [00:20<00:00,  2.07s/it]]\n",
      "100%|██████████| 10/10 [00:26<00:00,  2.61s/it]]\n",
      "100%|██████████| 10/10 [00:27<00:00,  2.74s/it]]\n",
      "100%|██████████| 10/10 [01:47<00:00, 10.75s/it]]\n",
      "100%|██████████| 10/10 [00:27<00:00,  2.73s/it]]\n",
      "100%|██████████| 10/10 [00:30<00:00,  3.03s/it]]\n",
      "100%|██████████| 10/10 [00:31<00:00,  3.15s/it]]\n",
      "100%|██████████| 10/10 [00:39<00:00,  3.93s/it]]\n",
      "100%|██████████| 10/10 [00:25<00:00,  2.51s/it]]\n",
      "100%|██████████| 10/10 [00:20<00:00,  2.10s/it]]\n",
      "100%|██████████| 10/10 [00:25<00:00,  2.56s/it]]\n",
      "100%|██████████| 10/10 [00:25<00:00,  2.59s/it]]\n",
      "100%|██████████| 10/10 [01:48<00:00, 10.82s/it]]\n",
      "100%|██████████| 10/10 [00:27<00:00,  2.79s/it]]\n",
      "100%|██████████| 10/10 [00:31<00:00,  3.13s/it]]\n",
      "100%|██████████| 10/10 [00:31<00:00,  3.13s/it]]\n",
      "100%|██████████| 10/10 [00:38<00:00,  3.85s/it]]\n",
      "100%|██████████| 10/10 [00:23<00:00,  2.32s/it]]\n",
      "100%|██████████| 10/10 [00:20<00:00,  2.00s/it]]\n",
      "100%|██████████| 10/10 [00:25<00:00,  2.51s/it]]\n",
      "100%|██████████| 10/10 [00:24<00:00,  2.48s/it]t]\n",
      "100%|██████████| 10/10 [01:51<00:00, 11.13s/it]t]\n",
      "100%|██████████| 10/10 [00:24<00:00,  2.47s/it]t]\n",
      "100%|██████████| 10/10 [00:31<00:00,  3.12s/it]t]\n",
      "100%|██████████| 10/10 [00:31<00:00,  3.18s/it]t]\n",
      "100%|██████████| 10/10 [00:38<00:00,  3.88s/it]t]\n",
      "100%|██████████| 10/10 [00:23<00:00,  2.32s/it]t]\n",
      "100%|██████████| 10/10 [00:20<00:00,  2.04s/it]t]\n",
      "100%|██████████| 10/10 [00:28<00:00,  2.90s/it]t]\n",
      "100%|██████████| 10/10 [00:25<00:00,  2.59s/it]t]\n",
      "100%|██████████| 10/10 [00:18<00:00,  1.84s/it]t]\n",
      "100%|██████████| 10/10 [00:26<00:00,  2.68s/it]t]\n",
      "100%|██████████| 10/10 [00:24<00:00,  2.46s/it]t]\n",
      "100%|██████████| 10/10 [00:19<00:00,  1.96s/it]t]\n",
      "100%|██████████| 10/10 [00:37<00:00,  3.79s/it]t]\n",
      "100%|██████████| 10/10 [00:23<00:00,  2.37s/it]t]\n",
      "100%|██████████| 10/10 [00:20<00:00,  2.03s/it]t]\n",
      "100%|██████████| 10/10 [00:27<00:00,  2.78s/it]t]\n",
      "100%|██████████| 10/10 [00:24<00:00,  2.46s/it]/it]\n",
      "100%|██████████| 10/10 [00:19<00:00,  1.98s/it]/it]\n",
      "100%|██████████| 10/10 [00:30<00:00,  3.10s/it]/it]\n",
      "100%|██████████| 10/10 [00:25<00:00,  2.59s/it]/it]\n",
      "100%|██████████| 10/10 [00:20<00:00,  2.06s/it]/it]\n",
      "100%|██████████| 10/10 [00:32<00:00,  3.26s/it]/it]\n",
      "100%|██████████| 10/10 [00:26<00:00,  2.63s/it]/it]\n",
      "100%|██████████| 10/10 [00:19<00:00,  1.91s/it]/it]\n",
      "100%|██████████| 126/126 [1:03:36<00:00, 30.29s/it]\n"
     ]
    },
    {
     "name": "stdout",
     "output_type": "stream",
     "text": [
      "Executed: `plot_monkey_decoding` in 18839.3s\n",
      "Executed: `get_full_mouse_data` in 1.1s\n",
      "Executed: `plot_mouse_cca` in 11.1s\n",
      "Executed: `plot_mouse_cca_corr` in 9.0s\n",
      "Executed: `plot_monkey_cca_corr` in 96.3s\n",
      "Executed: `plot_traj_corr` in 1.6s\n"
     ]
    }
   ],
   "source": [
    "if \"__file__\" not in dir():\n",
    "    plt.close('all')\n",
    "    set_rc()\n",
    "    %matplotlib inline\n",
    "    figsize=params.LargeFig\n",
    "    fig=plt.figure(figsize=figsize)\n",
    "    \n",
    "   \n",
    "\n",
    "    ##########################################\n",
    "    # 1: schematics\n",
    "    gs1   =utility.add_gridspec_abs(fig, nrows=1, ncols=1, left=0, \n",
    "                                    bottom=figsize[1]-params.panels.schmatic[1], \n",
    "                                    width=params.panels.schmatic[0], \n",
    "                                    height=params.panels.schmatic[1])\n",
    "    ax1   =fig.add_subplot(gs1[0])\n",
    "    ax1 = utility.phantom_axes(ax1)\n",
    "    ax1.set_facecolor([0,0,0,0])\n",
    "\n",
    "\n",
    "    ##########################################\n",
    "    # 2: Raster\n",
    "    gs2_1 = utility.add_gridspec_abs(fig, nrows=1, ncols=monkey_defs.n_targets,\n",
    "                                     left=params.panels.schmatic[0],\n",
    "                                     bottom=figsize[1]-params.panels.schmatic[1]+params.panels.velocity[1],\n",
    "                                     width=params.panels.raster[0], \n",
    "                                     height=params.panels.raster[1])\n",
    "    gs2_2 = utility.add_gridspec_abs(fig, nrows=1, ncols=monkey_defs.n_targets,\n",
    "                                     right=figsize[0],\n",
    "                                     top=figsize[1],\n",
    "                                     width=params.panels.raster[0], \n",
    "                                     height=params.panels.raster[1])\n",
    "    \n",
    "    gs2_3 = utility.add_gridspec_abs(fig, nrows=1, ncols=monkey_defs.n_targets,\n",
    "                                     left=params.panels.schmatic[0],\n",
    "                                     bottom=figsize[1]-params.panels.schmatic[1],\n",
    "                                     width=params.panels.raster[0], \n",
    "                                     height=params.panels.velocity[1])\n",
    "    gs2_4 = utility.add_gridspec_abs(fig, nrows=1, ncols=monkey_defs.n_targets,\n",
    "                                     right=figsize[0],\n",
    "                                     top=figsize[1]-params.panels.raster[1],\n",
    "                                     width=params.panels.raster[0], \n",
    "                                     height=params.panels.velocity[1])\n",
    "\n",
    "    \n",
    "    raster_example_df = prep_example_df()\n",
    "    \n",
    "    axes2_1 = plot_moneky_fr_raster(raster_example_df[0], gs2_1)\n",
    "    axes2_2 = plot_moneky_fr_raster(raster_example_df[1], gs2_2)\n",
    "    utility.phantom_axes(fig.add_subplot(gs2_1[:])).set_title('Monkey $C_L$', pad=8)\n",
    "    utility.phantom_axes(fig.add_subplot(gs2_2[:])).set_title('Monkey $M$', pad=8)\n",
    "    \n",
    "    axes2_3 = plot_moneky_vel_ex(raster_example_df[0], gs2_3)\n",
    "    axes2_4 = plot_moneky_vel_ex(raster_example_df[1], gs2_4)\n",
    "\n",
    "    axes2_3[0].set_ylabel('Position\\n(centred)')\n",
    "    axes2_3[0].set_xlabel('Time relative to movement onset',loc='left')\n",
    "    X_line = mlines.Line2D([], [], color='blue', label='$X$')\n",
    "    Y_line = mlines.Line2D([], [], color='red', label='$Y$')\n",
    "    axes2_4[-1].legend(handles=[X_line, Y_line], loc=(1.1,.1))\n",
    "        \n",
    "    gs2_c = utility.add_gridspec_abs(fig, nrows=1, ncols=1, \n",
    "                                     height=params.panels.raster[1]-.15, \n",
    "                                     width=.1, \n",
    "                                     left=figsize[0]+.2, \n",
    "                                     bottom=figsize[1]-params.panels.schmatic[1]+params.panels.velocity[1])\n",
    "    cax2 = fig.add_subplot(gs2_c[:])\n",
    "    fig.colorbar(cm.ScalarMappable(),cax=cax2, ticks=(0,1),drawedges=False)\n",
    "    cax2.set_title('Normalised\\nfiring rate')\n",
    "\n",
    "\n",
    "    \n",
    "    \n",
    "    ##########################################\n",
    "    # 3: 3D projections\n",
    "    gs3   =utility.add_gridspec_abs(fig, nrows=1, ncols=5, left=0, \n",
    "                                    bottom=figsize[1]-params.panels.schmatic[1]-params.panels.proj_3d_align[1]-.3,\n",
    "                                    width=params.panels.proj_3d_align[0], \n",
    "                                    height=params.panels.proj_3d_align[1])\n",
    "\n",
    "    \n",
    "    axes3 = plot_monkey_pc_example(raster_example_df, gs3)\n",
    "    \n",
    "    \n",
    "    gs3_c = utility.add_gridspec_abs(fig, nrows=1, ncols=1, left=0,\n",
    "                                    bottom=(axes3[0].get_position().y0+axes3[0].get_position().y1)/2*figsize[1],\n",
    "                                    width=.2, height=0.2)\n",
    "    cax3 = fig.add_subplot(gs3_c[0],zorder=10)\n",
    "\n",
    "    utility.plot_targets(cax3,3)\n",
    "    cax3.set_xlim(np.array(cax3.get_xlim())*1.15)\n",
    "    cax3.set_ylim(np.array(cax3.get_ylim())*1.15)\n",
    "\n",
    "    \n",
    "    ##########################################\n",
    "    # 4: CCA plot for the example animals\n",
    "    gs4   =utility.add_gridspec_abs(fig, nrows=1, ncols=1,\n",
    "                                    left=0,\n",
    "                                    bottom=gs3.bottom*figsize[1]-params.panels.cca[1]-.3, \n",
    "                                    width=params.panels.cca[0],\n",
    "                                    height=params.panels.cca[1])\n",
    "\n",
    "    ax4 = fig.add_subplot(gs4[0])\n",
    "    \n",
    "    plot_cca_for_ex(ax4)\n",
    "    \n",
    "\n",
    "    \n",
    "    \n",
    "    ##########################################\n",
    "    # 5: CCA plot for population\n",
    "    gs5 = fig.add_gridspec(nrows=1, ncols=2,  width_ratios=(params.panels.cca[0],params.panels.cca_hist[0]-params.panels.cca[0]),\n",
    "                           left=gs4.right+(.7/figsize[0]),  # .7\" offset\n",
    "                           right=gs4.right+ (.7/figsize[0]) + params.panels.cca_hist[0]/figsize[0],\n",
    "                           bottom=gs4.bottom,\n",
    "                           top=gs4.top,\n",
    "                           wspace=0)\n",
    "\n",
    "    ax5 = fig.add_subplot(gs5[0])\n",
    "    ax5_ = fig.add_subplot(gs5[1])\n",
    "\n",
    "    #TODO: legend shouldn't overlap with the histogram\n",
    "    full_list_MCx, allDFs_MCx = get_full_monkey_data()\n",
    "    \n",
    "    plot_monkey_cca(ax5,ax5_, full_list_MCx, allDFs_MCx)\n",
    "    \n",
    "    \n",
    "    \n",
    "    ##########################################\n",
    "    # 6: Decoding for monkeys\n",
    "    gs6   =utility.add_gridspec_abs(fig, nrows=1, ncols=1,\n",
    "                                    top=gs5.top*figsize[1],\n",
    "                                    right=figsize[0],\n",
    "                                    width=params.panels.decoding_hist[0],\n",
    "                                    height=params.panels.decoding_hist[1])\n",
    "\n",
    "    ax6 = fig.add_subplot(gs6[0])\n",
    "\n",
    "       \n",
    "    plot_monkey_decoding(ax6, full_list_MCx, allDFs_MCx)\n",
    "\n",
    "    \n",
    "    \n",
    "    ##########################################\n",
    "    # 7: schematics Mouse\n",
    "    gs7   =utility.add_gridspec_abs(fig, nrows=1, ncols=1, left=0, \n",
    "                                    bottom=gs6.bottom*figsize[1]-params.panels.schmatic[1],\n",
    "                                    width=params.panels.schmatic[0],\n",
    "                                    height=params.panels.cca[1])\n",
    "    ax7   =fig.add_subplot(gs7[0])\n",
    "    ax7 = utility.phantom_axes(ax7)\n",
    "    ax7.set_facecolor([0,1,0,0])\n",
    "\n",
    "    \n",
    "    \n",
    "    \n",
    "    ##########################################\n",
    "    # 8: CCA plot for MICE\n",
    "    gs8 = fig.add_gridspec(nrows=1, ncols=2,  width_ratios=(params.panels.cca[0],params.panels.cca_hist[0]-params.panels.cca[0]),\n",
    "                           left=gs5.left,\n",
    "                           right=gs5.right,\n",
    "                           bottom=gs7.bottom,\n",
    "                           top=gs7.top,\n",
    "                           wspace=0)\n",
    "\n",
    "    ax8 = fig.add_subplot(gs8[0])\n",
    "    ax8_ = fig.add_subplot(gs8[1])\n",
    "    \n",
    "    \n",
    "    allDFs_M1, _ = get_full_mouse_data()\n",
    "    \n",
    "    plot_mouse_cca(ax8,ax8_, allDFs_M1)\n",
    "    \n",
    "    \n",
    "    \n",
    "    ##########################################\n",
    "    # 9: Behaviour vs CCA\n",
    "    gs9   =utility.add_gridspec_abs(fig, nrows=1, ncols=1,\n",
    "                                    top=gs7.top*figsize[1],\n",
    "                                    right=figsize[0],\n",
    "                                    width=params.panels.neuro_behav_corr[0],\n",
    "                                    height=params.panels.neuro_behav_corr[1])\n",
    "    gs9_inset   =utility.add_gridspec_abs(fig, nrows=1, ncols=1,\n",
    "                                                left=gs9.right*figsize[0]-.7,\n",
    "                                                bottom=gs9.bottom*figsize[1]+.1,\n",
    "                                                width=.7,\n",
    "                                                height=params.panels.TinyH)\n",
    "    ax9 = fig.add_subplot(gs9[0])\n",
    "    ax9_ = fig.add_subplot(gs9_inset[0])\n",
    "\n",
    "\n",
    "    \n",
    "    plot_mouse_cca_corr(ax9, allDFs_M1)\n",
    "    plot_monkey_cca_corr(ax9, allDFs_MCx)\n",
    "\n",
    "    plot_traj_corr(ax9_, allDFs_MCx, allDFs_M1)\n",
    "\n",
    "\n",
    "    \n",
    "    \n",
    "#     fig.align_ylabels([ax1,ax4])\n",
    "    #############################################\n",
    "    #%%%%%%%%%%%%%%%%%%%%%%%%%%%%%%%%%%%%%%%%%%%%\n",
    "    AXES=(ax1,axes2_1[0],axes3[0],ax4,ax5,ax6,ax7,ax8,ax9)\n",
    "    OFFX=np.array([.02]*len(AXES))\n",
    "    OFFY=np.array([.01]*len(AXES))\n",
    "    # OFFX[[-1]]=0.12\n",
    "    OFFX[[0,2,3,4,5,6,7,8]]=0.05\n",
    "    \n",
    "    params.add_panel_caption(axes=AXES, offsetX=OFFX, offsetY=OFFY)\n",
    "    \n",
    "    fig.savefig(params.figPath / 'figure2.pdf', format='pdf', bbox_inches='tight')\n",
    "    \n",
    "\n",
    "    ##########################################\n",
    "    # monkey schematics\n",
    " \n",
    "    thisPath  =str(params.figPath / 'figure2.pdf')\n",
    "    sketchPath=str(params.figPath / 'monkey-task-schematic.pdf')\n",
    "    if os.path.exists(sketchPath):\n",
    "        f1=ppdf.PdfFileReader(thisPath).getPage(0)\n",
    "        f2=ppdf.PdfFileReader(sketchPath).getPage(0)\n",
    "\n",
    "        f1.mergeTranslatedPage(page2=f2, tx=10, ty=347, expand=False)\n",
    "\n",
    "        writer=ppdf.PdfFileWriter()\n",
    "        writer.addPage(f1)\n",
    "        with open(thisPath,'wb') as f3:\n",
    "            writer.write(f3)\n",
    "\n",
    "\n",
    "\n",
    "    ##########################################\n",
    "    # mouse schematics\n",
    "            \n",
    "    thisPath  =str(params.figPath / 'figure2.pdf')\n",
    "    sketchPath=str(params.figPath / 'mouse-task-schematic.pdf')\n",
    "    if os.path.exists(sketchPath):\n",
    "        f1=ppdf.PdfFileReader(thisPath).getPage(0)\n",
    "        f2=ppdf.PdfFileReader(sketchPath).getPage(0)\n",
    "\n",
    "        f1.mergeTranslatedPage(page2=f2, tx=10, ty=20, expand=False)\n",
    "\n",
    "        writer=ppdf.PdfFileWriter()\n",
    "        writer.addPage(f1)\n",
    "        with open(thisPath,'wb') as f3:\n",
    "            writer.write(f3)"
   ]
  },
  {
   "cell_type": "code",
   "execution_count": null,
   "id": "617d57c3-54a3-47fd-8931-e1259f9541ac",
   "metadata": {},
   "outputs": [],
   "source": []
  }
 ],
 "metadata": {
  "kernelspec": {
   "display_name": "Python 3.10.4 ('cca')",
   "language": "python",
   "name": "python3"
  },
  "language_info": {
   "codemirror_mode": {
    "name": "ipython",
    "version": 3
   },
   "file_extension": ".py",
   "mimetype": "text/x-python",
   "name": "python",
   "nbconvert_exporter": "python",
   "pygments_lexer": "ipython3",
   "version": "3.10.5"
  },
  "vscode": {
   "interpreter": {
    "hash": "146bff742f048d001dec7fafb91c8daeb769f9aeaad9c8d129a83c9f9fb9a9b2"
   }
  }
 },
 "nbformat": 4,
 "nbformat_minor": 5
}
