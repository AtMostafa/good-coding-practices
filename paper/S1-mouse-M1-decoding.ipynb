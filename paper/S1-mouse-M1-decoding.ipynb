{
 "cells": [
  {
   "cell_type": "markdown",
   "id": "06debf48",
   "metadata": {},
   "source": [
    "# part0: imports"
   ]
  },
  {
   "cell_type": "code",
   "execution_count": 1,
   "id": "f206a049",
   "metadata": {},
   "outputs": [
    {
     "name": "stdout",
     "output_type": "stream",
     "text": [
      "Done!\n"
     ]
    }
   ],
   "source": [
    "%matplotlib inline\n",
    "\n",
    "\n",
    "import os, sys, pathlib\n",
    "from pprint import pprint\n",
    "import gc\n",
    "import pickle\n",
    "from importlib import reload\n",
    "import logging, warnings\n",
    "logging.basicConfig(level=logging.ERROR)\n",
    "warnings.simplefilter(\"ignore\")\n",
    "\n",
    "from IPython.display import display, clear_output\n",
    "\n",
    "from tqdm import tqdm\n",
    "import pandas as pd\n",
    "import numpy as np\n",
    "import sklearn\n",
    "from sklearn.decomposition import PCA\n",
    "import scipy.linalg as linalg\n",
    "import scipy.stats as stats\n",
    "from sklearn.linear_model import Ridge, LinearRegression\n",
    "from sklearn.model_selection import cross_val_score, KFold\n",
    "\n",
    "import matplotlib.pyplot as plt\n",
    "import matplotlib.cm as cm\n",
    "import matplotlib as mpl\n",
    "from matplotlib.ticker import MaxNLocator\n",
    "from matplotlib.collections import LineCollection\n",
    "\n",
    "import torch\n",
    "\n",
    "import pyaldata as pyal\n",
    "\n",
    "if \"__file__\" not in dir():\n",
    "    try:\n",
    "        nbPath = pathlib.Path.cwd()\n",
    "        RepoPath = nbPath.parent\n",
    "        os.chdir(RepoPath)\n",
    "\n",
    "        from tools import utilityTools as utility\n",
    "        from tools import dataTools as dt\n",
    "        from tools import lstm\n",
    "        import params\n",
    "        mouse_defs = params.mouse_defs\n",
    "        defs = mouse_defs\n",
    "\n",
    "        set_rc =  params.set_rc_params\n",
    "        set_rc()\n",
    "        root = params.root\n",
    "        reload(dt)\n",
    "        reload(defs)\n",
    "        reload(params)\n",
    "    finally:\n",
    "        os.chdir(nbPath)\n",
    "    \n",
    "    \n",
    "    %run \"S1-mouse-M1-decoding.ipynb\"\n",
    "    \n",
    "    print('Done!')"
   ]
  },
  {
   "cell_type": "markdown",
   "id": "5e751f1c-f06c-4fe4-a0bc-b2389ed43729",
   "metadata": {
    "tags": []
   },
   "source": [
    "# Part 1\n",
    "\n",
    "functions that plot each panel.\n"
   ]
  },
  {
   "cell_type": "code",
   "execution_count": 2,
   "id": "5c6334d0-a764-4eb0-95e9-8839b9141f1c",
   "metadata": {},
   "outputs": [],
   "source": [
    "@utility.report\n",
    "def get_full_mouse_data():\n",
    "    defs = mouse_defs\n",
    "    \n",
    "    animalList = ['mouse-data']\n",
    "    animalFiles = []\n",
    "    for animal in animalList:\n",
    "        animalFiles.extend(utility.find_file(root / animal, 'mat'))\n",
    "\n",
    "    AllDFs=[]\n",
    "    for fname in animalFiles:\n",
    "        df = dt.load_pyal_data(fname)\n",
    "        df['mouse'] = fname.split(os.sep)[-1][fname.split(os.sep)[-1].find('WR'):].split('_')[0]\n",
    "        df['file'] = fname.split(os.sep)[-1]\n",
    "        df = defs.prep_general_mouse(df)\n",
    "        AllDFs.append(df)\n",
    "\n",
    "    allDFs_M1 = []\n",
    "    for df in AllDFs:\n",
    "        if 'M1_rates' in df.columns:\n",
    "            allDFs_M1.append(df)\n",
    "\n",
    "\n",
    "    allDFs_Str = []\n",
    "    for df in AllDFs:\n",
    "        if 'Str_rates' in df.columns:\n",
    "            allDFs_Str.append(df)\n",
    "            \n",
    "    return allDFs_M1, allDFs_Str"
   ]
  },
  {
   "cell_type": "markdown",
   "id": "279b1374-2c25-4583-ac98-64cb40ed431c",
   "metadata": {},
   "source": [
    "---"
   ]
  },
  {
   "cell_type": "code",
   "execution_count": 2,
   "id": "11c0408e-e62e-43ac-8bec-4d908c4ca903",
   "metadata": {},
   "outputs": [],
   "source": [
    "@utility.report\n",
    "def plot_m1_decoding(ax, AllDFs):\n",
    "    defs = mouse_defs\n",
    "    \n",
    "    #=========================\n",
    "    within_score = {}\n",
    "    aligned_score = {}\n",
    "    unaligned_score = {}\n",
    "    for i, df1 in enumerate(AllDFs):\n",
    "        animal1 = df1.mouse[0]\n",
    "\n",
    "        AllData, AllVel = defs.get_data_array_and_vel([df1], defs.exec_epoch_decode, area=defs.areas[0],\n",
    "                                                    n_components=10)\n",
    "        # adding history\n",
    "        AllData = dt.add_history_to_data_array(AllData, defs.MAX_HISTORY)\n",
    "        AllData = AllData[...,defs.MAX_HISTORY:,:]\n",
    "        AllVel = AllVel[...,defs.MAX_HISTORY:,:]\n",
    "        *_,n_time,n_comp = AllData.shape\n",
    "        AllData1 = AllData[0,...]\n",
    "        AllVel1 = AllVel[0,...]\n",
    "        # resizing\n",
    "        X1 = AllData1.reshape((-1, n_time, n_comp))\n",
    "        AllVel1 = AllVel1.reshape((-1,n_time,3))\n",
    "\n",
    "        fold_score =[]\n",
    "        kf = KFold(n_splits=10)\n",
    "        for train_index, test_index in kf.split(X1[:,0,0]):\n",
    "            x_train, x_test = X1[train_index,...], X1[test_index,...]\n",
    "            y_train, y_test = AllVel1[train_index,...], AllVel1[test_index,...]\n",
    "\n",
    "            lstm_model = lstm.LSTMDecoder(input_dims=X1.shape[-1], output_dims=3)\n",
    "            lstm_model.fit(x_train=x_train, y_train=y_train, epochs = 10)\n",
    "            lstm_model.predict(x_test, y_test)\n",
    "            fold_score.append(lstm_model.score)\n",
    "        fold_score = np.median(fold_score)\n",
    "        within_score[df1.file[0]] = fold_score\n",
    "\n",
    "\n",
    "        aligned_score[df1.file[0]] = {}\n",
    "        unaligned_score[df1.file[0]] = {}\n",
    "        for j, df2 in enumerate(AllDFs):\n",
    "            if j < i: continue\n",
    "            animal2 = df2.mouse[0]\n",
    "            if animal1 == animal2: continue\n",
    "            \n",
    "            #================================\n",
    "            # Unaligned\n",
    "            AllData, AllVel = defs.get_data_array_and_vel([df1, df2], defs.exec_epoch_decode,\n",
    "                                                          area=defs.areas[0], n_components=defs.n_components)\n",
    "\n",
    "            # adding history\n",
    "            AllData = dt.add_history_to_data_array(AllData, defs.MAX_HISTORY)\n",
    "            AllData = AllData[...,defs.MAX_HISTORY:,:]\n",
    "            AllVel = AllVel[...,defs.MAX_HISTORY:,:]\n",
    "            AllData1 = AllData[0,...]\n",
    "            AllData2 = AllData[1,...]\n",
    "            AllVel1 = AllVel[0,...]\n",
    "            AllVel2 = AllVel[1,...]\n",
    "            # resizing\n",
    "            _,n_trial,n_time,n_comp = AllData1.shape\n",
    "            X1 = AllData1.reshape((-1,n_comp))\n",
    "            X2 = AllData2.reshape((-1,n_comp))\n",
    "            AllVel1 = AllVel1.reshape((-1,n_time,3))\n",
    "            AllVel2 = AllVel2.reshape((-1,n_time,3))\n",
    "\n",
    "            *_,U,V = dt.canoncorr(X1, X2, fullReturn=True)\n",
    "            U = U.reshape((-1,n_time,n_comp))\n",
    "            V = V.reshape((-1,n_time,n_comp))\n",
    "            X1 = X1.reshape((-1,n_time,n_comp))\n",
    "            X2 = X2.reshape((-1,n_time,n_comp))\n",
    "\n",
    "            lstm_model = lstm.LSTMDecoder(input_dims=U.shape[-1], output_dims=3)\n",
    "            lstm_model.fit(x_train=U, y_train=AllVel1)\n",
    "            lstm_model.predict(V, AllVel2)\n",
    "            aligned_score[df1.file[0]][df2.file[0]] = lstm_model.score\n",
    "\n",
    "            #================================\n",
    "            # Unaligned\n",
    "            lstm_model = lstm.LSTMDecoder(input_dims=X1.shape[-1], output_dims=3)\n",
    "            lstm_model.fit(x_train=X1, y_train=AllVel1)\n",
    "            lstm_model.predict(X2, AllVel2)\n",
    "            unaligned_score[df1.file[0]][df2.file[0]] = lstm_model.score\n",
    "\n",
    "    # return within_score, aligned_score, unaligned_score\n",
    "    #======================== PLOTTING\n",
    "    pop_within = np.array(list(within_score.values()))\n",
    "    pop_aligned = np.array([val for key in aligned_score for val in aligned_score[key].values()])\n",
    "    pop_unaligned = np.array([val for key in unaligned_score for val in unaligned_score[key].values()])\n",
    "\n",
    "    ax.errorbar(2, pop_aligned.mean(), np.std(pop_aligned), label='Across\\n' r'(\\textit{aligned})',\n",
    "                color=params.colors.MainCC, fmt='-o')    \n",
    "    ax.errorbar(1, pop_unaligned.mean(), np.std(pop_unaligned), label='Across\\n' r'(\\textit{unaligned})',\n",
    "                color=params.colors.LowerCC, fmt='-o')\n",
    "    ax.errorbar(0, pop_within.mean(), np.std(pop_within), label='Within',\n",
    "                color=params.colors.UpperCC, fmt='-o')\n",
    "\n",
    "\n",
    "    # ax.set_xlabel('Prediction accuracy ($R^2$)')\n",
    "    # ax.set_ylabel('Probability density', labelpad=1)\n",
    "    # ax.set_yticks([])\n",
    "    ax.set_ylim([0,1])\n",
    "    # ax.legend(loc='upper right', bbox_to_anchor=(1.1, 1))\n",
    "    # ax.spines['top'].set_visible(False)\n",
    "    # ax.spines['right'].set_visible(False)\n",
    "    # ax.spines['left'].set_visible(False)\n",
    "    # ax.spines['bottom'].set_bounds([0,1])\n"
   ]
  },
  {
   "cell_type": "code",
   "execution_count": 3,
   "id": "560a7318-01fb-417d-8292-6b861e9d4a93",
   "metadata": {},
   "outputs": [
    {
     "name": "stdout",
     "output_type": "stream",
     "text": [
      "Executed: `get_full_mouse_data` in 0.8s\n",
      "Running: `plot_m1_decoding`...\r"
     ]
    },
    {
     "ename": "NameError",
     "evalue": "name 'pop_score_across' is not defined",
     "output_type": "error",
     "traceback": [
      "\u001b[0;31m---------------------------------------------------------------------------\u001b[0m",
      "\u001b[0;31mNameError\u001b[0m                                 Traceback (most recent call last)",
      "\u001b[1;32m/home/msafaie/repos/multi-animal-alignment/paper/S1-mouse-M1-decoding.ipynb Cell 7\u001b[0m in \u001b[0;36m<cell line: 1>\u001b[0;34m()\u001b[0m\n\u001b[1;32m      <a href='vscode-notebook-cell://ssh-remote%2B129.31.69.91/home/msafaie/repos/multi-animal-alignment/paper/S1-mouse-M1-decoding.ipynb#W6sdnNjb2RlLXJlbW90ZQ%3D%3D?line=4'>5</a>\u001b[0m ax \u001b[39m=\u001b[39m fig\u001b[39m.\u001b[39madd_subplot()\n\u001b[1;32m      <a href='vscode-notebook-cell://ssh-remote%2B129.31.69.91/home/msafaie/repos/multi-animal-alignment/paper/S1-mouse-M1-decoding.ipynb#W6sdnNjb2RlLXJlbW90ZQ%3D%3D?line=7'>8</a>\u001b[0m allDFs_M1, _ \u001b[39m=\u001b[39m get_full_mouse_data()\n\u001b[0;32m---> <a href='vscode-notebook-cell://ssh-remote%2B129.31.69.91/home/msafaie/repos/multi-animal-alignment/paper/S1-mouse-M1-decoding.ipynb#W6sdnNjb2RlLXJlbW90ZQ%3D%3D?line=9'>10</a>\u001b[0m a \u001b[39m=\u001b[39m plot_m1_decoding(ax, allDFs_M1)\n\u001b[1;32m     <a href='vscode-notebook-cell://ssh-remote%2B129.31.69.91/home/msafaie/repos/multi-animal-alignment/paper/S1-mouse-M1-decoding.ipynb#W6sdnNjb2RlLXJlbW90ZQ%3D%3D?line=11'>12</a>\u001b[0m plt\u001b[39m.\u001b[39mshow()\n",
      "File \u001b[0;32m~/repos/multi-animal-alignment/tools/utilityTools.py:115\u001b[0m, in \u001b[0;36mreport.<locals>.inner\u001b[0;34m(*ar, **kar)\u001b[0m\n\u001b[1;32m    113\u001b[0m \u001b[39mprint\u001b[39m(\u001b[39mf\u001b[39m\u001b[39m'\u001b[39m\u001b[39mRunning: `\u001b[39m\u001b[39m{\u001b[39;00mfunc\u001b[39m.\u001b[39m\u001b[39m__name__\u001b[39m\u001b[39m}\u001b[39;00m\u001b[39m`...\u001b[39m\u001b[39m'\u001b[39m, end\u001b[39m=\u001b[39m\u001b[39m'\u001b[39m\u001b[39m\\r\u001b[39;00m\u001b[39m'\u001b[39m)\n\u001b[1;32m    114\u001b[0m start \u001b[39m=\u001b[39m time\u001b[39m.\u001b[39mtime()\n\u001b[0;32m--> 115\u001b[0m out \u001b[39m=\u001b[39m func(\u001b[39m*\u001b[39;49mar,\u001b[39m*\u001b[39;49m\u001b[39m*\u001b[39;49mkar)\n\u001b[1;32m    116\u001b[0m \u001b[39mprint\u001b[39m(\u001b[39mf\u001b[39m\u001b[39m'\u001b[39m\u001b[39mExecuted: `\u001b[39m\u001b[39m{\u001b[39;00mfunc\u001b[39m.\u001b[39m\u001b[39m__name__\u001b[39m\u001b[39m}\u001b[39;00m\u001b[39m` in \u001b[39m\u001b[39m{\u001b[39;00mtime\u001b[39m.\u001b[39mtime() \u001b[39m-\u001b[39m start\u001b[39m:\u001b[39;00m\u001b[39m.1f\u001b[39m\u001b[39m}\u001b[39;00m\u001b[39ms\u001b[39m\u001b[39m'\u001b[39m)\n\u001b[1;32m    117\u001b[0m \u001b[39mreturn\u001b[39;00m out\n",
      "\u001b[1;32m/home/msafaie/repos/multi-animal-alignment/paper/S1-mouse-M1-decoding.ipynb Cell 7\u001b[0m in \u001b[0;36mplot_m1_decoding\u001b[0;34m(ax, AllDFs)\u001b[0m\n\u001b[1;32m    <a href='vscode-notebook-cell://ssh-remote%2B129.31.69.91/home/msafaie/repos/multi-animal-alignment/paper/S1-mouse-M1-decoding.ipynb#W6sdnNjb2RlLXJlbW90ZQ%3D%3D?line=100'>101</a>\u001b[0m ax\u001b[39m.\u001b[39mset_ylim([\u001b[39m-\u001b[39m\u001b[39m1\u001b[39m,\u001b[39m1\u001b[39m])\n\u001b[1;32m    <a href='vscode-notebook-cell://ssh-remote%2B129.31.69.91/home/msafaie/repos/multi-animal-alignment/paper/S1-mouse-M1-decoding.ipynb#W6sdnNjb2RlLXJlbW90ZQ%3D%3D?line=101'>102</a>\u001b[0m \u001b[39m# ax.legend(loc='upper right', bbox_to_anchor=(1.1, 1))\u001b[39;00m\n\u001b[1;32m    <a href='vscode-notebook-cell://ssh-remote%2B129.31.69.91/home/msafaie/repos/multi-animal-alignment/paper/S1-mouse-M1-decoding.ipynb#W6sdnNjb2RlLXJlbW90ZQ%3D%3D?line=102'>103</a>\u001b[0m \u001b[39m# ax.spines['top'].set_visible(False)\u001b[39;00m\n\u001b[1;32m    <a href='vscode-notebook-cell://ssh-remote%2B129.31.69.91/home/msafaie/repos/multi-animal-alignment/paper/S1-mouse-M1-decoding.ipynb#W6sdnNjb2RlLXJlbW90ZQ%3D%3D?line=103'>104</a>\u001b[0m \u001b[39m# ax.spines['right'].set_visible(False)\u001b[39;00m\n\u001b[1;32m    <a href='vscode-notebook-cell://ssh-remote%2B129.31.69.91/home/msafaie/repos/multi-animal-alignment/paper/S1-mouse-M1-decoding.ipynb#W6sdnNjb2RlLXJlbW90ZQ%3D%3D?line=104'>105</a>\u001b[0m \u001b[39m# ax.spines['left'].set_visible(False)\u001b[39;00m\n\u001b[1;32m    <a href='vscode-notebook-cell://ssh-remote%2B129.31.69.91/home/msafaie/repos/multi-animal-alignment/paper/S1-mouse-M1-decoding.ipynb#W6sdnNjb2RlLXJlbW90ZQ%3D%3D?line=105'>106</a>\u001b[0m \u001b[39m# ax.spines['bottom'].set_bounds([0,1])\u001b[39;00m\n\u001b[0;32m--> <a href='vscode-notebook-cell://ssh-remote%2B129.31.69.91/home/msafaie/repos/multi-animal-alignment/paper/S1-mouse-M1-decoding.ipynb#W6sdnNjb2RlLXJlbW90ZQ%3D%3D?line=106'>107</a>\u001b[0m \u001b[39mreturn\u001b[39;00m pop_score_across\n",
      "\u001b[0;31mNameError\u001b[0m: name 'pop_score_across' is not defined"
     ]
    },
    {
     "data": {
      "image/png": "[encoded data removed]",
      "text/plain": [
       "<Figure size 600x400 with 1 Axes>"
      ]
     },
     "metadata": {
      "needs_background": "light"
     },
     "output_type": "display_data"
    }
   ],
   "source": [
    "if \"__file__\" not in dir():\n",
    "    plt.close('all')\n",
    "    set_rc()\n",
    "    fig=plt.figure(dpi=100)\n",
    "    ax = fig.add_subplot()\n",
    "\n",
    "    \n",
    "    allDFs_M1, _ = get_full_mouse_data()\n",
    "    \n",
    "    a = plot_m1_decoding(ax, allDFs_M1)\n",
    "    \n",
    "    plt.show()"
   ]
  },
  {
   "cell_type": "markdown",
   "id": "9a57de5a-38b2-422b-a50d-184660959178",
   "metadata": {},
   "source": [
    "# Part 2\n",
    "\n",
    "Plot figure"
   ]
  },
  {
   "cell_type": "code",
   "execution_count": 2,
   "id": "de05a700-b989-4d61-bc3f-7a627c8f7222",
   "metadata": {
    "tags": []
   },
   "outputs": [
    {
     "name": "stdout",
     "output_type": "stream",
     "text": [
      "Executed: `get_full_mouse_data` in 1.3s\n",
      "Running: `plot_m1_decoding`...\r"
     ]
    },
    {
     "name": "stderr",
     "output_type": "stream",
     "text": [
      "100%|██████████| 10/10 [00:07<00:00,  1.26it/s]\n",
      "100%|██████████| 10/10 [00:07<00:00,  1.40it/s]\n",
      "100%|██████████| 10/10 [00:07<00:00,  1.29it/s]\n",
      "100%|██████████| 10/10 [00:07<00:00,  1.35it/s]\n",
      "100%|██████████| 10/10 [00:07<00:00,  1.27it/s]\n",
      "100%|██████████| 10/10 [00:07<00:00,  1.25it/s]\n",
      "100%|██████████| 10/10 [00:07<00:00,  1.33it/s]\n",
      "100%|██████████| 10/10 [00:07<00:00,  1.38it/s]\n",
      "100%|██████████| 10/10 [00:06<00:00,  1.43it/s]\n",
      "100%|██████████| 10/10 [00:07<00:00,  1.40it/s]\n",
      "100%|██████████| 10/10 [00:07<00:00,  1.40it/s]\n",
      "100%|██████████| 10/10 [00:07<00:00,  1.35it/s]\n",
      "100%|██████████| 10/10 [00:08<00:00,  1.23it/s]\n",
      "100%|██████████| 10/10 [00:07<00:00,  1.40it/s]\n",
      "100%|██████████| 10/10 [00:07<00:00,  1.33it/s]\n",
      "100%|██████████| 10/10 [00:07<00:00,  1.33it/s]\n",
      "100%|██████████| 10/10 [00:07<00:00,  1.29it/s]\n",
      "100%|██████████| 10/10 [00:07<00:00,  1.33it/s]\n",
      "100%|██████████| 10/10 [00:07<00:00,  1.28it/s]\n",
      "100%|██████████| 10/10 [00:07<00:00,  1.33it/s]\n",
      "100%|██████████| 10/10 [00:07<00:00,  1.26it/s]\n",
      "100%|██████████| 10/10 [00:07<00:00,  1.25it/s]\n",
      "100%|██████████| 10/10 [00:08<00:00,  1.22it/s]\n",
      "100%|██████████| 10/10 [00:07<00:00,  1.32it/s]\n",
      "100%|██████████| 10/10 [00:08<00:00,  1.23it/s]\n",
      "100%|██████████| 10/10 [00:07<00:00,  1.28it/s]\n",
      "100%|██████████| 10/10 [00:08<00:00,  1.17it/s]\n",
      "100%|██████████| 10/10 [00:07<00:00,  1.31it/s]\n",
      "100%|██████████| 10/10 [00:08<00:00,  1.22it/s]\n",
      "100%|██████████| 10/10 [00:08<00:00,  1.18it/s]\n",
      "100%|██████████| 10/10 [00:05<00:00,  1.83it/s]\n",
      "100%|██████████| 10/10 [00:05<00:00,  1.92it/s]\n",
      "100%|██████████| 10/10 [00:05<00:00,  1.95it/s]\n",
      "100%|██████████| 10/10 [00:05<00:00,  1.80it/s]\n",
      "100%|██████████| 10/10 [00:05<00:00,  1.82it/s]\n",
      "100%|██████████| 10/10 [00:05<00:00,  1.88it/s]\n",
      "100%|██████████| 10/10 [00:05<00:00,  1.86it/s]\n",
      "100%|██████████| 10/10 [00:05<00:00,  1.83it/s]\n",
      "100%|██████████| 10/10 [00:05<00:00,  1.85it/s]\n",
      "100%|██████████| 10/10 [00:05<00:00,  1.85it/s]\n",
      "100%|██████████| 10/10 [00:04<00:00,  2.03it/s]\n",
      "100%|██████████| 10/10 [00:05<00:00,  1.94it/s]\n",
      "100%|██████████| 10/10 [00:05<00:00,  1.96it/s]\n",
      "100%|██████████| 10/10 [00:05<00:00,  1.90it/s]\n",
      "100%|██████████| 10/10 [00:05<00:00,  1.92it/s]\n",
      "100%|██████████| 10/10 [00:05<00:00,  1.92it/s]\n",
      "100%|██████████| 10/10 [00:04<00:00,  2.03it/s]\n",
      "100%|██████████| 10/10 [00:05<00:00,  1.87it/s]\n",
      "100%|██████████| 10/10 [00:05<00:00,  1.88it/s]\n",
      "100%|██████████| 10/10 [00:05<00:00,  1.88it/s]\n",
      "100%|██████████| 10/10 [00:05<00:00,  1.86it/s]\n",
      "100%|██████████| 10/10 [00:05<00:00,  1.77it/s]\n",
      "100%|██████████| 10/10 [00:05<00:00,  1.81it/s]\n",
      "100%|██████████| 10/10 [00:05<00:00,  1.80it/s]\n",
      "100%|██████████| 10/10 [00:05<00:00,  1.94it/s]\n",
      "100%|██████████| 10/10 [00:05<00:00,  1.78it/s]\n",
      "100%|██████████| 10/10 [00:05<00:00,  1.79it/s]\n",
      "100%|██████████| 10/10 [00:05<00:00,  1.81it/s]\n",
      "100%|██████████| 10/10 [00:05<00:00,  1.74it/s]\n",
      "100%|██████████| 10/10 [00:05<00:00,  1.71it/s]\n",
      "100%|██████████| 10/10 [00:08<00:00,  1.23it/s]\n",
      "100%|██████████| 10/10 [00:08<00:00,  1.22it/s]\n",
      "100%|██████████| 10/10 [00:06<00:00,  1.50it/s]\n",
      "100%|██████████| 10/10 [00:06<00:00,  1.66it/s]\n",
      "100%|██████████| 10/10 [00:07<00:00,  1.26it/s]\n",
      "100%|██████████| 10/10 [00:05<00:00,  1.94it/s]\n",
      "100%|██████████| 10/10 [00:05<00:00,  1.76it/s]\n",
      "100%|██████████| 10/10 [00:05<00:00,  1.73it/s]\n",
      "100%|██████████| 10/10 [00:07<00:00,  1.33it/s]\n",
      "100%|██████████| 10/10 [00:06<00:00,  1.43it/s]\n",
      "100%|██████████| 10/10 [00:06<00:00,  1.58it/s]\n",
      "100%|██████████| 10/10 [00:05<00:00,  1.97it/s]\n",
      "100%|██████████| 10/10 [00:04<00:00,  2.14it/s]\n",
      "100%|██████████| 10/10 [00:06<00:00,  1.53it/s]\n",
      "100%|██████████| 10/10 [00:06<00:00,  1.45it/s]\n",
      "100%|██████████| 10/10 [00:05<00:00,  1.78it/s]\n",
      "100%|██████████| 10/10 [00:04<00:00,  2.09it/s]\n",
      "100%|██████████| 10/10 [00:06<00:00,  1.65it/s]\n",
      "100%|██████████| 10/10 [00:04<00:00,  2.46it/s]\n",
      "100%|██████████| 10/10 [00:04<00:00,  2.24it/s]\n",
      "100%|██████████| 10/10 [00:04<00:00,  2.07it/s]\n",
      "100%|██████████| 10/10 [00:05<00:00,  1.69it/s]\n",
      "100%|██████████| 10/10 [00:05<00:00,  1.81it/s]\n",
      "100%|██████████| 10/10 [00:05<00:00,  1.79it/s]\n",
      "100%|██████████| 10/10 [00:04<00:00,  2.09it/s]\n",
      "100%|██████████| 10/10 [00:05<00:00,  1.80it/s]\n"
     ]
    },
    {
     "name": "stdout",
     "output_type": "stream",
     "text": [
      "Executed: `plot_m1_decoding` in 561.1s\n"
     ]
    },
    {
     "data": {
      "image/png": "[encoded data removed]",
      "text/plain": [
       "<Figure size 1200x720 with 1 Axes>"
      ]
     },
     "metadata": {
      "needs_background": "light"
     },
     "output_type": "display_data"
    }
   ],
   "source": [
    "if \"__file__\" not in dir():\n",
    "    plt.close('all')\n",
    "    set_rc()\n",
    "    figsize= params.panels.decoding_hist\n",
    "    fig=plt.figure(figsize=figsize)\n",
    "    \n",
    "   \n",
    "    \n",
    "    ##########################################\n",
    "    # 1: Decoding for mouse M1\n",
    "    gs1   =utility.add_gridspec_abs(fig, nrows=1, ncols=1,\n",
    "                                    top=figsize[0],\n",
    "                                    right=figsize[1],\n",
    "                                    width=params.panels.decoding_hist[0],\n",
    "                                    height=params.panels.decoding_hist[1])\n",
    "\n",
    "    ax1 = fig.add_subplot(gs1[0])\n",
    "\n",
    "       \n",
    "    allDFs_M1, _ = get_full_mouse_data()\n",
    "    \n",
    "    plot_m1_decoding(ax1, allDFs_M1)\n",
    "\n",
    "\n",
    "    \n",
    "    \n",
    "    #############################################\n",
    "    #%%%%%%%%%%%%%%%%%%%%%%%%%%%%%%%%%%%%%%%%%%%%\n",
    "#     AXES=(ax1,ax2,ax3,ax4,ax5,ax6)\n",
    "#     OFFX=np.array([.02]*len(AXES))\n",
    "#     OFFY=np.array([.03]*len(AXES))\n",
    "#     # OFFX[[-1]]=0.12\n",
    "#     # OFFX[[1]]=0.06\n",
    "    \n",
    "#     params.add_panel_caption(axes=AXES, offsetX=OFFX, offsetY=OFFY)\n",
    "\n",
    "    fig.savefig(params.figPath / 'figureS1-mouse-M1-decoding.pdf', format='pdf', bbox_inches='tight')"
   ]
  },
  {
   "cell_type": "code",
   "execution_count": null,
   "id": "313f2f68",
   "metadata": {},
   "outputs": [],
   "source": []
  }
 ],
 "metadata": {
  "kernelspec": {
   "display_name": "Python 3.10.4 ('cca')",
   "language": "python",
   "name": "python3"
  },
  "language_info": {
   "codemirror_mode": {
    "name": "ipython",
    "version": 3
   },
   "file_extension": ".py",
   "mimetype": "text/x-python",
   "name": "python",
   "nbconvert_exporter": "python",
   "pygments_lexer": "ipython3",
   "version": "3.10.5"
  },
  "vscode": {
   "interpreter": {
    "hash": "146bff742f048d001dec7fafb91c8daeb769f9aeaad9c8d129a83c9f9fb9a9b2"
   }
  }
 },
 "nbformat": 4,
 "nbformat_minor": 5
}
