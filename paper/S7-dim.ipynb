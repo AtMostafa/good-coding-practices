{
 "cells": [
  {
   "cell_type": "markdown",
   "id": "61b102c0",
   "metadata": {},
   "source": [
    "# part0: imports"
   ]
  },
  {
   "cell_type": "code",
   "execution_count": 1,
   "id": "00059128",
   "metadata": {
    "execution": {
     "iopub.execute_input": "2022-09-06T16:41:44.688361Z",
     "iopub.status.busy": "2022-09-06T16:41:44.688165Z",
     "iopub.status.idle": "2022-09-06T16:41:46.840034Z",
     "shell.execute_reply": "2022-09-06T16:41:46.838529Z"
    }
   },
   "outputs": [
    {
     "name": "stdout",
     "output_type": "stream",
     "text": [
      "Done\n"
     ]
    }
   ],
   "source": [
    "%matplotlib inline\n",
    "\n",
    "\n",
    "import os, sys, pathlib\n",
    "from pprint import pprint\n",
    "import gc, time\n",
    "import pickle\n",
    "from importlib import reload\n",
    "import logging, warnings\n",
    "logging.basicConfig(level=logging.ERROR)\n",
    "warnings.simplefilter(\"ignore\")\n",
    "\n",
    "import PyPDF2 as ppdf\n",
    "import pandas as pd\n",
    "import numpy as np\n",
    "import sklearn\n",
    "from sklearn.decomposition import PCA\n",
    "import scipy.linalg as linalg\n",
    "from sklearn.linear_model import Ridge, LinearRegression\n",
    "from sklearn.naive_bayes import GaussianNB\n",
    "from sklearn.model_selection import cross_val_score\n",
    "from sklearn.metrics import make_scorer, r2_score\n",
    "\n",
    "\n",
    "import matplotlib.pyplot as plt\n",
    "import matplotlib.cm as cm\n",
    "import matplotlib as mpl\n",
    "from matplotlib.ticker import MaxNLocator, FormatStrFormatter\n",
    "from matplotlib.collections import LineCollection\n",
    "\n",
    "\n",
    "import pyaldata as pyal\n",
    "\n",
    "if \"__file__\" not in dir():\n",
    "    try:\n",
    "        NBPath = pathlib.Path.cwd()\n",
    "        RepoPath = NBPath.parent\n",
    "        os.chdir(RepoPath)\n",
    "\n",
    "        from tools import utilityTools as utility\n",
    "        from tools import dataTools as dt\n",
    "        import params\n",
    "        reload(params)\n",
    "        monkey_defs = params.monkey_defs\n",
    "        mouse_defs = params.mouse_defs\n",
    "\n",
    "        set_rc =  params.set_rc_params\n",
    "        set_rc()\n",
    "        root = params.root\n",
    "\n",
    "        os.chdir(RepoPath / 'monkey')\n",
    "        %run \"_dataset-selection.ipynb\"\n",
    "\n",
    "    finally:\n",
    "        os.chdir(NBPath)\n",
    "\n",
    "    %run \"S7-dim.ipynb\"\n",
    "\n",
    "    print('Done')"
   ]
  },
  {
   "cell_type": "markdown",
   "id": "10aa2e5d-f25c-405a-ba73-2b2464c37b9e",
   "metadata": {},
   "source": [
    "# Part 1\n",
    "\n",
    "functions that plot each panel.\n"
   ]
  },
  {
   "cell_type": "markdown",
   "id": "10159e45-a434-4695-b186-89f64ecf058c",
   "metadata": {},
   "source": [
    "---\n",
    "\n",
    "monkey population CCA plot"
   ]
  },
  {
   "cell_type": "code",
   "execution_count": 9,
   "id": "d9fb936c-4ef3-4776-bd0f-bea0b5322a40",
   "metadata": {
    "execution": {
     "iopub.execute_input": "2022-09-06T16:41:46.846155Z",
     "iopub.status.busy": "2022-09-06T16:41:46.844073Z",
     "iopub.status.idle": "2022-09-06T16:41:46.859948Z",
     "shell.execute_reply": "2022-09-06T16:41:46.858828Z"
    }
   },
   "outputs": [],
   "source": [
    "@utility.report\n",
    "def get_full_monkey_data():\n",
    "    full_list_MCx = []\n",
    "    for animal, sessionList in GoodDataList[monkey_defs.areas[2]].items():\n",
    "        if 'Mr' in animal:\n",
    "            continue  # to remove MrT\n",
    "        full_list_MCx.append((animal,sessionList))\n",
    "    full_list_MCx = [(animal,session) for animal,sessions in full_list_MCx for session in set(sessions)]\n",
    "    # load the DFs\n",
    "    allDFs_MCx = []\n",
    "    for animal, session in full_list_MCx:\n",
    "        path = root/animal/session\n",
    "        allDFs_MCx.append(monkey_defs.prep_general(dt.load_pyal_data(path)))\n",
    "\n",
    "    return full_list_MCx, allDFs_MCx"
   ]
  },
  {
   "cell_type": "code",
   "execution_count": 10,
   "id": "55ab4f90-108f-4c22-a744-3a35db5b2038",
   "metadata": {
    "execution": {
     "iopub.execute_input": "2022-09-06T16:41:46.863570Z",
     "iopub.status.busy": "2022-09-06T16:41:46.863203Z",
     "iopub.status.idle": "2022-09-06T16:41:46.876615Z",
     "shell.execute_reply": "2022-09-06T16:41:46.875738Z"
    }
   },
   "outputs": [],
   "source": [
    "@utility.report\n",
    "def plot_monkey_cca_dim(ax, full_list_MCx, allDFs_MCx):\n",
    "    dim_range = range(2,20)\n",
    "\n",
    "    pairFileList1 = []\n",
    "    for I, (animal1,session1) in enumerate(full_list_MCx):\n",
    "        for J, (animal2,session2) in enumerate(full_list_MCx):\n",
    "            if J<=I or animal1 == animal2: continue  # to repetitions\n",
    "            if 'Chewie' in animal1 and 'Chewie' in animal2: continue \n",
    "            pairFileList1.append((I,J))\n",
    "\n",
    "    side1df = [allDFs_MCx[i] for i,_ in pairFileList1]\n",
    "    side2df = [allDFs_MCx[j] for _,j in pairFileList1]\n",
    "    \n",
    "    allCCs=np.empty((len(side1df), len(list(dim_range)))) * np.nan\n",
    "    for i, n_comp in enumerate(dim_range):\n",
    "        AllData1 = dt.get_data_array(side1df, monkey_defs.exec_epoch,\n",
    "                                     area=monkey_defs.areas[2], model=n_comp)\n",
    "        AllData2 = dt.get_data_array(side2df, monkey_defs.exec_epoch,\n",
    "                                     area=monkey_defs.areas[2], model=n_comp)\n",
    "        _,_, min_trials, min_time,_ = np.min((AllData1.shape,AllData2.shape),axis=0)\n",
    "        CCs= []\n",
    "        for sessionData1, sessionData2 in zip(AllData1, AllData2):\n",
    "            data1 = np.reshape(sessionData1[:,:min_trials,:min_time,:], (-1,n_comp))\n",
    "            data2 = np.reshape(sessionData2[:,:min_trials,:min_time,:], (-1,n_comp))\n",
    "            CCs.append(dt.canoncorr(data1, data2)[:4].mean())\n",
    "        allCCs [:,i]=CCs \n",
    "\n",
    "    # plotting\n",
    "    x_ = list(dim_range)\n",
    "    utility.shaded_errorbar(ax, x_, allCCs.T, color=params.colors.MonkeyPts, marker = 'o', label='Monkeys')\n",
    "\n",
    "    ax.set_ylim([-.05,1])\n",
    "    ax.set_xlim([x_[0]-.4,x_[-1]+.4])\n",
    "    ax.set_xlabel('Number of included neural mode')\n",
    "    ax.xaxis.set_major_locator(MaxNLocator(integer=True))\n",
    "    ax.set_ylabel('Average top 4 \\ncanonical correlation')\n",
    "    ax.spines['top'].set_visible(False)\n",
    "    ax.spines['right'].set_visible(False)\n",
    "    ax.spines['bottom'].set_bounds([x_[0], x_[-1]])\n",
    "    ax.spines['left'].set_bounds([0,1])\n",
    "    return allCCs\n"
   ]
  },
  {
   "cell_type": "code",
   "execution_count": 11,
   "id": "a9309735",
   "metadata": {},
   "outputs": [],
   "source": [
    "@utility.report\n",
    "def plot_monkey_cca_dim_prep(ax, full_list_MCx, allDFs_MCx):\n",
    "    dim_range = range(2,20)\n",
    "\n",
    "    pairFileList1 = []\n",
    "    for I, (animal1,session1) in enumerate(full_list_MCx):\n",
    "        for J, (animal2,session2) in enumerate(full_list_MCx):\n",
    "            if J<=I or animal1 == animal2: continue  # to repetitions\n",
    "            if 'Chewie' in animal1 and 'Chewie' in animal2: continue \n",
    "            if 'J' in animal1 or 'J' in animal2: continue\n",
    "            pairFileList1.append((I,J))\n",
    "\n",
    "    side1df = [allDFs_MCx[i] for i,_ in pairFileList1]\n",
    "    side2df = [allDFs_MCx[j] for _,j in pairFileList1]\n",
    "    \n",
    "    allCCs=np.empty((len(side1df), len(list(dim_range)))) * np.nan\n",
    "    for i, n_comp in enumerate(dim_range):\n",
    "        AllData1 = dt.get_data_array(side1df, monkey_defs.prep_epoch,\n",
    "                                     area=monkey_defs.areas[2], model=n_comp)\n",
    "        AllData2 = dt.get_data_array(side2df, monkey_defs.prep_epoch,\n",
    "                                     area=monkey_defs.areas[2], model=n_comp)\n",
    "        _,_, min_trials, min_time,_ = np.min((AllData1.shape,AllData2.shape),axis=0)\n",
    "        CCs= []\n",
    "        for sessionData1, sessionData2 in zip(AllData1, AllData2):\n",
    "            data1 = np.reshape(sessionData1[:,:min_trials,:min_time,:], (-1,n_comp))\n",
    "            data2 = np.reshape(sessionData2[:,:min_trials,:min_time,:], (-1,n_comp))\n",
    "            CCs.append(dt.canoncorr(data1, data2)[:4].mean())\n",
    "        allCCs [:,i]=CCs \n",
    "\n",
    "    # plotting\n",
    "    x_ = list(dim_range)\n",
    "    utility.shaded_errorbar(ax, x_, allCCs.T, color=params.colors.MonkeyPts, marker = 'o', label='Monkeys')\n",
    "\n",
    "    ax.set_ylim([-.05,1])\n",
    "    ax.set_xlim([x_[0]-.4,x_[-1]+.4])\n",
    "    ax.set_xlabel('Number of included neural mode')\n",
    "    ax.xaxis.set_major_locator(MaxNLocator(integer=True))\n",
    "    ax.set_ylabel('Average top 4 \\ncanonical correlation')\n",
    "    ax.spines['top'].set_visible(False)\n",
    "    ax.spines['right'].set_visible(False)\n",
    "    ax.spines['bottom'].set_bounds([x_[0], x_[-1]])\n",
    "    ax.spines['left'].set_bounds([0,1])\n",
    "    return allCCs\n"
   ]
  },
  {
   "cell_type": "code",
   "execution_count": 4,
   "id": "c6d8e701-2e04-41c4-bc4c-2383ef0badd5",
   "metadata": {
    "execution": {
     "iopub.execute_input": "2022-09-06T16:41:46.880443Z",
     "iopub.status.busy": "2022-09-06T16:41:46.880213Z",
     "iopub.status.idle": "2022-09-06T16:57:39.929668Z",
     "shell.execute_reply": "2022-09-06T16:57:39.929311Z"
    },
    "tags": []
   },
   "outputs": [
    {
     "name": "stdout",
     "output_type": "stream",
     "text": [
      "Executed: `get_full_monkey_data` in 30.8s\n",
      "Executed: `plot_monkey_cca_dim` in 921.9s\n"
     ]
    },
    {
     "data": {
      "image/png": "[encoded data removed]",
      "text/plain": [
       "<Figure size 600x400 with 1 Axes>"
      ]
     },
     "metadata": {
      "needs_background": "light"
     },
     "output_type": "display_data"
    }
   ],
   "source": [
    "if \"__file__\" not in dir():\n",
    "    plt.close('all')\n",
    "    set_rc()\n",
    "    fig=plt.figure(dpi=100)\n",
    "    gs = fig.add_gridspec(nrows=1, ncols=2, width_ratios=(5,1), wspace=0)\n",
    "\n",
    "    ax = fig.add_subplot(gs[0])\n",
    "\n",
    "    \n",
    "    full_list_MCx, allDFs_MCx = get_full_monkey_data()\n",
    "    \n",
    "    plot_monkey_cca_dim(ax, full_list_MCx, allDFs_MCx)\n",
    "    \n",
    "    plt.show()"
   ]
  },
  {
   "cell_type": "markdown",
   "id": "c6806511-6197-45b5-beb6-316a050c9c83",
   "metadata": {},
   "source": [
    "---\n",
    "\n",
    "Mouse CCA plot"
   ]
  },
  {
   "cell_type": "code",
   "execution_count": 12,
   "id": "22ceccd6-a508-4bef-84e7-9cffa87aed00",
   "metadata": {
    "execution": {
     "iopub.execute_input": "2022-09-06T16:57:39.931918Z",
     "iopub.status.busy": "2022-09-06T16:57:39.931709Z",
     "iopub.status.idle": "2022-09-06T16:57:39.935541Z",
     "shell.execute_reply": "2022-09-06T16:57:39.935239Z"
    }
   },
   "outputs": [],
   "source": [
    "@utility.report\n",
    "def get_full_mouse_data():\n",
    "    defs = mouse_defs\n",
    "    \n",
    "    animalList = ['mouse-data']\n",
    "    animalFiles = []\n",
    "    for animal in animalList:\n",
    "        animalFiles.extend(utility.find_file(root / animal, 'mat'))\n",
    "\n",
    "    AllDFs=[]\n",
    "    for fname in animalFiles:\n",
    "        df = dt.load_pyal_data(fname)\n",
    "        df['mouse'] = fname.split(os.sep)[-1][fname.split(os.sep)[-1].find('WR'):].split('_')[0]\n",
    "        df['file'] = fname.split(os.sep)[-1]\n",
    "        df = defs.prep_general_mouse(df)\n",
    "        AllDFs.append(df)\n",
    "\n",
    "    allDFs_M1 = []\n",
    "    for df in AllDFs:\n",
    "        if 'M1_rates' in df.columns:\n",
    "            allDFs_M1.append(df)\n",
    "\n",
    "\n",
    "    allDFs_Str = []\n",
    "    for df in AllDFs:\n",
    "        if 'Str_rates' in df.columns:\n",
    "            allDFs_Str.append(df)\n",
    "            \n",
    "    return allDFs_M1, allDFs_Str"
   ]
  },
  {
   "cell_type": "code",
   "execution_count": 4,
   "id": "c7231f59-8b48-4f87-a746-4a753c32730d",
   "metadata": {
    "execution": {
     "iopub.execute_input": "2022-09-06T16:57:39.938460Z",
     "iopub.status.busy": "2022-09-06T16:57:39.937813Z",
     "iopub.status.idle": "2022-09-06T16:57:39.945052Z",
     "shell.execute_reply": "2022-09-06T16:57:39.944754Z"
    }
   },
   "outputs": [],
   "source": [
    "@utility.report\n",
    "def plot_mouse_cca_dim(ax, allDFs_M1, area = 'M1'):\n",
    "    dim_range = range(2,20)\n",
    "\n",
    "    defs = mouse_defs\n",
    "    \n",
    "    pairFileList1 = []\n",
    "    for I, df1 in enumerate(allDFs_M1):\n",
    "        for J, (df2) in enumerate(allDFs_M1):\n",
    "            if J<=I or df1.mouse[0] == df2.mouse[0]: continue  # repetitions\n",
    "            pairFileList1.append((I,J))\n",
    "    side1df = [allDFs_M1[i] for i,_ in pairFileList1]\n",
    "    side2df = [allDFs_M1[j] for _,j in pairFileList1]\n",
    "\n",
    "    allCCs=np.empty((len(side1df), len(list(dim_range)))) * np.nan\n",
    "    for i, n_comp in enumerate(dim_range):\n",
    "        AllData1 = dt.get_data_array(side1df, defs.exec_epoch, area=area, model=n_comp)\n",
    "        AllData2 = dt.get_data_array(side2df, defs.exec_epoch, area=area, model=n_comp)\n",
    "        _,_, min_trials, min_time,_ = np.min((AllData1.shape,AllData2.shape), axis=0)\n",
    "        CCs=[]\n",
    "        for sessionData1,sessionData2 in zip(AllData1, AllData2):\n",
    "                data1 = np.reshape(sessionData1[:,:min_trials,:min_time,:], (-1,n_comp))\n",
    "                data2 = np.reshape(sessionData2[:,:min_trials,:min_time,:], (-1,n_comp))\n",
    "                CCs.append(dt.canoncorr(data1, data2)[:4].mean())\n",
    "        allCCs[:,i] = CCs\n",
    "\n",
    "\n",
    "    #====================================PLOTTING\n",
    "    \n",
    "    x_ = list(dim_range)\n",
    "    c = params.colors.MouseM1 if 'M' in area else params.colors.MouseStr\n",
    "    utility.shaded_errorbar(ax, x_, allCCs.T, color=c, marker = 'o', label=f'Mouse {area}')\n",
    "\n",
    "    ax.set_ylim([-.05,1])\n",
    "    ax.set_xlim([x_[0]-.4,x_[-1]+.4])\n",
    "    ax.set_xlabel('Number of included neural mode')\n",
    "    ax.xaxis.set_major_locator(MaxNLocator(integer=True))\n",
    "    ax.set_ylabel('Average top 4 \\ncanonical correlation')\n",
    "    ax.spines['top'].set_visible(False)\n",
    "    ax.spines['right'].set_visible(False)\n",
    "    ax.spines['bottom'].set_bounds([x_[0], x_[-1]])\n",
    "    ax.spines['left'].set_bounds([0,1])\n",
    "    return allCCs\n",
    "\n",
    "@utility.report\n",
    "def plot_mouse_cca_dim_prep(ax, allDFs_M1, area = 'M1'):\n",
    "    dim_range = range(2,20)\n",
    "\n",
    "    defs = mouse_defs\n",
    "    \n",
    "    pairFileList1 = []\n",
    "    for I, df1 in enumerate(allDFs_M1):\n",
    "        for J, (df2) in enumerate(allDFs_M1):\n",
    "            if J<=I or df1.mouse[0] == df2.mouse[0]: continue  # repetitions\n",
    "            pairFileList1.append((I,J))\n",
    "    side1df = [allDFs_M1[i] for i,_ in pairFileList1]\n",
    "    side2df = [allDFs_M1[j] for _,j in pairFileList1]\n",
    "\n",
    "    allCCs=np.empty((len(side1df), len(list(dim_range)))) * np.nan\n",
    "    for i, n_comp in enumerate(dim_range):\n",
    "        AllData1 = dt.get_data_array(side1df, defs.prep_epoch, area=area, model=n_comp)\n",
    "        AllData2 = dt.get_data_array(side2df, defs.prep_epoch, area=area, model=n_comp)\n",
    "        _,_, min_trials, min_time,_ = np.min((AllData1.shape,AllData2.shape), axis=0)\n",
    "        CCs=[]\n",
    "        for sessionData1,sessionData2 in zip(AllData1, AllData2):\n",
    "                data1 = np.reshape(sessionData1[:,:min_trials,:min_time,:], (-1,n_comp))\n",
    "                data2 = np.reshape(sessionData2[:,:min_trials,:min_time,:], (-1,n_comp))\n",
    "                CCs.append(dt.canoncorr(data1, data2)[:4].mean())\n",
    "        allCCs[:,i] = CCs\n",
    "\n",
    "\n",
    "    #====================================PLOTTING\n",
    "    \n",
    "    x_ = list(dim_range)\n",
    "    c = params.colors.MouseM1 if 'M' in area else params.colors.MouseStr\n",
    "    utility.shaded_errorbar(ax, x_, allCCs.T, color=c, marker = 'o', label=f'Mouse {area}')\n",
    "\n",
    "    ax.set_ylim([-.05,1])\n",
    "    ax.set_xlim([x_[0]-.4,x_[-1]+.4])\n",
    "    ax.set_xlabel('Number of included neural mode')\n",
    "    ax.xaxis.set_major_locator(MaxNLocator(integer=True))\n",
    "    ax.set_ylabel('Average top 4 \\ncanonical correlation')\n",
    "    ax.spines['top'].set_visible(False)\n",
    "    ax.spines['right'].set_visible(False)\n",
    "    ax.spines['bottom'].set_bounds([x_[0], x_[-1]])\n",
    "    ax.spines['left'].set_bounds([0,1])\n",
    "    return allCCs\n",
    "\n"
   ]
  },
  {
   "cell_type": "code",
   "execution_count": 7,
   "id": "6cc17a24-5dcc-43fe-9a37-0f6b11fa05a8",
   "metadata": {
    "execution": {
     "iopub.execute_input": "2022-09-06T16:57:39.947457Z",
     "iopub.status.busy": "2022-09-06T16:57:39.946819Z",
     "iopub.status.idle": "2022-09-06T16:58:04.995088Z",
     "shell.execute_reply": "2022-09-06T16:58:04.994694Z"
    }
   },
   "outputs": [
    {
     "name": "stdout",
     "output_type": "stream",
     "text": [
      "Executed: `get_full_mouse_data` in 1.0s\n",
      "Executed: `plot_mouse_cca_dim` in 23.8s\n"
     ]
    },
    {
     "data": {
      "image/png": "[encoded data removed]",
      "text/plain": [
       "<Figure size 600x400 with 1 Axes>"
      ]
     },
     "metadata": {
      "needs_background": "light"
     },
     "output_type": "display_data"
    }
   ],
   "source": [
    "if \"__file__\" not in dir():\n",
    "    plt.close('all')\n",
    "    set_rc()\n",
    "    fig=plt.figure(dpi=100)\n",
    "    gs = fig.add_gridspec(nrows=1, ncols=1, wspace=0)\n",
    "\n",
    "    ax = fig.add_subplot(gs[0])\n",
    "\n",
    "    allDFs_M1, allDFs_Str = get_full_mouse_data()\n",
    "    \n",
    "    plot_mouse_cca_dim(ax, allDFs_Str, 'Str')\n",
    "    \n",
    "    plt.show()"
   ]
  },
  {
   "cell_type": "markdown",
   "id": "3078eb21-79b2-4e9a-96be-f7cd141f9ed2",
   "metadata": {},
   "source": [
    "# Part 2\n",
    "Plot figure"
   ]
  },
  {
   "cell_type": "code",
   "execution_count": 5,
   "id": "dfde11e9-58cf-43f9-b95c-a132acb86d32",
   "metadata": {
    "execution": {
     "iopub.execute_input": "2022-09-06T16:58:04.997878Z",
     "iopub.status.busy": "2022-09-06T16:58:04.997210Z",
     "iopub.status.idle": "2022-09-06T17:04:42.668766Z",
     "shell.execute_reply": "2022-09-06T17:04:42.668261Z"
    }
   },
   "outputs": [
    {
     "name": "stdout",
     "output_type": "stream",
     "text": [
      "Executed: `get_full_monkey_data` in 15.2s\n",
      "Running: `plot_monkey_cca_dim`...\r"
     ]
    }
   ],
   "source": [
    "if \"__file__\" not in dir():\n",
    "    plt.close('all')\n",
    "    set_rc()\n",
    "    figsize= params.panels.cca\n",
    "    fig=plt.figure(figsize=figsize)\n",
    "    \n",
    "   \n",
    "\n",
    "    ##########################################\n",
    "    # 1: Monkey CCA\n",
    "    gs1 =utility.add_gridspec_abs(fig, nrows=1, ncols=2,\n",
    "                            bottom=0, left=0,\n",
    "                            right=1,  top=1, \n",
    "                            width = params.MedFig[0] * 2,\n",
    "                            height = params.MedFig[1])\n",
    "\n",
    "    ax1 = fig.add_subplot(gs1[0])\n",
    "    \n",
    "    full_list_MCx, allDFs_MCx = get_full_monkey_data()\n",
    "    \n",
    "    plot_monkey_cca_dim(ax1, full_list_MCx, allDFs_MCx)\n",
    "\n",
    "    \n",
    "    \n",
    "    ##########################################\n",
    "    # 2: MOUSE CCA M1 and Str\n",
    "\n",
    "    \n",
    "    allDFs_M1, allDFs_Str = get_full_mouse_data()\n",
    "\n",
    "\n",
    "    plot_mouse_cca_dim(ax1, allDFs_M1)\n",
    "    plot_mouse_cca_dim(ax1, allDFs_Str, 'Str')\n",
    "\n",
    "    ax1.legend()\n",
    "\n",
    "    ##########################################\n",
    "    # 1: Monkey CCA prep\n",
    "    ax2 = fig.add_subplot(gs1[1])\n",
    "    \n",
    "    full_list_MCx, allDFs_MCx = get_full_monkey_data()\n",
    "    \n",
    "    plot_monkey_cca_dim_prep(ax2, full_list_MCx, allDFs_MCx)\n",
    "\n",
    "    \n",
    "    \n",
    "    ##########################################\n",
    "    # 2: MOUSE CCA M1 and Str prep\n",
    "\n",
    "    \n",
    "    allDFs_M1, allDFs_Str = get_full_mouse_data()\n",
    "\n",
    "\n",
    "    plot_mouse_cca_dim_prep(ax2, allDFs_M1)\n",
    "    plot_mouse_cca_dim_prep(ax2, allDFs_Str, 'Str')\n",
    "\n",
    "    ax2.legend()\n",
    "    \n",
    "    \n",
    "#     fig.align_ylabels([ax1,ax4])\n",
    "    #############################################\n",
    "    #%%%%%%%%%%%%%%%%%%%%%%%%%%%%%%%%%%%%%%%%%%%%\n",
    "    # AXES=(ax1,ax2,ax3,ax4,ax5,ax6)\n",
    "    # OFFX=np.array([.02]*len(AXES))\n",
    "    # OFFY=np.array([.03]*len(AXES))\n",
    "    # OFFX[[-1]]=0.12\n",
    "    # OFFX[[1]]=0.06\n",
    "    \n",
    "    # params.add_panel_caption(axes=AXES, offsetX=OFFX, offsetY=OFFY)\n",
    "\n",
    "    fig.savefig(params.figPath / 'figureS7-dim.pdf', format='pdf', bbox_inches='tight')"
   ]
  },
  {
   "cell_type": "code",
   "execution_count": null,
   "id": "71b1b5a5-5f68-4d64-8b0a-3a231f77f22d",
   "metadata": {},
   "outputs": [],
   "source": []
  }
 ],
 "metadata": {
  "kernelspec": {
   "display_name": "cca",
   "language": "python",
   "name": "python3"
  },
  "language_info": {
   "codemirror_mode": {
    "name": "ipython",
    "version": 3
   },
   "file_extension": ".py",
   "mimetype": "text/x-python",
   "name": "python",
   "nbconvert_exporter": "python",
   "pygments_lexer": "ipython3",
   "version": "3.10.5"
  },
  "vscode": {
   "interpreter": {
    "hash": "146bff742f048d001dec7fafb91c8daeb769f9aeaad9c8d129a83c9f9fb9a9b2"
   }
  }
 },
 "nbformat": 4,
 "nbformat_minor": 5
}
