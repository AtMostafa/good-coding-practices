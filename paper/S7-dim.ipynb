{
 "cells": [
  {
   "cell_type": "markdown",
   "id": "61b102c0",
   "metadata": {},
   "source": [
    "# part0: imports"
   ]
  },
  {
   "cell_type": "code",
   "execution_count": 1,
   "id": "00059128",
   "metadata": {},
   "outputs": [
    {
     "name": "stdout",
     "output_type": "stream",
     "text": [
      "the variable `GoodDataList` contains the session names\n",
      "Done\n"
     ]
    }
   ],
   "source": [
    "%matplotlib inline\n",
    "\n",
    "\n",
    "import os, sys, pathlib\n",
    "from pprint import pprint\n",
    "import gc, time\n",
    "import pickle\n",
    "from importlib import reload\n",
    "import logging, warnings\n",
    "logging.basicConfig(level=logging.ERROR)\n",
    "warnings.simplefilter(\"ignore\")\n",
    "\n",
    "import PyPDF2 as ppdf\n",
    "import pandas as pd\n",
    "import numpy as np\n",
    "import sklearn\n",
    "from sklearn.decomposition import PCA\n",
    "import scipy.linalg as linalg\n",
    "from sklearn.linear_model import Ridge, LinearRegression\n",
    "from sklearn.naive_bayes import GaussianNB\n",
    "from sklearn.model_selection import cross_val_score\n",
    "from sklearn.metrics import make_scorer, r2_score\n",
    "\n",
    "\n",
    "import matplotlib.pyplot as plt\n",
    "import matplotlib.cm as cm\n",
    "import matplotlib as mpl\n",
    "from matplotlib.ticker import MaxNLocator, FormatStrFormatter\n",
    "from matplotlib.collections import LineCollection\n",
    "\n",
    "\n",
    "import pyaldata as pyal\n",
    "\n",
    "if \"__file__\" not in dir():\n",
    "    try:\n",
    "        NBPath = pathlib.Path.cwd()\n",
    "        RepoPath = NBPath.parent\n",
    "        os.chdir(RepoPath)\n",
    "\n",
    "        from tools import utilityTools as utility\n",
    "        from tools import dataTools as dt\n",
    "        import params\n",
    "        reload(params)\n",
    "        monkey_defs = params.monkey_defs\n",
    "        mouse_defs = params.mouse_defs\n",
    "\n",
    "        set_rc =  params.set_rc_params\n",
    "        set_rc()\n",
    "        root = params.root\n",
    "\n",
    "        os.chdir(RepoPath / 'monkey')\n",
    "        %run \"_dataset-selection.ipynb\"\n",
    "\n",
    "    finally:\n",
    "        os.chdir(NBPath)\n",
    "\n",
    "    %run \"S7-dim.ipynb\"\n",
    "\n",
    "    print('Done')"
   ]
  },
  {
   "cell_type": "markdown",
   "id": "10aa2e5d-f25c-405a-ba73-2b2464c37b9e",
   "metadata": {},
   "source": [
    "# Part 1\n",
    "\n",
    "functions that plot each panel.\n"
   ]
  },
  {
   "cell_type": "markdown",
   "id": "10159e45-a434-4695-b186-89f64ecf058c",
   "metadata": {},
   "source": [
    "---\n",
    "\n",
    "monkey population CCA plot"
   ]
  },
  {
   "cell_type": "code",
   "execution_count": 2,
   "id": "d9fb936c-4ef3-4776-bd0f-bea0b5322a40",
   "metadata": {},
   "outputs": [],
   "source": [
    "@utility.report\n",
    "def get_full_monkey_data():\n",
    "    full_list_MCx = []\n",
    "    for animal, sessionList in GoodDataList[monkey_defs.areas[2]].items():\n",
    "        if 'Mr' in animal:\n",
    "            continue  # to remove MrT\n",
    "        full_list_MCx.append((animal,sessionList))\n",
    "    full_list_MCx = [(animal,session) for animal,sessions in full_list_MCx for session in set(sessions)]\n",
    "    # load the DFs\n",
    "    allDFs_MCx = []\n",
    "    for animal, session in full_list_MCx:\n",
    "        path = root/animal/session\n",
    "        allDFs_MCx.append(monkey_defs.prep_general(dt.load_pyal_data(path)))\n",
    "\n",
    "    return full_list_MCx, allDFs_MCx"
   ]
  },
  {
   "cell_type": "code",
   "execution_count": 29,
   "id": "55ab4f90-108f-4c22-a744-3a35db5b2038",
   "metadata": {},
   "outputs": [],
   "source": [
    "@utility.report\n",
    "def plot_monkey_cca_dim(ax, full_list_MCx, allDFs_MCx):\n",
    "    dim_range = range(7,15)\n",
    "\n",
    "    pairFileList1 = []\n",
    "    for I, (animal1,session1) in enumerate(full_list_MCx):\n",
    "        for J, (animal2,session2) in enumerate(full_list_MCx):\n",
    "            if J<=I or animal1 == animal2: continue  # to repetitions\n",
    "            if 'Chewie' in animal1 and 'Chewie' in animal2: continue \n",
    "            pairFileList1.append((I,J))\n",
    "\n",
    "    side1df = [allDFs_MCx[i] for i,_ in pairFileList1]\n",
    "    side2df = [allDFs_MCx[j] for _,j in pairFileList1]\n",
    "    \n",
    "    allCCs=np.empty((len(side1df), len(list(dim_range)))) * np.nan\n",
    "    for i, n_comp in enumerate(dim_range):\n",
    "        AllData1 = dt.get_data_array(side1df, monkey_defs.exec_epoch,\n",
    "                                     area=monkey_defs.areas[2], model=n_comp)\n",
    "        AllData2 = dt.get_data_array(side2df, monkey_defs.exec_epoch,\n",
    "                                     area=monkey_defs.areas[2], model=n_comp)\n",
    "        _,_, min_trials, min_time,_ = np.min((AllData1.shape,AllData2.shape),axis=0)\n",
    "        CCs= []\n",
    "        for sessionData1, sessionData2 in zip(AllData1, AllData2):\n",
    "            data1 = np.reshape(sessionData1[:,:min_trials,:min_time,:], (-1,n_comp))\n",
    "            data2 = np.reshape(sessionData2[:,:min_trials,:min_time,:], (-1,n_comp))\n",
    "            CCs.append(dt.canoncorr(data1, data2)[:4].mean())\n",
    "        allCCs [:,i]=CCs \n",
    "\n",
    "    # plotting\n",
    "    x_ = list(dim_range)\n",
    "    utility.shaded_errorbar(ax, x_, allCCs.T, color=params.colors.MainCC, marker = 'o', label='Monkeys')\n",
    "\n",
    "    ax.set_ylim([-.05,1])\n",
    "    ax.set_xlim([x_[0]-.4,x_[-1]+.4])\n",
    "    ax.set_xlabel('Number of included neural mode')\n",
    "    ax.xaxis.set_major_locator(MaxNLocator(integer=True))\n",
    "    ax.set_ylabel('Average top 4 \\ncanonical correlation')\n",
    "    ax.spines['top'].set_visible(False)\n",
    "    ax.spines['right'].set_visible(False)\n",
    "    ax.spines['bottom'].set_bounds([x_[0], x_[-1]])\n",
    "    ax.spines['left'].set_bounds([0,1])\n",
    "    return allCCs\n"
   ]
  },
  {
   "cell_type": "code",
   "execution_count": 30,
   "id": "c6d8e701-2e04-41c4-bc4c-2383ef0badd5",
   "metadata": {
    "tags": []
   },
   "outputs": [
    {
     "name": "stdout",
     "output_type": "stream",
     "text": [
      "Executed: `plot_monkey_cca_dim` in 42.0s\n"
     ]
    },
    {
     "data": {
      "image/png": "[encoded data removed]",
      "text/plain": [
       "<Figure size 600x400 with 1 Axes>"
      ]
     },
     "metadata": {
      "needs_background": "light"
     },
     "output_type": "display_data"
    }
   ],
   "source": [
    "if \"__file__\" not in dir():\n",
    "    plt.close('all')\n",
    "    set_rc()\n",
    "    fig=plt.figure(dpi=100)\n",
    "    gs = fig.add_gridspec(nrows=1, ncols=2, width_ratios=(5,1), wspace=0)\n",
    "\n",
    "    ax = fig.add_subplot(gs[0])\n",
    "\n",
    "    \n",
    "    # full_list_MCx, allDFs_MCx = get_full_monkey_data()\n",
    "    \n",
    "    plot_monkey_cca_dim(ax, full_list_MCx, allDFs_MCx)\n",
    "    \n",
    "    plt.show()"
   ]
  },
  {
   "cell_type": "markdown",
   "id": "c6806511-6197-45b5-beb6-316a050c9c83",
   "metadata": {},
   "source": [
    "---\n",
    "\n",
    "Mouse CCA plot"
   ]
  },
  {
   "cell_type": "code",
   "execution_count": 3,
   "id": "22ceccd6-a508-4bef-84e7-9cffa87aed00",
   "metadata": {},
   "outputs": [],
   "source": [
    "@utility.report\n",
    "def get_full_mouse_data():\n",
    "    defs = mouse_defs\n",
    "    \n",
    "    animalList = ['mouse-data']\n",
    "    animalFiles = []\n",
    "    for animal in animalList:\n",
    "        animalFiles.extend(utility.find_file(root / animal, 'mat'))\n",
    "\n",
    "    AllDFs=[]\n",
    "    for fname in animalFiles:\n",
    "        df = dt.load_pyal_data(fname)\n",
    "        df['mouse'] = fname.split(os.sep)[-1][fname.split(os.sep)[-1].find('WR'):].split('_')[0]\n",
    "        df['file'] = fname.split(os.sep)[-1]\n",
    "        df = defs.prep_general_mouse(df)\n",
    "        AllDFs.append(df)\n",
    "\n",
    "    allDFs_M1 = []\n",
    "    for df in AllDFs:\n",
    "        if 'M1_rates' in df.columns:\n",
    "            allDFs_M1.append(df)\n",
    "\n",
    "\n",
    "    allDFs_Str = []\n",
    "    for df in AllDFs:\n",
    "        if 'Str_rates' in df.columns:\n",
    "            allDFs_Str.append(df)\n",
    "            \n",
    "    return allDFs_M1, allDFs_Str"
   ]
  },
  {
   "cell_type": "code",
   "execution_count": 35,
   "id": "c7231f59-8b48-4f87-a746-4a753c32730d",
   "metadata": {},
   "outputs": [],
   "source": [
    "@utility.report\n",
    "def plot_mouse_cca_dim(ax, allDFs_M1, area = 'M1'):\n",
    "    dim_range = range(7,15)\n",
    "\n",
    "    defs = mouse_defs\n",
    "    \n",
    "    pairFileList1 = []\n",
    "    for I, df1 in enumerate(allDFs_M1):\n",
    "        for J, (df2) in enumerate(allDFs_M1):\n",
    "            if J<=I or df1.mouse[0] == df2.mouse[0]: continue  # repetitions\n",
    "            pairFileList1.append((I,J))\n",
    "    side1df = [allDFs_M1[i] for i,_ in pairFileList1]\n",
    "    side2df = [allDFs_M1[j] for _,j in pairFileList1]\n",
    "\n",
    "    allCCs=np.empty((len(side1df), len(list(dim_range)))) * np.nan\n",
    "    for i, n_comp in enumerate(dim_range):\n",
    "        AllData1 = dt.get_data_array(side1df, defs.exec_epoch, area=area, model=n_comp)\n",
    "        AllData2 = dt.get_data_array(side2df, defs.exec_epoch, area=area, model=n_comp)\n",
    "        _,_, min_trials, min_time,_ = np.min((AllData1.shape,AllData2.shape), axis=0)\n",
    "        CCs=[]\n",
    "        for sessionData1,sessionData2 in zip(AllData1, AllData2):\n",
    "                data1 = np.reshape(sessionData1[:,:min_trials,:min_time,:], (-1,n_comp))\n",
    "                data2 = np.reshape(sessionData2[:,:min_trials,:min_time,:], (-1,n_comp))\n",
    "                CCs.append(dt.canoncorr(data1, data2)[:4].mean())\n",
    "        allCCs[:,i] = CCs\n",
    "\n",
    "\n",
    "    #====================================PLOTTING\n",
    "    \n",
    "    x_ = list(dim_range)\n",
    "    utility.shaded_errorbar(ax, x_, allCCs.T, color=params.colors.MainCC, marker = 'o', label=f'Mouse {area}')\n",
    "\n",
    "    ax.set_ylim([-.05,1])\n",
    "    ax.set_xlim([x_[0]-.4,x_[-1]+.4])\n",
    "    ax.set_xlabel('Number of included neural mode')\n",
    "    ax.xaxis.set_major_locator(MaxNLocator(integer=True))\n",
    "    ax.set_ylabel('Average top 4 \\ncanonical correlation')\n",
    "    ax.spines['top'].set_visible(False)\n",
    "    ax.spines['right'].set_visible(False)\n",
    "    ax.spines['bottom'].set_bounds([x_[0], x_[-1]])\n",
    "    ax.spines['left'].set_bounds([0,1])\n",
    "    return allCCs\n"
   ]
  },
  {
   "cell_type": "code",
   "execution_count": 38,
   "id": "6cc17a24-5dcc-43fe-9a37-0f6b11fa05a8",
   "metadata": {},
   "outputs": [
    {
     "name": "stdout",
     "output_type": "stream",
     "text": [
      "Executed: `get_full_mouse_data` in 1.2s\n",
      "Executed: `plot_mouse_cca` in 12.9s\n"
     ]
    },
    {
     "data": {
      "image/png": "[encoded data removed]",
      "text/plain": [
       "<Figure size 600x400 with 1 Axes>"
      ]
     },
     "metadata": {
      "needs_background": "light"
     },
     "output_type": "display_data"
    }
   ],
   "source": [
    "if \"__file__\" not in dir():\n",
    "    plt.close('all')\n",
    "    set_rc()\n",
    "    fig=plt.figure(dpi=100)\n",
    "    gs = fig.add_gridspec(nrows=1, ncols=1, wspace=0)\n",
    "\n",
    "    ax = fig.add_subplot(gs[0])\n",
    "\n",
    "    allDFs_M1, allDFs_Str = get_full_mouse_data()\n",
    "    \n",
    "    plot_mouse_cca_dim(ax, allDFs_Str, 'Str')\n",
    "    \n",
    "    plt.show()"
   ]
  },
  {
   "cell_type": "markdown",
   "id": "3078eb21-79b2-4e9a-96be-f7cd141f9ed2",
   "metadata": {},
   "source": [
    "# Part 2\n",
    "Plot figure"
   ]
  },
  {
   "cell_type": "code",
   "execution_count": 42,
   "id": "dfde11e9-58cf-43f9-b95c-a132acb86d32",
   "metadata": {},
   "outputs": [
    {
     "name": "stdout",
     "output_type": "stream",
     "text": [
      "Executed: `get_full_monkey_data` in 22.9s\n",
      "Running: `plot_monkey_cca_dim`...\r"
     ]
    },
    {
     "ename": "KeyboardInterrupt",
     "evalue": "",
     "output_type": "error",
     "traceback": [
      "\u001b[0;31m---------------------------------------------------------------------------\u001b[0m",
      "\u001b[0;31mKeyboardInterrupt\u001b[0m                         Traceback (most recent call last)",
      "\u001b[1;32m/home/msafaie/REPOS/multi-animal-alignment/paper/S7-dim.ipynb Cell 13\u001b[0m in \u001b[0;36m<cell line: 1>\u001b[0;34m()\u001b[0m\n\u001b[1;32m     <a href='vscode-notebook-cell:/home/msafaie/REPOS/multi-animal-alignment/paper/S7-dim.ipynb#ch0000012?line=14'>15</a>\u001b[0m ax1 \u001b[39m=\u001b[39m fig\u001b[39m.\u001b[39madd_subplot(gs1[\u001b[39m0\u001b[39m])\n\u001b[1;32m     <a href='vscode-notebook-cell:/home/msafaie/REPOS/multi-animal-alignment/paper/S7-dim.ipynb#ch0000012?line=16'>17</a>\u001b[0m full_list_MCx, allDFs_MCx \u001b[39m=\u001b[39m get_full_monkey_data()\n\u001b[0;32m---> <a href='vscode-notebook-cell:/home/msafaie/REPOS/multi-animal-alignment/paper/S7-dim.ipynb#ch0000012?line=18'>19</a>\u001b[0m plot_monkey_cca_dim(ax1, full_list_MCx, allDFs_MCx)\n\u001b[1;32m     <a href='vscode-notebook-cell:/home/msafaie/REPOS/multi-animal-alignment/paper/S7-dim.ipynb#ch0000012?line=22'>23</a>\u001b[0m \u001b[39m##########################################\u001b[39;00m\n\u001b[1;32m     <a href='vscode-notebook-cell:/home/msafaie/REPOS/multi-animal-alignment/paper/S7-dim.ipynb#ch0000012?line=23'>24</a>\u001b[0m \u001b[39m# 2: MOUSE CCA M1 and Str\u001b[39;00m\n\u001b[1;32m     <a href='vscode-notebook-cell:/home/msafaie/REPOS/multi-animal-alignment/paper/S7-dim.ipynb#ch0000012?line=26'>27</a>\u001b[0m allDFs_M1, _ \u001b[39m=\u001b[39m get_full_mouse_data()\n",
      "File \u001b[0;32m~/REPOS/multi-animal-alignment/tools/utilityTools.py:115\u001b[0m, in \u001b[0;36mreport.<locals>.inner\u001b[0;34m(*ar, **kar)\u001b[0m\n\u001b[1;32m    113\u001b[0m \u001b[39mprint\u001b[39m(\u001b[39mf\u001b[39m\u001b[39m'\u001b[39m\u001b[39mRunning: `\u001b[39m\u001b[39m{\u001b[39;00mfunc\u001b[39m.\u001b[39m\u001b[39m__name__\u001b[39m\u001b[39m}\u001b[39;00m\u001b[39m`...\u001b[39m\u001b[39m'\u001b[39m, end\u001b[39m=\u001b[39m\u001b[39m'\u001b[39m\u001b[39m\\r\u001b[39;00m\u001b[39m'\u001b[39m)\n\u001b[1;32m    114\u001b[0m start \u001b[39m=\u001b[39m time\u001b[39m.\u001b[39mtime()\n\u001b[0;32m--> 115\u001b[0m out \u001b[39m=\u001b[39m func(\u001b[39m*\u001b[39;49mar,\u001b[39m*\u001b[39;49m\u001b[39m*\u001b[39;49mkar)\n\u001b[1;32m    116\u001b[0m \u001b[39mprint\u001b[39m(\u001b[39mf\u001b[39m\u001b[39m'\u001b[39m\u001b[39mExecuted: `\u001b[39m\u001b[39m{\u001b[39;00mfunc\u001b[39m.\u001b[39m\u001b[39m__name__\u001b[39m\u001b[39m}\u001b[39;00m\u001b[39m` in \u001b[39m\u001b[39m{\u001b[39;00mtime\u001b[39m.\u001b[39mtime() \u001b[39m-\u001b[39m start\u001b[39m:\u001b[39;00m\u001b[39m.1f\u001b[39m\u001b[39m}\u001b[39;00m\u001b[39ms\u001b[39m\u001b[39m'\u001b[39m)\n\u001b[1;32m    117\u001b[0m \u001b[39mreturn\u001b[39;00m out\n",
      "\u001b[1;32m/home/msafaie/REPOS/multi-animal-alignment/paper/S7-dim.ipynb Cell 13\u001b[0m in \u001b[0;36mplot_monkey_cca_dim\u001b[0;34m(ax, full_list_MCx, allDFs_MCx)\u001b[0m\n\u001b[1;32m     <a href='vscode-notebook-cell:/home/msafaie/REPOS/multi-animal-alignment/paper/S7-dim.ipynb#ch0000012?line=15'>16</a>\u001b[0m \u001b[39mfor\u001b[39;00m i, n_comp \u001b[39min\u001b[39;00m \u001b[39menumerate\u001b[39m(dim_range):\n\u001b[1;32m     <a href='vscode-notebook-cell:/home/msafaie/REPOS/multi-animal-alignment/paper/S7-dim.ipynb#ch0000012?line=16'>17</a>\u001b[0m     AllData1 \u001b[39m=\u001b[39m dt\u001b[39m.\u001b[39mget_data_array(side1df, monkey_defs\u001b[39m.\u001b[39mexec_epoch,\n\u001b[1;32m     <a href='vscode-notebook-cell:/home/msafaie/REPOS/multi-animal-alignment/paper/S7-dim.ipynb#ch0000012?line=17'>18</a>\u001b[0m                                  area\u001b[39m=\u001b[39mmonkey_defs\u001b[39m.\u001b[39mareas[\u001b[39m2\u001b[39m], model\u001b[39m=\u001b[39mn_comp)\n\u001b[0;32m---> <a href='vscode-notebook-cell:/home/msafaie/REPOS/multi-animal-alignment/paper/S7-dim.ipynb#ch0000012?line=18'>19</a>\u001b[0m     AllData2 \u001b[39m=\u001b[39m dt\u001b[39m.\u001b[39;49mget_data_array(side2df, monkey_defs\u001b[39m.\u001b[39;49mexec_epoch,\n\u001b[1;32m     <a href='vscode-notebook-cell:/home/msafaie/REPOS/multi-animal-alignment/paper/S7-dim.ipynb#ch0000012?line=19'>20</a>\u001b[0m                                  area\u001b[39m=\u001b[39;49mmonkey_defs\u001b[39m.\u001b[39;49mareas[\u001b[39m2\u001b[39;49m], model\u001b[39m=\u001b[39;49mn_comp)\n\u001b[1;32m     <a href='vscode-notebook-cell:/home/msafaie/REPOS/multi-animal-alignment/paper/S7-dim.ipynb#ch0000012?line=20'>21</a>\u001b[0m     _,_, min_trials, min_time,_ \u001b[39m=\u001b[39m np\u001b[39m.\u001b[39mmin((AllData1\u001b[39m.\u001b[39mshape,AllData2\u001b[39m.\u001b[39mshape),axis\u001b[39m=\u001b[39m\u001b[39m0\u001b[39m)\n\u001b[1;32m     <a href='vscode-notebook-cell:/home/msafaie/REPOS/multi-animal-alignment/paper/S7-dim.ipynb#ch0000012?line=21'>22</a>\u001b[0m     CCs\u001b[39m=\u001b[39m []\n",
      "File \u001b[0;32m~/REPOS/multi-animal-alignment/tools/dataTools.py:461\u001b[0m, in \u001b[0;36mget_data_array\u001b[0;34m(data_list, epoch, area, model, n_components)\u001b[0m\n\u001b[1;32m    459\u001b[0m rng \u001b[39m=\u001b[39m np\u001b[39m.\u001b[39mrandom\u001b[39m.\u001b[39mdefault_rng(\u001b[39m12345\u001b[39m)\n\u001b[1;32m    460\u001b[0m \u001b[39mfor\u001b[39;00m session, df \u001b[39min\u001b[39;00m \u001b[39menumerate\u001b[39m(data_list):\n\u001b[0;32m--> 461\u001b[0m     df_ \u001b[39m=\u001b[39m pyal\u001b[39m.\u001b[39;49mrestrict_to_interval(df, epoch_fun\u001b[39m=\u001b[39;49mepoch) \u001b[39mif\u001b[39;00m epoch \u001b[39mis\u001b[39;00m \u001b[39mnot\u001b[39;00m \u001b[39mNone\u001b[39;00m \u001b[39melse\u001b[39;00m df\n\u001b[1;32m    462\u001b[0m     rates \u001b[39m=\u001b[39m np\u001b[39m.\u001b[39mconcatenate(df_[field]\u001b[39m.\u001b[39mvalues, axis\u001b[39m=\u001b[39m\u001b[39m0\u001b[39m)\n\u001b[1;32m    463\u001b[0m     rates_model \u001b[39m=\u001b[39m model\u001b[39m.\u001b[39mfit(rates)\n",
      "File \u001b[0;32m~/REPOS/multi-animal-alignment/packages/pyaldata/pyaldata/utils.py:28\u001b[0m, in \u001b[0;36mcopy_td.<locals>.wrapper\u001b[0;34m(*args, **kwargs)\u001b[0m\n\u001b[1;32m     25\u001b[0m \u001b[39mif\u001b[39;00m \u001b[39mnot\u001b[39;00m \u001b[39misinstance\u001b[39m(args[\u001b[39m0\u001b[39m], pd\u001b[39m.\u001b[39mDataFrame):\n\u001b[1;32m     26\u001b[0m     \u001b[39mraise\u001b[39;00m \u001b[39mValueError\u001b[39;00m(\u001b[39mf\u001b[39m\u001b[39m\"\u001b[39m\u001b[39mfirst argument of \u001b[39m\u001b[39m{\u001b[39;00mfunc\u001b[39m.\u001b[39m\u001b[39m__name__\u001b[39m\u001b[39m}\u001b[39;00m\u001b[39m has to be a pandas DataFrame\u001b[39m\u001b[39m\"\u001b[39m)\n\u001b[0;32m---> 28\u001b[0m \u001b[39mreturn\u001b[39;00m func(args[\u001b[39m0\u001b[39;49m]\u001b[39m.\u001b[39;49mcopy(), \u001b[39m*\u001b[39;49margs[\u001b[39m1\u001b[39;49m:], \u001b[39m*\u001b[39;49m\u001b[39m*\u001b[39;49mkwargs)\n",
      "File \u001b[0;32m~/REPOS/multi-animal-alignment/packages/pyaldata/pyaldata/interval.py:79\u001b[0m, in \u001b[0;36mrestrict_to_interval\u001b[0;34m(trial_data, start_point_name, end_point_name, rel_start, rel_end, before, after, epoch_fun, warn_per_trial, reset_index, ref_field)\u001b[0m\n\u001b[1;32m     77\u001b[0m \u001b[39m# cut time varying signals\u001b[39;00m\n\u001b[1;32m     78\u001b[0m \u001b[39mfor\u001b[39;00m col \u001b[39min\u001b[39;00m time_fields:\n\u001b[0;32m---> 79\u001b[0m     trial_data[col] \u001b[39m=\u001b[39m extract_interval_from_signal(trial_data, col, epoch_fun)\n\u001b[1;32m     81\u001b[0m \u001b[39m# adjust idx fields\u001b[39;00m\n\u001b[1;32m     82\u001b[0m \u001b[39mdef\u001b[39;00m \u001b[39m_adjust_field\u001b[39m(val, new_T):\n",
      "File \u001b[0;32m~/REPOS/multi-animal-alignment/packages/pyaldata/pyaldata/interval.py:248\u001b[0m, in \u001b[0;36mextract_interval_from_signal\u001b[0;34m(trial_data, signal, epoch_fun)\u001b[0m\n\u001b[1;32m    231\u001b[0m \u001b[39mdef\u001b[39;00m \u001b[39mextract_interval_from_signal\u001b[39m(trial_data, signal, epoch_fun):\n\u001b[1;32m    232\u001b[0m     \u001b[39m\"\"\"\u001b[39;00m\n\u001b[1;32m    233\u001b[0m \u001b[39m    Extract an interval from a time-varying signal in the dataset\u001b[39;00m\n\u001b[1;32m    234\u001b[0m \n\u001b[0;32m   (...)\u001b[0m\n\u001b[1;32m    246\u001b[0m \u001b[39m    list of the extracted np.arrays\u001b[39;00m\n\u001b[1;32m    247\u001b[0m \u001b[39m    \"\"\"\u001b[39;00m\n\u001b[0;32m--> 248\u001b[0m     \u001b[39mreturn\u001b[39;00m [trial[signal][epoch_fun(trial), \u001b[39m.\u001b[39m\u001b[39m.\u001b[39m\u001b[39m.\u001b[39m] \u001b[39mfor\u001b[39;00m (i, trial) \u001b[39min\u001b[39;00m trial_data\u001b[39m.\u001b[39miterrows()]\n",
      "File \u001b[0;32m~/REPOS/multi-animal-alignment/packages/pyaldata/pyaldata/interval.py:248\u001b[0m, in \u001b[0;36m<listcomp>\u001b[0;34m(.0)\u001b[0m\n\u001b[1;32m    231\u001b[0m \u001b[39mdef\u001b[39;00m \u001b[39mextract_interval_from_signal\u001b[39m(trial_data, signal, epoch_fun):\n\u001b[1;32m    232\u001b[0m     \u001b[39m\"\"\"\u001b[39;00m\n\u001b[1;32m    233\u001b[0m \u001b[39m    Extract an interval from a time-varying signal in the dataset\u001b[39;00m\n\u001b[1;32m    234\u001b[0m \n\u001b[0;32m   (...)\u001b[0m\n\u001b[1;32m    246\u001b[0m \u001b[39m    list of the extracted np.arrays\u001b[39;00m\n\u001b[1;32m    247\u001b[0m \u001b[39m    \"\"\"\u001b[39;00m\n\u001b[0;32m--> 248\u001b[0m     \u001b[39mreturn\u001b[39;00m [trial[signal][epoch_fun(trial), \u001b[39m.\u001b[39m\u001b[39m.\u001b[39m\u001b[39m.\u001b[39m] \u001b[39mfor\u001b[39;00m (i, trial) \u001b[39min\u001b[39;00m trial_data\u001b[39m.\u001b[39miterrows()]\n",
      "File \u001b[0;32m~/anaconda3/envs/cca/lib/python3.10/site-packages/pandas/core/frame.py:1324\u001b[0m, in \u001b[0;36mDataFrame.iterrows\u001b[0;34m(self)\u001b[0m\n\u001b[1;32m   1322\u001b[0m klass \u001b[39m=\u001b[39m \u001b[39mself\u001b[39m\u001b[39m.\u001b[39m_constructor_sliced\n\u001b[1;32m   1323\u001b[0m \u001b[39mfor\u001b[39;00m k, v \u001b[39min\u001b[39;00m \u001b[39mzip\u001b[39m(\u001b[39mself\u001b[39m\u001b[39m.\u001b[39mindex, \u001b[39mself\u001b[39m\u001b[39m.\u001b[39mvalues):\n\u001b[0;32m-> 1324\u001b[0m     s \u001b[39m=\u001b[39m klass(v, index\u001b[39m=\u001b[39;49mcolumns, name\u001b[39m=\u001b[39;49mk)\n\u001b[1;32m   1325\u001b[0m     \u001b[39myield\u001b[39;00m k, s\n",
      "File \u001b[0;32m~/anaconda3/envs/cca/lib/python3.10/site-packages/pandas/core/series.py:365\u001b[0m, in \u001b[0;36mSeries.__init__\u001b[0;34m(self, data, index, dtype, name, copy, fastpath)\u001b[0m\n\u001b[1;32m    361\u001b[0m         index \u001b[39m=\u001b[39m data\u001b[39m.\u001b[39mindex\n\u001b[1;32m    363\u001b[0m \u001b[39melse\u001b[39;00m:\n\u001b[0;32m--> 365\u001b[0m     name \u001b[39m=\u001b[39m ibase\u001b[39m.\u001b[39;49mmaybe_extract_name(name, data, \u001b[39mtype\u001b[39;49m(\u001b[39mself\u001b[39;49m))\n\u001b[1;32m    367\u001b[0m     \u001b[39mif\u001b[39;00m is_empty_data(data) \u001b[39mand\u001b[39;00m dtype \u001b[39mis\u001b[39;00m \u001b[39mNone\u001b[39;00m:\n\u001b[1;32m    368\u001b[0m         \u001b[39m# gh-17261\u001b[39;00m\n\u001b[1;32m    369\u001b[0m         warnings\u001b[39m.\u001b[39mwarn(\n\u001b[1;32m    370\u001b[0m             \u001b[39m\"\u001b[39m\u001b[39mThe default dtype for empty Series will be \u001b[39m\u001b[39m'\u001b[39m\u001b[39mobject\u001b[39m\u001b[39m'\u001b[39m\u001b[39m instead \u001b[39m\u001b[39m\"\u001b[39m\n\u001b[1;32m    371\u001b[0m             \u001b[39m\"\u001b[39m\u001b[39mof \u001b[39m\u001b[39m'\u001b[39m\u001b[39mfloat64\u001b[39m\u001b[39m'\u001b[39m\u001b[39m in a future version. Specify a dtype explicitly \u001b[39m\u001b[39m\"\u001b[39m\n\u001b[0;32m   (...)\u001b[0m\n\u001b[1;32m    374\u001b[0m             stacklevel\u001b[39m=\u001b[39mfind_stack_level(),\n\u001b[1;32m    375\u001b[0m         )\n",
      "File \u001b[0;32m~/anaconda3/envs/cca/lib/python3.10/site-packages/pandas/core/indexes/base.py:7086\u001b[0m, in \u001b[0;36mmaybe_extract_name\u001b[0;34m(name, obj, cls)\u001b[0m\n\u001b[1;32m   7082\u001b[0m \u001b[39mdef\u001b[39;00m \u001b[39mmaybe_extract_name\u001b[39m(name, obj, \u001b[39mcls\u001b[39m) \u001b[39m-\u001b[39m\u001b[39m>\u001b[39m Hashable:\n\u001b[1;32m   7083\u001b[0m     \u001b[39m\"\"\"\u001b[39;00m\n\u001b[1;32m   7084\u001b[0m \u001b[39m    If no name is passed, then extract it from data, validating hashability.\u001b[39;00m\n\u001b[1;32m   7085\u001b[0m \u001b[39m    \"\"\"\u001b[39;00m\n\u001b[0;32m-> 7086\u001b[0m     \u001b[39mif\u001b[39;00m name \u001b[39mis\u001b[39;00m \u001b[39mNone\u001b[39;00m \u001b[39mand\u001b[39;00m \u001b[39misinstance\u001b[39m(obj, (Index, ABCSeries)):\n\u001b[1;32m   7087\u001b[0m         \u001b[39m# Note we don't just check for \"name\" attribute since that would\u001b[39;00m\n\u001b[1;32m   7088\u001b[0m         \u001b[39m#  pick up e.g. dtype.name\u001b[39;00m\n\u001b[1;32m   7089\u001b[0m         name \u001b[39m=\u001b[39m obj\u001b[39m.\u001b[39mname\n\u001b[1;32m   7091\u001b[0m     \u001b[39m# GH#29069\u001b[39;00m\n",
      "\u001b[0;31mKeyboardInterrupt\u001b[0m: "
     ]
    },
    {
     "data": {
      "image/png": "[encoded data removed]",
      "text/plain": [
       "<Figure size 900x720 with 1 Axes>"
      ]
     },
     "metadata": {
      "needs_background": "light"
     },
     "output_type": "display_data"
    }
   ],
   "source": [
    "if \"__file__\" not in dir():\n",
    "    plt.close('all')\n",
    "    set_rc()\n",
    "    figsize= params.panels.cca\n",
    "    fig=plt.figure(figsize=figsize)\n",
    "    \n",
    "   \n",
    "\n",
    "    ##########################################\n",
    "    # 1: Monkey CCA\n",
    "    gs1   =fig.add_gridspec(nrows=1, ncols=1,\n",
    "                            bottom=0, left=0,\n",
    "                            right=1,  top=1)\n",
    "\n",
    "    ax1 = fig.add_subplot(gs1[0])\n",
    "    \n",
    "    full_list_MCx, allDFs_MCx = get_full_monkey_data()\n",
    "    \n",
    "    plot_monkey_cca_dim(ax1, full_list_MCx, allDFs_MCx)\n",
    "\n",
    "    \n",
    "    \n",
    "    ##########################################\n",
    "    # 2: MOUSE CCA M1 and Str\n",
    "\n",
    "    \n",
    "    allDFs_M1, _ = get_full_mouse_data()\n",
    "\n",
    "\n",
    "    plot_mouse_cca_dim(ax1, allDFs_M1)\n",
    "    plot_mouse_cca_dim(ax1, allDFs_Str, 'Str')\n",
    "\n",
    "   \n",
    "    \n",
    "    \n",
    "#     fig.align_ylabels([ax1,ax4])\n",
    "    #############################################\n",
    "    #%%%%%%%%%%%%%%%%%%%%%%%%%%%%%%%%%%%%%%%%%%%%\n",
    "    # AXES=(ax1,ax2,ax3,ax4,ax5,ax6)\n",
    "    # OFFX=np.array([.02]*len(AXES))\n",
    "    # OFFY=np.array([.03]*len(AXES))\n",
    "    # OFFX[[-1]]=0.12\n",
    "    # OFFX[[1]]=0.06\n",
    "    \n",
    "    # params.add_panel_caption(axes=AXES, offsetX=OFFX, offsetY=OFFY)\n",
    "\n",
    "    fig.savefig(params.figPath / 'figureS7-dim.pdf', format='pdf', bbox_inches='tight')"
   ]
  },
  {
   "cell_type": "code",
   "execution_count": null,
   "id": "71b1b5a5-5f68-4d64-8b0a-3a231f77f22d",
   "metadata": {},
   "outputs": [],
   "source": []
  }
 ],
 "metadata": {
  "kernelspec": {
   "display_name": "Python 3.10.4 ('cca')",
   "language": "python",
   "name": "python3"
  },
  "language_info": {
   "codemirror_mode": {
    "name": "ipython",
    "version": 3
   },
   "file_extension": ".py",
   "mimetype": "text/x-python",
   "name": "python",
   "nbconvert_exporter": "python",
   "pygments_lexer": "ipython3",
   "version": "3.10.4"
  },
  "vscode": {
   "interpreter": {
    "hash": "146bff742f048d001dec7fafb91c8daeb769f9aeaad9c8d129a83c9f9fb9a9b2"
   }
  }
 },
 "nbformat": 4,
 "nbformat_minor": 5
}
