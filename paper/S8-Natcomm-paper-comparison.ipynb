{
 "cells": [
  {
   "cell_type": "markdown",
   "id": "61b102c0",
   "metadata": {},
   "source": [
    "# part0: imports"
   ]
  },
  {
   "cell_type": "code",
   "execution_count": 3,
   "id": "00059128",
   "metadata": {},
   "outputs": [
    {
     "name": "stdout",
     "output_type": "stream",
     "text": [
      "the variable `GoodDataList` contains the session names\n",
      "Done\n"
     ]
    }
   ],
   "source": [
    "%matplotlib inline\n",
    "\n",
    "\n",
    "import os, sys, pathlib\n",
    "from pprint import pprint\n",
    "import gc, time\n",
    "import pickle\n",
    "from importlib import reload\n",
    "import logging, warnings\n",
    "logging.basicConfig(level=logging.ERROR)\n",
    "warnings.simplefilter(\"ignore\")\n",
    "\n",
    "import PyPDF2 as ppdf\n",
    "import pandas as pd\n",
    "import numpy as np\n",
    "import sklearn\n",
    "import scipy\n",
    "from sklearn.decomposition import PCA\n",
    "import scipy.linalg as linalg\n",
    "from sklearn.linear_model import Ridge, LinearRegression\n",
    "from sklearn.naive_bayes import GaussianNB\n",
    "from sklearn.model_selection import cross_val_score\n",
    "from sklearn.metrics import make_scorer, r2_score\n",
    "\n",
    "\n",
    "import matplotlib.pyplot as plt\n",
    "import matplotlib.cm as cm\n",
    "import matplotlib as mpl\n",
    "from matplotlib.ticker import MaxNLocator, FormatStrFormatter\n",
    "from matplotlib.collections import LineCollection\n",
    "\n",
    "\n",
    "import pyaldata as pyal\n",
    "\n",
    "if \"__file__\" not in dir():\n",
    "    try:\n",
    "        NBPath = pathlib.Path.cwd()\n",
    "        RepoPath = NBPath.parent\n",
    "        os.chdir(RepoPath)\n",
    "\n",
    "        from tools import utilityTools as utility\n",
    "        from tools import dataTools as dt\n",
    "        import params\n",
    "        reload(params)\n",
    "        monkey_defs = params.monkey_defs\n",
    "        mouse_defs = params.mouse_defs\n",
    "\n",
    "        set_rc =  params.set_rc_params\n",
    "        set_rc()\n",
    "        root = params.root\n",
    "\n",
    "        os.chdir(RepoPath / 'monkey')\n",
    "        %run \"_dataset-selection.ipynb\"\n",
    "\n",
    "    finally:\n",
    "        os.chdir(NBPath)\n",
    "\n",
    "    # %run \"S8-Natcomm-paper-comparison.ipynb\"\n",
    "\n",
    "    print('Done')"
   ]
  },
  {
   "cell_type": "markdown",
   "id": "10aa2e5d-f25c-405a-ba73-2b2464c37b9e",
   "metadata": {},
   "source": [
    "# Part 1\n",
    "\n",
    "load the NatComm data"
   ]
  },
  {
   "cell_type": "code",
   "execution_count": 8,
   "id": "bc121b89-dae3-4bb2-b059-8ad6995ed3b9",
   "metadata": {},
   "outputs": [],
   "source": [
    "data = scipy.io.loadmat('GallegoNatComm_CC.mat')\n",
    "ball_grip = data['ball_grip']\n",
    "mov_iso = data['mov_iso']\n",
    "\n",
    "n_components = ball_grip.shape[0]"
   ]
  },
  {
   "cell_type": "markdown",
   "id": "1a998921-3113-4254-b863-14f7201655de",
   "metadata": {},
   "source": [
    "---\n",
    "\n",
    "plot the NatComm results"
   ]
  },
  {
   "cell_type": "code",
   "execution_count": 39,
   "id": "3ecdfa05-fec4-468e-aa1b-1ac3218a34e4",
   "metadata": {},
   "outputs": [],
   "source": [
    "@utility.report\n",
    "def plot_natcomm_cca(ax):\n",
    "    assert 'ball_grip' in globals() and 'mov_iso' in globals(), 'NatComm data is not loaded!'\n",
    "    x_ = np.arange(1,n_components+1)\n",
    "    ax.plot(x_, ball_grip, 'r', label='ball vs grip')\n",
    "    ax.plot(x_, mov_iso, 'b', label='mov vs iso2D')"
   ]
  },
  {
   "cell_type": "code",
   "execution_count": 36,
   "id": "202a6237-601c-4986-a14f-bdb31af7521a",
   "metadata": {},
   "outputs": [
    {
     "name": "stdout",
     "output_type": "stream",
     "text": [
      "Executed: `plot_natcomm_cca` in 0.0s\n"
     ]
    },
    {
     "data": {
      "image/png": "[encoded data removed]",
      "text/plain": [
       "<Figure size 600x400 with 1 Axes>"
      ]
     },
     "metadata": {
      "needs_background": "light"
     },
     "output_type": "display_data"
    }
   ],
   "source": [
    "if \"__file__\" not in dir():\n",
    "    plt.close('all')\n",
    "    set_rc()\n",
    "    fig=plt.figure(dpi=100)\n",
    "    gs = fig.add_gridspec(nrows=1, ncols=2, width_ratios=(5,1), wspace=0)\n",
    "\n",
    "    ax = fig.add_subplot(gs[0])\n",
    "\n",
    "    \n",
    "    plot_natcomm_cca(ax,)\n",
    "    \n",
    "    plt.show()"
   ]
  },
  {
   "cell_type": "markdown",
   "id": "10159e45-a434-4695-b186-89f64ecf058c",
   "metadata": {},
   "source": [
    "---\n",
    "\n",
    "monkey population CCA plot"
   ]
  },
  {
   "cell_type": "code",
   "execution_count": 11,
   "id": "d9fb936c-4ef3-4776-bd0f-bea0b5322a40",
   "metadata": {},
   "outputs": [],
   "source": [
    "@utility.report\n",
    "def get_full_monkey_data():\n",
    "    full_list_MCx = []\n",
    "    for animal, sessionList in GoodDataList[monkey_defs.areas[2]].items():\n",
    "        if 'Mr' in animal:\n",
    "            continue  # to remove MrT\n",
    "        full_list_MCx.append((animal,sessionList))\n",
    "    full_list_MCx = [(animal,session) for animal,sessions in full_list_MCx for session in set(sessions)]\n",
    "    # load the DFs\n",
    "    allDFs_MCx = []\n",
    "    for animal, session in full_list_MCx:\n",
    "        path = root/animal/session\n",
    "        allDFs_MCx.append(monkey_defs.prep_general(dt.load_pyal_data(path)))\n",
    "\n",
    "    return full_list_MCx, allDFs_MCx"
   ]
  },
  {
   "cell_type": "code",
   "execution_count": 20,
   "id": "55ab4f90-108f-4c22-a744-3a35db5b2038",
   "metadata": {},
   "outputs": [],
   "source": [
    "@utility.report\n",
    "def plot_monkey_cca_main(ax, full_list_MCx, allDFs_MCx):\n",
    "    pairFileList1 = []\n",
    "    for I, (animal1,session1) in enumerate(full_list_MCx):\n",
    "        for J, (animal2,session2) in enumerate(full_list_MCx):\n",
    "            if J<=I or animal1 == animal2: continue  # to repetitions\n",
    "            if 'Chewie' in animal1 and 'Chewie' in animal2: continue \n",
    "            pairFileList1.append((I,J))\n",
    "\n",
    "    side1df = [allDFs_MCx[i] for i,_ in pairFileList1]\n",
    "    side2df = [allDFs_MCx[j] for _,j in pairFileList1]\n",
    "    AllData1 = dt.get_data_array(side1df, monkey_defs.exec_epoch, area=monkey_defs.areas[2], model=n_components)\n",
    "    AllData2 = dt.get_data_array(side2df, monkey_defs.exec_epoch, area=monkey_defs.areas[2], model=n_components)\n",
    "    _,_, min_trials, min_time,_ = np.min((AllData1.shape,AllData2.shape),axis=0)\n",
    "    allCCs=[]\n",
    "    for sessionData1,sessionData2 in zip(AllData1,AllData2):\n",
    "        data1 = np.reshape(sessionData1[:,:min_trials,:min_time,:], (-1,n_components))\n",
    "        data2 = np.reshape(sessionData2[:,:min_trials,:min_time,:], (-1,n_components))\n",
    "        allCCs.append(dt.canoncorr(data1, data2))\n",
    "    allCCs = np.array(allCCs).T\n",
    "\n",
    "    # plotting\n",
    "    x_ = np.arange(1,n_components+1)\n",
    "    utility.shaded_errorbar(ax, x_, allCCs, color=params.colors.MainCC, marker = 'o')\n",
    "\n",
    "    ax.set_ylim([-.05,1])\n",
    "    ax.set_xlim([.6,n_components+.6])\n",
    "    ax.set_xlabel('Neural mode')\n",
    "    ax.xaxis.set_major_locator(MaxNLocator(integer=True))\n",
    "    ax.set_ylabel('Canonical correlation')\n",
    "    ax.spines['top'].set_visible(False)\n",
    "    ax.spines['right'].set_visible(False)\n",
    "    ax.spines['bottom'].set_bounds([1,n_components])\n",
    "    ax.spines['left'].set_bounds([0,1])"
   ]
  },
  {
   "cell_type": "code",
   "execution_count": 21,
   "id": "c6d8e701-2e04-41c4-bc4c-2383ef0badd5",
   "metadata": {
    "tags": []
   },
   "outputs": [
    {
     "name": "stdout",
     "output_type": "stream",
     "text": [
      "Executed: `plot_monkey_cca_main` in 64.6s\n"
     ]
    },
    {
     "data": {
      "image/png": "[encoded data removed]",
      "text/plain": [
       "<Figure size 600x400 with 1 Axes>"
      ]
     },
     "metadata": {
      "needs_background": "light"
     },
     "output_type": "display_data"
    }
   ],
   "source": [
    "if \"__file__\" not in dir():\n",
    "    plt.close('all')\n",
    "    set_rc()\n",
    "    fig=plt.figure(dpi=100)\n",
    "    gs = fig.add_gridspec(nrows=1, ncols=2, width_ratios=(5,1), wspace=0)\n",
    "\n",
    "    ax = fig.add_subplot(gs[0])\n",
    "\n",
    "    \n",
    "    # full_list_MCx, allDFs_MCx = get_full_monkey_data()\n",
    "    \n",
    "    plot_monkey_cca_main(ax, full_list_MCx, allDFs_MCx)\n",
    "    \n",
    "    plt.show()"
   ]
  },
  {
   "cell_type": "markdown",
   "id": "3078eb21-79b2-4e9a-96be-f7cd141f9ed2",
   "metadata": {},
   "source": [
    "# Part 2\n",
    "Plot figure"
   ]
  },
  {
   "cell_type": "code",
   "execution_count": null,
   "id": "dfde11e9-58cf-43f9-b95c-a132acb86d32",
   "metadata": {},
   "outputs": [
    {
     "name": "stdout",
     "output_type": "stream",
     "text": [
      "Executed: `get_full_monkey_data` in 14.7s\n",
      "Running: `plot_monkey_cca_main`...\r"
     ]
    }
   ],
   "source": [
    "if \"__file__\" not in dir():\n",
    "    plt.close('all')\n",
    "    set_rc()\n",
    "    figsize= (params.LargeFig[0], params.panels.SmallH)\n",
    "    fig=plt.figure(figsize=figsize)\n",
    "    \n",
    "   \n",
    "\n",
    "    ##########################################\n",
    "    # 1: Monkey CCA\n",
    "    gs1   =utility.add_gridspec_abs(fig, nrows=1, ncols=1,\n",
    "                                    bottom=0, left=0,\n",
    "                                    width=params.panels.cca[0],\n",
    "                                    height=params.panels.cca[1],\n",
    "                                    wspace=0)\n",
    "\n",
    "    ax1 = fig.add_subplot(gs1[0])\n",
    "    \n",
    "    full_list_MCx, allDFs_MCx = get_full_monkey_data()\n",
    "    \n",
    "    plot_monkey_cca_main(ax1, full_list_MCx, allDFs_MCx)\n",
    "    \n",
    "    plot_natcomm_cca(ax1,)\n",
    "    \n",
    "    \n",
    "    \n",
    "    \n",
    "\n",
    "#     fig.align_ylabels([ax1,ax4])\n",
    "    #############################################\n",
    "    #%%%%%%%%%%%%%%%%%%%%%%%%%%%%%%%%%%%%%%%%%%%%\n",
    "    # AXES=(ax1,ax2,ax3,ax4,ax5,ax6)\n",
    "    # OFFX=np.array([.02]*len(AXES))\n",
    "    # OFFY=np.array([.03]*len(AXES))\n",
    "    # OFFX[[-1]]=0.12\n",
    "    # OFFX[[1]]=0.06\n",
    "    \n",
    "    # params.add_panel_caption(axes=AXES, offsetX=OFFX, offsetY=OFFY)\n",
    "\n",
    "    fig.savefig(params.figPath / 'figureS8-Natcomm-paper-comparison.pdf', format='pdf', bbox_inches='tight')"
   ]
  },
  {
   "cell_type": "code",
   "execution_count": null,
   "id": "71b1b5a5-5f68-4d64-8b0a-3a231f77f22d",
   "metadata": {},
   "outputs": [],
   "source": []
  }
 ],
 "metadata": {
  "interpreter": {
   "hash": "72da6499f934495e06c03d484049d4696c0f7b78c6b9c64cf8676e9ec2014a6a"
  },
  "kernelspec": {
   "display_name": "Python 3 (ipykernel)",
   "language": "python",
   "name": "python3"
  },
  "language_info": {
   "codemirror_mode": {
    "name": "ipython",
    "version": 3
   },
   "file_extension": ".py",
   "mimetype": "text/x-python",
   "name": "python",
   "nbconvert_exporter": "python",
   "pygments_lexer": "ipython3",
   "version": "3.10.0"
  }
 },
 "nbformat": 4,
 "nbformat_minor": 5
}
