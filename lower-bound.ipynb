{
 "cells": [
  {
   "cell_type": "markdown",
   "id": "dd276e87",
   "metadata": {},
   "source": [
    "# part0: imports"
   ]
  },
  {
   "cell_type": "code",
   "execution_count": 1,
   "id": "d5473a1d",
   "metadata": {},
   "outputs": [],
   "source": [
    "import os, sys, pathlib\n",
    "from pprint import pprint\n",
    "import gc\n",
    "import pickle\n",
    "from importlib import reload\n",
    "import logging, warnings\n",
    "logging.basicConfig(level=logging.ERROR)\n",
    "\n",
    "\n",
    "\n",
    "import pandas as pd\n",
    "import numpy as np\n",
    "from sklearn.decomposition import PCA\n",
    "import scipy.linalg as linalg\n",
    "\n",
    "import matplotlib.pyplot as plt\n",
    "import matplotlib.cm as cm\n",
    "import matplotlib\n",
    "from matplotlib.ticker import MaxNLocator\n",
    "\n",
    "\n",
    "from tools import utilityTools as utility\n",
    "from tools import dataTools as dt\n",
    "import pyaldata as pyal\n",
    "\n",
    "%matplotlib inline\n",
    "reload(dt)\n",
    "\n",
    "# Global params\n",
    "root = pathlib.Path(\"/data\")\n",
    "\n",
    "BIN_SIZE = .03  # sec\n",
    "WINDOW_prep = (-.4, .05)  # sec\n",
    "WINDOW_exec = (-.05, .40)  # sec\n",
    "n_components = 10  # min between M1 and PMd\n",
    "areas = ('M1', 'PMd')\n",
    "\n",
    "prep_epoch = pyal.generate_epoch_fun(start_point_name='idx_movement_on',\n",
    "                                     rel_start=int(WINDOW_prep[0]/BIN_SIZE),\n",
    "                                     rel_end=int(WINDOW_prep[1]/BIN_SIZE)\n",
    "                                    )\n",
    "exec_epoch = pyal.generate_epoch_fun(start_point_name='idx_movement_on', \n",
    "                                     rel_start=int(WINDOW_exec[0]/BIN_SIZE),\n",
    "                                     rel_end=int(WINDOW_exec[1]/BIN_SIZE)\n",
    "                                    )\n",
    "fixation_epoch = pyal.generate_epoch_fun(start_point_name='idx_target_on', \n",
    "                                         rel_start=int(WINDOW_prep[0]/BIN_SIZE),\n",
    "                                         rel_end=int(WINDOW_prep[1]/BIN_SIZE)\n",
    "                                        )"
   ]
  },
  {
   "cell_type": "code",
   "execution_count": 2,
   "id": "887ee939",
   "metadata": {},
   "outputs": [],
   "source": [
    "def get_target_id(trial):\n",
    "    return int(np.round((trial.target_direction + np.pi) / (0.25*np.pi))) - 1"
   ]
  },
  {
   "cell_type": "code",
   "execution_count": 5,
   "id": "c63c11b1-e0d4-4508-8c6c-9093a32f9952",
   "metadata": {},
   "outputs": [
    {
     "name": "stdout",
     "output_type": "stream",
     "text": [
      "the variable `GoodDataList` contains the session names\n"
     ]
    }
   ],
   "source": [
    "def prep_general (df, area='M1'):\n",
    "    \"preprocessing general!\"\n",
    "    \n",
    "    df[\"target_id\"] = df.apply(get_target_id, axis=1)  # add a field `target_id` with int values\n",
    "\n",
    "    df_ = pyal.remove_low_firing_neurons(df, f\"{area}_spikes\", 1)\n",
    "    \n",
    "    df_= pyal.select_trials(df, df.result== 'R')\n",
    "    df_= pyal.select_trials(df_, df_.epoch=='BL')\n",
    "    \n",
    "    assert np.all(df_.bin_size == .01), 'bin size is not consistent!'\n",
    "    df_ = pyal.combine_time_bins(df_, int(BIN_SIZE/.01))\n",
    "    \n",
    "    df_ = pyal.sqrt_transform_signal(df_, f\"{area}_spikes\")\n",
    "        \n",
    "    df_= pyal.add_firing_rates(df_, 'smooth', std=0.05)\n",
    "    \n",
    "    \n",
    "    return df_\n",
    "\n",
    "\n",
    "%run dataset_selection.ipynb"
   ]
  },
  {
   "cell_type": "code",
   "execution_count": 3,
   "id": "7acbe3d8",
   "metadata": {},
   "outputs": [
    {
     "name": "stdout",
     "output_type": "stream",
     "text": [
      "the variable `GoodDataList` contains the session names\n"
     ]
    }
   ],
   "source": [
    "%run dataset_selection.ipynb"
   ]
  },
  {
   "cell_type": "markdown",
   "id": "2162ef8e",
   "metadata": {},
   "source": [
    "## Control\n",
    "\n",
    "let's find a lower-bound. Canonical correlation without matching the animal, the area, the epoch and the target!\n",
    "\n",
    "### Details\n",
    "- **animal**: $C_L$  is Chewie\n",
    "- **window**: For *M1* it is $-120ms \\sim +420ms$ and for *PMd* from $-390ms  \\sim +60ms$\n",
    "- **dim**: it is 10 for M1 and 15 for PMd\n",
    "- **preprocessing**: \n",
    "    - remove firing rate below 1Hz overall\n",
    "    - bin to 30ms\n",
    "    - square root transform\n",
    "    - smooth by Gaussian kernel, $\\sigma=50ms$\n",
    "    \n",
    "\n",
    "\n",
    "**might take a looooong time if there is no pickle**"
   ]
  },
  {
   "cell_type": "code",
   "execution_count": 4,
   "id": "88d6e201",
   "metadata": {},
   "outputs": [
    {
     "name": "stdout",
     "output_type": "stream",
     "text": [
      "len(pairFileList)=75\n"
     ]
    }
   ],
   "source": [
    "pairFileList = []\n",
    "for animal1 in GoodDataList[areas[0]]:\n",
    "    for animal2 in GoodDataList[areas[1]]:\n",
    "        if animal2  == animal1 or '2' in animal1 or '2' in animal2:  # to remove Chewie2\n",
    "            continue\n",
    "        path1List = [root/animal1/GoodDataList[areas[0]][animal1][i] for i,_ in enumerate(GoodDataList[areas[0]][animal1])]\n",
    "        path2List = [root/animal2/GoodDataList[areas[1]][animal2][i] for i,_ in enumerate(GoodDataList[areas[1]][animal2])]\n",
    "        for path1 in path1List:\n",
    "            for path2 in path2List:\n",
    "                pairFileList.append((dt.load_pyal_data(path1),\n",
    "                                     dt.load_pyal_data(path2)\n",
    "                                    )\n",
    "                                   )\n",
    "\n",
    "print(f'{len(pairFileList)=}')"
   ]
  },
  {
   "cell_type": "code",
   "execution_count": null,
   "id": "f1e5fcfc-a747-4cc9-9768-1d35cf49a1ba",
   "metadata": {},
   "outputs": [],
   "source": [
    "warnings.filterwarnings(\"ignore\")\n",
    "gc.collect()\n",
    "pairFileList_ready = [(prep_general(df1),prep_general(df2)) for  df1,df2 in pairFileList]\n",
    "del pairFileList\n",
    "gc.collect()\n",
    "warnings.filterwarnings(\"default\")"
   ]
  },
  {
   "cell_type": "markdown",
   "id": "ad62aca3",
   "metadata": {},
   "source": [
    "collecting all the data in a matrix, `AllData`: $sessions \\times targets \\times  trials \\times time \\times PCs$"
   ]
  },
  {
   "cell_type": "code",
   "execution_count": 6,
   "id": "f03b4ec8",
   "metadata": {},
   "outputs": [
    {
     "name": "stdout",
     "output_type": "stream",
     "text": [
      "min_trials=15\n",
      "min_time=15\n"
     ]
    }
   ],
   "source": [
    "warnings.filterwarnings(\"ignore\")\n",
    "\n",
    "side1df = [df for df,_ in pairFileList_ready]\n",
    "side2df = [df for _,df in pairFileList_ready]\n",
    "\n",
    "AllData1 = dt.get_data_array(side1df, prep_epoch, area='M1', n_components=n_components)\n",
    "AllData2 = dt.get_data_array(side2df, fixation_epoch, area='PMd', n_components=n_components)\n",
    "# reversing the order of trials to break the target correspondance\n",
    "AllData2 = np.flip(AllData2, 1)\n",
    "_,_, min_trials, min_time,_ = np.min((AllData1.shape,AllData2.shape),axis=0)\n",
    "\n",
    "print(f'{min_trials=}\\n{min_time=}')\n",
    "warnings.filterwarnings(\"default\")"
   ]
  },
  {
   "cell_type": "markdown",
   "id": "c7b5c11d",
   "metadata": {},
   "source": [
    "do the CCA calculation"
   ]
  },
  {
   "cell_type": "code",
   "execution_count": 7,
   "id": "1e8da18f",
   "metadata": {},
   "outputs": [],
   "source": [
    "CCs=[]\n",
    "for sessionData1,sessionData2 in zip(AllData1,AllData2):\n",
    "    data1 = np.reshape(sessionData1[:,:min_trials,:min_time,:], (-1,n_components))\n",
    "    data2 = np.reshape(sessionData2[:,:min_trials,-min_time:,:], (-1,n_components))\n",
    "    CCs.append(np.mean(dt.canoncorr(data1, data2)[:4]))\n",
    "CCs = np.array(CCs)"
   ]
  },
  {
   "cell_type": "code",
   "execution_count": 8,
   "id": "14f8d6b3",
   "metadata": {},
   "outputs": [
    {
     "data": {
      "image/png": "[encoded data removed]",
      "text/plain": [
       "<Figure size 432x288 with 1 Axes>"
      ]
     },
     "metadata": {
      "needs_background": "light"
     },
     "output_type": "display_data"
    }
   ],
   "source": [
    "plt.plot(CCs.T,'.')\n",
    "plt.ylim([0,1])\n",
    "plt.xlabel('sessions')\n",
    "plt.ylabel('average canonical correlation')\n",
    "plt.title('CCA --- lower bound estimation', usetex=True);"
   ]
  },
  {
   "cell_type": "markdown",
   "id": "fe9b2407",
   "metadata": {},
   "source": [
    "the average distribution of CCs"
   ]
  },
  {
   "cell_type": "code",
   "execution_count": 9,
   "id": "b121efc2-2ca8-4bbc-befa-702722d9297b",
   "metadata": {},
   "outputs": [
    {
     "data": {
      "image/png": "[encoded data removed]",
      "text/plain": [
       "<Figure size 432x288 with 1 Axes>"
      ]
     },
     "metadata": {
      "needs_background": "light"
     },
     "output_type": "display_data"
    }
   ],
   "source": [
    "CCs2=[]\n",
    "for sessionData1,sessionData2 in zip(AllData1,AllData2):\n",
    "    data1 = np.reshape(sessionData1[:,:min_trials,:min_time,:], (-1,n_components))\n",
    "    data2 = np.reshape(sessionData2[:,:min_trials,:min_time,:], (-1,n_components))\n",
    "    CCs2.append(dt.canoncorr(data1, data2))\n",
    "CCs2 = np.array(CCs2).T\n",
    "np.save(root/'lower-bound-values.npy', CCs2)\n",
    "\n",
    "_,ax = plt.subplots()\n",
    "\n",
    "utility.shaded_errorbar(ax, CCs2, marker = 'o')\n",
    "ax.set_ylim([0,1])\n",
    "ax.set_xlabel('components')\n",
    "ax.set_ylabel('canonical correlation')\n",
    "ax.set_title('CCA --- lower bound estimation', usetex=True);"
   ]
  },
  {
   "cell_type": "markdown",
   "id": "563b225e-d631-4d05-a7e7-a82fa9ddd6f7",
   "metadata": {},
   "source": [
    "## within monkey, within area, across epochs\n",
    "\n",
    "exec vs Fixation "
   ]
  },
  {
   "cell_type": "code",
   "execution_count": 6,
   "id": "929314cf-5e8a-45cc-831a-37ed01cc7136",
   "metadata": {},
   "outputs": [
    {
     "name": "stdout",
     "output_type": "stream",
     "text": [
      "len(pairFileList1)=14\n",
      "min_trials=16\n",
      "min_time=15\n",
      "min_trials_=15\n",
      "min_time_=15\n"
     ]
    },
    {
     "data": {
      "image/png": "[encoded data removed]",
      "text/plain": [
       "<Figure size 432x288 with 1 Axes>"
      ]
     },
     "metadata": {
      "needs_background": "light"
     },
     "output_type": "display_data"
    },
    {
     "data": {
      "image/png": "[encoded data removed]",
      "text/plain": [
       "<Figure size 720x360 with 2 Axes>"
      ]
     },
     "metadata": {
      "needs_background": "light"
     },
     "output_type": "display_data"
    }
   ],
   "source": [
    "pairFileList1 = []\n",
    "for animal1 in GoodDataList[areas[0]]:\n",
    "    path1List = [root/animal1/GoodDataList[areas[0]][animal1][i] for i,_ in enumerate(GoodDataList[areas[0]][animal1])]\n",
    "    for path1 in path1List:\n",
    "        df1 = dt.load_pyal_data(path1)\n",
    "        pairFileList1.append(df1)\n",
    "\n",
    "print(f'{len(pairFileList1)=}')\n",
    "\n",
    "\n",
    "pairFileList2 = []\n",
    "for animal1 in GoodDataList[areas[1]]:\n",
    "    path1List = [root/animal1/GoodDataList[areas[1]][animal1][i] for i,_ in enumerate(GoodDataList[areas[1]][animal1])]\n",
    "    for path1 in path1List:\n",
    "        df1 = dt.load_pyal_data(path1)\n",
    "        pairFileList2.append(df1)\n",
    "\n",
    "\n",
    "\n",
    "warnings.filterwarnings(\"ignore\")\n",
    "gc.collect()\n",
    "pairFileList_area0 = [prep_general(df) for df in pairFileList1]\n",
    "del pairFileList1\n",
    "gc.collect()\n",
    "pairFileList_area1 = [prep_general(df) for  df in pairFileList2]\n",
    "del pairFileList2\n",
    "gc.collect()\n",
    "warnings.filterwarnings(\"default\")\n",
    "\n",
    "warnings.filterwarnings(\"ignore\")\n",
    "side1df = pairFileList_area0\n",
    "AllData1 = dt.get_data_array(side1df, fixation_epoch, area=areas[0], n_components=n_components)\n",
    "AllData2 = dt.get_data_array(side1df, exec_epoch, area=areas[0], n_components=n_components)\n",
    "_,_, min_trials, min_time,_ = np.min((AllData1.shape,AllData2.shape),axis=0)\n",
    "print(f'{min_trials=}\\n{min_time=}')\n",
    "# PMd\n",
    "side2df = pairFileList_area1\n",
    "AllData1_ = dt.get_data_array(side2df, fixation_epoch, area=areas[1], n_components=n_components)\n",
    "AllData2_ = dt.get_data_array(side2df, exec_epoch, area=areas[1], n_components=n_components)\n",
    "_,_, min_trials_, min_time_,_ = np.min((AllData1_.shape,AllData2_.shape),axis=0)\n",
    "print(f'{min_trials_=}\\n{min_time_=}')\n",
    "\n",
    "inCCs0=[]\n",
    "for sessionData1,sessionData2 in zip(AllData1,AllData2):\n",
    "    data1 = np.reshape(sessionData1[:,:min_trials,:min_time,:], (-1,n_components))\n",
    "    data2 = np.reshape(sessionData2[:,:min_trials,:min_time,:], (-1,n_components))\n",
    "    inCCs0.append(dt.canoncorr(data1, data2))\n",
    "inCCs0 = np.array(inCCs0).T\n",
    "\n",
    "inCCs1=[]\n",
    "for sessionData1,sessionData2 in zip(AllData1_,AllData2_):\n",
    "    data1 = np.reshape(sessionData1[:,:min_trials_,:min_time_,:], (-1,n_components))\n",
    "    data2 = np.reshape(sessionData2[:,:min_trials_,:min_time_,:], (-1,n_components))\n",
    "    inCCs1.append(dt.canoncorr(data1, data2))\n",
    "inCCs1 = np.array(inCCs1).T\n",
    "warnings.filterwarnings(\"default\")\n",
    "\n",
    "\n",
    "# plotting\n",
    "_,ax = plt.subplots()\n",
    "\n",
    "utility.shaded_errorbar(ax, inCCs0, color='b', marker = 'o', label=f'{areas[0]} $n={inCCs0.shape[1]}$ sessions')\n",
    "utility.shaded_errorbar(ax, inCCs1, color='r', marker = 'o', label=f'{areas[1]} $n={inCCs1.shape[1]}$ sessions')\n",
    "ax.set_ylim([0,1])\n",
    "ax.set_xlabel('components')\n",
    "ax.legend()\n",
    "ax.set_ylabel('canonical correlation')\n",
    "ax.set_title('CCA --- within monkey', usetex=True);\n",
    "\n",
    "fig,axes = plt.subplots(ncols=2, figsize=(10,5))\n",
    "axes[0].plot(inCCs0[:4,:].mean(axis=0),'.')\n",
    "axes[1].plot(inCCs1[:4,:].mean(axis=0),'.')\n",
    "axes[0].set_ylabel('average canonical correlation')\n",
    "for i, ax in enumerate(axes):\n",
    "    ax.set_title(f'CCA --- within monkey {areas[i]} ', usetex=True);\n",
    "    ax.set_ylim([0,1])\n",
    "    ax.set_xlabel('sessions')"
   ]
  },
  {
   "cell_type": "markdown",
   "id": "2fc632cb-ad04-42e5-8cc3-8a596829a4b9",
   "metadata": {},
   "source": [
    "exec vs Fixation "
   ]
  },
  {
   "cell_type": "code",
   "execution_count": 7,
   "id": "76c00de9-4e3e-4b6c-b948-59136df28e17",
   "metadata": {},
   "outputs": [
    {
     "name": "stdout",
     "output_type": "stream",
     "text": [
      "len(pairFileList1)=14\n",
      "min_trials=16\n",
      "min_time=15\n",
      "min_trials_=15\n",
      "min_time_=15\n"
     ]
    },
    {
     "data": {
      "image/png": "[encoded data removed]",
      "text/plain": [
       "<Figure size 432x288 with 1 Axes>"
      ]
     },
     "metadata": {
      "needs_background": "light"
     },
     "output_type": "display_data"
    },
    {
     "data": {
      "image/png": "[encoded data removed]",
      "text/plain": [
       "<Figure size 720x360 with 2 Axes>"
      ]
     },
     "metadata": {
      "needs_background": "light"
     },
     "output_type": "display_data"
    }
   ],
   "source": [
    "pairFileList1 = []\n",
    "for animal1 in GoodDataList[areas[0]]:\n",
    "    path1List = [root/animal1/GoodDataList[areas[0]][animal1][i] for i,_ in enumerate(GoodDataList[areas[0]][animal1])]\n",
    "    for path1 in path1List:\n",
    "        df1 = dt.load_pyal_data(path1)\n",
    "        pairFileList1.append(df1)\n",
    "\n",
    "print(f'{len(pairFileList1)=}')\n",
    "\n",
    "\n",
    "pairFileList2 = []\n",
    "for animal1 in GoodDataList[areas[1]]:\n",
    "    path1List = [root/animal1/GoodDataList[areas[1]][animal1][i] for i,_ in enumerate(GoodDataList[areas[1]][animal1])]\n",
    "    for path1 in path1List:\n",
    "        df1 = dt.load_pyal_data(path1)\n",
    "        pairFileList2.append(df1)\n",
    "\n",
    "\n",
    "\n",
    "warnings.filterwarnings(\"ignore\")\n",
    "gc.collect()\n",
    "pairFileList_area0 = [prep_general(df) for df in pairFileList1]\n",
    "del pairFileList1\n",
    "gc.collect()\n",
    "pairFileList_area1 = [prep_general(df) for  df in pairFileList2]\n",
    "del pairFileList2\n",
    "gc.collect()\n",
    "warnings.filterwarnings(\"default\")\n",
    "\n",
    "warnings.filterwarnings(\"ignore\")\n",
    "side1df = pairFileList_area0\n",
    "AllData1 = dt.get_data_array(side1df, fixation_epoch, area=areas[0], n_components=n_components)\n",
    "AllData2 = dt.get_data_array(side1df, exec_epoch, area=areas[0], n_components=n_components)\n",
    "_,_, min_trials, min_time,_ = np.min((AllData1.shape,AllData2.shape),axis=0)\n",
    "print(f'{min_trials=}\\n{min_time=}')\n",
    "# PMd\n",
    "side2df = pairFileList_area1\n",
    "AllData1_ = dt.get_data_array(side2df, fixation_epoch, area=areas[1], n_components=n_components)\n",
    "AllData2_ = dt.get_data_array(side2df, exec_epoch, area=areas[1], n_components=n_components)\n",
    "_,_, min_trials_, min_time_,_ = np.min((AllData1_.shape,AllData2_.shape),axis=0)\n",
    "print(f'{min_trials_=}\\n{min_time_=}')\n",
    "\n",
    "inCCs0=[]\n",
    "for sessionData1,sessionData2 in zip(AllData1,AllData2):\n",
    "    data1 = np.reshape(sessionData1[:,:min_trials,:min_time,:], (-1,n_components))\n",
    "    data2 = np.reshape(sessionData2[:,:min_trials,:min_time,:], (-1,n_components))\n",
    "    inCCs0.append(dt.canoncorr(data1, data2))\n",
    "inCCs0 = np.array(inCCs0).T\n",
    "\n",
    "inCCs1=[]\n",
    "for sessionData1,sessionData2 in zip(AllData1_,AllData2_):\n",
    "    data1 = np.reshape(sessionData1[:,:min_trials_,:min_time_,:], (-1,n_components))\n",
    "    data2 = np.reshape(sessionData2[:,:min_trials_,:min_time_,:], (-1,n_components))\n",
    "    inCCs1.append(dt.canoncorr(data1, data2))\n",
    "inCCs1 = np.array(inCCs1).T\n",
    "warnings.filterwarnings(\"default\")\n",
    "\n",
    "\n",
    "# plotting\n",
    "_,ax = plt.subplots()\n",
    "\n",
    "utility.shaded_errorbar(ax, inCCs0, color='b', marker = 'o', label=f'{areas[0]} $n={inCCs0.shape[1]}$ sessions')\n",
    "utility.shaded_errorbar(ax, inCCs1, color='r', marker = 'o', label=f'{areas[1]} $n={inCCs1.shape[1]}$ sessions')\n",
    "ax.set_ylim([0,1])\n",
    "ax.set_xlabel('components')\n",
    "ax.legend()\n",
    "ax.set_ylabel('canonical correlation')\n",
    "ax.set_title('CCA --- within monkey', usetex=True);\n",
    "\n",
    "fig,axes = plt.subplots(ncols=2, figsize=(10,5))\n",
    "axes[0].plot(inCCs0[:4,:].mean(axis=0),'.')\n",
    "axes[1].plot(inCCs1[:4,:].mean(axis=0),'.')\n",
    "axes[0].set_ylabel('average canonical correlation')\n",
    "for i, ax in enumerate(axes):\n",
    "    ax.set_title(f'CCA --- within monkey {areas[i]} ', usetex=True);\n",
    "    ax.set_ylim([0,1])\n",
    "    ax.set_xlabel('sessions')"
   ]
  },
  {
   "cell_type": "code",
   "execution_count": null,
   "id": "f62f0eda-30dd-49c0-8741-0b99978410a6",
   "metadata": {},
   "outputs": [],
   "source": []
  }
 ],
 "metadata": {
  "interpreter": {
   "hash": "72da6499f934495e06c03d484049d4696c0f7b78c6b9c64cf8676e9ec2014a6a"
  },
  "kernelspec": {
   "display_name": "Python 3 (ipykernel)",
   "language": "python",
   "name": "python3"
  },
  "language_info": {
   "codemirror_mode": {
    "name": "ipython",
    "version": 3
   },
   "file_extension": ".py",
   "mimetype": "text/x-python",
   "name": "python",
   "nbconvert_exporter": "python",
   "pygments_lexer": "ipython3",
   "version": "3.9.6"
  }
 },
 "nbformat": 4,
 "nbformat_minor": 5
}
