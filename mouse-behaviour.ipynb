{
 "cells": [
  {
   "cell_type": "markdown",
   "id": "d374a142",
   "metadata": {},
   "source": [
    "# part0: imports"
   ]
  },
  {
   "cell_type": "code",
   "execution_count": 1,
   "id": "05c18582",
   "metadata": {},
   "outputs": [],
   "source": [
    "import os, sys, pathlib\n",
    "from pprint import pprint\n",
    "import gc\n",
    "import pickle\n",
    "from importlib import reload\n",
    "import logging, warnings\n",
    "logging.basicConfig(level=logging.ERROR)\n",
    "from IPython.display import display, clear_output\n",
    "\n",
    "import pandas as pd\n",
    "import numpy as np\n",
    "import sklearn\n",
    "from sklearn.decomposition import PCA\n",
    "import scipy.linalg as linalg\n",
    "\n",
    "import matplotlib.pyplot as plt\n",
    "import matplotlib.cm as cm\n",
    "import matplotlib\n",
    "from matplotlib.ticker import MaxNLocator\n",
    "from matplotlib.collections import LineCollection\n",
    "from matplotlib.backends.backend_pdf import PdfPages\n",
    "\n",
    "from tools import utilityTools as utility\n",
    "from tools import dataTools as dt\n",
    "import pyaldata as pyal\n",
    "import set_rc_params as set_rc\n",
    "\n",
    "\n",
    "%matplotlib inline\n",
    "%config InlineBackend.figure_formats = ['png2x']\n",
    "reload(dt)\n",
    "reload(set_rc)\n",
    "\n",
    "# Global params\n",
    "set_rc.set_rc_params()\n",
    "root = pathlib.Path(\"/data\")\n",
    "\n",
    "BIN_SIZE = .03  # sec\n",
    "WINDOW_ctrl = (-.9, -.45)\n",
    "WINDOW_prep = (-.4, .05)  # sec\n",
    "WINDOW_exec = (-.05, .40)  # sec\n",
    "n_components = 10  # min between M1 and PMd\n",
    "areas = ('M1', 'Str')\n",
    "\n",
    "prep_epoch = pyal.generate_epoch_fun(start_point_name='idx_movement_on',\n",
    "                                     rel_start=int(WINDOW_prep[0]/BIN_SIZE),\n",
    "                                     rel_end=int(WINDOW_prep[1]/BIN_SIZE)\n",
    "                                    )\n",
    "exec_epoch = pyal.generate_epoch_fun(start_point_name='idx_movement_on', \n",
    "                                     rel_start=int(WINDOW_exec[0]/BIN_SIZE),\n",
    "                                     rel_end=int(WINDOW_exec[1]/BIN_SIZE)\n",
    "                                    )\n",
    "fixation_epoch = pyal.generate_epoch_fun(start_point_name='idx_movement_on', \n",
    "                                         rel_start=int(WINDOW_ctrl[0]/BIN_SIZE),\n",
    "                                         rel_end=int(WINDOW_ctrl[1]/BIN_SIZE)\n",
    "                                        )"
   ]
  },
  {
   "cell_type": "code",
   "execution_count": 50,
   "id": "91331ba7-05b6-445d-a275-736c01b36539",
   "metadata": {},
   "outputs": [],
   "source": [
    "def prep_general_mouse (df):\n",
    "    \"preprocessing general! for J. Dudman mouse data\"\n",
    "    # rename unit fields\n",
    "    old_fields = [col for col in df.columns.values if 'unit' in col]\n",
    "    new_fields = ['M1_spikes' if 'Ctx' in col else 'Str_spikes' for col in old_fields]\n",
    "    df_ = df.rename(columns = {old:new for old,new in zip(old_fields,new_fields)})\n",
    "    # change spikes datatype\n",
    "    for signal in new_fields:\n",
    "        df_[signal] = [np.nan_to_num(x=s.toarray().T, nan=0) for s in df_[signal]]\n",
    "    \n",
    "    # add trial_id\n",
    "    df_['trial_id'] = np.arange(1,df_.shape[0]+1)\n",
    "    # only keep good trials\n",
    "    df_= pyal.select_trials(df_, df_.trialType== 'sp')\n",
    "    # fill no-laser trials (and index fields) with zero\n",
    "    n_bins = df_[new_fields[0]][0].shape[0]\n",
    "    var_len_fields = [ 'spkPullIdx', 'spkRchIdx', 'spkTimeBlaserI']\n",
    "    fill_zeros = lambda a: a if len(a)>1 else np.zeros((n_bins,))\n",
    "    for field in var_len_fields:\n",
    "        if field not in df_.columns:continue\n",
    "        df_[field] = [fill_zeros(s) for s in df_[field]]\n",
    "    # fill fields that are cut with np.nans and remove trials that are too long or don't exist\n",
    "    cut_fields = ['hTrjB', 'hVelB']\n",
    "    df_['badIndex'] = [max(trialT.shape)>n_bins or\n",
    "                       max(trialV.shape)>n_bins or \n",
    "                       max(trialT.shape) < 2 or \n",
    "                       max(trialV.shape) < 2 for trialT,trialV in zip(df_.hTrjB,df_.hVelB)]\n",
    "    df_= pyal.select_trials(df_, df_.badIndex == False)\n",
    "    df_.drop('badIndex', axis=1, inplace=True)\n",
    "    fill_nans = lambda a: a if max(a.shape)==n_bins else np.pad(a, ((0,n_bins-max(a.shape)),(0,0)), 'constant', constant_values=(np.nan,))\n",
    "    for field in cut_fields:\n",
    "        if field not in df_.columns:continue\n",
    "        df_[field] = [fill_nans(s.T) for s in df_[field]]   \n",
    "    # add bin_size\n",
    "    df_['bin_size']=0.01  # data has 10ms bin size\n",
    "    # add idx_movement_on which is exactly at t=df.timeAlign\n",
    "    df_['idx_movement_on'] = [np.argmin(np.abs(s-i)) for i,s in zip(df_['timeAlign'],df_['spkTimeBins'])]\n",
    "    # add pull start idx\n",
    "    df_['idx_pull_on'] = [pullIdx.nonzero()[0][0] if len(pullIdx.nonzero()[0])>0 else np.nan for pullIdx in df_.spkPullIdx]\n",
    "    # remove trials with no pull idx\n",
    "    df_.dropna(subset=['idx_pull_on'], inplace=True)\n",
    "    df_.idx_pull_on = df_.idx_pull_on.astype(np.int32)\n",
    "    df_.index = np.arange(df_.shape[0])\n",
    "    # add target_id\n",
    "    df_['target_id'] = np.remainder(df_['blNumber'].to_numpy(), 4)\n",
    "\n",
    "    for signal in new_fields:\n",
    "        df_ = pyal.remove_low_firing_neurons(df_, signal, 1)\n",
    "    \n",
    "    df_= pyal.select_trials(df_, df_.trialType== 'sp')\n",
    "    try:\n",
    "        noLaserIndex = [i for i,laserData in enumerate(df_.spkTimeBlaserI) if not np.any(laserData)]\n",
    "        df_= pyal.select_trials(df_, noLaserIndex)\n",
    "    except AttributeError:\n",
    "        # due to absence of this field in no-laser sessions\n",
    "        pass\n",
    "    \n",
    "    df_ = pyal.combine_time_bins(df_, int(BIN_SIZE/.01))\n",
    "    for signal in new_fields:\n",
    "        df_ = pyal.sqrt_transform_signal(df_, signal)\n",
    "        \n",
    "    df_= pyal.add_firing_rates(df_, 'smooth', std=0.05)\n",
    "    \n",
    "    return df_"
   ]
  },
  {
   "cell_type": "markdown",
   "id": "ac6a6c27-22a9-4b61-9700-eb4a631c8430",
   "metadata": {},
   "source": [
    "# reading data"
   ]
  },
  {
   "cell_type": "code",
   "execution_count": 51,
   "id": "0351074b-d101-43dd-9460-07acda83a855",
   "metadata": {},
   "outputs": [],
   "source": [
    "animalList = ['mouse-data']\n",
    "\n",
    "animalFiles = []\n",
    "for animal in animalList:\n",
    "    animalFiles.extend(utility.find_file(root/animal, 'mat'))\n",
    "\n",
    "\n",
    "AllDFs=[]\n",
    "for fname in animalFiles:\n",
    "    print(fname)\n",
    "    df = dt.load_pyal_data(fname)\n",
    "    df['mouse'] = fname.split(os.sep)[-1][fname.split(os.sep)[-1].find('WR'):].split('_')[0]\n",
    "    df['file'] = fname.split(os.sep)[-1]\n",
    "    df = prep_general_mouse(df)\n",
    "    AllDFs.append(df)\n",
    "\n",
    "clear_output()"
   ]
  },
  {
   "cell_type": "markdown",
   "id": "f45ab263-2010-4f81-857e-ec9e2a7b277d",
   "metadata": {},
   "source": [
    "# Tests on a single session"
   ]
  },
  {
   "cell_type": "code",
   "execution_count": 52,
   "id": "afdd35a6-1539-473f-91e5-18d82a7f9d8a",
   "metadata": {},
   "outputs": [],
   "source": [
    "df = AllDFs[0]\n",
    "# df_ = prep_general_mouse(df)\n",
    "# df = pyal.select_trials(df, df.trialType== 'sp');\n",
    "# df['target_id'] = np.remainder(df['blNumber'].to_numpy(), 4)"
   ]
  },
  {
   "cell_type": "markdown",
   "id": "3bab7fa7-8d6c-4cc2-9ec3-c86522799941",
   "metadata": {},
   "source": [
    "just plot the pull phase"
   ]
  },
  {
   "cell_type": "code",
   "execution_count": 45,
   "id": "57534d07-abe4-4e9d-948c-dbe072696a8a",
   "metadata": {},
   "outputs": [],
   "source": [
    "def plot_reach_phase(axes,df):\n",
    "    for i,traj in enumerate(df.hTrjB):\n",
    "        if traj.ndim<2:\n",
    "            continue\n",
    "        if df.target_id[i] in (0,):\n",
    "            color = 'r'\n",
    "        elif df.target_id[i] in (2,):\n",
    "            color = 'b'\n",
    "        else:\n",
    "            continue\n",
    "        axes[0].plot(traj.T[df.idx_movement_on[i]:df.idx_pull_on[i],0],traj.T[df.idx_movement_on[i]:df.idx_pull_on[i],1],lw=.5, color=color)\n",
    "    axes[0].set_title('HEAVY targets --- Reach')\n",
    "\n",
    "    for i,traj in enumerate(df.hTrjB):\n",
    "        if traj.ndim<2:\n",
    "            continue\n",
    "        if df.target_id[i] in (1,):\n",
    "            color = 'r'\n",
    "        elif df.target_id[i] in (3,):\n",
    "            color = 'b'\n",
    "        else:\n",
    "            continue\n",
    "        axes[1].plot(traj.T[df.idx_movement_on[i]:df.idx_pull_on[i],0],traj.T[df.idx_movement_on[i]:df.idx_pull_on[i],1],lw=.5, color=color)\n",
    "    axes[1].set_title('LIGHT targets --- Reach')"
   ]
  },
  {
   "cell_type": "code",
   "execution_count": 46,
   "id": "f3b5251f-01b8-4336-81cd-03dd6e468d27",
   "metadata": {},
   "outputs": [],
   "source": [
    "def plot_pull_phase(axes,df):\n",
    "    for i,traj in enumerate(df.hTrjB):\n",
    "        if traj.ndim<2:\n",
    "            continue\n",
    "        if df.target_id[i] in (0,):\n",
    "            color = 'r'\n",
    "        elif df.target_id[i] in (2,):\n",
    "            color = 'b'\n",
    "        else:\n",
    "            continue\n",
    "        axes[0].plot(traj.T[df.idx_pull_on[i]:,0],traj.T[df.idx_pull_on[i]:,1],lw=.5, color=color)\n",
    "    axes[0].set_title('HEAVY targets --- Pull')\n",
    "\n",
    "    for i,traj in enumerate(df.hTrjB):\n",
    "        if traj.ndim<2:\n",
    "            continue\n",
    "        if df.target_id[i] in (1,):\n",
    "            color = 'r'\n",
    "        elif df.target_id[i] in (3,):\n",
    "            color = 'b'\n",
    "        else:\n",
    "            continue\n",
    "        axes[1].plot(traj.T[df.idx_pull_on[i]:,0],traj.T[df.idx_pull_on[i]:,1],lw=.5, color=color)\n",
    "    axes[1].set_title('LIGHT targets --- Pull')"
   ]
  },
  {
   "cell_type": "code",
   "execution_count": 47,
   "id": "8c21ea4a-aead-4ce8-9b63-d351e0db6d5b",
   "metadata": {},
   "outputs": [
    {
     "data": {
      "image/png": "[encoded data removed]",
      "text/plain": [
       "<Figure size 1080x360 with 2 Axes>"
      ]
     },
     "metadata": {
      "image/png": {
       "height": 314,
       "width": 881
      },
      "needs_background": "light"
     },
     "output_type": "display_data"
    }
   ],
   "source": [
    "# %config InlineBackend.close_figures = True\n",
    "fig,axes = plt.subplots(1,2,figsize=(15,5))\n",
    "\n",
    "plot_reach_phase(axes,df)"
   ]
  },
  {
   "cell_type": "markdown",
   "id": "4ad2d964-74e9-4461-99d8-65770cf24511",
   "metadata": {},
   "source": [
    "# plot all the data"
   ]
  },
  {
   "cell_type": "code",
   "execution_count": 9,
   "id": "5743ae3b-cff0-4735-8659-0cc2791efca3",
   "metadata": {},
   "outputs": [],
   "source": [
    "with PdfPages(pathlib.Path.cwd() / 'figures' / 'mouse-traj.pdf') as pdf:\n",
    "    for df in AllDFs:\n",
    "        fig,axes = plt.subplots(2,2,figsize=(15,10))\n",
    "        \n",
    "        plot_pull_phase(axes[1,:],df)\n",
    "        plot_reach_phase(axes[0,:],df)\n",
    "        fig.suptitle(f\"Session: {df.file[0].replace('_','-')}\")\n",
    "        \n",
    "        pdf.savefig()  # saves the current figure into a pdf page\n",
    "        plt.close()"
   ]
  },
  {
   "cell_type": "markdown",
   "id": "9095f955-81e0-4c57-8498-13e00b242450",
   "metadata": {},
   "source": [
    "the pull phase is more consistent:\n",
    "\n",
    "**check the duration of the pull phase**"
   ]
  },
  {
   "cell_type": "code",
   "execution_count": 10,
   "id": "64a362b6-7f46-4ce3-9a15-67f9066ad8cc",
   "metadata": {},
   "outputs": [
    {
     "name": "stdout",
     "output_type": "stream",
     "text": [
      "Done\n"
     ]
    }
   ],
   "source": [
    "def pull_phase_duration(df):\n",
    "    light = []\n",
    "    heavy = []\n",
    "    for i,traj in enumerate(df.hTrjB):\n",
    "        if traj.ndim<2:\n",
    "            continue\n",
    "        if df.target_id[i] in (0,2):\n",
    "            key = heavy\n",
    "        elif df.target_id[i] in (1,3):\n",
    "            key = light\n",
    "        else:\n",
    "            continue\n",
    "        getattr(key,'append')(traj.shape[1]-df.idx_pull_on[i])\n",
    "\n",
    "    return light, heavy\n",
    "\n",
    "    \n",
    "with PdfPages(pathlib.Path.cwd() / 'figures' / 'mouse-pull-duration.pdf') as pdf:\n",
    "    for df in AllDFs:\n",
    "        fig,axes = plt.subplots(1,2,figsize=(10,5))\n",
    "        \n",
    "        light, heavy = pull_phase_duration(df)\n",
    "        axes[0].hist(light)\n",
    "        axes[0].set_title('light')\n",
    "        axes[1].hist(heavy)\n",
    "        axes[1].set_title('heavy')\n",
    "        \n",
    "        fig.suptitle(f\"Session: {df.file[0].replace('_','-')}\")\n",
    "        \n",
    "        pdf.savefig()  # saves the current figure into a pdf page\n",
    "        plt.close()\n",
    "print('Done')"
   ]
  }
 ],
 "metadata": {
  "interpreter": {
   "hash": "72da6499f934495e06c03d484049d4696c0f7b78c6b9c64cf8676e9ec2014a6a"
  },
  "kernelspec": {
   "display_name": "Python 3 (ipykernel)",
   "language": "python",
   "name": "python3"
  },
  "language_info": {
   "codemirror_mode": {
    "name": "ipython",
    "version": 3
   },
   "file_extension": ".py",
   "mimetype": "text/x-python",
   "name": "python",
   "nbconvert_exporter": "python",
   "pygments_lexer": "ipython3",
   "version": "3.9.6"
  }
 },
 "nbformat": 4,
 "nbformat_minor": 5
}
