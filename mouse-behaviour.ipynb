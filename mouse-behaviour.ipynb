{
 "cells": [
  {
   "cell_type": "markdown",
   "id": "d374a142",
   "metadata": {},
   "source": [
    "# part0: imports"
   ]
  },
  {
   "cell_type": "code",
   "execution_count": 1,
   "id": "05c18582",
   "metadata": {},
   "outputs": [],
   "source": [
    "import os, sys, pathlib\n",
    "from pprint import pprint\n",
    "import gc\n",
    "import pickle\n",
    "from importlib import reload\n",
    "import logging, warnings\n",
    "logging.basicConfig(level=logging.ERROR)\n",
    "from IPython.display import display, clear_output\n",
    "\n",
    "import pandas as pd\n",
    "import numpy as np\n",
    "import sklearn\n",
    "from sklearn.decomposition import PCA\n",
    "import scipy.linalg as linalg\n",
    "\n",
    "import matplotlib.pyplot as plt\n",
    "import matplotlib.cm as cm\n",
    "import matplotlib\n",
    "from matplotlib.ticker import MaxNLocator\n",
    "from matplotlib.collections import LineCollection\n",
    "\n",
    "from tools import utilityTools as utility\n",
    "from tools import dataTools as dt\n",
    "import pyaldata as pyal\n",
    "import set_rc_params as set_rc\n",
    "\n",
    "\n",
    "%matplotlib inline\n",
    "%config InlineBackend.figure_formats = ['png2x']\n",
    "reload(dt)\n",
    "reload(set_rc)\n",
    "\n",
    "# Global params\n",
    "set_rc.set_rc_params()\n",
    "root = pathlib.Path(\"/data\")\n",
    "\n",
    "BIN_SIZE = .03  # sec\n",
    "WINDOW_ctrl = (-.9, -.45)\n",
    "WINDOW_prep = (-.4, .05)  # sec\n",
    "WINDOW_exec = (-.05, .40)  # sec\n",
    "n_components = 10  # min between M1 and PMd\n",
    "areas = ('M1', 'Str')\n",
    "\n",
    "prep_epoch = pyal.generate_epoch_fun(start_point_name='idx_movement_on',\n",
    "                                     rel_start=int(WINDOW_prep[0]/BIN_SIZE),\n",
    "                                     rel_end=int(WINDOW_prep[1]/BIN_SIZE)\n",
    "                                    )\n",
    "exec_epoch = pyal.generate_epoch_fun(start_point_name='idx_movement_on', \n",
    "                                     rel_start=int(WINDOW_exec[0]/BIN_SIZE),\n",
    "                                     rel_end=int(WINDOW_exec[1]/BIN_SIZE)\n",
    "                                    )\n",
    "fixation_epoch = pyal.generate_epoch_fun(start_point_name='idx_movement_on', \n",
    "                                         rel_start=int(WINDOW_ctrl[0]/BIN_SIZE),\n",
    "                                         rel_end=int(WINDOW_ctrl[1]/BIN_SIZE)\n",
    "                                        )"
   ]
  },
  {
   "cell_type": "code",
   "execution_count": 2,
   "id": "91331ba7-05b6-445d-a275-736c01b36539",
   "metadata": {},
   "outputs": [],
   "source": [
    "def prep_general_mouse (df):\n",
    "    \"preprocessing general! for J. Dudman mouse data\"\n",
    "    # rename unit fields\n",
    "    old_fields = [col for col in df.columns.values if 'unit' in col]\n",
    "    new_fields = ['M1_spikes' if 'Ctx' in col else 'Str_spikes' for col in old_fields]\n",
    "    df_ = df.rename(columns = {old:new for old,new in zip(old_fields,new_fields)})\n",
    "    # change spikes datatype\n",
    "    for signal in new_fields:\n",
    "        df_[signal] = [np.nan_to_num(x=s.toarray().T, nan=0) for s in df_[signal]]\n",
    "    # fill no-laser trials (and index fields) with zero\n",
    "    n_bins = df_[new_fields[0]][0].shape[0]\n",
    "    var_len_fields = [ 'spkPullIdx', 'spkRchIdx', 'spkTimeBlaserI']\n",
    "    fill_zeros = lambda a: a if len(a)>1 else np.zeros((n_bins,))\n",
    "    for field in var_len_fields:\n",
    "        if field not in df_.columns:continue\n",
    "        df_[field] = [fill_zeros(s ) for s in df_[field]]\n",
    "    # add bin_size\n",
    "    df_['bin_size']=0.01  # data has 10ms bin size\n",
    "    # add trial_id\n",
    "    df_['trial_id'] = np.arange(1,df.shape[0]+1)\n",
    "    # add idx_movement_on which is exactly at t=df.timeAlign\n",
    "    df_['idx_movement_on'] = [np.argmin(np.abs(s-i)) for i,s in zip(df_['timeAlign'],df_['spkTimeBins'])]\n",
    "    # add target_id\n",
    "    df_['target_id'] = np.remainder(df_['blNumber'].to_numpy(), 4)\n",
    "\n",
    "    for signal in new_fields:\n",
    "        df_ = pyal.remove_low_firing_neurons(df_, signal, 1)\n",
    "    \n",
    "    df_= pyal.select_trials(df_, df_.trialType== 'sp')\n",
    "    try:\n",
    "        noLaserIndex = [i for i,laserData in enumerate(df_.spkTimeBlaserI) if not np.any(laserData)]\n",
    "        df_= pyal.select_trials(df_, noLaserIndex)\n",
    "    except AttributeError:\n",
    "        # due to absence of this field in no-laser sessions\n",
    "        pass\n",
    "    \n",
    "    df_ = pyal.combine_time_bins(df_, int(BIN_SIZE/.01))\n",
    "    for signal in new_fields:\n",
    "        df_ = pyal.sqrt_transform_signal(df_, signal)\n",
    "        \n",
    "    df_= pyal.add_firing_rates(df_, 'smooth', std=0.05)\n",
    "    \n",
    "    \n",
    "    return df_"
   ]
  },
  {
   "cell_type": "markdown",
   "id": "ac6a6c27-22a9-4b61-9700-eb4a631c8430",
   "metadata": {},
   "source": [
    "# reading data"
   ]
  },
  {
   "cell_type": "code",
   "execution_count": 3,
   "id": "0351074b-d101-43dd-9460-07acda83a855",
   "metadata": {},
   "outputs": [],
   "source": [
    "animalList = ['mouse-data']\n",
    "\n",
    "animalFiles = []\n",
    "for animal in animalList:\n",
    "    animalFiles.extend(utility.find_file(root/animal, 'mat'))\n",
    "\n",
    "\n",
    "AllDFs=[]\n",
    "for fname in animalFiles:\n",
    "    print(fname)\n",
    "    df = dt.load_pyal_data(fname)\n",
    "    df['mouse'] = fname.split(os.sep)[-1][fname.split(os.sep)[-1].find('WR'):].split('_')[0]\n",
    "    df['file'] = fname.split(os.sep)[-1]\n",
    "    df = prep_general_mouse(df)\n",
    "    AllDFs.append(df)\n",
    "\n",
    "clear_output()"
   ]
  },
  {
   "cell_type": "markdown",
   "id": "f45ab263-2010-4f81-857e-ec9e2a7b277d",
   "metadata": {},
   "source": [
    "# Tests on a single session"
   ]
  },
  {
   "cell_type": "code",
   "execution_count": null,
   "id": "b37c0339-dff5-4209-bb66-2eaf7f2f1545",
   "metadata": {},
   "outputs": [],
   "source": [
    "df = AllDFs[0]\n",
    "area = areas[0]\n",
    "field = area + '_rates'\n",
    "good_df = []\n",
    "for df in AllDFs:\n",
    "    if field not in df.columns: continue\n",
    "    good_df.append(df)\n",
    "\n",
    "\n",
    "AllData = dt.get_data_array(good_df, exec_epoch, area=area, n_components=n_components)"
   ]
  },
  {
   "cell_type": "code",
   "execution_count": 30,
   "id": "4281b6ec-db36-4117-b935-d220e625565e",
   "metadata": {},
   "outputs": [
    {
     "data": {
      "text/plain": [
       "(6, 4, 13, 15, 10)"
      ]
     },
     "execution_count": 30,
     "metadata": {},
     "output_type": "execute_result"
    }
   ],
   "source": [
    "AllData.shape"
   ]
  },
  {
   "cell_type": "code",
   "execution_count": 58,
   "id": "afdd35a6-1539-473f-91e5-18d82a7f9d8a",
   "metadata": {},
   "outputs": [],
   "source": [
    "df = pyal.select_trials(df, df.trialType== 'sp');"
   ]
  },
  {
   "cell_type": "code",
   "execution_count": 68,
   "id": "e3a6edf6-5558-4e63-81b1-4eada5750898",
   "metadata": {},
   "outputs": [
    {
     "data": {
      "text/plain": [
       "[<matplotlib.lines.Line2D at 0x7f622088fc40>]"
      ]
     },
     "execution_count": 68,
     "metadata": {},
     "output_type": "execute_result"
    },
    {
     "data": {
      "image/png": "[encoded data removed]",
      "text/plain": [
       "<Figure size 432x288 with 1 Axes>"
      ]
     },
     "metadata": {
      "image/png": {
       "height": 245,
       "width": 371
      },
      "needs_background": "light"
     },
     "output_type": "display_data"
    }
   ],
   "source": [
    "i=100\n",
    "\n",
    "df.hTrjB[10]\n",
    "plt.plot(df.hTrjB[i].T[100:,1],df.hTrjB[i].T[100:,0])\n",
    "# plt.plot(df.hTrjB.T[i][:,1])"
   ]
  }
 ],
 "metadata": {
  "interpreter": {
   "hash": "72da6499f934495e06c03d484049d4696c0f7b78c6b9c64cf8676e9ec2014a6a"
  },
  "kernelspec": {
   "display_name": "Python 3 (ipykernel)",
   "language": "python",
   "name": "python3"
  },
  "language_info": {
   "codemirror_mode": {
    "name": "ipython",
    "version": 3
   },
   "file_extension": ".py",
   "mimetype": "text/x-python",
   "name": "python",
   "nbconvert_exporter": "python",
   "pygments_lexer": "ipython3",
   "version": "3.9.6"
  }
 },
 "nbformat": 4,
 "nbformat_minor": 5
}
