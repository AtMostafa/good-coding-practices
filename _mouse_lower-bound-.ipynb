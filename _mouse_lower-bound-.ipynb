{
 "cells": [
  {
   "cell_type": "markdown",
   "id": "dd276e87",
   "metadata": {},
   "source": [
    "# part0: imports"
   ]
  },
  {
   "cell_type": "code",
   "execution_count": 2,
   "id": "d5473a1d",
   "metadata": {},
   "outputs": [],
   "source": [
    "import os, sys, pathlib\n",
    "from pprint import pprint\n",
    "import gc\n",
    "import pickle\n",
    "from importlib import reload\n",
    "import logging, warnings\n",
    "logging.basicConfig(level=logging.ERROR)\n",
    "from IPython.display import display, clear_output\n",
    "\n",
    "import pandas as pd\n",
    "import numpy as np\n",
    "import sklearn\n",
    "from sklearn.decomposition import PCA\n",
    "import scipy.linalg as linalg\n",
    "\n",
    "import matplotlib.pyplot as plt\n",
    "import matplotlib.cm as cm\n",
    "import matplotlib\n",
    "from matplotlib.ticker import MaxNLocator\n",
    "from matplotlib.collections import LineCollection\n",
    "\n",
    "from tools import utilityTools as utility\n",
    "from tools import dataTools as dt\n",
    "import pyaldata as pyal\n",
    "import set_rc_params as set_rc\n",
    "\n",
    "\n",
    "%matplotlib inline\n",
    "%config InlineBackend.figure_formats = ['png2x']\n",
    "reload(dt)\n",
    "reload(set_rc)\n",
    "\n",
    "# Global params\n",
    "set_rc.set_rc_params()\n",
    "root = pathlib.Path(\"/data\")\n",
    "\n",
    "BIN_SIZE = .03  # sec\n",
    "WINDOW_ctrl = (-.9, -.45)\n",
    "WINDOW_prep = (-.4, .05)  # sec\n",
    "WINDOW_exec = (-.05, .40)  # sec\n",
    "n_components = 10  # min between M1 and PMd\n",
    "areas = ('M1', 'Str')\n",
    "\n",
    "prep_epoch = pyal.generate_epoch_fun(start_point_name='idx_movement_on',\n",
    "                                     rel_start=int(WINDOW_prep[0]/BIN_SIZE),\n",
    "                                     rel_end=int(WINDOW_prep[1]/BIN_SIZE)\n",
    "                                    )\n",
    "exec_epoch = pyal.generate_epoch_fun(start_point_name='idx_movement_on', \n",
    "                                     rel_start=int(WINDOW_exec[0]/BIN_SIZE),\n",
    "                                     rel_end=int(WINDOW_exec[1]/BIN_SIZE)\n",
    "                                    )\n",
    "exec_epoch = pyal.generate_epoch_fun(start_point_name='idx_pull_off',\n",
    "                                     rel_start=int(-WINDOW_exec[1]/BIN_SIZE),\n",
    "                                     rel_end=int(-WINDOW_exec[0]/BIN_SIZE)\n",
    "                                    )\n",
    "\n",
    "fixation_epoch = pyal.generate_epoch_fun(start_point_name='idx_movement_on', \n",
    "                                         rel_start=int(WINDOW_ctrl[0]/BIN_SIZE),\n",
    "                                         rel_end=int(WINDOW_ctrl[1]/BIN_SIZE)\n",
    "                                        )"
   ]
  },
  {
   "cell_type": "code",
   "execution_count": 3,
   "id": "c63c11b1-e0d4-4508-8c6c-9093a32f9952",
   "metadata": {},
   "outputs": [],
   "source": [
    "def prep_general_mouse (df):\n",
    "    \"preprocessing general! for J. Dudman mouse data\"\n",
    "    # rename unit fields\n",
    "    old_fields = [col for col in df.columns.values if 'unit' in col]\n",
    "    new_fields = ['M1_spikes' if 'Ctx' in col else 'Str_spikes' for col in old_fields]\n",
    "    df_ = df.rename(columns = {old:new for old,new in zip(old_fields,new_fields)})\n",
    "    # change spikes datatype\n",
    "    for signal in new_fields:\n",
    "        df_[signal] = [np.nan_to_num(x=s.toarray().T, nan=0) for s in df_[signal]]\n",
    "    # add trial_id\n",
    "    df_['trial_id'] = np.arange(1,df_.shape[0]+1)\n",
    "    # only keep good trials\n",
    "    df_= pyal.select_trials(df_, df_.trialType== 'sp')\n",
    "    # fill no-laser trials (and index fields) with zero\n",
    "    n_bins = df_[new_fields[0]][0].shape[0]\n",
    "    var_len_fields = [ 'spkPullIdx', 'spkRchIdx', 'spkTimeBlaserI']\n",
    "    fill_zeros = lambda a: a if len(a)>1 else np.zeros((n_bins,))\n",
    "    for field in var_len_fields:\n",
    "        if field not in df_.columns:continue\n",
    "        df_[field] = [fill_zeros(s) for s in df_[field]]\n",
    "    # fill fields that are cut with np.nans and remove trials that are too long or don't exist\n",
    "    cut_fields = ['hTrjB', 'hVelB']\n",
    "    df_['badIndex'] = [max(trialT.shape)>n_bins or\n",
    "                       max(trialV.shape)>n_bins or \n",
    "                       max(trialT.shape) < 2 or \n",
    "                       max(trialV.shape) < 2 or \n",
    "                       np.isnan(trialT).sum() > 5 for trialT,trialV in zip(df_.hTrjB,df_.hVelB)]\n",
    "    df_= pyal.select_trials(df_, df_.badIndex == False)\n",
    "    df_.drop('badIndex', axis=1, inplace=True)\n",
    "    fill_nans = lambda a: a if max(a.shape)==n_bins else np.pad(a, ((0,n_bins-max(a.shape)),(0,0)), 'constant', constant_values=(np.nan,))\n",
    "    for field in cut_fields:\n",
    "        if field not in df_.columns:continue\n",
    "        df_[field] = [fill_nans(s.T) for s in df_[field]]   \n",
    "    # add bin_size\n",
    "    df_['bin_size']=0.01  # data has 10ms bin size\n",
    "    # add idx_movement_on which is exactly at t=df.timeAlign\n",
    "    df_['idx_movement_on'] = [np.argmin(np.abs(s-i)) for i,s in zip(df_['timeAlign'],df_['spkTimeBins'])]\n",
    "    # add pull start idx\n",
    "    df_['idx_pull_on'] = [pullIdx.nonzero()[0][0] if len(pullIdx.nonzero()[0])>0 else np.nan for pullIdx in df_.spkPullIdx]\n",
    "    # add pull stop idx\n",
    "    df_['idx_pull_off'] = [pull.nonzero()[0][-1] for pull in df_.spkPullIdx]\n",
    "    # remove trials with no pull idx\n",
    "    df_.dropna(subset=['idx_pull_on'], inplace=True)\n",
    "    df_.idx_pull_on = df_.idx_pull_on.astype(np.int32)\n",
    "    df_.index = np.arange(df_.shape[0])\n",
    "    # add target_id\n",
    "    df_['target_id'] = np.remainder(df_['blNumber'].to_numpy(), 4)\n",
    "\n",
    "    for signal in new_fields:\n",
    "        df_ = pyal.remove_low_firing_neurons(df_, signal, 1)\n",
    "    \n",
    "    df_= pyal.select_trials(df_, df_.trialType== 'sp')\n",
    "    try:\n",
    "        noLaserIndex = [i for i,laserData in enumerate(df_.spkTimeBlaserI) if not np.any(laserData)]\n",
    "        df_= pyal.select_trials(df_, noLaserIndex)\n",
    "    except AttributeError:\n",
    "        # due to absence of this field in no-laser sessions\n",
    "        pass\n",
    "    \n",
    "    df_ = pyal.combine_time_bins(df_, int(BIN_SIZE/.01))\n",
    "    for signal in new_fields:\n",
    "        df_ = pyal.sqrt_transform_signal(df_, signal)\n",
    "        \n",
    "    df_= pyal.add_firing_rates(df_, 'smooth', std=0.05)\n",
    "    \n",
    "    return df_"
   ]
  },
  {
   "cell_type": "markdown",
   "id": "c47ffb8b-bf96-416e-b773-1600ea8296d6",
   "metadata": {
    "tags": []
   },
   "source": [
    "# reading data"
   ]
  },
  {
   "cell_type": "code",
   "execution_count": 25,
   "id": "fd00c22d-bfea-49d9-a31f-39e7865a0cb0",
   "metadata": {},
   "outputs": [],
   "source": [
    "animalList = ['mouse-data']\n",
    "\n",
    "animalFiles = []\n",
    "for animal in animalList:\n",
    "    animalFiles.extend(utility.find_file(root/animal, 'mat'))\n",
    "\n",
    "\n",
    "AllDFs=[]\n",
    "for fname in animalFiles:\n",
    "    df = dt.load_pyal_data(fname)\n",
    "    df['mouse'] = fname.split(os.sep)[-1][fname.split(os.sep)[-1].find('WR'):].split('_')[0]\n",
    "    df['file'] = fname.split(os.sep)[-1]\n",
    "    df = prep_general_mouse(df)\n",
    "    AllDFs.append(df)\n",
    "\n",
    "clear_output()"
   ]
  },
  {
   "cell_type": "code",
   "execution_count": 5,
   "id": "88d6e201",
   "metadata": {},
   "outputs": [
    {
     "name": "stdout",
     "output_type": "stream",
     "text": [
      "len(pairFileList_)=57\n"
     ]
    }
   ],
   "source": [
    "\n",
    "full_list_M1 = []\n",
    "for animal, sessionList in GoodDataList[areas[0]].items():\n",
    "    if 'Mr' in animal:\n",
    "        continue  # to remove MrT\n",
    "    full_list_M1.append((animal,sessionList))\n",
    "full_list_M1 = [(animal,session) for animal,sessions in full_list_M1 for session in set(sessions)]\n",
    "# load the DFs\n",
    "warnings.filterwarnings(\"ignore\")\n",
    "allDFs_M1 = []\n",
    "for animal, session in full_list_M1:\n",
    "    path = root/animal/session\n",
    "    allDFs_M1.append(prep_general(dt.load_pyal_data(path)))\n",
    "\n",
    "\n",
    "full_list_PMd = []\n",
    "for animal, sessionList in GoodDataList[areas[1]].items():\n",
    "    if 'Mr' in animal:\n",
    "        continue  # to remove MrT\n",
    "    full_list_PMd.append((animal,sessionList))\n",
    "full_list_PMd = [(animal,session) for animal,sessions in full_list_PMd for session in set(sessions)]\n",
    "# load the DFs\n",
    "allDFs_PMd = []\n",
    "for animal, session in full_list_PMd:\n",
    "    path = root/animal/session\n",
    "    allDFs_PMd.append(prep_general(dt.load_pyal_data(path)))\n",
    "warnings.filterwarnings(\"default\")\n",
    "\n",
    "if \"__file__\" not in dir():\n",
    "    pairFileList_ = []\n",
    "    for i, (animal1,session1) in enumerate(full_list_M1):\n",
    "        pairFileList_.append((i,[]))\n",
    "        for j, (animal2,session2) in enumerate(full_list_PMd):\n",
    "            if animal1 == animal2: continue\n",
    "            if 'Chewie' in animal1 and 'Chewie' in animal2: continue\n",
    "            pairFileList_[-1][1].append(j)\n",
    "    pairFileList_ = [(i,j) for i,jList in pairFileList_ for j in jList]\n",
    "\n",
    "\n",
    "    print(f'{len(pairFileList_)=}')"
   ]
  },
  {
   "cell_type": "markdown",
   "id": "ad62aca3",
   "metadata": {},
   "source": [
    "collecting all the data in a matrix, `AllData`: $sessions \\times targets \\times  trials \\times time \\times PCs$"
   ]
  },
  {
   "cell_type": "code",
   "execution_count": 10,
   "id": "f03b4ec8",
   "metadata": {},
   "outputs": [
    {
     "name": "stdout",
     "output_type": "stream",
     "text": [
      "min_trials=15\n",
      "min_time=15\n"
     ]
    }
   ],
   "source": [
    "if \"__file__\" not in dir():\n",
    "    warnings.filterwarnings(\"ignore\")\n",
    "\n",
    "    side1df = [allDFs_M1[df] for df,_ in pairFileList_]\n",
    "    side2df = [allDFs_PMd[df] for _,df in pairFileList_]\n",
    "\n",
    "    AllData1 = dt.get_data_array(side1df, prep_epoch, area='M1', n_components=n_components)\n",
    "    AllData2 = dt.get_data_array(side2df, fixation_epoch, area='PMd', n_components=n_components)\n",
    "    # reversing the order of trials to break the target correspondance\n",
    "    AllData2 = np.flip(AllData2, 1)\n",
    "    _,_, min_trials, min_time,_ = np.min((AllData1.shape,AllData2.shape),axis=0)\n",
    "\n",
    "    print(f'{min_trials=}\\n{min_time=}')\n",
    "    warnings.filterwarnings(\"default\")"
   ]
  },
  {
   "cell_type": "markdown",
   "id": "c7b5c11d",
   "metadata": {},
   "source": [
    "do the CCA calculation"
   ]
  },
  {
   "cell_type": "code",
   "execution_count": 11,
   "id": "1e8da18f",
   "metadata": {},
   "outputs": [],
   "source": [
    "if \"__file__\" not in dir():\n",
    "    CCs=[]\n",
    "    for sessionData1,sessionData2 in zip(AllData1,AllData2):\n",
    "        data1 = np.reshape(sessionData1[:,:min_trials,:min_time,:], (-1,n_components))\n",
    "        data2 = np.reshape(sessionData2[:,:min_trials,-min_time:,:], (-1,n_components))\n",
    "        CCs.append(np.mean(dt.canoncorr(data1, data2)[:4]))\n",
    "    CCs = np.array(CCs)"
   ]
  },
  {
   "cell_type": "code",
   "execution_count": 12,
   "id": "14f8d6b3",
   "metadata": {},
   "outputs": [
    {
     "data": {
      "image/png": "[encoded data removed]",
      "text/plain": [
       "<Figure size 432x288 with 1 Axes>"
      ]
     },
     "metadata": {
      "needs_background": "light"
     },
     "output_type": "display_data"
    }
   ],
   "source": [
    "if \"__file__\" not in dir():\n",
    "    plt.plot(CCs.T,'.')\n",
    "    plt.ylim([0,1])\n",
    "    plt.xlabel('sessions')\n",
    "    plt.ylabel('average canonical correlation')\n",
    "    plt.title('CCA --- lower bound estimation', usetex=True);"
   ]
  },
  {
   "cell_type": "markdown",
   "id": "fe9b2407",
   "metadata": {},
   "source": [
    "the average distribution of CCs"
   ]
  },
  {
   "cell_type": "code",
   "execution_count": 15,
   "id": "b121efc2-2ca8-4bbc-befa-702722d9297b",
   "metadata": {},
   "outputs": [
    {
     "data": {
      "image/png": "[encoded data removed]",
      "text/plain": [
       "<Figure size 432x288 with 1 Axes>"
      ]
     },
     "metadata": {
      "needs_background": "light"
     },
     "output_type": "display_data"
    }
   ],
   "source": [
    "if \"__file__\" not in dir():\n",
    "\n",
    "    CCs2=[]\n",
    "    for sessionData1,sessionData2 in zip(AllData1,AllData2):\n",
    "        data1 = np.reshape(sessionData1[:,:min_trials,:min_time,:], (-1,n_components))\n",
    "        data2 = np.reshape(sessionData2[:,:min_trials,:min_time,:], (-1,n_components))\n",
    "        CCs2.append(dt.canoncorr(data1, data2))\n",
    "    CC_lower_bound = np.array(CCs2).T\n",
    "\n",
    "    _,ax = plt.subplots()\n",
    "\n",
    "    utility.shaded_errorbar(ax, CC_lower_bound, marker = 'o')\n",
    "    ax.set_ylim([0,1])\n",
    "    ax.set_xlabel('components')\n",
    "    ax.set_ylabel('canonical correlation')\n",
    "    ax.set_title('CCA --- lower bound estimation', usetex=True);"
   ]
  },
  {
   "cell_type": "markdown",
   "id": "563b225e-d631-4d05-a7e7-a82fa9ddd6f7",
   "metadata": {},
   "source": [
    "## within monkey, within area, across epochs"
   ]
  },
  {
   "cell_type": "code",
   "execution_count": 8,
   "id": "929314cf-5e8a-45cc-831a-37ed01cc7136",
   "metadata": {},
   "outputs": [
    {
     "data": {
      "image/png": "[encoded data removed]",
      "text/plain": [
       "<Figure size 432x288 with 1 Axes>"
      ]
     },
     "metadata": {
      "needs_background": "light"
     },
     "output_type": "display_data"
    },
    {
     "data": {
      "image/png": "[encoded data removed]",
      "text/plain": [
       "<Figure size 720x360 with 2 Axes>"
      ]
     },
     "metadata": {
      "needs_background": "light"
     },
     "output_type": "display_data"
    }
   ],
   "source": [
    "single_FileList1 = []\n",
    "for I, _ in enumerate(full_list_M1):\n",
    "    single_FileList1.append(I)\n",
    "\n",
    "single_FileList2 = []\n",
    "for I, (animal1,session1) in enumerate(full_list_PMd):\n",
    "    single_FileList2.append(I)\n",
    "\n",
    "\n",
    "warnings.filterwarnings(\"ignore\")\n",
    "#M1\n",
    "side1df = [allDFs_M1[i] for i in single_FileList1]\n",
    "AllData1 = dt.get_data_array(side1df, prep_epoch, area=areas[0], n_components=n_components)\n",
    "AllData1_ = dt.get_data_array(side1df, fixation_epoch, area=areas[0], n_components=n_components)\n",
    "\n",
    "# PMd\n",
    "side2df = [allDFs_PMd[j] for j in single_FileList2]\n",
    "AllData2 = dt.get_data_array(side2df, exec_epoch, area=areas[1], n_components=n_components)\n",
    "AllData2_ = dt.get_data_array(side2df, fixation_epoch, area=areas[1], n_components=n_components)\n",
    "\n",
    "warnings.filterwarnings(\"default\")\n",
    "\n",
    "\n",
    "\n",
    "inCCs0=[]\n",
    "for sessionData1,sessionData2 in zip(AllData1,AllData1_):\n",
    "    data1 = np.reshape(sessionData1, (-1,n_components))\n",
    "    data2 = np.reshape(sessionData2, (-1,n_components))\n",
    "    inCCs0.append(dt.canoncorr(data1, data2))\n",
    "CC_lower_bound_M1 = np.array(inCCs0).T\n",
    "\n",
    "inCCs1=[]\n",
    "for sessionData1,sessionData2 in zip(AllData2,AllData2_):\n",
    "    data1 = np.reshape(sessionData1, (-1,n_components))\n",
    "    data2 = np.reshape(sessionData2, (-1,n_components))\n",
    "    inCCs1.append(dt.canoncorr(data1, data2))\n",
    "CC_lower_bound_PMd = np.array(inCCs1).T\n",
    "warnings.filterwarnings(\"default\")\n",
    "\n",
    "if \"__file__\" in dir():  # runs when the notebook is being `imported` from another notebook\n",
    "    print('variables: `CC_lower_bound_M1` and `CC_lower_bound_PMd` hold the lower bound correlations')\n",
    "    del allDFs_M1, allDFs_PMd, side1df, side2df\n",
    "\n",
    "# plotting\n",
    "if \"__file__\" not in dir():\n",
    "    _,ax = plt.subplots()\n",
    "\n",
    "    utility.shaded_errorbar(ax, CC_lower_bound_M1, color='b', marker = 'o', label=f'{areas[0]} $n={CC_lower_bound_M1.shape[1]}$ sessions')\n",
    "    utility.shaded_errorbar(ax, CC_lower_bound_PMd, color='r', marker = 'o', label=f'{areas[1]} $n={CC_lower_bound_PMd.shape[1]}$ sessions')\n",
    "    ax.set_ylim([0,1])\n",
    "    ax.set_xlabel('components')\n",
    "    ax.legend()\n",
    "    ax.set_ylabel('canonical correlation')\n",
    "    ax.set_title('CCA --- within monkey', usetex=True);\n",
    "\n",
    "    fig,axes = plt.subplots(ncols=2, figsize=(10,5))\n",
    "    axes[0].plot(CC_lower_bound_M1[:4,:].mean(axis=0),'.')\n",
    "    axes[1].plot(CC_lower_bound_PMd[:4,:].mean(axis=0),'.')\n",
    "    axes[0].set_ylabel('average canonical correlation')\n",
    "    for i, ax in enumerate(axes):\n",
    "        ax.set_title(f'CCA --- within monkey {areas[i]} ', usetex=True);\n",
    "        ax.set_ylim([0,1])\n",
    "        ax.set_xlabel('sessions')"
   ]
  }
 ],
 "metadata": {
  "interpreter": {
   "hash": "72da6499f934495e06c03d484049d4696c0f7b78c6b9c64cf8676e9ec2014a6a"
  },
  "kernelspec": {
   "display_name": "Python 3 (ipykernel)",
   "language": "python",
   "name": "python3"
  },
  "language_info": {
   "codemirror_mode": {
    "name": "ipython",
    "version": 3
   },
   "file_extension": ".py",
   "mimetype": "text/x-python",
   "name": "python",
   "nbconvert_exporter": "python",
   "pygments_lexer": "ipython3",
   "version": "3.9.6"
  }
 },
 "nbformat": 4,
 "nbformat_minor": 5
}
